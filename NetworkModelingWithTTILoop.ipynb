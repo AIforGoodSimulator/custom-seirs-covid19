{
 "cells": [
  {
   "cell_type": "markdown",
   "metadata": {},
   "source": [
    "# Network Modeling with SEIRS+ Notebook "
   ]
  },
  {
   "cell_type": "code",
   "execution_count": 1,
   "metadata": {},
   "outputs": [
    {
     "name": "stderr",
     "output_type": "stream",
     "text": [
      "\n",
      "Bad key \"text.kerning_factor\" on line 4 in\n",
      "/Users/dafirebanks/miniconda3/envs/dsci/lib/python3.7/site-packages/matplotlib/mpl-data/stylelib/_classic_test_patch.mplstyle.\n",
      "You probably need to get an updated matplotlibrc file from\n",
      "https://github.com/matplotlib/matplotlib/blob/v3.1.3/matplotlibrc.template\n",
      "or from the matplotlib source distribution\n"
     ]
    }
   ],
   "source": [
    "import networkx as nx\n",
    "import pandas as pd\n",
    "import numpy as np\n",
    "import matplotlib.pyplot as plt\n",
    "from scipy.stats import poisson\n",
    "from seirsplus.models import *\n",
    "from seirsplus.networks import *\n",
    "from seirsplus.sim_loops import *\n",
    "from seirsplus.utilities import *\n",
    "from network_utils import *\n",
    "from stats_utils import *\n",
    "from intervention_utils import *\n",
    "from camp_params import *\n",
    "import pickle as pkl"
   ]
  },
  {
   "cell_type": "code",
   "execution_count": 65,
   "metadata": {},
   "outputs": [],
   "source": [
    "n_pop = 18700\n",
    "\n",
    "# Grid info for isoboxes\n",
    "dims_isoboxes = (29, 28)  # 812\n",
    "\n",
    "# Grid info for tents\n",
    "dims_block1 = (20, 67)  # 1340\n",
    "dims_block2 = (53, 15)  # 795\n",
    "dims_block3 = (19, 28)  # 532\n",
    "\n",
    "# Isoboxes\n",
    "pop_isoboxes = 8100\n",
    "pop_per_isobox = 10\n",
    "n_isoboxes = dims_isoboxes[0]*dims_isoboxes[1]\n",
    "\n",
    "# Tents\n",
    "n_tents = 2650\n",
    "pop_tents = 10600\n",
    "pop_per_tent = 4\n",
    "\n",
    "# Others \n",
    "n_bathrooms = 144\n",
    "n_ethnic_groups = 8\n",
    "\n",
    "# We define neighboring structures within a range of 2 in the structure grid\n",
    "proximity = 2\n",
    "\n",
    "# Define the maximum population per structures (tents and isoboxes) drawn from a poisson distribution\n",
    "max_pop_per_struct = list(poisson.rvs(mu=pop_per_isobox, size=n_isoboxes))\n",
    "max_pop_per_struct = max_pop_per_struct + list(poisson.rvs(mu=pop_per_tent, size=dims_block1[0]*dims_block1[1]))\n",
    "max_pop_per_struct = max_pop_per_struct + list(poisson.rvs(mu=pop_per_tent, size=dims_block2[0]*dims_block2[1]))\n",
    "max_pop_per_struct = max_pop_per_struct + list(poisson.rvs(mu=pop_per_tent, size=dims_block3[0]*dims_block3[1]))\n",
    "\n",
    "n_structs = len(max_pop_per_struct)\n",
    "\n",
    "# Sample the population age, and parameter rates\n",
    "sample_pop = sample_population(n_pop, \"data/augmented_population.csv\")"
   ]
  },
  {
   "cell_type": "markdown",
   "metadata": {},
   "source": [
    "### 1) Load base graph for Moria or create a new one"
   ]
  },
  {
   "cell_type": "code",
   "execution_count": 66,
   "metadata": {},
   "outputs": [
    {
     "name": "stderr",
     "output_type": "stream",
     "text": [
      "100%|██████████| 18700/18700 [00:08<00:00, 2190.03it/s]\n"
     ]
    }
   ],
   "source": [
    "# graph, nodes_per_struct = load_graph(\"experiments/networks/Moria_wNeighbors_4\")\n",
    "\n",
    "household_weight = 0.98\n",
    "graph, nodes_per_struct = create_graph(n_structs, 0, n_pop, max_pop_per_struct, \n",
    "                                       edge_weight=household_weight, label=\"household\",\n",
    "                                       age_list=list(sample_pop[\"age\"]),\n",
    "                                       sex_list = list(sample_pop[\"sex\"]),\n",
    "                                       n_ethnicities=n_ethnic_groups)"
   ]
  },
  {
   "cell_type": "code",
   "execution_count": 67,
   "metadata": {},
   "outputs": [
    {
     "data": {
      "text/plain": [
       "<networkx.classes.graph.Graph at 0x7fbd3ece6390>"
      ]
     },
     "execution_count": 67,
     "metadata": {},
     "output_type": "execute_result"
    }
   ],
   "source": [
    "graph"
   ]
  },
  {
   "cell_type": "code",
   "execution_count": 68,
   "metadata": {},
   "outputs": [
    {
     "data": {
      "text/plain": [
       "(<networkx.classes.graph.Graph at 0x7fbd3ece6390>,\n",
       " [[2167, 7020, 16414, 17224, 17735],\n",
       "  [4075, 4681, 7609, 12738, 12974, 16191, 16421],\n",
       "  [12910, 13338, 15443, 16597, 17401],\n",
       "  [1537, 8838, 8843, 12794, 18178, 18508],\n",
       "  [3280, 10200, 11320, 12540, 13098, 13269, 16899, 17412, 17994],\n",
       "  [4293, 9254, 9828, 14260, 14839, 17791],\n",
       "  [2243,\n",
       "   3550,\n",
       "   4428,\n",
       "   9434,\n",
       "   10252,\n",
       "   11560,\n",
       "   11955,\n",
       "   12671,\n",
       "   16408,\n",
       "   17347,\n",
       "   17493,\n",
       "   18526],\n",
       "  [4235, 4416, 7353, 8399, 9887, 11180, 15198, 15539, 18059, 18213],\n",
       "  [2035, 2065, 2525, 5894, 7713, 12473, 12835, 14928, 17850],\n",
       "  [56, 2666, 6344, 11277, 12648, 15902, 16853]],\n",
       " 3479)"
      ]
     },
     "execution_count": 68,
     "metadata": {},
     "output_type": "execute_result"
    }
   ],
   "source": [
    "graph, nodes_per_struct[:10], len(nodes_per_struct)"
   ]
  },
  {
   "cell_type": "code",
   "execution_count": 96,
   "metadata": {},
   "outputs": [],
   "source": [
    "def num_structs(structs, num_nodes):\n",
    "    \"\"\" Number of structures that contain num_nodes people \"\"\"\n",
    "    return sum([1 for struct in structs if len(struct) == num_nodes])\n",
    "\n",
    "def nodes_with_degree(G, n):\n",
    "    \"\"\" Number of nodes with degree n in graph G \"\"\"\n",
    "    return len([1 for node in G.nodes if G.degree(node) == n])"
   ]
  },
  {
   "cell_type": "code",
   "execution_count": 70,
   "metadata": {},
   "outputs": [
    {
     "data": {
      "text/plain": [
       "(58, 58)"
      ]
     },
     "execution_count": 70,
     "metadata": {},
     "output_type": "execute_result"
    }
   ],
   "source": [
    "# Household of 1 person = degree 0 \n",
    "nodes_with_degree(graph, 0), num_structs(nodes_per_struct, 1)"
   ]
  },
  {
   "cell_type": "code",
   "execution_count": 71,
   "metadata": {},
   "outputs": [],
   "source": [
    "# TODO: Update this in model_server\n",
    "def link_nodes_by_activity(base_graph, nodes_per_struct, percentage_per_struct, proximity_radius, edge_weight,\n",
    "                           activity_name):\n",
    "    \"\"\" Connect a given percentage of nodes per structure that engage in the same activity\n",
    "        with other nodes from different structures that engage in the same activity, at a given proximity radius\n",
    "        Examples of activities:\n",
    "        - Food queue\n",
    "        - Religious events\n",
    "    \"\"\"\n",
    "    graph = base_graph.copy()\n",
    "\n",
    "    activity_bois = set()\n",
    "\n",
    "    # Choose a percentage of people randomly from each structure\n",
    "    for node_list in nodes_per_struct:\n",
    "        if len(node_list) == 1:\n",
    "            activity_bois.add(node_list[0])\n",
    "        else:\n",
    "            for i in range(int(len(node_list) * percentage_per_struct)):\n",
    "                activity_bois.add(np.random.choice(node_list))\n",
    "\n",
    "    activity_bois = list(activity_bois)\n",
    "    np.random.shuffle(activity_bois)\n",
    "\n",
    "    # Draw an edge between everyone in the list within a given proximity\n",
    "    for i in range(len(activity_bois) - proximity_radius):\n",
    "        for j in range(i + 1, i + proximity_radius + 1):\n",
    "            if not graph.has_edge(activity_bois[i], activity_bois[j]):\n",
    "                graph.add_edge(\n",
    "                    activity_bois[i],\n",
    "                    activity_bois[j],\n",
    "                    weight=edge_weight,\n",
    "                    label=activity_name)\n",
    "    return graph"
   ]
  },
  {
   "cell_type": "markdown",
   "metadata": {},
   "source": [
    "#### 1.1) We will add a general food queue which represents the current state of the camp"
   ]
  },
  {
   "cell_type": "code",
   "execution_count": 72,
   "metadata": {},
   "outputs": [],
   "source": [
    "food_weight = 0.407\n",
    "# graph_1fq = connect_food_queue(graph, nodes_per_struct, food_weight, \"food\")\n",
    "graph_1fq = link_nodes_by_activity(graph, nodes_per_struct, percentage_per_struct=0.5, proximity_radius=5, edge_weight=food_weight, activity_name=\"food\")"
   ]
  },
  {
   "cell_type": "code",
   "execution_count": 73,
   "metadata": {},
   "outputs": [
    {
     "data": {
      "text/plain": [
       "(0, 58)"
      ]
     },
     "execution_count": 73,
     "metadata": {},
     "output_type": "execute_result"
    }
   ],
   "source": [
    "nodes_with_degree(graph_1fq, 0), num_structs(nodes_per_struct, 1)"
   ]
  },
  {
   "cell_type": "markdown",
   "metadata": {},
   "source": [
    "### 2) Plot the basic network degrees"
   ]
  },
  {
   "cell_type": "code",
   "execution_count": 74,
   "metadata": {
    "tags": []
   },
   "outputs": [
    {
     "name": "stdout",
     "output_type": "stream",
     "text": [
      "Min degree: 0 Max degree: 14\n",
      "Baseline:\n",
      "Degree: mean = 5.34, std = 2.37, 95% CI = (1.00, 11.00)\n",
      "        coeff var = 0.44\n",
      "Assortativity:    1.00\n",
      "Clustering coeff: 0.97\n",
      "\n"
     ]
    },
    {
     "data": {
      "image/png": "[encoded data removed]",
      "text/plain": [
       "<Figure size 432x288 with 1 Axes>"
      ]
     },
     "metadata": {
      "needs_background": "light"
     },
     "output_type": "display_data"
    }
   ],
   "source": [
    "# Degrees without food queue, just neighbors\n",
    "min_G, max_G = min_degree(graph), max_degree(graph)\n",
    "print(\"Min degree:\", min_G, \"Max degree:\", max_G)\n",
    "# plot_degree_distn(graph, max_degree=max_G)\n",
    "network_info(graph, \"Baseline\", plot=True)"
   ]
  },
  {
   "cell_type": "code",
   "execution_count": 75,
   "metadata": {
    "tags": []
   },
   "outputs": [
    {
     "name": "stdout",
     "output_type": "stream",
     "text": [
      "Min degree: 1 Max degree: 24\n",
      "Baseline with 1 food queue:\n",
      "Degree: mean = 9.28, std = 5.41, 95% CI = (2.00, 19.00)\n",
      "        coeff var = 0.58\n",
      "Assortativity:    0.29\n",
      "Clustering coeff: 0.75\n",
      "\n"
     ]
    },
    {
     "data": {
      "image/png": "[encoded data removed]",
      "text/plain": [
       "<Figure size 432x288 with 1 Axes>"
      ]
     },
     "metadata": {
      "needs_background": "light"
     },
     "output_type": "display_data"
    }
   ],
   "source": [
    "# Degrees with 1 food queue\n",
    "min_G, max_G = min_degree(graph_1fq), max_degree(graph_1fq)\n",
    "print(\"Min degree:\", min_G, \"Max degree:\", max_G)\n",
    "# plot_degree_distn(graph_1fq, max_degree=max_G)\n",
    "network_info(graph_1fq, \"Baseline with 1 food queue\", plot=True)"
   ]
  },
  {
   "cell_type": "code",
   "execution_count": 76,
   "metadata": {},
   "outputs": [],
   "source": [
    "neighbor_weight = 0.017\n",
    "\n",
    "graph_1fq = link_nodes_by_property(graph_1fq, 0, n_isoboxes, nodes_per_struct,\n",
    "                              grid_isoboxes, 2, \"ethnicity\", neighbor_weight, 'friendship')\n",
    "graph_1fq = link_nodes_by_property(graph_1fq, dims_isoboxes[0]*dims_isoboxes[1], dims_block1[0]*dims_block1[1], nodes_per_struct,\n",
    "                              grid_block1, 2, \"ethnicity\", neighbor_weight, 'friendship')\n",
    "graph_1fq = link_nodes_by_property(graph_1fq, dims_block1[0]*dims_block1[1], dims_block2[0]*dims_block2[1], nodes_per_struct,\n",
    "                              grid_block2, 2, \"ethnicity\", neighbor_weight, 'friendship')\n",
    "graph_1fq = link_nodes_by_property(graph_1fq, dims_block2[0]*dims_block2[1], dims_block3[0]*dims_block3[1], nodes_per_struct,\n",
    "                              grid_block3, 2, \"ethnicity\", neighbor_weight, 'friendship')"
   ]
  },
  {
   "cell_type": "code",
   "execution_count": 77,
   "metadata": {},
   "outputs": [
    {
     "name": "stdout",
     "output_type": "stream",
     "text": [
      "Min degree: 1 Max degree: 195\n",
      "Baseline with neighbours:\n",
      "Degree: mean = 22.28, std = 15.22, 95% CI = (2.00, 49.00)\n",
      "        coeff var = 0.68\n",
      "Assortativity:    0.02\n",
      "Clustering coeff: 0.41\n",
      "\n"
     ]
    },
    {
     "data": {
      "image/png": "[encoded data removed]",
      "text/plain": [
       "<Figure size 432x288 with 1 Axes>"
      ]
     },
     "metadata": {
      "needs_background": "light"
     },
     "output_type": "display_data"
    }
   ],
   "source": [
    "# Actual neighbours?\n",
    "min_G, max_G = min_degree(graph_1fq), max_degree(graph_1fq)\n",
    "print(\"Min degree:\", min_G, \"Max degree:\", max_G)\n",
    "# plot_degree_distn(graph_1fq, max_degree=max_G)\n",
    "network_info(graph_1fq, \"Baseline with neighbours\", plot=True)"
   ]
  },
  {
   "cell_type": "code",
   "execution_count": 78,
   "metadata": {},
   "outputs": [
    {
     "data": {
      "text/plain": [
       "(58, 418, 1425)"
      ]
     },
     "execution_count": 78,
     "metadata": {},
     "output_type": "execute_result"
    }
   ],
   "source": [
    "nodes_with_degree(graph, 0), nodes_with_degree(graph, 1), nodes_with_degree(graph, 2) "
   ]
  },
  {
   "cell_type": "code",
   "execution_count": 79,
   "metadata": {},
   "outputs": [
    {
     "data": {
      "text/plain": [
       "(0, 96, 422)"
      ]
     },
     "execution_count": 79,
     "metadata": {},
     "output_type": "execute_result"
    }
   ],
   "source": [
    "nodes_with_degree(graph_1fq, 0), nodes_with_degree(graph_1fq, 1), nodes_with_degree(graph_1fq, 2) "
   ]
  },
  {
   "cell_type": "markdown",
   "metadata": {},
   "source": [
    "### 3.1 Sampling nodes from the graph"
   ]
  },
  {
   "cell_type": "code",
   "execution_count": 80,
   "metadata": {},
   "outputs": [],
   "source": [
    "def update_nodes_per_struct(nodes_per_struct, relabel_map):\n",
    "    new_nodes_per_struct = []\n",
    "    for i, struct in enumerate(nodes_per_struct):\n",
    "        sampled_nodes = []\n",
    "        for j, node in enumerate(struct):\n",
    "            if node in relabel_map:\n",
    "                sampled_nodes.append(relabel_map[node])\n",
    "        if len(sampled_nodes) != 0:\n",
    "            new_nodes_per_struct.append(sampled_nodes)\n",
    "    \n",
    "    return new_nodes_per_struct"
   ]
  },
  {
   "cell_type": "code",
   "execution_count": 81,
   "metadata": {},
   "outputs": [],
   "source": [
    "# TODO: Update this in model_server\n",
    "def downsample_graph(graph, nodes_per_struct, new_graph_size, technique):\n",
    "    if technique == \"uniform\":\n",
    "        sampled_nodes = random.sample(graph.nodes, new_graph_size)\n",
    "        sampled_graph = graph.subgraph(sampled_nodes)\n",
    "        relabel_map = dict(zip(list(sampled_graph.nodes), range(len(sampled_graph.nodes))))\n",
    "        final_graph = nx.relabel_nodes(sampled_graph, relabel_map)\n",
    "        updated_nodes_per_struct = update_nodes_per_struct(nodes_per_struct, relabel_map)\n",
    "        return final_graph, updated_nodes_per_struct\n",
    "    else:\n",
    "        return None"
   ]
  },
  {
   "cell_type": "code",
   "execution_count": 84,
   "metadata": {},
   "outputs": [],
   "source": [
    "scale = 4\n",
    "new_pop_size = n_pop // scale\n",
    "sampled_graph, sampled_nodes_per_struct = downsample_graph(graph_1fq, nodes_per_struct, new_pop_size, \"uniform\")"
   ]
  },
  {
   "cell_type": "code",
   "execution_count": 85,
   "metadata": {},
   "outputs": [
    {
     "name": "stdout",
     "output_type": "stream",
     "text": [
      "Min degree: 0 Max degree: 52\n",
      "Sampled baseline with neighbours:\n",
      "Degree: mean = 5.66, std = 4.44, 95% CI = (0.00, 15.00)\n",
      "        coeff var = 0.79\n",
      "Assortativity:    0.01\n",
      "Clustering coeff: 0.27\n",
      "\n"
     ]
    },
    {
     "data": {
      "image/png": "[encoded data removed]",
      "text/plain": [
       "<Figure size 432x288 with 1 Axes>"
      ]
     },
     "metadata": {
      "needs_background": "light"
     },
     "output_type": "display_data"
    }
   ],
   "source": [
    "min_G, max_G = min_degree(sampled_graph), max_degree(sampled_graph)\n",
    "print(\"Min degree:\", min_G, \"Max degree:\", max_G)\n",
    "# plot_degree_distn(graph_1fq, max_degree=max_G)\n",
    "network_info(sampled_graph, \"Sampled baseline with neighbours\", plot=True)"
   ]
  },
  {
   "cell_type": "code",
   "execution_count": 86,
   "metadata": {},
   "outputs": [
    {
     "data": {
      "text/plain": [
       "(323, 434, 412)"
      ]
     },
     "execution_count": 86,
     "metadata": {},
     "output_type": "execute_result"
    }
   ],
   "source": [
    "nodes_with_degree(sampled_graph, 0), nodes_with_degree(sampled_graph, 1), nodes_with_degree(sampled_graph, 2) "
   ]
  },
  {
   "cell_type": "code",
   "execution_count": 87,
   "metadata": {},
   "outputs": [
    {
     "data": {
      "text/plain": [
       "(58, 209, 475)"
      ]
     },
     "execution_count": 87,
     "metadata": {},
     "output_type": "execute_result"
    }
   ],
   "source": [
    "num_structs(nodes_per_struct, 1), num_structs(nodes_per_struct, 2), num_structs(nodes_per_struct, 3)"
   ]
  },
  {
   "cell_type": "code",
   "execution_count": 89,
   "metadata": {},
   "outputs": [
    {
     "data": {
      "text/plain": [
       "(1293, 808, 366)"
      ]
     },
     "execution_count": 89,
     "metadata": {},
     "output_type": "execute_result"
    }
   ],
   "source": [
    "num_structs(sampled_nodes_per_struct, 1), num_structs(sampled_nodes_per_struct, 2), num_structs(sampled_nodes_per_struct, 3)"
   ]
  },
  {
   "cell_type": "markdown",
   "metadata": {},
   "source": [
    "### 3.2 Connect sampled nodes to a food queue"
   ]
  },
  {
   "cell_type": "code",
   "execution_count": 90,
   "metadata": {},
   "outputs": [],
   "source": [
    "sampled_graph_1fq = link_nodes_by_activity(sampled_graph, sampled_nodes_per_struct, percentage_per_struct=0.5, proximity_radius=5, edge_weight=food_weight, activity_name=\"food\")"
   ]
  },
  {
   "cell_type": "code",
   "execution_count": 91,
   "metadata": {},
   "outputs": [
    {
     "name": "stdout",
     "output_type": "stream",
     "text": [
      "Min degree: 1 Max degree: 55\n",
      "Sampled baseline with neighbours and 1 food queue:\n",
      "Degree: mean = 11.49, std = 6.16, 95% CI = (1.00, 23.00)\n",
      "        coeff var = 0.54\n",
      "Assortativity:    0.01\n",
      "Clustering coeff: 0.35\n",
      "\n"
     ]
    },
    {
     "data": {
      "image/png": "[encoded data removed]",
      "text/plain": [
       "<Figure size 432x288 with 1 Axes>"
      ]
     },
     "metadata": {
      "needs_background": "light"
     },
     "output_type": "display_data"
    }
   ],
   "source": [
    "min_G, max_G = min_degree(sampled_graph_1fq), max_degree(sampled_graph_1fq)\n",
    "print(\"Min degree:\", min_G, \"Max degree:\", max_G)\n",
    "# plot_degree_distn(graph_1fq, max_degree=max_G)\n",
    "network_info(sampled_graph_1fq, \"Sampled baseline with neighbours and 1 food queue\", plot=True)"
   ]
  },
  {
   "cell_type": "markdown",
   "metadata": {},
   "source": [
    "### 3.3 Plot node count per structure distribution"
   ]
  },
  {
   "cell_type": "code",
   "execution_count": 92,
   "metadata": {},
   "outputs": [],
   "source": [
    "import seaborn as sns\n",
    "import matplotlib.pyplot as plt"
   ]
  },
  {
   "cell_type": "code",
   "execution_count": 93,
   "metadata": {},
   "outputs": [],
   "source": [
    "def plot_struct_dist(nodes_per_struct):\n",
    "    struct_lengths = np.array([len(struct) for struct in nodes_per_struct])\n",
    "    plt.hist(struct_lengths)\n",
    "    plt.show()"
   ]
  },
  {
   "cell_type": "code",
   "execution_count": 94,
   "metadata": {},
   "outputs": [
    {
     "data": {
      "image/png": "[encoded data removed]",
      "text/plain": [
       "<Figure size 432x288 with 1 Axes>"
      ]
     },
     "metadata": {
      "needs_background": "light"
     },
     "output_type": "display_data"
    }
   ],
   "source": [
    "plot_struct_dist(nodes_per_struct)"
   ]
  },
  {
   "cell_type": "code",
   "execution_count": 95,
   "metadata": {},
   "outputs": [
    {
     "data": {
      "image/png": "[encoded data removed]",
      "text/plain": [
       "<Figure size 432x288 with 1 Axes>"
      ]
     },
     "metadata": {
      "needs_background": "light"
     },
     "output_type": "display_data"
    }
   ],
   "source": [
    "plot_struct_dist(updated_nodes_per_struct)"
   ]
  },
  {
   "cell_type": "markdown",
   "metadata": {},
   "source": [
    "### 4) Define SEIRS model parameters"
   ]
  },
  {
   "cell_type": "code",
   "execution_count": 74,
   "metadata": {
    "tags": []
   },
   "outputs": [
    {
     "name": "stdout",
     "output_type": "stream",
     "text": [
      "latent period:  mean = 2.17, std = 1.09, 95% CI = (0.56, 4.84)\n",
      "\n",
      "pre-symptomatic period:  mean = 4.03, std = 2.40, 95% CI = (0.77, 9.91)\n",
      "\n",
      "total incubation period:  mean = 6.20, std = 2.65, 95% CI = (2.21, 12.30)\n",
      "\n"
     ]
    },
    {
     "data": {
      "image/png": "[encoded data removed]",
      "text/plain": [
       "<Figure size 432x288 with 1 Axes>"
      ]
     },
     "metadata": {
      "needs_background": "light"
     },
     "output_type": "display_data"
    }
   ],
   "source": [
    "latentPeriod_mean, latentPeriod_coeffvar = 4.0, 0.6\n",
    "SIGMA   = 1 / gamma_dist(latentPeriod_mean, latentPeriod_coeffvar, n_pop)\n",
    "\n",
    "presymptomaticPeriod_mean, presymptomaticPeriod_coeffvar = 2.2, 0.5\n",
    "LAMDA   = 1 / gamma_dist(presymptomaticPeriod_mean, presymptomaticPeriod_coeffvar, n_pop)\n",
    "\n",
    "dist_info([1/LAMDA, 1/SIGMA, 1/LAMDA+1/SIGMA], [\"latent period\", \"pre-symptomatic period\", \"total incubation period\"], plot=True, colors=['gold', 'darkorange', 'black'], reverse_plot=True)"
   ]
  },
  {
   "cell_type": "code",
   "execution_count": 75,
   "metadata": {
    "tags": []
   },
   "outputs": [
    {
     "name": "stdout",
     "output_type": "stream",
     "text": [
      "pre-symptomatic period:  mean = 2.17, std = 1.09, 95% CI = (0.56, 4.84)\n",
      "\n",
      "(a)symptomatic period:  mean = 4.04, std = 1.64, 95% CI = (1.49, 7.94)\n",
      "\n",
      "total infectious period:  mean = 6.21, std = 1.96, 95% CI = (3.00, 10.70)\n",
      "\n"
     ]
    },
    {
     "data": {
      "image/png": "[encoded data removed]",
      "text/plain": [
       "<Figure size 432x288 with 1 Axes>"
      ]
     },
     "metadata": {
      "needs_background": "light"
     },
     "output_type": "display_data"
    }
   ],
   "source": [
    "symptomaticPeriod_mean, symptomaticPeriod_coeffvar = 4.0, 0.4\n",
    "GAMMA   = 1 / gamma_dist(symptomaticPeriod_mean, symptomaticPeriod_coeffvar, n_pop)\n",
    "\n",
    "infectiousPeriod = 1/LAMDA + 1/GAMMA\n",
    "\n",
    "dist_info([1/LAMDA, 1/GAMMA, 1/LAMDA+1/GAMMA], [\"pre-symptomatic period\", \"(a)symptomatic period\", \"total infectious period\"], plot=True, colors=['darkorange', 'crimson', 'black'], reverse_plot=True)"
   ]
  },
  {
   "cell_type": "code",
   "execution_count": 76,
   "metadata": {
    "tags": []
   },
   "outputs": [
    {
     "name": "stdout",
     "output_type": "stream",
     "text": [
      "onset-to-hospitalization period:  mean = 11.12, std = 5.03, 95% CI = (3.54, 22.79)\n",
      "\n",
      "hospitalization-to-discharge period:  mean = 7.96, std = 3.55, 95% CI = (2.50, 16.37)\n",
      "\n",
      "onset-to-discharge period:  mean = 19.07, std = 6.14, 95% CI = (8.99, 33.00)\n",
      "\n"
     ]
    },
    {
     "data": {
      "image/png": "[encoded data removed]",
      "text/plain": [
       "<Figure size 432x288 with 1 Axes>"
      ]
     },
     "metadata": {
      "needs_background": "light"
     },
     "output_type": "display_data"
    }
   ],
   "source": [
    "onsetToHospitalizationPeriod_mean, onsetToHospitalizationPeriod_coeffvar = 11.0, 0.45\n",
    "ETA     = 1 / gamma_dist(onsetToHospitalizationPeriod_mean, onsetToHospitalizationPeriod_coeffvar, n_pop)\n",
    "\n",
    "hospitalizationToDischargePeriod_mean, hospitalizationToDischargePeriod_coeffvar = 8.0, 0.45\n",
    "GAMMA_H = 1 / gamma_dist(hospitalizationToDischargePeriod_mean, hospitalizationToDischargePeriod_coeffvar, n_pop)\n",
    "\n",
    "dist_info([1/ETA, 1/GAMMA_H, 1/ETA+1/GAMMA_H], [\"onset-to-hospitalization period\", \"hospitalization-to-discharge period\", \"onset-to-discharge period\"], plot=True, colors=['crimson', 'violet', 'black'], reverse_plot=True)"
   ]
  },
  {
   "cell_type": "code",
   "execution_count": 77,
   "metadata": {
    "tags": []
   },
   "outputs": [
    {
     "name": "stdout",
     "output_type": "stream",
     "text": [
      "onset-to-hospitalization period:  mean = 11.12, std = 5.03, 95% CI = (3.54, 22.79)\n",
      "\n",
      "hospitalization-to-death period:  mean = 10.01, std = 4.40, 95% CI = (3.29, 20.29)\n",
      "\n",
      "onset-to-death period:  mean = 21.13, std = 6.61, 95% CI = (10.11, 35.74)\n",
      "\n"
     ]
    },
    {
     "data": {
      "image/png": "[encoded data removed]",
      "text/plain": [
       "<Figure size 432x288 with 1 Axes>"
      ]
     },
     "metadata": {
      "needs_background": "light"
     },
     "output_type": "display_data"
    }
   ],
   "source": [
    "hospitalizationToDeathPeriod_mean, hospitalizationToDeathPeriod_coeffvar = 10.0, 0.45\n",
    "MU_H    = 1 / gamma_dist(hospitalizationToDeathPeriod_mean, hospitalizationToDeathPeriod_coeffvar, n_pop)\n",
    "\n",
    "dist_info([1/ETA, 1/MU_H, 1/ETA+1/MU_H], [\"onset-to-hospitalization period\", \"hospitalization-to-death period\", \"onset-to-death period\"], plot=True, colors=['crimson', 'darkgray', 'black'], reverse_plot=True)"
   ]
  },
  {
   "cell_type": "code",
   "execution_count": 78,
   "metadata": {
    "tags": []
   },
   "outputs": [
    {
     "data": {
      "text/plain": [
       "4675"
      ]
     },
     "execution_count": 78,
     "metadata": {},
     "output_type": "execute_result"
    }
   ],
   "source": [
    "ageGroup_pctAsymp = {'0-9':0.6,\n",
    "                            '10-19':    0.75,\n",
    "                            '20-29':    0.63,\n",
    "                            '30-39':    0.58,\n",
    "                            '40-49':    0.49,\n",
    "                            '50-59':    0.41,\n",
    "                            '60-69':    0.28,\n",
    "                            '70+':    0.24}\n",
    "PCT_ASYMPTOMATIC = get_values_per_node(ageGroup_pctAsymp, sampled_graph)\n",
    "len(PCT_ASYMPTOMATIC)"
   ]
  },
  {
   "cell_type": "code",
   "execution_count": 79,
   "metadata": {},
   "outputs": [
    {
     "data": {
      "text/plain": [
       "4675"
      ]
     },
     "execution_count": 79,
     "metadata": {},
     "output_type": "execute_result"
    }
   ],
   "source": [
    "ageGroup_pctHospitalized = {'0-9':      0.0076,\n",
    "                            '10-19':    0.0081,\n",
    "                            '20-29':    0.0099,\n",
    "                            '30-39':    0.0185,\n",
    "                            '40-49':    0.0543,\n",
    "                            '50-59':    0.1505,\n",
    "                            '60-69':    0.3329,\n",
    "                            '70+':    0.6176}\n",
    "PCT_HOSPITALIZED = get_values_per_node(ageGroup_pctHospitalized, sampled_graph)\n",
    "len(PCT_HOSPITALIZED)"
   ]
  },
  {
   "cell_type": "code",
   "execution_count": 80,
   "metadata": {},
   "outputs": [
    {
     "data": {
      "text/plain": [
       "4675"
      ]
     },
     "execution_count": 80,
     "metadata": {},
     "output_type": "execute_result"
    }
   ],
   "source": [
    "ageGroup_hospitalFatalityRate = {'0-9':     0.0000,\n",
    "                                 '10-19':   0.3627,\n",
    "                                 '20-29':   0.0577,\n",
    "                                 '30-39':   0.0426,\n",
    "                                 '40-49':   0.0694,\n",
    "                                 '50-59':   0.1532,\n",
    "                                 '60-69':   0.3381,\n",
    "                                 '70-79':   0.5187,\n",
    "                                 '80+':     0.7283 }\n",
    "\n",
    "PCT_FATALITY = get_values_per_node(ageGroup_hospitalFatalityRate, sampled_graph)\n",
    "len(PCT_FATALITY)"
   ]
  },
  {
   "cell_type": "code",
   "execution_count": 81,
   "metadata": {
    "tags": []
   },
   "outputs": [
    {
     "name": "stdout",
     "output_type": "stream",
     "text": [
      "Individual R0:  mean = 2.49, std = 0.50, 95% CI = (1.64, 3.57)\n",
      "\n"
     ]
    },
    {
     "data": {
      "image/png": "[encoded data removed]",
      "text/plain": [
       "<Figure size 432x288 with 1 Axes>"
      ]
     },
     "metadata": {
      "needs_background": "light"
     },
     "output_type": "display_data"
    }
   ],
   "source": [
    "R0_mean     = 2.5\n",
    "R0_coeffvar = 0.2\n",
    "\n",
    "R0 = gamma_dist(R0_mean, R0_coeffvar, n_pop)\n",
    "\n",
    "dist_info(R0, \"Individual R0\", bin_size=0.1, plot=True, colors='crimson')"
   ]
  },
  {
   "cell_type": "code",
   "execution_count": 82,
   "metadata": {},
   "outputs": [],
   "source": [
    "BETA = 1/infectiousPeriod * R0"
   ]
  },
  {
   "cell_type": "code",
   "execution_count": 83,
   "metadata": {},
   "outputs": [],
   "source": [
    "BETA_Q = BETA * (0.3/R0_mean)"
   ]
  },
  {
   "cell_type": "code",
   "execution_count": 84,
   "metadata": {},
   "outputs": [],
   "source": [
    "BETA_PAIRWISE_MODE  = 'infected'"
   ]
  },
  {
   "cell_type": "code",
   "execution_count": 85,
   "metadata": {},
   "outputs": [],
   "source": [
    "DELTA_PAIRWISE_MODE = 'mean'"
   ]
  },
  {
   "cell_type": "code",
   "execution_count": 86,
   "metadata": {
    "tags": []
   },
   "outputs": [
    {
     "data": {
      "text/plain": [
       "4675"
      ]
     },
     "execution_count": 86,
     "metadata": {},
     "output_type": "execute_result"
    }
   ],
   "source": [
    "ageGroup_susceptibility = {\"0+\": 1.0}\n",
    "ALPHA = get_values_per_node(ageGroup_susceptibility, sampled_graph)\n",
    "len(ALPHA)"
   ]
  },
  {
   "cell_type": "code",
   "execution_count": 87,
   "metadata": {},
   "outputs": [],
   "source": [
    "P_GLOBALINTXN = 0.8\n",
    "Q_GLOBALINTXN = 0.2\n",
    "INIT_EXPOSED = int(n_pop*0.01)"
   ]
  },
  {
   "cell_type": "markdown",
   "metadata": {},
   "source": [
    "### 4.1 Set Testing, Tracing, & Isolation (TTI) intervention protocol parameters:"
   ]
  },
  {
   "cell_type": "markdown",
   "metadata": {},
   "source": [
    "This portion of the notebook is directly taken from the seirsplus repo. It serves as a guide to experiment with parameters"
   ]
  },
  {
   "cell_type": "code",
   "execution_count": 88,
   "metadata": {},
   "outputs": [],
   "source": [
    "INTERVENTION_START_PCT_INFECTED = 1/100\n",
    "AVERAGE_INTRODUCTIONS_PER_DAY   = 0\n",
    "\n",
    "TESTING_CADENCE                 = 'everyday'    # how often to do tracing testing and random testing\n",
    "PCT_TESTED_PER_DAY              = 0.001          # max daily test allotment defined as a percent of population size\n",
    "TEST_FALSENEG_RATE              = 'temporal'    # test false negative rate, will use FN rate that varies with disease time\n",
    "MAX_PCT_TESTS_FOR_SYMPTOMATICS  = 1.0           # max percent of daily test allotment to use on self-reporting symptomatics\n",
    "MAX_PCT_TESTS_FOR_TRACES        = 1.0           # max percent of daily test allotment to use on contact traces\n",
    "RANDOM_TESTING_DEGREE_BIAS      = 0             # magnitude of degree bias in random selections for testing, none here\n",
    "\n",
    "PCT_CONTACTS_TO_TRACE           = 0.25           # percentage of primary cases' contacts that are traced\n",
    "TRACING_LAG                     = 2             # number of cadence testing days between primary tests and tracing tests\n",
    "\n",
    "ISOLATION_LAG_SYMPTOMATIC       = 1             # number of days between onset of symptoms and self-isolation of symptomatics\n",
    "ISOLATION_LAG_POSITIVE          = 2             # test turn-around time (TAT): number of days between administration of test and isolation of positive cases\n",
    "ISOLATION_LAG_CONTACT           = 0             # number of days between a contact being traced and that contact self-isolating"
   ]
  },
  {
   "cell_type": "code",
   "execution_count": 89,
   "metadata": {},
   "outputs": [],
   "source": [
    "TESTING_COMPLIANCE_RATE_SYMPTOMATIC                  = 0.5\n",
    "TESTING_COMPLIANCE_RATE_TRACED                       = 1.0\n",
    "TESTING_COMPLIANCE_RATE_RANDOM                       = 0.8\n",
    "\n",
    "TRACING_COMPLIANCE_RATE                              = 0.8\n",
    "\n",
    "ISOLATION_COMPLIANCE_RATE_SYMPTOMATIC_INDIVIDUAL     = 0.3\n",
    "ISOLATION_COMPLIANCE_RATE_SYMPTOMATIC_GROUPMATE      = 0.0\n",
    "ISOLATION_COMPLIANCE_RATE_POSITIVE_INDIVIDUAL        = 0.8\n",
    "ISOLATION_COMPLIANCE_RATE_POSITIVE_GROUPMATE         = 0.8\n",
    "ISOLATION_COMPLIANCE_RATE_POSITIVE_CONTACT           = 0.8\n",
    "ISOLATION_COMPLIANCE_RATE_POSITIVE_CONTACTGROUPMATE  = 0.0"
   ]
  },
  {
   "cell_type": "markdown",
   "metadata": {},
   "source": [
    "Now, we randomly assign a True/False compliance to each individual according to the rates set above. Individuals whose compliance is set to True for a given intervention will participate in that intervention, individuals set to False will not."
   ]
  },
  {
   "cell_type": "code",
   "execution_count": 90,
   "metadata": {},
   "outputs": [],
   "source": [
    "TESTING_COMPLIANCE_RANDOM                        = (numpy.random.rand(n_pop) < TESTING_COMPLIANCE_RATE_RANDOM)\n",
    "TESTING_COMPLIANCE_TRACED                        = (numpy.random.rand(n_pop) < TESTING_COMPLIANCE_RATE_TRACED)\n",
    "TESTING_COMPLIANCE_SYMPTOMATIC                   = (numpy.random.rand(n_pop) < TESTING_COMPLIANCE_RATE_SYMPTOMATIC)\n",
    "\n",
    "TRACING_COMPLIANCE                               = (numpy.random.rand(n_pop) < TRACING_COMPLIANCE_RATE)\n",
    "\n",
    "ISOLATION_COMPLIANCE_SYMPTOMATIC_INDIVIDUAL      = (numpy.random.rand(n_pop) < ISOLATION_COMPLIANCE_RATE_SYMPTOMATIC_INDIVIDUAL)\n",
    "ISOLATION_COMPLIANCE_SYMPTOMATIC_GROUPMATE       = (numpy.random.rand(n_pop) < ISOLATION_COMPLIANCE_RATE_SYMPTOMATIC_GROUPMATE)\n",
    "ISOLATION_COMPLIANCE_POSITIVE_INDIVIDUAL         = (numpy.random.rand(n_pop) < ISOLATION_COMPLIANCE_RATE_POSITIVE_INDIVIDUAL)\n",
    "ISOLATION_COMPLIANCE_POSITIVE_GROUPMATE          = (numpy.random.rand(n_pop) < ISOLATION_COMPLIANCE_RATE_POSITIVE_GROUPMATE)\n",
    "ISOLATION_COMPLIANCE_POSITIVE_CONTACT            = (numpy.random.rand(n_pop) < ISOLATION_COMPLIANCE_RATE_POSITIVE_CONTACT)\n",
    "ISOLATION_COMPLIANCE_POSITIVE_CONTACTGROUPMATE   = (numpy.random.rand(n_pop) < ISOLATION_COMPLIANCE_RATE_POSITIVE_CONTACTGROUPMATE)"
   ]
  },
  {
   "cell_type": "code",
   "execution_count": 91,
   "metadata": {},
   "outputs": [],
   "source": [
    "G_quarantine = remove_edges_from_graph(sampled_graph, scale=2, edge_label_list=[\"food\", \"friendship\"], min_num_edges=2)"
   ]
  },
  {
   "cell_type": "code",
   "execution_count": 92,
   "metadata": {},
   "outputs": [],
   "source": [
    "model = ExtSEIRSNetworkModel(G=sampled_graph, p=P_GLOBALINTXN,\n",
    "                              beta=BETA, sigma=SIGMA, lamda=LAMDA, gamma=GAMMA, \n",
    "                              gamma_asym=GAMMA, eta=ETA, gamma_H=GAMMA_H, mu_H=MU_H, \n",
    "                              a=PCT_ASYMPTOMATIC, h=PCT_HOSPITALIZED, f=PCT_FATALITY,              \n",
    "                              alpha=ALPHA, beta_pairwise_mode=BETA_PAIRWISE_MODE, delta_pairwise_mode=DELTA_PAIRWISE_MODE,\n",
    "                              G_Q=G_quarantine, q=0, beta_Q=BETA_Q, isolation_time=14,\n",
    "                              initE=INIT_EXPOSED)"
   ]
  },
  {
   "cell_type": "code",
   "execution_count": 93,
   "metadata": {},
   "outputs": [],
   "source": [
    "T = 200"
   ]
  },
  {
   "cell_type": "code",
   "execution_count": 94,
   "metadata": {
    "collapsed": true,
    "jupyter": {
     "outputs_hidden": true
    }
   },
   "outputs": [
    {
     "name": "stdout",
     "output_type": "stream",
     "text": [
      "[INTERVENTIONS @ t = 1.01 (56 (1.20%) infected)]\n",
      "\t0\ttested due to symptoms  [+ 0 positive (0.00 %) +]\n",
      "\t0\ttested as traces        [+ 0 positive (0.00 %) +]\n",
      "\t4\ttested randomly         [+ 0 positive (0.00 %) +]\n",
      "\t4\ttested TOTAL            [+ 0 positive (0.00 %) +]\n",
      "\t1 will isolate due to symptoms         (0 as groupmates of symptomatic)\n",
      "\t0 will isolate due to positive test    (0 as groupmates of positive)\n",
      "\t0 will isolate due to positive contact (0 as groupmates of contact)\n",
      "\t0 entered isolation\n",
      "[INTERVENTIONS @ t = 2.01 (61 (1.30%) infected)]\n",
      "\t1\ttested due to symptoms  [+ 1 positive (100.00 %) +]\n",
      "\t0\ttested as traces        [+ 0 positive (0.00 %) +]\n",
      "\t3\ttested randomly         [+ 0 positive (0.00 %) +]\n",
      "\t4\ttested TOTAL            [+ 1 positive (25.00 %) +]\n",
      "\t2 will isolate due to symptoms         (0 as groupmates of symptomatic)\n",
      "\t1 will isolate due to positive test    (0 as groupmates of positive)\n",
      "\t0 will isolate due to positive contact (0 as groupmates of contact)\n",
      "\t1 entered isolation\n",
      "[INTERVENTIONS @ t = 3.02 (66 (1.41%) infected)]\n",
      "\t0\ttested due to symptoms  [+ 0 positive (0.00 %) +]\n",
      "\t0\ttested as traces        [+ 0 positive (0.00 %) +]\n",
      "\t4\ttested randomly         [+ 0 positive (0.00 %) +]\n",
      "\t4\ttested TOTAL            [+ 0 positive (0.00 %) +]\n",
      "\t0 will isolate due to symptoms         (0 as groupmates of symptomatic)\n",
      "\t0 will isolate due to positive test    (0 as groupmates of positive)\n",
      "\t0 will isolate due to positive contact (0 as groupmates of contact)\n",
      "\t2 entered isolation\n",
      "[INTERVENTIONS @ t = 4.01 (64 (1.37%) infected)]\n",
      "\t2\ttested due to symptoms  [+ 2 positive (100.00 %) +]\n",
      "\t1\ttested as traces        [+ 0 positive (0.00 %) +]\n",
      "\t1\ttested randomly         [+ 0 positive (0.00 %) +]\n",
      "\t4\ttested TOTAL            [+ 2 positive (50.00 %) +]\n",
      "\t1 will isolate due to symptoms         (0 as groupmates of symptomatic)\n",
      "\t2 will isolate due to positive test    (5 as groupmates of positive)\n",
      "\t1 will isolate due to positive contact (0 as groupmates of contact)\n",
      "\t2 entered isolation\n",
      "[INTERVENTIONS @ t = 5.06 (76 (1.63%) infected)]\n",
      "\t1\ttested due to symptoms  [+ 1 positive (100.00 %) +]\n",
      "\t0\ttested as traces        [+ 0 positive (0.00 %) +]\n",
      "\t3\ttested randomly         [+ 0 positive (0.00 %) +]\n",
      "\t4\ttested TOTAL            [+ 1 positive (25.00 %) +]\n",
      "\t2 will isolate due to symptoms         (0 as groupmates of symptomatic)\n",
      "\t1 will isolate due to positive test    (2 as groupmates of positive)\n",
      "\t0 will isolate due to positive contact (0 as groupmates of contact)\n",
      "\t1 entered isolation\n",
      "[INTERVENTIONS @ t = 6.02 (78 (1.67%) infected)]\n",
      "\t0\ttested due to symptoms  [+ 0 positive (0.00 %) +]\n",
      "\t4\ttested as traces        [+ 1 positive (25.00 %) +]\n",
      "\t0\ttested randomly         [+ 0 positive (0.00 %) +]\n",
      "\t4\ttested TOTAL            [+ 1 positive (25.00 %) +]\n",
      "\t1 will isolate due to symptoms         (0 as groupmates of symptomatic)\n",
      "\t1 will isolate due to positive test    (3 as groupmates of positive)\n",
      "\t3 will isolate due to positive contact (0 as groupmates of contact)\n",
      "\t12 entered isolation\n",
      "[INTERVENTIONS @ t = 7.02 (83 (1.78%) infected)]\n",
      "\t1\ttested due to symptoms  [+ 1 positive (100.00 %) +]\n",
      "\t0\ttested as traces        [+ 0 positive (0.00 %) +]\n",
      "\t3\ttested randomly         [+ 0 positive (0.00 %) +]\n",
      "\t4\ttested TOTAL            [+ 1 positive (25.00 %) +]\n",
      "\t0 will isolate due to symptoms         (0 as groupmates of symptomatic)\n",
      "\t1 will isolate due to positive test    (1 as groupmates of positive)\n",
      "\t0 will isolate due to positive contact (0 as groupmates of contact)\n",
      "\t4 entered isolation\n",
      "[INTERVENTIONS @ t = 8.02 (96 (2.05%) infected)]\n",
      "\t3\ttested due to symptoms  [+ 2 positive (66.67 %) +]\n",
      "\t1\ttested as traces        [+ 0 positive (0.00 %) +]\n",
      "\t0\ttested randomly         [+ 0 positive (0.00 %) +]\n",
      "\t4\ttested TOTAL            [+ 2 positive (50.00 %) +]\n",
      "\t0 will isolate due to symptoms         (0 as groupmates of symptomatic)\n",
      "\t2 will isolate due to positive test    (2 as groupmates of positive)\n",
      "\t2 will isolate due to positive contact (0 as groupmates of contact)\n",
      "\t6 entered isolation\n",
      "[INTERVENTIONS @ t = 9.04 (111 (2.37%) infected)]\n",
      "\t2\ttested due to symptoms  [+ 2 positive (100.00 %) +]\n",
      "\t0\ttested as traces        [+ 0 positive (0.00 %) +]\n",
      "\t2\ttested randomly         [+ 0 positive (0.00 %) +]\n",
      "\t4\ttested TOTAL            [+ 2 positive (50.00 %) +]\n",
      "\t0 will isolate due to symptoms         (0 as groupmates of symptomatic)\n",
      "\t2 will isolate due to positive test    (1 as groupmates of positive)\n",
      "\t0 will isolate due to positive contact (0 as groupmates of contact)\n",
      "\t1 entered isolation\n",
      "[INTERVENTIONS @ t = 10.01 (127 (2.72%) infected)]\n",
      "\t4\ttested due to symptoms  [+ 4 positive (100.00 %) +]\n",
      "\t0\ttested as traces        [+ 0 positive (0.00 %) +]\n",
      "\t0\ttested randomly         [+ 0 positive (0.00 %) +]\n",
      "\t4\ttested TOTAL            [+ 4 positive (100.00 %) +]\n",
      "\t1 will isolate due to symptoms         (0 as groupmates of symptomatic)\n",
      "\t4 will isolate due to positive test    (2 as groupmates of positive)\n",
      "\t2 will isolate due to positive contact (0 as groupmates of contact)\n",
      "\t5 entered isolation\n",
      "[INTERVENTIONS @ t = 11.01 (152 (3.25%) infected)]\n",
      "\t2\ttested due to symptoms  [+ 2 positive (100.00 %) +]\n",
      "\t2\ttested as traces        [+ 0 positive (0.00 %) +]\n",
      "\t0\ttested randomly         [+ 0 positive (0.00 %) +]\n",
      "\t4\ttested TOTAL            [+ 2 positive (50.00 %) +]\n",
      "\t2 will isolate due to symptoms         (0 as groupmates of symptomatic)\n",
      "\t2 will isolate due to positive test    (0 as groupmates of positive)\n",
      "\t3 will isolate due to positive contact (0 as groupmates of contact)\n",
      "\t7 entered isolation\n",
      "[INTERVENTIONS @ t = 12.02 (175 (3.74%) infected)]\n",
      "\t4\ttested due to symptoms  [+ 4 positive (100.00 %) +]\n",
      "\t0\ttested as traces        [+ 0 positive (0.00 %) +]\n",
      "\t0\ttested randomly         [+ 0 positive (0.00 %) +]\n",
      "\t4\ttested TOTAL            [+ 4 positive (100.00 %) +]\n",
      "\t5 will isolate due to symptoms         (0 as groupmates of symptomatic)\n",
      "\t4 will isolate due to positive test    (3 as groupmates of positive)\n",
      "\t4 will isolate due to positive contact (0 as groupmates of contact)\n",
      "\t11 entered isolation\n",
      "[INTERVENTIONS @ t = 13.00 (200 (4.28%) infected)]\n",
      "\t4\ttested due to symptoms  [+ 3 positive (75.00 %) +]\n",
      "\t0\ttested as traces        [+ 0 positive (0.00 %) +]\n",
      "\t0\ttested randomly         [+ 0 positive (0.00 %) +]\n",
      "\t4\ttested TOTAL            [+ 3 positive (75.00 %) +]\n",
      "\t3 will isolate due to symptoms         (0 as groupmates of symptomatic)\n",
      "\t3 will isolate due to positive test    (6 as groupmates of positive)\n",
      "\t3 will isolate due to positive contact (0 as groupmates of contact)\n",
      "\t10 entered isolation\n",
      "[INTERVENTIONS @ t = 14.00 (208 (4.45%) infected)]\n",
      "\t3\ttested due to symptoms  [+ 3 positive (100.00 %) +]\n",
      "\t1\ttested as traces        [+ 0 positive (0.00 %) +]\n",
      "\t0\ttested randomly         [+ 0 positive (0.00 %) +]\n",
      "\t4\ttested TOTAL            [+ 3 positive (75.00 %) +]\n",
      "\t2 will isolate due to symptoms         (0 as groupmates of symptomatic)\n",
      "\t3 will isolate due to positive test    (4 as groupmates of positive)\n",
      "\t4 will isolate due to positive contact (0 as groupmates of contact)\n",
      "\t12 entered isolation\n",
      "[INTERVENTIONS @ t = 15.01 (229 (4.90%) infected)]\n",
      "\t3\ttested due to symptoms  [+ 2 positive (66.67 %) +]\n",
      "\t1\ttested as traces        [+ 0 positive (0.00 %) +]\n",
      "\t0\ttested randomly         [+ 0 positive (0.00 %) +]\n",
      "\t4\ttested TOTAL            [+ 2 positive (50.00 %) +]\n",
      "\t3 will isolate due to symptoms         (0 as groupmates of symptomatic)\n",
      "\t2 will isolate due to positive test    (2 as groupmates of positive)\n",
      "\t2 will isolate due to positive contact (0 as groupmates of contact)\n",
      "\t13 entered isolation\n",
      "[INTERVENTIONS @ t = 16.04 (253 (5.41%) infected)]\n",
      "\t4\ttested due to symptoms  [+ 2 positive (50.00 %) +]\n",
      "\t0\ttested as traces        [+ 0 positive (0.00 %) +]\n",
      "\t0\ttested randomly         [+ 0 positive (0.00 %) +]\n",
      "\t4\ttested TOTAL            [+ 2 positive (50.00 %) +]\n",
      "\t5 will isolate due to symptoms         (0 as groupmates of symptomatic)\n",
      "\t2 will isolate due to positive test    (0 as groupmates of positive)\n",
      "\t3 will isolate due to positive contact (0 as groupmates of contact)\n",
      "\t11 entered isolation\n",
      "[INTERVENTIONS @ t = 17.00 (275 (5.88%) infected)]\n",
      "\t4\ttested due to symptoms  [+ 4 positive (100.00 %) +]\n",
      "\t0\ttested as traces        [+ 0 positive (0.00 %) +]\n",
      "\t0\ttested randomly         [+ 0 positive (0.00 %) +]\n",
      "\t4\ttested TOTAL            [+ 4 positive (100.00 %) +]\n",
      "\t6 will isolate due to symptoms         (0 as groupmates of symptomatic)\n",
      "\t4 will isolate due to positive test    (8 as groupmates of positive)\n",
      "\t3 will isolate due to positive contact (0 as groupmates of contact)\n",
      "\t12 entered isolation\n",
      "[INTERVENTIONS @ t = 18.00 (309 (6.61%) infected)]\n",
      "\t4\ttested due to symptoms  [+ 4 positive (100.00 %) +]\n",
      "\t0\ttested as traces        [+ 0 positive (0.00 %) +]\n",
      "\t0\ttested randomly         [+ 0 positive (0.00 %) +]\n",
      "\t4\ttested TOTAL            [+ 4 positive (100.00 %) +]\n",
      "\t9 will isolate due to symptoms         (0 as groupmates of symptomatic)\n",
      "\t4 will isolate due to positive test    (3 as groupmates of positive)\n",
      "\t3 will isolate due to positive contact (0 as groupmates of contact)\n",
      "\t11 entered isolation\n",
      "[INTERVENTIONS @ t = 19.00 (327 (6.99%) infected)]\n",
      "\t4\ttested due to symptoms  [+ 4 positive (100.00 %) +]\n",
      "\t0\ttested as traces        [+ 0 positive (0.00 %) +]\n",
      "\t0\ttested randomly         [+ 0 positive (0.00 %) +]\n",
      "\t4\ttested TOTAL            [+ 4 positive (100.00 %) +]\n",
      "\t10 will isolate due to symptoms         (0 as groupmates of symptomatic)\n",
      "\t4 will isolate due to positive test    (11 as groupmates of positive)\n",
      "\t1 will isolate due to positive contact (0 as groupmates of contact)\n",
      "\t20 entered isolation\n",
      "[INTERVENTIONS @ t = 20.00 (371 (7.94%) infected)]\n",
      "\t4\ttested due to symptoms  [+ 4 positive (100.00 %) +]\n",
      "\t0\ttested as traces        [+ 0 positive (0.00 %) +]\n",
      "\t0\ttested randomly         [+ 0 positive (0.00 %) +]\n",
      "\t4\ttested TOTAL            [+ 4 positive (100.00 %) +]\n",
      "\t7 will isolate due to symptoms         (0 as groupmates of symptomatic)\n",
      "\t4 will isolate due to positive test    (4 as groupmates of positive)\n",
      "\t4 will isolate due to positive contact (0 as groupmates of contact)\n",
      "\t20 entered isolation\n",
      "[INTERVENTIONS @ t = 21.00 (428 (9.16%) infected)]\n",
      "\t4\ttested due to symptoms  [+ 4 positive (100.00 %) +]\n",
      "\t0\ttested as traces        [+ 0 positive (0.00 %) +]\n",
      "\t0\ttested randomly         [+ 0 positive (0.00 %) +]\n",
      "\t4\ttested TOTAL            [+ 4 positive (100.00 %) +]\n",
      "\t14 will isolate due to symptoms         (0 as groupmates of symptomatic)\n",
      "\t4 will isolate due to positive test    (7 as groupmates of positive)\n",
      "\t2 will isolate due to positive contact (0 as groupmates of contact)\n",
      "\t23 entered isolation\n",
      "[INTERVENTIONS @ t = 22.01 (461 (9.86%) infected)]\n",
      "\t4\ttested due to symptoms  [+ 4 positive (100.00 %) +]\n",
      "\t0\ttested as traces        [+ 0 positive (0.00 %) +]\n",
      "\t0\ttested randomly         [+ 0 positive (0.00 %) +]\n",
      "\t4\ttested TOTAL            [+ 4 positive (100.00 %) +]\n",
      "\t13 will isolate due to symptoms         (0 as groupmates of symptomatic)\n",
      "\t4 will isolate due to positive test    (2 as groupmates of positive)\n",
      "\t1 will isolate due to positive contact (0 as groupmates of contact)\n",
      "\t23 entered isolation\n",
      "[INTERVENTIONS @ t = 23.00 (494 (10.57%) infected)]\n",
      "\t4\ttested due to symptoms  [+ 4 positive (100.00 %) +]\n",
      "\t0\ttested as traces        [+ 0 positive (0.00 %) +]\n",
      "\t0\ttested randomly         [+ 0 positive (0.00 %) +]\n",
      "\t4\ttested TOTAL            [+ 4 positive (100.00 %) +]\n",
      "\t10 will isolate due to symptoms         (0 as groupmates of symptomatic)\n",
      "\t4 will isolate due to positive test    (5 as groupmates of positive)\n",
      "\t4 will isolate due to positive contact (0 as groupmates of contact)\n",
      "\t28 entered isolation\n",
      "[INTERVENTIONS @ t = 24.00 (545 (11.66%) infected)]\n",
      "\t4\ttested due to symptoms  [+ 3 positive (75.00 %) +]\n",
      "\t0\ttested as traces        [+ 0 positive (0.00 %) +]\n",
      "\t0\ttested randomly         [+ 0 positive (0.00 %) +]\n",
      "\t4\ttested TOTAL            [+ 3 positive (75.00 %) +]\n",
      "\t12 will isolate due to symptoms         (0 as groupmates of symptomatic)\n",
      "\t3 will isolate due to positive test    (0 as groupmates of positive)\n",
      "\t1 will isolate due to positive contact (0 as groupmates of contact)\n",
      "\t17 entered isolation\n",
      "[INTERVENTIONS @ t = 25.00 (588 (12.58%) infected)]\n",
      "\t4\ttested due to symptoms  [+ 3 positive (75.00 %) +]\n",
      "\t0\ttested as traces        [+ 0 positive (0.00 %) +]\n",
      "\t0\ttested randomly         [+ 0 positive (0.00 %) +]\n",
      "\t4\ttested TOTAL            [+ 3 positive (75.00 %) +]\n",
      "\t13 will isolate due to symptoms         (0 as groupmates of symptomatic)\n",
      "\t3 will isolate due to positive test    (6 as groupmates of positive)\n",
      "\t1 will isolate due to positive contact (0 as groupmates of contact)\n",
      "\t22 entered isolation\n",
      "[INTERVENTIONS @ t = 26.00 (616 (13.18%) infected)]\n",
      "\t4\ttested due to symptoms  [+ 4 positive (100.00 %) +]\n",
      "\t0\ttested as traces        [+ 0 positive (0.00 %) +]\n",
      "\t0\ttested randomly         [+ 0 positive (0.00 %) +]\n",
      "\t4\ttested TOTAL            [+ 4 positive (100.00 %) +]\n",
      "\t10 will isolate due to symptoms         (0 as groupmates of symptomatic)\n",
      "\t4 will isolate due to positive test    (6 as groupmates of positive)\n",
      "\t2 will isolate due to positive contact (0 as groupmates of contact)\n",
      "\t18 entered isolation\n",
      "[INTERVENTIONS @ t = 27.00 (674 (14.42%) infected)]\n",
      "\t4\ttested due to symptoms  [+ 3 positive (75.00 %) +]\n",
      "\t0\ttested as traces        [+ 0 positive (0.00 %) +]\n",
      "\t0\ttested randomly         [+ 0 positive (0.00 %) +]\n",
      "\t4\ttested TOTAL            [+ 3 positive (75.00 %) +]\n",
      "\t11 will isolate due to symptoms         (0 as groupmates of symptomatic)\n",
      "\t3 will isolate due to positive test    (1 as groupmates of positive)\n",
      "\t3 will isolate due to positive contact (0 as groupmates of contact)\n",
      "\t22 entered isolation\n",
      "[INTERVENTIONS @ t = 28.00 (729 (15.59%) infected)]\n",
      "\t4\ttested due to symptoms  [+ 2 positive (50.00 %) +]\n",
      "\t0\ttested as traces        [+ 0 positive (0.00 %) +]\n",
      "\t0\ttested randomly         [+ 0 positive (0.00 %) +]\n",
      "\t4\ttested TOTAL            [+ 2 positive (50.00 %) +]\n",
      "\t14 will isolate due to symptoms         (0 as groupmates of symptomatic)\n",
      "\t2 will isolate due to positive test    (2 as groupmates of positive)\n",
      "\t4 will isolate due to positive contact (0 as groupmates of contact)\n",
      "\t23 entered isolation\n",
      "[INTERVENTIONS @ t = 29.00 (783 (16.75%) infected)]\n",
      "\t4\ttested due to symptoms  [+ 2 positive (50.00 %) +]\n",
      "\t0\ttested as traces        [+ 0 positive (0.00 %) +]\n",
      "\t0\ttested randomly         [+ 0 positive (0.00 %) +]\n",
      "\t4\ttested TOTAL            [+ 2 positive (50.00 %) +]\n",
      "\t15 will isolate due to symptoms         (0 as groupmates of symptomatic)\n",
      "\t2 will isolate due to positive test    (1 as groupmates of positive)\n",
      "\t2 will isolate due to positive contact (0 as groupmates of contact)\n",
      "\t20 entered isolation\n",
      "[INTERVENTIONS @ t = 30.00 (847 (18.12%) infected)]\n",
      "\t4\ttested due to symptoms  [+ 4 positive (100.00 %) +]\n",
      "\t0\ttested as traces        [+ 0 positive (0.00 %) +]\n",
      "\t0\ttested randomly         [+ 0 positive (0.00 %) +]\n",
      "\t4\ttested TOTAL            [+ 4 positive (100.00 %) +]\n",
      "\t20 will isolate due to symptoms         (0 as groupmates of symptomatic)\n",
      "\t4 will isolate due to positive test    (6 as groupmates of positive)\n",
      "\t3 will isolate due to positive contact (0 as groupmates of contact)\n",
      "\t22 entered isolation\n",
      "[INTERVENTIONS @ t = 31.00 (916 (19.59%) infected)]\n",
      "\t4\ttested due to symptoms  [+ 3 positive (75.00 %) +]\n",
      "\t0\ttested as traces        [+ 0 positive (0.00 %) +]\n",
      "\t0\ttested randomly         [+ 0 positive (0.00 %) +]\n",
      "\t4\ttested TOTAL            [+ 3 positive (75.00 %) +]\n",
      "\t21 will isolate due to symptoms         (0 as groupmates of symptomatic)\n",
      "\t3 will isolate due to positive test    (4 as groupmates of positive)\n",
      "\t0 will isolate due to positive contact (0 as groupmates of contact)\n",
      "\t23 entered isolation\n",
      "[INTERVENTIONS @ t = 32.00 (970 (20.75%) infected)]\n",
      "\t4\ttested due to symptoms  [+ 3 positive (75.00 %) +]\n",
      "\t0\ttested as traces        [+ 0 positive (0.00 %) +]\n",
      "\t0\ttested randomly         [+ 0 positive (0.00 %) +]\n",
      "\t4\ttested TOTAL            [+ 3 positive (75.00 %) +]\n",
      "\t24 will isolate due to symptoms         (0 as groupmates of symptomatic)\n",
      "\t3 will isolate due to positive test    (5 as groupmates of positive)\n",
      "\t2 will isolate due to positive contact (0 as groupmates of contact)\n",
      "\t32 entered isolation\n",
      "[INTERVENTIONS @ t = 33.00 (1022 (21.86%) infected)]\n",
      "\t4\ttested due to symptoms  [+ 4 positive (100.00 %) +]\n",
      "\t0\ttested as traces        [+ 0 positive (0.00 %) +]\n",
      "\t0\ttested randomly         [+ 0 positive (0.00 %) +]\n",
      "\t4\ttested TOTAL            [+ 4 positive (100.00 %) +]\n",
      "\t29 will isolate due to symptoms         (0 as groupmates of symptomatic)\n",
      "\t4 will isolate due to positive test    (5 as groupmates of positive)\n",
      "\t2 will isolate due to positive contact (0 as groupmates of contact)\n",
      "\t33 entered isolation\n",
      "[INTERVENTIONS @ t = 34.00 (1053 (22.52%) infected)]\n",
      "\t4\ttested due to symptoms  [+ 2 positive (50.00 %) +]\n",
      "\t0\ttested as traces        [+ 0 positive (0.00 %) +]\n",
      "\t0\ttested randomly         [+ 0 positive (0.00 %) +]\n",
      "\t4\ttested TOTAL            [+ 2 positive (50.00 %) +]\n",
      "\t22 will isolate due to symptoms         (0 as groupmates of symptomatic)\n",
      "\t2 will isolate due to positive test    (3 as groupmates of positive)\n",
      "\t1 will isolate due to positive contact (0 as groupmates of contact)\n",
      "\t37 entered isolation\n",
      "[INTERVENTIONS @ t = 35.00 (1080 (23.10%) infected)]\n",
      "\t4\ttested due to symptoms  [+ 4 positive (100.00 %) +]\n",
      "\t0\ttested as traces        [+ 0 positive (0.00 %) +]\n",
      "\t0\ttested randomly         [+ 0 positive (0.00 %) +]\n",
      "\t4\ttested TOTAL            [+ 4 positive (100.00 %) +]\n",
      "\t20 will isolate due to symptoms         (0 as groupmates of symptomatic)\n",
      "\t4 will isolate due to positive test    (4 as groupmates of positive)\n",
      "\t5 will isolate due to positive contact (0 as groupmates of contact)\n",
      "\t34 entered isolation\n",
      "[INTERVENTIONS @ t = 36.00 (1080 (23.10%) infected)]\n",
      "\t4\ttested due to symptoms  [+ 3 positive (75.00 %) +]\n",
      "\t0\ttested as traces        [+ 0 positive (0.00 %) +]\n",
      "\t0\ttested randomly         [+ 0 positive (0.00 %) +]\n",
      "\t4\ttested TOTAL            [+ 3 positive (75.00 %) +]\n",
      "\t21 will isolate due to symptoms         (0 as groupmates of symptomatic)\n",
      "\t3 will isolate due to positive test    (1 as groupmates of positive)\n",
      "\t2 will isolate due to positive contact (0 as groupmates of contact)\n",
      "\t26 entered isolation\n",
      "[INTERVENTIONS @ t = 37.01 (1107 (23.68%) infected)]\n",
      "\t4\ttested due to symptoms  [+ 3 positive (75.00 %) +]\n",
      "\t0\ttested as traces        [+ 0 positive (0.00 %) +]\n",
      "\t0\ttested randomly         [+ 0 positive (0.00 %) +]\n",
      "\t4\ttested TOTAL            [+ 3 positive (75.00 %) +]\n",
      "\t17 will isolate due to symptoms         (0 as groupmates of symptomatic)\n",
      "\t3 will isolate due to positive test    (3 as groupmates of positive)\n",
      "\t2 will isolate due to positive contact (0 as groupmates of contact)\n",
      "\t30 entered isolation\n",
      "[INTERVENTIONS @ t = 38.00 (1137 (24.32%) infected)]\n",
      "\t4\ttested due to symptoms  [+ 2 positive (50.00 %) +]\n",
      "\t0\ttested as traces        [+ 0 positive (0.00 %) +]\n",
      "\t0\ttested randomly         [+ 0 positive (0.00 %) +]\n",
      "\t4\ttested TOTAL            [+ 2 positive (50.00 %) +]\n",
      "\t10 will isolate due to symptoms         (0 as groupmates of symptomatic)\n",
      "\t2 will isolate due to positive test    (1 as groupmates of positive)\n",
      "\t1 will isolate due to positive contact (0 as groupmates of contact)\n",
      "\t22 entered isolation\n",
      "[INTERVENTIONS @ t = 39.00 (1144 (24.47%) infected)]\n",
      "\t4\ttested due to symptoms  [+ 4 positive (100.00 %) +]\n",
      "\t0\ttested as traces        [+ 0 positive (0.00 %) +]\n",
      "\t0\ttested randomly         [+ 0 positive (0.00 %) +]\n",
      "\t4\ttested TOTAL            [+ 4 positive (100.00 %) +]\n",
      "\t16 will isolate due to symptoms         (0 as groupmates of symptomatic)\n",
      "\t4 will isolate due to positive test    (7 as groupmates of positive)\n",
      "\t0 will isolate due to positive contact (0 as groupmates of contact)\n",
      "\t16 entered isolation\n",
      "[INTERVENTIONS @ t = 40.01 (1154 (24.68%) infected)]\n",
      "\t4\ttested due to symptoms  [+ 3 positive (75.00 %) +]\n",
      "\t0\ttested as traces        [+ 0 positive (0.00 %) +]\n",
      "\t0\ttested randomly         [+ 0 positive (0.00 %) +]\n",
      "\t4\ttested TOTAL            [+ 3 positive (75.00 %) +]\n",
      "\t18 will isolate due to symptoms         (0 as groupmates of symptomatic)\n",
      "\t3 will isolate due to positive test    (7 as groupmates of positive)\n",
      "\t1 will isolate due to positive contact (0 as groupmates of contact)\n",
      "\t20 entered isolation\n",
      "[INTERVENTIONS @ t = 41.00 (1137 (24.32%) infected)]\n",
      "\t4\ttested due to symptoms  [+ 3 positive (75.00 %) +]\n",
      "\t0\ttested as traces        [+ 0 positive (0.00 %) +]\n",
      "\t0\ttested randomly         [+ 0 positive (0.00 %) +]\n",
      "\t4\ttested TOTAL            [+ 3 positive (75.00 %) +]\n",
      "\t18 will isolate due to symptoms         (0 as groupmates of symptomatic)\n",
      "\t3 will isolate due to positive test    (4 as groupmates of positive)\n",
      "\t1 will isolate due to positive contact (0 as groupmates of contact)\n",
      "\t29 entered isolation\n",
      "[INTERVENTIONS @ t = 42.00 (1114 (23.83%) infected)]\n",
      "\t4\ttested due to symptoms  [+ 3 positive (75.00 %) +]\n",
      "\t0\ttested as traces        [+ 0 positive (0.00 %) +]\n",
      "\t0\ttested randomly         [+ 0 positive (0.00 %) +]\n",
      "\t4\ttested TOTAL            [+ 3 positive (75.00 %) +]\n",
      "\t22 will isolate due to symptoms         (0 as groupmates of symptomatic)\n",
      "\t3 will isolate due to positive test    (5 as groupmates of positive)\n",
      "\t4 will isolate due to positive contact (0 as groupmates of contact)\n",
      "\t32 entered isolation\n",
      "[INTERVENTIONS @ t = 43.01 (1099 (23.51%) infected)]\n",
      "\t4\ttested due to symptoms  [+ 2 positive (50.00 %) +]\n",
      "\t0\ttested as traces        [+ 0 positive (0.00 %) +]\n",
      "\t0\ttested randomly         [+ 0 positive (0.00 %) +]\n",
      "\t4\ttested TOTAL            [+ 2 positive (50.00 %) +]\n",
      "\t24 will isolate due to symptoms         (0 as groupmates of symptomatic)\n",
      "\t2 will isolate due to positive test    (2 as groupmates of positive)\n",
      "\t4 will isolate due to positive contact (0 as groupmates of contact)\n",
      "\t32 entered isolation\n",
      "[INTERVENTIONS @ t = 44.00 (1066 (22.80%) infected)]\n",
      "\t4\ttested due to symptoms  [+ 4 positive (100.00 %) +]\n",
      "\t0\ttested as traces        [+ 0 positive (0.00 %) +]\n",
      "\t0\ttested randomly         [+ 0 positive (0.00 %) +]\n",
      "\t4\ttested TOTAL            [+ 4 positive (100.00 %) +]\n",
      "\t24 will isolate due to symptoms         (0 as groupmates of symptomatic)\n",
      "\t4 will isolate due to positive test    (5 as groupmates of positive)\n",
      "\t0 will isolate due to positive contact (0 as groupmates of contact)\n",
      "\t32 entered isolation\n",
      "[INTERVENTIONS @ t = 45.01 (1052 (22.50%) infected)]\n",
      "\t4\ttested due to symptoms  [+ 3 positive (75.00 %) +]\n",
      "\t0\ttested as traces        [+ 0 positive (0.00 %) +]\n",
      "\t0\ttested randomly         [+ 0 positive (0.00 %) +]\n",
      "\t4\ttested TOTAL            [+ 3 positive (75.00 %) +]\n",
      "\t23 will isolate due to symptoms         (0 as groupmates of symptomatic)\n",
      "\t3 will isolate due to positive test    (2 as groupmates of positive)\n",
      "\t2 will isolate due to positive contact (0 as groupmates of contact)\n",
      "\t29 entered isolation\n",
      "[INTERVENTIONS @ t = 46.00 (1003 (21.45%) infected)]\n",
      "\t4\ttested due to symptoms  [+ 2 positive (50.00 %) +]\n",
      "\t0\ttested as traces        [+ 0 positive (0.00 %) +]\n",
      "\t0\ttested randomly         [+ 0 positive (0.00 %) +]\n",
      "\t4\ttested TOTAL            [+ 2 positive (50.00 %) +]\n",
      "\t25 will isolate due to symptoms         (0 as groupmates of symptomatic)\n",
      "\t2 will isolate due to positive test    (1 as groupmates of positive)\n",
      "\t2 will isolate due to positive contact (0 as groupmates of contact)\n",
      "\t33 entered isolation\n",
      "[INTERVENTIONS @ t = 47.00 (964 (20.62%) infected)]\n",
      "\t4\ttested due to symptoms  [+ 4 positive (100.00 %) +]\n",
      "\t0\ttested as traces        [+ 0 positive (0.00 %) +]\n",
      "\t0\ttested randomly         [+ 0 positive (0.00 %) +]\n",
      "\t4\ttested TOTAL            [+ 4 positive (100.00 %) +]\n",
      "\t29 will isolate due to symptoms         (0 as groupmates of symptomatic)\n",
      "\t4 will isolate due to positive test    (3 as groupmates of positive)\n",
      "\t5 will isolate due to positive contact (0 as groupmates of contact)\n",
      "\t35 entered isolation\n",
      "[INTERVENTIONS @ t = 48.00 (928 (19.85%) infected)]\n",
      "\t4\ttested due to symptoms  [+ 2 positive (50.00 %) +]\n",
      "\t0\ttested as traces        [+ 0 positive (0.00 %) +]\n",
      "\t0\ttested randomly         [+ 0 positive (0.00 %) +]\n",
      "\t4\ttested TOTAL            [+ 2 positive (50.00 %) +]\n",
      "\t16 will isolate due to symptoms         (0 as groupmates of symptomatic)\n",
      "\t2 will isolate due to positive test    (2 as groupmates of positive)\n",
      "\t0 will isolate due to positive contact (0 as groupmates of contact)\n",
      "\t31 entered isolation\n",
      "[INTERVENTIONS @ t = 49.00 (857 (18.33%) infected)]\n",
      "\t4\ttested due to symptoms  [+ 3 positive (75.00 %) +]\n",
      "\t0\ttested as traces        [+ 0 positive (0.00 %) +]\n",
      "\t0\ttested randomly         [+ 0 positive (0.00 %) +]\n",
      "\t4\ttested TOTAL            [+ 3 positive (75.00 %) +]\n",
      "\t10 will isolate due to symptoms         (0 as groupmates of symptomatic)\n",
      "\t3 will isolate due to positive test    (1 as groupmates of positive)\n",
      "\t5 will isolate due to positive contact (0 as groupmates of contact)\n",
      "\t28 entered isolation\n",
      "[INTERVENTIONS @ t = 50.00 (801 (17.13%) infected)]\n",
      "\t4\ttested due to symptoms  [+ 4 positive (100.00 %) +]\n",
      "\t0\ttested as traces        [+ 0 positive (0.00 %) +]\n",
      "\t0\ttested randomly         [+ 0 positive (0.00 %) +]\n",
      "\t4\ttested TOTAL            [+ 4 positive (100.00 %) +]\n",
      "\t9 will isolate due to symptoms         (0 as groupmates of symptomatic)\n",
      "\t4 will isolate due to positive test    (2 as groupmates of positive)\n",
      "\t1 will isolate due to positive contact (0 as groupmates of contact)\n",
      "\t15 entered isolation\n",
      "[INTERVENTIONS @ t = 51.00 (759 (16.24%) infected)]\n",
      "\t4\ttested due to symptoms  [+ 4 positive (100.00 %) +]\n",
      "\t0\ttested as traces        [+ 0 positive (0.00 %) +]\n",
      "\t0\ttested randomly         [+ 0 positive (0.00 %) +]\n",
      "\t4\ttested TOTAL            [+ 4 positive (100.00 %) +]\n",
      "\t10 will isolate due to symptoms         (0 as groupmates of symptomatic)\n",
      "\t4 will isolate due to positive test    (2 as groupmates of positive)\n",
      "\t1 will isolate due to positive contact (0 as groupmates of contact)\n",
      "\t14 entered isolation\n",
      "[INTERVENTIONS @ t = 52.00 (715 (15.29%) infected)]\n",
      "\t4\ttested due to symptoms  [+ 2 positive (50.00 %) +]\n",
      "\t0\ttested as traces        [+ 0 positive (0.00 %) +]\n",
      "\t0\ttested randomly         [+ 0 positive (0.00 %) +]\n",
      "\t4\ttested TOTAL            [+ 2 positive (50.00 %) +]\n",
      "\t13 will isolate due to symptoms         (0 as groupmates of symptomatic)\n",
      "\t2 will isolate due to positive test    (1 as groupmates of positive)\n",
      "\t1 will isolate due to positive contact (0 as groupmates of contact)\n",
      "\t17 entered isolation\n",
      "[INTERVENTIONS @ t = 53.01 (669 (14.31%) infected)]\n",
      "\t4\ttested due to symptoms  [+ 4 positive (100.00 %) +]\n",
      "\t0\ttested as traces        [+ 0 positive (0.00 %) +]\n",
      "\t0\ttested randomly         [+ 0 positive (0.00 %) +]\n",
      "\t4\ttested TOTAL            [+ 4 positive (100.00 %) +]\n",
      "\t14 will isolate due to symptoms         (0 as groupmates of symptomatic)\n",
      "\t4 will isolate due to positive test    (4 as groupmates of positive)\n",
      "\t3 will isolate due to positive contact (0 as groupmates of contact)\n",
      "\t22 entered isolation\n",
      "[INTERVENTIONS @ t = 54.00 (636 (13.60%) infected)]\n",
      "\t4\ttested due to symptoms  [+ 3 positive (75.00 %) +]\n",
      "\t0\ttested as traces        [+ 0 positive (0.00 %) +]\n",
      "\t0\ttested randomly         [+ 0 positive (0.00 %) +]\n",
      "\t4\ttested TOTAL            [+ 3 positive (75.00 %) +]\n",
      "\t11 will isolate due to symptoms         (0 as groupmates of symptomatic)\n",
      "\t3 will isolate due to positive test    (1 as groupmates of positive)\n",
      "\t1 will isolate due to positive contact (0 as groupmates of contact)\n",
      "\t18 entered isolation\n",
      "[INTERVENTIONS @ t = 55.00 (592 (12.66%) infected)]\n",
      "\t4\ttested due to symptoms  [+ 2 positive (50.00 %) +]\n",
      "\t0\ttested as traces        [+ 0 positive (0.00 %) +]\n",
      "\t0\ttested randomly         [+ 0 positive (0.00 %) +]\n",
      "\t4\ttested TOTAL            [+ 2 positive (50.00 %) +]\n",
      "\t7 will isolate due to symptoms         (0 as groupmates of symptomatic)\n",
      "\t2 will isolate due to positive test    (1 as groupmates of positive)\n",
      "\t5 will isolate due to positive contact (0 as groupmates of contact)\n",
      "\t23 entered isolation\n",
      "[INTERVENTIONS @ t = 56.00 (541 (11.57%) infected)]\n",
      "\t4\ttested due to symptoms  [+ 2 positive (50.00 %) +]\n",
      "\t0\ttested as traces        [+ 0 positive (0.00 %) +]\n",
      "\t0\ttested randomly         [+ 0 positive (0.00 %) +]\n",
      "\t4\ttested TOTAL            [+ 2 positive (50.00 %) +]\n",
      "\t8 will isolate due to symptoms         (0 as groupmates of symptomatic)\n",
      "\t2 will isolate due to positive test    (0 as groupmates of positive)\n",
      "\t2 will isolate due to positive contact (0 as groupmates of contact)\n",
      "\t13 entered isolation\n",
      "[INTERVENTIONS @ t = 57.00 (509 (10.89%) infected)]\n",
      "\t4\ttested due to symptoms  [+ 3 positive (75.00 %) +]\n",
      "\t0\ttested as traces        [+ 0 positive (0.00 %) +]\n",
      "\t0\ttested randomly         [+ 0 positive (0.00 %) +]\n",
      "\t4\ttested TOTAL            [+ 3 positive (75.00 %) +]\n",
      "\t11 will isolate due to symptoms         (0 as groupmates of symptomatic)\n",
      "\t3 will isolate due to positive test    (3 as groupmates of positive)\n",
      "\t1 will isolate due to positive contact (0 as groupmates of contact)\n",
      "\t12 entered isolation\n",
      "[INTERVENTIONS @ t = 58.01 (484 (10.35%) infected)]\n",
      "\t4\ttested due to symptoms  [+ 2 positive (50.00 %) +]\n",
      "\t0\ttested as traces        [+ 0 positive (0.00 %) +]\n",
      "\t0\ttested randomly         [+ 0 positive (0.00 %) +]\n",
      "\t4\ttested TOTAL            [+ 2 positive (50.00 %) +]\n",
      "\t8 will isolate due to symptoms         (0 as groupmates of symptomatic)\n",
      "\t2 will isolate due to positive test    (4 as groupmates of positive)\n",
      "\t0 will isolate due to positive contact (0 as groupmates of contact)\n",
      "\t13 entered isolation\n",
      "[INTERVENTIONS @ t = 59.00 (448 (9.58%) infected)]\n",
      "\t4\ttested due to symptoms  [+ 4 positive (100.00 %) +]\n",
      "\t0\ttested as traces        [+ 0 positive (0.00 %) +]\n",
      "\t0\ttested randomly         [+ 0 positive (0.00 %) +]\n",
      "\t4\ttested TOTAL            [+ 4 positive (100.00 %) +]\n",
      "\t7 will isolate due to symptoms         (0 as groupmates of symptomatic)\n",
      "\t4 will isolate due to positive test    (3 as groupmates of positive)\n",
      "\t3 will isolate due to positive contact (0 as groupmates of contact)\n",
      "\t17 entered isolation\n",
      "[INTERVENTIONS @ t = 60.03 (414 (8.86%) infected)]\n",
      "\t4\ttested due to symptoms  [+ 3 positive (75.00 %) +]\n",
      "\t0\ttested as traces        [+ 0 positive (0.00 %) +]\n",
      "\t0\ttested randomly         [+ 0 positive (0.00 %) +]\n",
      "\t4\ttested TOTAL            [+ 3 positive (75.00 %) +]\n",
      "\t6 will isolate due to symptoms         (0 as groupmates of symptomatic)\n",
      "\t3 will isolate due to positive test    (5 as groupmates of positive)\n",
      "\t1 will isolate due to positive contact (0 as groupmates of contact)\n",
      "\t12 entered isolation\n",
      "[INTERVENTIONS @ t = 61.01 (397 (8.49%) infected)]\n",
      "\t4\ttested due to symptoms  [+ 2 positive (50.00 %) +]\n",
      "\t0\ttested as traces        [+ 0 positive (0.00 %) +]\n",
      "\t0\ttested randomly         [+ 0 positive (0.00 %) +]\n",
      "\t4\ttested TOTAL            [+ 2 positive (50.00 %) +]\n",
      "\t6 will isolate due to symptoms         (0 as groupmates of symptomatic)\n",
      "\t2 will isolate due to positive test    (5 as groupmates of positive)\n",
      "\t1 will isolate due to positive contact (0 as groupmates of contact)\n",
      "\t14 entered isolation\n",
      "[INTERVENTIONS @ t = 62.02 (386 (8.26%) infected)]\n",
      "\t4\ttested due to symptoms  [+ 4 positive (100.00 %) +]\n",
      "\t0\ttested as traces        [+ 0 positive (0.00 %) +]\n",
      "\t0\ttested randomly         [+ 0 positive (0.00 %) +]\n",
      "\t4\ttested TOTAL            [+ 4 positive (100.00 %) +]\n",
      "\t8 will isolate due to symptoms         (0 as groupmates of symptomatic)\n",
      "\t4 will isolate due to positive test    (8 as groupmates of positive)\n",
      "\t3 will isolate due to positive contact (0 as groupmates of contact)\n",
      "\t16 entered isolation\n",
      "[INTERVENTIONS @ t = 63.02 (348 (7.44%) infected)]\n",
      "\t4\ttested due to symptoms  [+ 2 positive (50.00 %) +]\n",
      "\t0\ttested as traces        [+ 0 positive (0.00 %) +]\n",
      "\t0\ttested randomly         [+ 0 positive (0.00 %) +]\n",
      "\t4\ttested TOTAL            [+ 2 positive (50.00 %) +]\n",
      "\t8 will isolate due to symptoms         (0 as groupmates of symptomatic)\n",
      "\t2 will isolate due to positive test    (4 as groupmates of positive)\n",
      "\t1 will isolate due to positive contact (0 as groupmates of contact)\n",
      "\t16 entered isolation\n",
      "[INTERVENTIONS @ t = 64.02 (331 (7.08%) infected)]\n",
      "\t4\ttested due to symptoms  [+ 4 positive (100.00 %) +]\n",
      "\t0\ttested as traces        [+ 0 positive (0.00 %) +]\n",
      "\t0\ttested randomly         [+ 0 positive (0.00 %) +]\n",
      "\t4\ttested TOTAL            [+ 4 positive (100.00 %) +]\n",
      "\t8 will isolate due to symptoms         (0 as groupmates of symptomatic)\n",
      "\t4 will isolate due to positive test    (2 as groupmates of positive)\n",
      "\t3 will isolate due to positive contact (0 as groupmates of contact)\n",
      "\t23 entered isolation\n",
      "[INTERVENTIONS @ t = 65.02 (316 (6.76%) infected)]\n",
      "\t4\ttested due to symptoms  [+ 2 positive (50.00 %) +]\n",
      "\t0\ttested as traces        [+ 0 positive (0.00 %) +]\n",
      "\t0\ttested randomly         [+ 0 positive (0.00 %) +]\n",
      "\t4\ttested TOTAL            [+ 2 positive (50.00 %) +]\n",
      "\t9 will isolate due to symptoms         (0 as groupmates of symptomatic)\n",
      "\t2 will isolate due to positive test    (1 as groupmates of positive)\n",
      "\t1 will isolate due to positive contact (0 as groupmates of contact)\n",
      "\t15 entered isolation\n",
      "[INTERVENTIONS @ t = 66.00 (300 (6.42%) infected)]\n",
      "\t4\ttested due to symptoms  [+ 4 positive (100.00 %) +]\n",
      "\t0\ttested as traces        [+ 0 positive (0.00 %) +]\n",
      "\t0\ttested randomly         [+ 0 positive (0.00 %) +]\n",
      "\t4\ttested TOTAL            [+ 4 positive (100.00 %) +]\n",
      "\t9 will isolate due to symptoms         (0 as groupmates of symptomatic)\n",
      "\t4 will isolate due to positive test    (6 as groupmates of positive)\n",
      "\t1 will isolate due to positive contact (0 as groupmates of contact)\n",
      "\t16 entered isolation\n",
      "[INTERVENTIONS @ t = 67.00 (281 (6.01%) infected)]\n",
      "\t4\ttested due to symptoms  [+ 3 positive (75.00 %) +]\n",
      "\t0\ttested as traces        [+ 0 positive (0.00 %) +]\n",
      "\t0\ttested randomly         [+ 0 positive (0.00 %) +]\n",
      "\t4\ttested TOTAL            [+ 3 positive (75.00 %) +]\n",
      "\t5 will isolate due to symptoms         (0 as groupmates of symptomatic)\n",
      "\t3 will isolate due to positive test    (3 as groupmates of positive)\n",
      "\t1 will isolate due to positive contact (0 as groupmates of contact)\n",
      "\t11 entered isolation\n",
      "[INTERVENTIONS @ t = 68.00 (265 (5.67%) infected)]\n",
      "\t4\ttested due to symptoms  [+ 4 positive (100.00 %) +]\n",
      "\t0\ttested as traces        [+ 0 positive (0.00 %) +]\n",
      "\t0\ttested randomly         [+ 0 positive (0.00 %) +]\n",
      "\t4\ttested TOTAL            [+ 4 positive (100.00 %) +]\n",
      "\t2 will isolate due to symptoms         (0 as groupmates of symptomatic)\n",
      "\t4 will isolate due to positive test    (4 as groupmates of positive)\n",
      "\t1 will isolate due to positive contact (0 as groupmates of contact)\n",
      "\t15 entered isolation\n",
      "[INTERVENTIONS @ t = 69.00 (243 (5.20%) infected)]\n",
      "\t4\ttested due to symptoms  [+ 4 positive (100.00 %) +]\n",
      "\t0\ttested as traces        [+ 0 positive (0.00 %) +]\n",
      "\t0\ttested randomly         [+ 0 positive (0.00 %) +]\n",
      "\t4\ttested TOTAL            [+ 4 positive (100.00 %) +]\n",
      "\t3 will isolate due to symptoms         (0 as groupmates of symptomatic)\n",
      "\t4 will isolate due to positive test    (3 as groupmates of positive)\n",
      "\t2 will isolate due to positive contact (0 as groupmates of contact)\n",
      "\t10 entered isolation\n",
      "[INTERVENTIONS @ t = 70.00 (229 (4.90%) infected)]\n",
      "\t4\ttested due to symptoms  [+ 4 positive (100.00 %) +]\n",
      "\t0\ttested as traces        [+ 0 positive (0.00 %) +]\n",
      "\t0\ttested randomly         [+ 0 positive (0.00 %) +]\n",
      "\t4\ttested TOTAL            [+ 4 positive (100.00 %) +]\n",
      "\t4 will isolate due to symptoms         (0 as groupmates of symptomatic)\n",
      "\t4 will isolate due to positive test    (3 as groupmates of positive)\n",
      "\t4 will isolate due to positive contact (0 as groupmates of contact)\n",
      "\t14 entered isolation\n",
      "[INTERVENTIONS @ t = 71.01 (218 (4.66%) infected)]\n",
      "\t3\ttested due to symptoms  [+ 3 positive (100.00 %) +]\n",
      "\t1\ttested as traces        [+ 0 positive (0.00 %) +]\n",
      "\t0\ttested randomly         [+ 0 positive (0.00 %) +]\n",
      "\t4\ttested TOTAL            [+ 3 positive (75.00 %) +]\n",
      "\t2 will isolate due to symptoms         (0 as groupmates of symptomatic)\n",
      "\t3 will isolate due to positive test    (2 as groupmates of positive)\n",
      "\t3 will isolate due to positive contact (0 as groupmates of contact)\n",
      "\t14 entered isolation\n",
      "[INTERVENTIONS @ t = 72.01 (213 (4.56%) infected)]\n",
      "\t1\ttested due to symptoms  [+ 1 positive (100.00 %) +]\n",
      "\t0\ttested as traces        [+ 0 positive (0.00 %) +]\n",
      "\t3\ttested randomly         [+ 1 positive (33.33 %) +]\n",
      "\t4\ttested TOTAL            [+ 2 positive (50.00 %) +]\n",
      "\t2 will isolate due to symptoms         (0 as groupmates of symptomatic)\n",
      "\t2 will isolate due to positive test    (3 as groupmates of positive)\n",
      "\t4 will isolate due to positive contact (0 as groupmates of contact)\n",
      "\t11 entered isolation\n",
      "[INTERVENTIONS @ t = 73.03 (191 (4.09%) infected)]\n",
      "\t0\ttested due to symptoms  [+ 0 positive (0.00 %) +]\n",
      "\t1\ttested as traces        [+ 0 positive (0.00 %) +]\n",
      "\t3\ttested randomly         [+ 0 positive (0.00 %) +]\n",
      "\t4\ttested TOTAL            [+ 0 positive (0.00 %) +]\n",
      "\t6 will isolate due to symptoms         (0 as groupmates of symptomatic)\n",
      "\t0 will isolate due to positive test    (0 as groupmates of positive)\n",
      "\t3 will isolate due to positive contact (0 as groupmates of contact)\n",
      "\t9 entered isolation\n",
      "[INTERVENTIONS @ t = 74.01 (172 (3.68%) infected)]\n",
      "\t2\ttested due to symptoms  [+ 2 positive (100.00 %) +]\n",
      "\t0\ttested as traces        [+ 0 positive (0.00 %) +]\n",
      "\t2\ttested randomly         [+ 0 positive (0.00 %) +]\n",
      "\t4\ttested TOTAL            [+ 2 positive (50.00 %) +]\n",
      "\t5 will isolate due to symptoms         (0 as groupmates of symptomatic)\n",
      "\t2 will isolate due to positive test    (3 as groupmates of positive)\n",
      "\t0 will isolate due to positive contact (0 as groupmates of contact)\n",
      "\t11 entered isolation\n",
      "[INTERVENTIONS @ t = 75.00 (161 (3.44%) infected)]\n",
      "\t4\ttested due to symptoms  [+ 4 positive (100.00 %) +]\n",
      "\t0\ttested as traces        [+ 0 positive (0.00 %) +]\n",
      "\t0\ttested randomly         [+ 0 positive (0.00 %) +]\n",
      "\t4\ttested TOTAL            [+ 4 positive (100.00 %) +]\n",
      "\t2 will isolate due to symptoms         (0 as groupmates of symptomatic)\n",
      "\t4 will isolate due to positive test    (1 as groupmates of positive)\n",
      "\t0 will isolate due to positive contact (0 as groupmates of contact)\n",
      "\t5 entered isolation\n",
      "[INTERVENTIONS @ t = 76.01 (149 (3.19%) infected)]\n",
      "\t0\ttested due to symptoms  [+ 0 positive (0.00 %) +]\n",
      "\t1\ttested as traces        [+ 0 positive (0.00 %) +]\n",
      "\t3\ttested randomly         [+ 0 positive (0.00 %) +]\n",
      "\t4\ttested TOTAL            [+ 0 positive (0.00 %) +]\n",
      "\t2 will isolate due to symptoms         (0 as groupmates of symptomatic)\n",
      "\t0 will isolate due to positive test    (0 as groupmates of positive)\n",
      "\t2 will isolate due to positive contact (0 as groupmates of contact)\n",
      "\t7 entered isolation\n",
      "[INTERVENTIONS @ t = 77.03 (144 (3.08%) infected)]\n",
      "\t2\ttested due to symptoms  [+ 1 positive (50.00 %) +]\n",
      "\t1\ttested as traces        [+ 0 positive (0.00 %) +]\n",
      "\t1\ttested randomly         [+ 0 positive (0.00 %) +]\n",
      "\t4\ttested TOTAL            [+ 1 positive (25.00 %) +]\n",
      "\t0 will isolate due to symptoms         (0 as groupmates of symptomatic)\n",
      "\t1 will isolate due to positive test    (1 as groupmates of positive)\n",
      "\t2 will isolate due to positive contact (0 as groupmates of contact)\n",
      "\t8 entered isolation\n",
      "[INTERVENTIONS @ t = 78.01 (137 (2.93%) infected)]\n",
      "\t2\ttested due to symptoms  [+ 2 positive (100.00 %) +]\n",
      "\t0\ttested as traces        [+ 0 positive (0.00 %) +]\n",
      "\t2\ttested randomly         [+ 0 positive (0.00 %) +]\n",
      "\t4\ttested TOTAL            [+ 2 positive (50.00 %) +]\n",
      "\t1 will isolate due to symptoms         (0 as groupmates of symptomatic)\n",
      "\t2 will isolate due to positive test    (2 as groupmates of positive)\n",
      "\t0 will isolate due to positive contact (0 as groupmates of contact)\n",
      "\t0 entered isolation\n",
      "[INTERVENTIONS @ t = 79.01 (131 (2.80%) infected)]\n",
      "\t4\ttested due to symptoms  [+ 4 positive (100.00 %) +]\n",
      "\t0\ttested as traces        [+ 0 positive (0.00 %) +]\n",
      "\t0\ttested randomly         [+ 0 positive (0.00 %) +]\n",
      "\t4\ttested TOTAL            [+ 4 positive (100.00 %) +]\n",
      "\t3 will isolate due to symptoms         (0 as groupmates of symptomatic)\n",
      "\t4 will isolate due to positive test    (4 as groupmates of positive)\n",
      "\t0 will isolate due to positive contact (0 as groupmates of contact)\n",
      "\t2 entered isolation\n",
      "[INTERVENTIONS @ t = 80.07 (119 (2.55%) infected)]\n",
      "\t3\ttested due to symptoms  [+ 3 positive (100.00 %) +]\n",
      "\t0\ttested as traces        [+ 0 positive (0.00 %) +]\n",
      "\t1\ttested randomly         [+ 0 positive (0.00 %) +]\n",
      "\t4\ttested TOTAL            [+ 3 positive (75.00 %) +]\n",
      "\t4 will isolate due to symptoms         (0 as groupmates of symptomatic)\n",
      "\t3 will isolate due to positive test    (6 as groupmates of positive)\n",
      "\t0 will isolate due to positive contact (0 as groupmates of contact)\n",
      "\t7 entered isolation\n",
      "[INTERVENTIONS @ t = 81.04 (107 (2.29%) infected)]\n",
      "\t1\ttested due to symptoms  [+ 1 positive (100.00 %) +]\n",
      "\t0\ttested as traces        [+ 0 positive (0.00 %) +]\n",
      "\t3\ttested randomly         [+ 0 positive (0.00 %) +]\n",
      "\t4\ttested TOTAL            [+ 1 positive (25.00 %) +]\n",
      "\t3 will isolate due to symptoms         (0 as groupmates of symptomatic)\n",
      "\t1 will isolate due to positive test    (0 as groupmates of positive)\n",
      "\t3 will isolate due to positive contact (0 as groupmates of contact)\n",
      "\t15 entered isolation\n",
      "[INTERVENTIONS @ t = 82.02 (99 (2.12%) infected)]\n",
      "\t1\ttested due to symptoms  [+ 1 positive (100.00 %) +]\n",
      "\t0\ttested as traces        [+ 0 positive (0.00 %) +]\n",
      "\t3\ttested randomly         [+ 0 positive (0.00 %) +]\n",
      "\t4\ttested TOTAL            [+ 1 positive (25.00 %) +]\n",
      "\t1 will isolate due to symptoms         (0 as groupmates of symptomatic)\n",
      "\t1 will isolate due to positive test    (0 as groupmates of positive)\n",
      "\t4 will isolate due to positive contact (0 as groupmates of contact)\n",
      "\t16 entered isolation\n",
      "[INTERVENTIONS @ t = 83.01 (91 (1.95%) infected)]\n",
      "\t3\ttested due to symptoms  [+ 3 positive (100.00 %) +]\n",
      "\t0\ttested as traces        [+ 0 positive (0.00 %) +]\n",
      "\t1\ttested randomly         [+ 0 positive (0.00 %) +]\n",
      "\t4\ttested TOTAL            [+ 3 positive (75.00 %) +]\n",
      "\t2 will isolate due to symptoms         (0 as groupmates of symptomatic)\n",
      "\t3 will isolate due to positive test    (2 as groupmates of positive)\n",
      "\t0 will isolate due to positive contact (0 as groupmates of contact)\n",
      "\t2 entered isolation\n",
      "[INTERVENTIONS @ t = 84.05 (80 (1.71%) infected)]\n",
      "\t0\ttested due to symptoms  [+ 0 positive (0.00 %) +]\n",
      "\t0\ttested as traces        [+ 0 positive (0.00 %) +]\n",
      "\t4\ttested randomly         [+ 0 positive (0.00 %) +]\n",
      "\t4\ttested TOTAL            [+ 0 positive (0.00 %) +]\n",
      "\t2 will isolate due to symptoms         (0 as groupmates of symptomatic)\n",
      "\t0 will isolate due to positive test    (0 as groupmates of positive)\n",
      "\t0 will isolate due to positive contact (0 as groupmates of contact)\n",
      "\t2 entered isolation\n",
      "[INTERVENTIONS @ t = 85.10 (70 (1.50%) infected)]\n",
      "\t2\ttested due to symptoms  [+ 2 positive (100.00 %) +]\n",
      "\t0\ttested as traces        [+ 0 positive (0.00 %) +]\n",
      "\t2\ttested randomly         [+ 0 positive (0.00 %) +]\n",
      "\t4\ttested TOTAL            [+ 2 positive (50.00 %) +]\n",
      "\t0 will isolate due to symptoms         (0 as groupmates of symptomatic)\n",
      "\t2 will isolate due to positive test    (0 as groupmates of positive)\n",
      "\t1 will isolate due to positive contact (0 as groupmates of contact)\n",
      "\t7 entered isolation\n",
      "[INTERVENTIONS @ t = 86.04 (67 (1.43%) infected)]\n",
      "\t0\ttested due to symptoms  [+ 0 positive (0.00 %) +]\n",
      "\t0\ttested as traces        [+ 0 positive (0.00 %) +]\n",
      "\t4\ttested randomly         [+ 0 positive (0.00 %) +]\n",
      "\t4\ttested TOTAL            [+ 0 positive (0.00 %) +]\n",
      "\t0 will isolate due to symptoms         (0 as groupmates of symptomatic)\n",
      "\t0 will isolate due to positive test    (0 as groupmates of positive)\n",
      "\t0 will isolate due to positive contact (0 as groupmates of contact)\n",
      "\t0 entered isolation\n",
      "[INTERVENTIONS @ t = 87.12 (62 (1.33%) infected)]\n",
      "\t2\ttested due to symptoms  [+ 2 positive (100.00 %) +]\n",
      "\t0\ttested as traces        [+ 0 positive (0.00 %) +]\n",
      "\t2\ttested randomly         [+ 0 positive (0.00 %) +]\n",
      "\t4\ttested TOTAL            [+ 2 positive (50.00 %) +]\n",
      "\t1 will isolate due to symptoms         (0 as groupmates of symptomatic)\n",
      "\t2 will isolate due to positive test    (1 as groupmates of positive)\n",
      "\t3 will isolate due to positive contact (0 as groupmates of contact)\n",
      "\t4 entered isolation\n",
      "[INTERVENTIONS @ t = 88.08 (62 (1.33%) infected)]\n",
      "\t1\ttested due to symptoms  [+ 0 positive (0.00 %) +]\n",
      "\t0\ttested as traces        [+ 0 positive (0.00 %) +]\n",
      "\t3\ttested randomly         [+ 0 positive (0.00 %) +]\n",
      "\t4\ttested TOTAL            [+ 0 positive (0.00 %) +]\n",
      "\t2 will isolate due to symptoms         (0 as groupmates of symptomatic)\n",
      "\t0 will isolate due to positive test    (0 as groupmates of positive)\n",
      "\t0 will isolate due to positive contact (0 as groupmates of contact)\n",
      "\t1 entered isolation\n",
      "[INTERVENTIONS @ t = 89.04 (56 (1.20%) infected)]\n",
      "\t1\ttested due to symptoms  [+ 0 positive (0.00 %) +]\n",
      "\t1\ttested as traces        [+ 0 positive (0.00 %) +]\n",
      "\t2\ttested randomly         [+ 0 positive (0.00 %) +]\n",
      "\t4\ttested TOTAL            [+ 0 positive (0.00 %) +]\n",
      "\t1 will isolate due to symptoms         (0 as groupmates of symptomatic)\n",
      "\t0 will isolate due to positive test    (0 as groupmates of positive)\n",
      "\t0 will isolate due to positive contact (0 as groupmates of contact)\n",
      "\t5 entered isolation\n",
      "[INTERVENTIONS @ t = 90.01 (53 (1.13%) infected)]\n",
      "\t2\ttested due to symptoms  [+ 2 positive (100.00 %) +]\n",
      "\t0\ttested as traces        [+ 0 positive (0.00 %) +]\n",
      "\t2\ttested randomly         [+ 0 positive (0.00 %) +]\n",
      "\t4\ttested TOTAL            [+ 2 positive (50.00 %) +]\n",
      "\t1 will isolate due to symptoms         (0 as groupmates of symptomatic)\n",
      "\t2 will isolate due to positive test    (5 as groupmates of positive)\n",
      "\t0 will isolate due to positive contact (0 as groupmates of contact)\n",
      "\t1 entered isolation\n",
      "[INTERVENTIONS @ t = 91.02 (50 (1.07%) infected)]\n",
      "\t0\ttested due to symptoms  [+ 0 positive (0.00 %) +]\n",
      "\t0\ttested as traces        [+ 0 positive (0.00 %) +]\n",
      "\t4\ttested randomly         [+ 0 positive (0.00 %) +]\n",
      "\t4\ttested TOTAL            [+ 0 positive (0.00 %) +]\n",
      "\t1 will isolate due to symptoms         (0 as groupmates of symptomatic)\n",
      "\t0 will isolate due to positive test    (0 as groupmates of positive)\n",
      "\t0 will isolate due to positive contact (0 as groupmates of contact)\n",
      "\t1 entered isolation\n",
      "[INTERVENTIONS @ t = 92.01 (44 (0.94%) infected)]\n",
      "\t0\ttested due to symptoms  [+ 0 positive (0.00 %) +]\n",
      "\t0\ttested as traces        [+ 0 positive (0.00 %) +]\n",
      "\t4\ttested randomly         [+ 0 positive (0.00 %) +]\n",
      "\t4\ttested TOTAL            [+ 0 positive (0.00 %) +]\n",
      "\t0 will isolate due to symptoms         (0 as groupmates of symptomatic)\n",
      "\t0 will isolate due to positive test    (0 as groupmates of positive)\n",
      "\t2 will isolate due to positive contact (0 as groupmates of contact)\n",
      "\t10 entered isolation\n",
      "[INTERVENTIONS @ t = 93.22 (42 (0.90%) infected)]\n",
      "\t0\ttested due to symptoms  [+ 0 positive (0.00 %) +]\n",
      "\t0\ttested as traces        [+ 0 positive (0.00 %) +]\n",
      "\t4\ttested randomly         [+ 0 positive (0.00 %) +]\n",
      "\t4\ttested TOTAL            [+ 0 positive (0.00 %) +]\n",
      "\t0 will isolate due to symptoms         (0 as groupmates of symptomatic)\n",
      "\t0 will isolate due to positive test    (0 as groupmates of positive)\n",
      "\t0 will isolate due to positive contact (0 as groupmates of contact)\n",
      "\t0 entered isolation\n",
      "[INTERVENTIONS @ t = 94.09 (39 (0.83%) infected)]\n",
      "\t1\ttested due to symptoms  [+ 1 positive (100.00 %) +]\n",
      "\t0\ttested as traces        [+ 0 positive (0.00 %) +]\n",
      "\t3\ttested randomly         [+ 1 positive (33.33 %) +]\n",
      "\t4\ttested TOTAL            [+ 2 positive (50.00 %) +]\n",
      "\t0 will isolate due to symptoms         (0 as groupmates of symptomatic)\n",
      "\t2 will isolate due to positive test    (1 as groupmates of positive)\n",
      "\t0 will isolate due to positive contact (0 as groupmates of contact)\n",
      "\t0 entered isolation\n",
      "[INTERVENTIONS @ t = 95.00 (33 (0.71%) infected)]\n",
      "\t0\ttested due to symptoms  [+ 0 positive (0.00 %) +]\n",
      "\t0\ttested as traces        [+ 0 positive (0.00 %) +]\n",
      "\t4\ttested randomly         [+ 0 positive (0.00 %) +]\n",
      "\t4\ttested TOTAL            [+ 0 positive (0.00 %) +]\n",
      "\t0 will isolate due to symptoms         (0 as groupmates of symptomatic)\n",
      "\t0 will isolate due to positive test    (0 as groupmates of positive)\n",
      "\t0 will isolate due to positive contact (0 as groupmates of contact)\n",
      "\t0 entered isolation\n",
      "[INTERVENTIONS @ t = 96.23 (34 (0.73%) infected)]\n",
      "\t1\ttested due to symptoms  [+ 1 positive (100.00 %) +]\n",
      "\t1\ttested as traces        [+ 0 positive (0.00 %) +]\n",
      "\t2\ttested randomly         [+ 0 positive (0.00 %) +]\n",
      "\t4\ttested TOTAL            [+ 1 positive (25.00 %) +]\n",
      "\t0 will isolate due to symptoms         (0 as groupmates of symptomatic)\n",
      "\t1 will isolate due to positive test    (1 as groupmates of positive)\n",
      "\t0 will isolate due to positive contact (0 as groupmates of contact)\n",
      "\t3 entered isolation\n",
      "[INTERVENTIONS @ t = 97.12 (33 (0.71%) infected)]\n",
      "\t1\ttested due to symptoms  [+ 1 positive (100.00 %) +]\n",
      "\t0\ttested as traces        [+ 0 positive (0.00 %) +]\n",
      "\t3\ttested randomly         [+ 0 positive (0.00 %) +]\n",
      "\t4\ttested TOTAL            [+ 1 positive (25.00 %) +]\n",
      "\t0 will isolate due to symptoms         (0 as groupmates of symptomatic)\n",
      "\t1 will isolate due to positive test    (1 as groupmates of positive)\n",
      "\t0 will isolate due to positive contact (0 as groupmates of contact)\n",
      "\t0 entered isolation\n",
      "[INTERVENTIONS @ t = 98.43 (32 (0.68%) infected)]\n",
      "\t1\ttested due to symptoms  [+ 1 positive (100.00 %) +]\n",
      "\t0\ttested as traces        [+ 0 positive (0.00 %) +]\n",
      "\t3\ttested randomly         [+ 0 positive (0.00 %) +]\n",
      "\t4\ttested TOTAL            [+ 1 positive (25.00 %) +]\n",
      "\t0 will isolate due to symptoms         (0 as groupmates of symptomatic)\n",
      "\t1 will isolate due to positive test    (0 as groupmates of positive)\n",
      "\t1 will isolate due to positive contact (0 as groupmates of contact)\n",
      "\t3 entered isolation\n",
      "[INTERVENTIONS @ t = 99.01 (31 (0.66%) infected)]\n",
      "\t1\ttested due to symptoms  [+ 1 positive (100.00 %) +]\n",
      "\t0\ttested as traces        [+ 0 positive (0.00 %) +]\n",
      "\t3\ttested randomly         [+ 0 positive (0.00 %) +]\n",
      "\t4\ttested TOTAL            [+ 1 positive (25.00 %) +]\n",
      "\t0 will isolate due to symptoms         (0 as groupmates of symptomatic)\n",
      "\t1 will isolate due to positive test    (4 as groupmates of positive)\n",
      "\t0 will isolate due to positive contact (0 as groupmates of contact)\n",
      "\t2 entered isolation\n",
      "[INTERVENTIONS @ t = 100.21 (31 (0.66%) infected)]\n",
      "\t0\ttested due to symptoms  [+ 0 positive (0.00 %) +]\n",
      "\t0\ttested as traces        [+ 0 positive (0.00 %) +]\n",
      "\t4\ttested randomly         [+ 0 positive (0.00 %) +]\n",
      "\t4\ttested TOTAL            [+ 0 positive (0.00 %) +]\n",
      "\t0 will isolate due to symptoms         (0 as groupmates of symptomatic)\n",
      "\t0 will isolate due to positive test    (0 as groupmates of positive)\n",
      "\t0 will isolate due to positive contact (0 as groupmates of contact)\n",
      "\t1 entered isolation\n",
      "[INTERVENTIONS @ t = 101.21 (26 (0.56%) infected)]\n",
      "\t0\ttested due to symptoms  [+ 0 positive (0.00 %) +]\n",
      "\t0\ttested as traces        [+ 0 positive (0.00 %) +]\n",
      "\t4\ttested randomly         [+ 0 positive (0.00 %) +]\n",
      "\t4\ttested TOTAL            [+ 0 positive (0.00 %) +]\n",
      "\t0 will isolate due to symptoms         (0 as groupmates of symptomatic)\n",
      "\t0 will isolate due to positive test    (0 as groupmates of positive)\n",
      "\t1 will isolate due to positive contact (0 as groupmates of contact)\n",
      "\t6 entered isolation\n",
      "[INTERVENTIONS @ t = 102.08 (24 (0.51%) infected)]\n",
      "\t0\ttested due to symptoms  [+ 0 positive (0.00 %) +]\n",
      "\t0\ttested as traces        [+ 0 positive (0.00 %) +]\n",
      "\t4\ttested randomly         [+ 0 positive (0.00 %) +]\n",
      "\t4\ttested TOTAL            [+ 0 positive (0.00 %) +]\n",
      "\t0 will isolate due to symptoms         (0 as groupmates of symptomatic)\n",
      "\t0 will isolate due to positive test    (0 as groupmates of positive)\n",
      "\t0 will isolate due to positive contact (0 as groupmates of contact)\n",
      "\t0 entered isolation\n",
      "[INTERVENTIONS @ t = 103.22 (22 (0.47%) infected)]\n",
      "\t0\ttested due to symptoms  [+ 0 positive (0.00 %) +]\n",
      "\t0\ttested as traces        [+ 0 positive (0.00 %) +]\n",
      "\t4\ttested randomly         [+ 0 positive (0.00 %) +]\n",
      "\t4\ttested TOTAL            [+ 0 positive (0.00 %) +]\n",
      "\t0 will isolate due to symptoms         (0 as groupmates of symptomatic)\n",
      "\t0 will isolate due to positive test    (0 as groupmates of positive)\n",
      "\t0 will isolate due to positive contact (0 as groupmates of contact)\n",
      "\t0 entered isolation\n",
      "[INTERVENTIONS @ t = 104.04 (22 (0.47%) infected)]\n",
      "\t0\ttested due to symptoms  [+ 0 positive (0.00 %) +]\n",
      "\t0\ttested as traces        [+ 0 positive (0.00 %) +]\n",
      "\t4\ttested randomly         [+ 0 positive (0.00 %) +]\n",
      "\t4\ttested TOTAL            [+ 0 positive (0.00 %) +]\n",
      "\t1 will isolate due to symptoms         (0 as groupmates of symptomatic)\n",
      "\t0 will isolate due to positive test    (0 as groupmates of positive)\n",
      "\t0 will isolate due to positive contact (0 as groupmates of contact)\n",
      "\t0 entered isolation\n",
      "[INTERVENTIONS @ t = 105.38 (20 (0.43%) infected)]\n",
      "\t0\ttested due to symptoms  [+ 0 positive (0.00 %) +]\n",
      "\t0\ttested as traces        [+ 0 positive (0.00 %) +]\n",
      "\t4\ttested randomly         [+ 0 positive (0.00 %) +]\n",
      "\t4\ttested TOTAL            [+ 0 positive (0.00 %) +]\n",
      "\t1 will isolate due to symptoms         (0 as groupmates of symptomatic)\n",
      "\t0 will isolate due to positive test    (0 as groupmates of positive)\n",
      "\t0 will isolate due to positive contact (0 as groupmates of contact)\n",
      "\t1 entered isolation\n",
      "[INTERVENTIONS @ t = 106.08 (20 (0.43%) infected)]\n",
      "\t0\ttested due to symptoms  [+ 0 positive (0.00 %) +]\n",
      "\t0\ttested as traces        [+ 0 positive (0.00 %) +]\n",
      "\t4\ttested randomly         [+ 1 positive (25.00 %) +]\n",
      "\t4\ttested TOTAL            [+ 1 positive (25.00 %) +]\n",
      "\t0 will isolate due to symptoms         (0 as groupmates of symptomatic)\n",
      "\t1 will isolate due to positive test    (0 as groupmates of positive)\n",
      "\t0 will isolate due to positive contact (0 as groupmates of contact)\n",
      "\t1 entered isolation\n",
      "[INTERVENTIONS @ t = 107.37 (17 (0.36%) infected)]\n",
      "\t0\ttested due to symptoms  [+ 0 positive (0.00 %) +]\n",
      "\t0\ttested as traces        [+ 0 positive (0.00 %) +]\n",
      "\t4\ttested randomly         [+ 0 positive (0.00 %) +]\n",
      "\t4\ttested TOTAL            [+ 0 positive (0.00 %) +]\n",
      "\t0 will isolate due to symptoms         (0 as groupmates of symptomatic)\n",
      "\t0 will isolate due to positive test    (0 as groupmates of positive)\n",
      "\t0 will isolate due to positive contact (0 as groupmates of contact)\n",
      "\t0 entered isolation\n",
      "[INTERVENTIONS @ t = 108.47 (15 (0.32%) infected)]\n",
      "\t0\ttested due to symptoms  [+ 0 positive (0.00 %) +]\n",
      "\t0\ttested as traces        [+ 0 positive (0.00 %) +]\n",
      "\t4\ttested randomly         [+ 0 positive (0.00 %) +]\n",
      "\t4\ttested TOTAL            [+ 0 positive (0.00 %) +]\n",
      "\t0 will isolate due to symptoms         (0 as groupmates of symptomatic)\n",
      "\t0 will isolate due to positive test    (0 as groupmates of positive)\n",
      "\t0 will isolate due to positive contact (0 as groupmates of contact)\n",
      "\t1 entered isolation\n",
      "[INTERVENTIONS @ t = 109.11 (13 (0.28%) infected)]\n",
      "\t0\ttested due to symptoms  [+ 0 positive (0.00 %) +]\n",
      "\t0\ttested as traces        [+ 0 positive (0.00 %) +]\n",
      "\t4\ttested randomly         [+ 0 positive (0.00 %) +]\n",
      "\t4\ttested TOTAL            [+ 0 positive (0.00 %) +]\n",
      "\t0 will isolate due to symptoms         (0 as groupmates of symptomatic)\n",
      "\t0 will isolate due to positive test    (0 as groupmates of positive)\n",
      "\t0 will isolate due to positive contact (0 as groupmates of contact)\n",
      "\t0 entered isolation\n",
      "[INTERVENTIONS @ t = 110.84 (11 (0.24%) infected)]\n",
      "\t0\ttested due to symptoms  [+ 0 positive (0.00 %) +]\n",
      "\t0\ttested as traces        [+ 0 positive (0.00 %) +]\n",
      "\t4\ttested randomly         [+ 0 positive (0.00 %) +]\n",
      "\t4\ttested TOTAL            [+ 0 positive (0.00 %) +]\n",
      "\t0 will isolate due to symptoms         (0 as groupmates of symptomatic)\n",
      "\t0 will isolate due to positive test    (0 as groupmates of positive)\n",
      "\t0 will isolate due to positive contact (0 as groupmates of contact)\n",
      "\t0 entered isolation\n",
      "[INTERVENTIONS @ t = 111.29 (10 (0.21%) infected)]\n",
      "\t0\ttested due to symptoms  [+ 0 positive (0.00 %) +]\n",
      "\t0\ttested as traces        [+ 0 positive (0.00 %) +]\n",
      "\t4\ttested randomly         [+ 0 positive (0.00 %) +]\n",
      "\t4\ttested TOTAL            [+ 0 positive (0.00 %) +]\n",
      "\t0 will isolate due to symptoms         (0 as groupmates of symptomatic)\n",
      "\t0 will isolate due to positive test    (0 as groupmates of positive)\n",
      "\t0 will isolate due to positive contact (0 as groupmates of contact)\n",
      "\t0 entered isolation\n",
      "[INTERVENTIONS @ t = 113.79 (10 (0.21%) infected)]\n",
      "\t0\ttested due to symptoms  [+ 0 positive (0.00 %) +]\n",
      "\t0\ttested as traces        [+ 0 positive (0.00 %) +]\n",
      "\t4\ttested randomly         [+ 0 positive (0.00 %) +]\n",
      "\t4\ttested TOTAL            [+ 0 positive (0.00 %) +]\n",
      "\t0 will isolate due to symptoms         (0 as groupmates of symptomatic)\n",
      "\t0 will isolate due to positive test    (0 as groupmates of positive)\n",
      "\t0 will isolate due to positive contact (0 as groupmates of contact)\n",
      "\t0 entered isolation\n",
      "[INTERVENTIONS @ t = 114.22 (9 (0.19%) infected)]\n",
      "\t0\ttested due to symptoms  [+ 0 positive (0.00 %) +]\n",
      "\t0\ttested as traces        [+ 0 positive (0.00 %) +]\n",
      "\t4\ttested randomly         [+ 0 positive (0.00 %) +]\n",
      "\t4\ttested TOTAL            [+ 0 positive (0.00 %) +]\n",
      "\t0 will isolate due to symptoms         (0 as groupmates of symptomatic)\n",
      "\t0 will isolate due to positive test    (0 as groupmates of positive)\n",
      "\t0 will isolate due to positive contact (0 as groupmates of contact)\n",
      "\t0 entered isolation\n",
      "[INTERVENTIONS @ t = 115.08 (9 (0.19%) infected)]\n",
      "\t0\ttested due to symptoms  [+ 0 positive (0.00 %) +]\n",
      "\t0\ttested as traces        [+ 0 positive (0.00 %) +]\n",
      "\t4\ttested randomly         [+ 0 positive (0.00 %) +]\n",
      "\t4\ttested TOTAL            [+ 0 positive (0.00 %) +]\n",
      "\t0 will isolate due to symptoms         (0 as groupmates of symptomatic)\n",
      "\t0 will isolate due to positive test    (0 as groupmates of positive)\n",
      "\t0 will isolate due to positive contact (0 as groupmates of contact)\n",
      "\t0 entered isolation\n",
      "[INTERVENTIONS @ t = 116.45 (9 (0.19%) infected)]\n",
      "\t0\ttested due to symptoms  [+ 0 positive (0.00 %) +]\n",
      "\t0\ttested as traces        [+ 0 positive (0.00 %) +]\n",
      "\t4\ttested randomly         [+ 0 positive (0.00 %) +]\n",
      "\t4\ttested TOTAL            [+ 0 positive (0.00 %) +]\n",
      "\t0 will isolate due to symptoms         (0 as groupmates of symptomatic)\n",
      "\t0 will isolate due to positive test    (0 as groupmates of positive)\n",
      "\t0 will isolate due to positive contact (0 as groupmates of contact)\n",
      "\t0 entered isolation\n",
      "[INTERVENTIONS @ t = 117.08 (8 (0.17%) infected)]\n",
      "\t1\ttested due to symptoms  [+ 1 positive (100.00 %) +]\n",
      "\t0\ttested as traces        [+ 0 positive (0.00 %) +]\n",
      "\t3\ttested randomly         [+ 0 positive (0.00 %) +]\n",
      "\t4\ttested TOTAL            [+ 1 positive (25.00 %) +]\n",
      "\t0 will isolate due to symptoms         (0 as groupmates of symptomatic)\n",
      "\t1 will isolate due to positive test    (0 as groupmates of positive)\n",
      "\t0 will isolate due to positive contact (0 as groupmates of contact)\n",
      "\t0 entered isolation\n",
      "[INTERVENTIONS @ t = 119.18 (3 (0.06%) infected)]\n",
      "\t0\ttested due to symptoms  [+ 0 positive (0.00 %) +]\n",
      "\t0\ttested as traces        [+ 0 positive (0.00 %) +]\n",
      "\t4\ttested randomly         [+ 0 positive (0.00 %) +]\n",
      "\t4\ttested TOTAL            [+ 0 positive (0.00 %) +]\n",
      "\t0 will isolate due to symptoms         (0 as groupmates of symptomatic)\n",
      "\t0 will isolate due to positive test    (0 as groupmates of positive)\n",
      "\t0 will isolate due to positive contact (0 as groupmates of contact)\n",
      "\t0 entered isolation\n",
      "[INTERVENTIONS @ t = 121.87 (2 (0.04%) infected)]\n",
      "\t0\ttested due to symptoms  [+ 0 positive (0.00 %) +]\n",
      "\t1\ttested as traces        [+ 0 positive (0.00 %) +]\n",
      "\t3\ttested randomly         [+ 0 positive (0.00 %) +]\n",
      "\t4\ttested TOTAL            [+ 0 positive (0.00 %) +]\n",
      "\t0 will isolate due to symptoms         (0 as groupmates of symptomatic)\n",
      "\t0 will isolate due to positive test    (0 as groupmates of positive)\n",
      "\t2 will isolate due to positive contact (0 as groupmates of contact)\n",
      "\t3 entered isolation\n",
      "[INTERVENTIONS @ t = 122.49 (3 (0.06%) infected)]\n",
      "\t0\ttested due to symptoms  [+ 0 positive (0.00 %) +]\n",
      "\t0\ttested as traces        [+ 0 positive (0.00 %) +]\n",
      "\t4\ttested randomly         [+ 0 positive (0.00 %) +]\n",
      "\t4\ttested TOTAL            [+ 0 positive (0.00 %) +]\n",
      "\t0 will isolate due to symptoms         (0 as groupmates of symptomatic)\n",
      "\t0 will isolate due to positive test    (0 as groupmates of positive)\n",
      "\t0 will isolate due to positive contact (0 as groupmates of contact)\n",
      "\t0 entered isolation\n",
      "[INTERVENTIONS @ t = 123.83 (4 (0.09%) infected)]\n",
      "\t0\ttested due to symptoms  [+ 0 positive (0.00 %) +]\n",
      "\t0\ttested as traces        [+ 0 positive (0.00 %) +]\n",
      "\t4\ttested randomly         [+ 0 positive (0.00 %) +]\n",
      "\t4\ttested TOTAL            [+ 0 positive (0.00 %) +]\n",
      "\t0 will isolate due to symptoms         (0 as groupmates of symptomatic)\n",
      "\t0 will isolate due to positive test    (0 as groupmates of positive)\n",
      "\t0 will isolate due to positive contact (0 as groupmates of contact)\n",
      "\t0 entered isolation\n",
      "[INTERVENTIONS @ t = 128.74 (3 (0.06%) infected)]\n",
      "\t0\ttested due to symptoms  [+ 0 positive (0.00 %) +]\n",
      "\t0\ttested as traces        [+ 0 positive (0.00 %) +]\n",
      "\t4\ttested randomly         [+ 0 positive (0.00 %) +]\n",
      "\t4\ttested TOTAL            [+ 0 positive (0.00 %) +]\n",
      "\t0 will isolate due to symptoms         (0 as groupmates of symptomatic)\n",
      "\t0 will isolate due to positive test    (0 as groupmates of positive)\n",
      "\t0 will isolate due to positive contact (0 as groupmates of contact)\n",
      "\t0 entered isolation\n",
      "[INTERVENTIONS @ t = 131.46 (4 (0.09%) infected)]\n",
      "\t0\ttested due to symptoms  [+ 0 positive (0.00 %) +]\n",
      "\t0\ttested as traces        [+ 0 positive (0.00 %) +]\n",
      "\t4\ttested randomly         [+ 0 positive (0.00 %) +]\n",
      "\t4\ttested TOTAL            [+ 0 positive (0.00 %) +]\n",
      "\t0 will isolate due to symptoms         (0 as groupmates of symptomatic)\n",
      "\t0 will isolate due to positive test    (0 as groupmates of positive)\n",
      "\t0 will isolate due to positive contact (0 as groupmates of contact)\n",
      "\t0 entered isolation\n",
      "[INTERVENTIONS @ t = 133.67 (5 (0.11%) infected)]\n",
      "\t0\ttested due to symptoms  [+ 0 positive (0.00 %) +]\n",
      "\t0\ttested as traces        [+ 0 positive (0.00 %) +]\n",
      "\t4\ttested randomly         [+ 0 positive (0.00 %) +]\n",
      "\t4\ttested TOTAL            [+ 0 positive (0.00 %) +]\n",
      "\t0 will isolate due to symptoms         (0 as groupmates of symptomatic)\n",
      "\t0 will isolate due to positive test    (0 as groupmates of positive)\n",
      "\t0 will isolate due to positive contact (0 as groupmates of contact)\n",
      "\t0 entered isolation\n",
      "[INTERVENTIONS @ t = 134.04 (6 (0.13%) infected)]\n",
      "\t0\ttested due to symptoms  [+ 0 positive (0.00 %) +]\n",
      "\t0\ttested as traces        [+ 0 positive (0.00 %) +]\n",
      "\t4\ttested randomly         [+ 0 positive (0.00 %) +]\n",
      "\t4\ttested TOTAL            [+ 0 positive (0.00 %) +]\n",
      "\t0 will isolate due to symptoms         (0 as groupmates of symptomatic)\n",
      "\t0 will isolate due to positive test    (0 as groupmates of positive)\n",
      "\t0 will isolate due to positive contact (0 as groupmates of contact)\n",
      "\t0 entered isolation\n",
      "[INTERVENTIONS @ t = 135.47 (6 (0.13%) infected)]\n",
      "\t1\ttested due to symptoms  [+ 1 positive (100.00 %) +]\n",
      "\t0\ttested as traces        [+ 0 positive (0.00 %) +]\n",
      "\t3\ttested randomly         [+ 0 positive (0.00 %) +]\n",
      "\t4\ttested TOTAL            [+ 1 positive (25.00 %) +]\n",
      "\t0 will isolate due to symptoms         (0 as groupmates of symptomatic)\n",
      "\t1 will isolate due to positive test    (2 as groupmates of positive)\n",
      "\t0 will isolate due to positive contact (0 as groupmates of contact)\n",
      "\t0 entered isolation\n",
      "[INTERVENTIONS @ t = 138.11 (5 (0.11%) infected)]\n",
      "\t0\ttested due to symptoms  [+ 0 positive (0.00 %) +]\n",
      "\t0\ttested as traces        [+ 0 positive (0.00 %) +]\n",
      "\t4\ttested randomly         [+ 0 positive (0.00 %) +]\n",
      "\t4\ttested TOTAL            [+ 0 positive (0.00 %) +]\n",
      "\t0 will isolate due to symptoms         (0 as groupmates of symptomatic)\n",
      "\t0 will isolate due to positive test    (0 as groupmates of positive)\n",
      "\t0 will isolate due to positive contact (0 as groupmates of contact)\n",
      "\t0 entered isolation\n",
      "[INTERVENTIONS @ t = 139.88 (5 (0.11%) infected)]\n",
      "\t0\ttested due to symptoms  [+ 0 positive (0.00 %) +]\n",
      "\t0\ttested as traces        [+ 0 positive (0.00 %) +]\n",
      "\t4\ttested randomly         [+ 0 positive (0.00 %) +]\n",
      "\t4\ttested TOTAL            [+ 0 positive (0.00 %) +]\n",
      "\t0 will isolate due to symptoms         (0 as groupmates of symptomatic)\n",
      "\t0 will isolate due to positive test    (0 as groupmates of positive)\n",
      "\t0 will isolate due to positive contact (0 as groupmates of contact)\n",
      "\t3 entered isolation\n",
      "[INTERVENTIONS @ t = 140.59 (5 (0.11%) infected)]\n",
      "\t0\ttested due to symptoms  [+ 0 positive (0.00 %) +]\n",
      "\t0\ttested as traces        [+ 0 positive (0.00 %) +]\n",
      "\t4\ttested randomly         [+ 0 positive (0.00 %) +]\n",
      "\t4\ttested TOTAL            [+ 0 positive (0.00 %) +]\n",
      "\t0 will isolate due to symptoms         (0 as groupmates of symptomatic)\n",
      "\t0 will isolate due to positive test    (0 as groupmates of positive)\n",
      "\t0 will isolate due to positive contact (0 as groupmates of contact)\n",
      "\t0 entered isolation\n",
      "[INTERVENTIONS @ t = 141.34 (4 (0.09%) infected)]\n",
      "\t0\ttested due to symptoms  [+ 0 positive (0.00 %) +]\n",
      "\t0\ttested as traces        [+ 0 positive (0.00 %) +]\n",
      "\t4\ttested randomly         [+ 0 positive (0.00 %) +]\n",
      "\t4\ttested TOTAL            [+ 0 positive (0.00 %) +]\n",
      "\t0 will isolate due to symptoms         (0 as groupmates of symptomatic)\n",
      "\t0 will isolate due to positive test    (0 as groupmates of positive)\n",
      "\t0 will isolate due to positive contact (0 as groupmates of contact)\n",
      "\t0 entered isolation\n",
      "[INTERVENTIONS @ t = 142.78 (4 (0.09%) infected)]\n",
      "\t0\ttested due to symptoms  [+ 0 positive (0.00 %) +]\n",
      "\t0\ttested as traces        [+ 0 positive (0.00 %) +]\n",
      "\t4\ttested randomly         [+ 0 positive (0.00 %) +]\n",
      "\t4\ttested TOTAL            [+ 0 positive (0.00 %) +]\n",
      "\t0 will isolate due to symptoms         (0 as groupmates of symptomatic)\n",
      "\t0 will isolate due to positive test    (0 as groupmates of positive)\n",
      "\t0 will isolate due to positive contact (0 as groupmates of contact)\n",
      "\t0 entered isolation\n",
      "[INTERVENTIONS @ t = 143.10 (3 (0.06%) infected)]\n",
      "\t0\ttested due to symptoms  [+ 0 positive (0.00 %) +]\n",
      "\t0\ttested as traces        [+ 0 positive (0.00 %) +]\n",
      "\t4\ttested randomly         [+ 0 positive (0.00 %) +]\n",
      "\t4\ttested TOTAL            [+ 0 positive (0.00 %) +]\n",
      "\t0 will isolate due to symptoms         (0 as groupmates of symptomatic)\n",
      "\t0 will isolate due to positive test    (0 as groupmates of positive)\n",
      "\t0 will isolate due to positive contact (0 as groupmates of contact)\n",
      "\t0 entered isolation\n",
      "[INTERVENTIONS @ t = 144.11 (3 (0.06%) infected)]\n",
      "\t0\ttested due to symptoms  [+ 0 positive (0.00 %) +]\n",
      "\t0\ttested as traces        [+ 0 positive (0.00 %) +]\n",
      "\t4\ttested randomly         [+ 0 positive (0.00 %) +]\n",
      "\t4\ttested TOTAL            [+ 0 positive (0.00 %) +]\n",
      "\t0 will isolate due to symptoms         (0 as groupmates of symptomatic)\n",
      "\t0 will isolate due to positive test    (0 as groupmates of positive)\n",
      "\t0 will isolate due to positive contact (0 as groupmates of contact)\n",
      "\t0 entered isolation\n",
      "[INTERVENTIONS @ t = 145.17 (3 (0.06%) infected)]\n",
      "\t0\ttested due to symptoms  [+ 0 positive (0.00 %) +]\n",
      "\t0\ttested as traces        [+ 0 positive (0.00 %) +]\n",
      "\t4\ttested randomly         [+ 0 positive (0.00 %) +]\n",
      "\t4\ttested TOTAL            [+ 0 positive (0.00 %) +]\n",
      "\t0 will isolate due to symptoms         (0 as groupmates of symptomatic)\n",
      "\t0 will isolate due to positive test    (0 as groupmates of positive)\n",
      "\t0 will isolate due to positive contact (0 as groupmates of contact)\n",
      "\t0 entered isolation\n",
      "[INTERVENTIONS @ t = 146.90 (3 (0.06%) infected)]\n",
      "\t0\ttested due to symptoms  [+ 0 positive (0.00 %) +]\n",
      "\t0\ttested as traces        [+ 0 positive (0.00 %) +]\n",
      "\t4\ttested randomly         [+ 0 positive (0.00 %) +]\n",
      "\t4\ttested TOTAL            [+ 0 positive (0.00 %) +]\n",
      "\t0 will isolate due to symptoms         (0 as groupmates of symptomatic)\n",
      "\t0 will isolate due to positive test    (0 as groupmates of positive)\n",
      "\t0 will isolate due to positive contact (0 as groupmates of contact)\n",
      "\t0 entered isolation\n",
      "[INTERVENTIONS @ t = 148.32 (3 (0.06%) infected)]\n",
      "\t0\ttested due to symptoms  [+ 0 positive (0.00 %) +]\n",
      "\t0\ttested as traces        [+ 0 positive (0.00 %) +]\n",
      "\t4\ttested randomly         [+ 0 positive (0.00 %) +]\n",
      "\t4\ttested TOTAL            [+ 0 positive (0.00 %) +]\n",
      "\t0 will isolate due to symptoms         (0 as groupmates of symptomatic)\n",
      "\t0 will isolate due to positive test    (0 as groupmates of positive)\n",
      "\t0 will isolate due to positive contact (0 as groupmates of contact)\n",
      "\t0 entered isolation\n",
      "[INTERVENTIONS @ t = 149.07 (3 (0.06%) infected)]\n",
      "\t0\ttested due to symptoms  [+ 0 positive (0.00 %) +]\n",
      "\t0\ttested as traces        [+ 0 positive (0.00 %) +]\n",
      "\t4\ttested randomly         [+ 0 positive (0.00 %) +]\n",
      "\t4\ttested TOTAL            [+ 0 positive (0.00 %) +]\n",
      "\t0 will isolate due to symptoms         (0 as groupmates of symptomatic)\n",
      "\t0 will isolate due to positive test    (0 as groupmates of positive)\n",
      "\t0 will isolate due to positive contact (0 as groupmates of contact)\n",
      "\t0 entered isolation\n",
      "[INTERVENTIONS @ t = 150.01 (4 (0.09%) infected)]\n",
      "\t0\ttested due to symptoms  [+ 0 positive (0.00 %) +]\n",
      "\t0\ttested as traces        [+ 0 positive (0.00 %) +]\n",
      "\t4\ttested randomly         [+ 0 positive (0.00 %) +]\n",
      "\t4\ttested TOTAL            [+ 0 positive (0.00 %) +]\n",
      "\t0 will isolate due to symptoms         (0 as groupmates of symptomatic)\n",
      "\t0 will isolate due to positive test    (0 as groupmates of positive)\n",
      "\t0 will isolate due to positive contact (0 as groupmates of contact)\n",
      "\t0 entered isolation\n",
      "[INTERVENTIONS @ t = 151.58 (4 (0.09%) infected)]\n",
      "\t0\ttested due to symptoms  [+ 0 positive (0.00 %) +]\n",
      "\t0\ttested as traces        [+ 0 positive (0.00 %) +]\n",
      "\t4\ttested randomly         [+ 0 positive (0.00 %) +]\n",
      "\t4\ttested TOTAL            [+ 0 positive (0.00 %) +]\n",
      "\t0 will isolate due to symptoms         (0 as groupmates of symptomatic)\n",
      "\t0 will isolate due to positive test    (0 as groupmates of positive)\n",
      "\t0 will isolate due to positive contact (0 as groupmates of contact)\n",
      "\t0 entered isolation\n",
      "[INTERVENTIONS @ t = 152.92 (4 (0.09%) infected)]\n",
      "\t0\ttested due to symptoms  [+ 0 positive (0.00 %) +]\n",
      "\t0\ttested as traces        [+ 0 positive (0.00 %) +]\n",
      "\t4\ttested randomly         [+ 0 positive (0.00 %) +]\n",
      "\t4\ttested TOTAL            [+ 0 positive (0.00 %) +]\n",
      "\t0 will isolate due to symptoms         (0 as groupmates of symptomatic)\n",
      "\t0 will isolate due to positive test    (0 as groupmates of positive)\n",
      "\t0 will isolate due to positive contact (0 as groupmates of contact)\n",
      "\t0 entered isolation\n",
      "[INTERVENTIONS @ t = 153.36 (5 (0.11%) infected)]\n",
      "\t0\ttested due to symptoms  [+ 0 positive (0.00 %) +]\n",
      "\t0\ttested as traces        [+ 0 positive (0.00 %) +]\n",
      "\t4\ttested randomly         [+ 0 positive (0.00 %) +]\n",
      "\t4\ttested TOTAL            [+ 0 positive (0.00 %) +]\n",
      "\t0 will isolate due to symptoms         (0 as groupmates of symptomatic)\n",
      "\t0 will isolate due to positive test    (0 as groupmates of positive)\n",
      "\t0 will isolate due to positive contact (0 as groupmates of contact)\n",
      "\t0 entered isolation\n",
      "[INTERVENTIONS @ t = 154.11 (6 (0.13%) infected)]\n",
      "\t0\ttested due to symptoms  [+ 0 positive (0.00 %) +]\n",
      "\t0\ttested as traces        [+ 0 positive (0.00 %) +]\n",
      "\t4\ttested randomly         [+ 0 positive (0.00 %) +]\n",
      "\t4\ttested TOTAL            [+ 0 positive (0.00 %) +]\n",
      "\t0 will isolate due to symptoms         (0 as groupmates of symptomatic)\n",
      "\t0 will isolate due to positive test    (0 as groupmates of positive)\n",
      "\t0 will isolate due to positive contact (0 as groupmates of contact)\n",
      "\t0 entered isolation\n",
      "[INTERVENTIONS @ t = 155.22 (5 (0.11%) infected)]\n",
      "\t1\ttested due to symptoms  [+ 1 positive (100.00 %) +]\n",
      "\t0\ttested as traces        [+ 0 positive (0.00 %) +]\n",
      "\t3\ttested randomly         [+ 0 positive (0.00 %) +]\n",
      "\t4\ttested TOTAL            [+ 1 positive (25.00 %) +]\n",
      "\t0 will isolate due to symptoms         (0 as groupmates of symptomatic)\n",
      "\t1 will isolate due to positive test    (4 as groupmates of positive)\n",
      "\t0 will isolate due to positive contact (0 as groupmates of contact)\n",
      "\t0 entered isolation\n",
      "[INTERVENTIONS @ t = 156.54 (4 (0.09%) infected)]\n",
      "\t0\ttested due to symptoms  [+ 0 positive (0.00 %) +]\n",
      "\t0\ttested as traces        [+ 0 positive (0.00 %) +]\n",
      "\t4\ttested randomly         [+ 0 positive (0.00 %) +]\n",
      "\t4\ttested TOTAL            [+ 0 positive (0.00 %) +]\n",
      "\t0 will isolate due to symptoms         (0 as groupmates of symptomatic)\n",
      "\t0 will isolate due to positive test    (0 as groupmates of positive)\n",
      "\t0 will isolate due to positive contact (0 as groupmates of contact)\n",
      "\t0 entered isolation\n",
      "[INTERVENTIONS @ t = 159.27 (3 (0.06%) infected)]\n",
      "\t0\ttested due to symptoms  [+ 0 positive (0.00 %) +]\n",
      "\t1\ttested as traces        [+ 0 positive (0.00 %) +]\n",
      "\t3\ttested randomly         [+ 0 positive (0.00 %) +]\n",
      "\t4\ttested TOTAL            [+ 0 positive (0.00 %) +]\n",
      "\t0 will isolate due to symptoms         (0 as groupmates of symptomatic)\n",
      "\t0 will isolate due to positive test    (0 as groupmates of positive)\n",
      "\t1 will isolate due to positive contact (0 as groupmates of contact)\n",
      "\t6 entered isolation\n",
      "[INTERVENTIONS @ t = 161.49 (4 (0.09%) infected)]\n",
      "\t0\ttested due to symptoms  [+ 0 positive (0.00 %) +]\n",
      "\t0\ttested as traces        [+ 0 positive (0.00 %) +]\n",
      "\t4\ttested randomly         [+ 0 positive (0.00 %) +]\n",
      "\t4\ttested TOTAL            [+ 0 positive (0.00 %) +]\n",
      "\t0 will isolate due to symptoms         (0 as groupmates of symptomatic)\n",
      "\t0 will isolate due to positive test    (0 as groupmates of positive)\n",
      "\t0 will isolate due to positive contact (0 as groupmates of contact)\n",
      "\t0 entered isolation\n",
      "[INTERVENTIONS @ t = 162.06 (4 (0.09%) infected)]\n",
      "\t0\ttested due to symptoms  [+ 0 positive (0.00 %) +]\n",
      "\t0\ttested as traces        [+ 0 positive (0.00 %) +]\n",
      "\t4\ttested randomly         [+ 0 positive (0.00 %) +]\n",
      "\t4\ttested TOTAL            [+ 0 positive (0.00 %) +]\n",
      "\t0 will isolate due to symptoms         (0 as groupmates of symptomatic)\n",
      "\t0 will isolate due to positive test    (0 as groupmates of positive)\n",
      "\t0 will isolate due to positive contact (0 as groupmates of contact)\n",
      "\t0 entered isolation\n",
      "[INTERVENTIONS @ t = 164.19 (3 (0.06%) infected)]\n",
      "\t0\ttested due to symptoms  [+ 0 positive (0.00 %) +]\n",
      "\t0\ttested as traces        [+ 0 positive (0.00 %) +]\n",
      "\t4\ttested randomly         [+ 0 positive (0.00 %) +]\n",
      "\t4\ttested TOTAL            [+ 0 positive (0.00 %) +]\n",
      "\t0 will isolate due to symptoms         (0 as groupmates of symptomatic)\n",
      "\t0 will isolate due to positive test    (0 as groupmates of positive)\n",
      "\t0 will isolate due to positive contact (0 as groupmates of contact)\n",
      "\t0 entered isolation\n",
      "[INTERVENTIONS @ t = 165.74 (3 (0.06%) infected)]\n",
      "\t1\ttested due to symptoms  [+ 1 positive (100.00 %) +]\n",
      "\t0\ttested as traces        [+ 0 positive (0.00 %) +]\n",
      "\t3\ttested randomly         [+ 0 positive (0.00 %) +]\n",
      "\t4\ttested TOTAL            [+ 1 positive (25.00 %) +]\n",
      "\t0 will isolate due to symptoms         (0 as groupmates of symptomatic)\n",
      "\t1 will isolate due to positive test    (4 as groupmates of positive)\n",
      "\t0 will isolate due to positive contact (0 as groupmates of contact)\n",
      "\t0 entered isolation\n",
      "[INTERVENTIONS @ t = 168.31 (3 (0.06%) infected)]\n",
      "\t0\ttested due to symptoms  [+ 0 positive (0.00 %) +]\n",
      "\t0\ttested as traces        [+ 0 positive (0.00 %) +]\n",
      "\t4\ttested randomly         [+ 0 positive (0.00 %) +]\n",
      "\t4\ttested TOTAL            [+ 0 positive (0.00 %) +]\n",
      "\t0 will isolate due to symptoms         (0 as groupmates of symptomatic)\n",
      "\t0 will isolate due to positive test    (0 as groupmates of positive)\n",
      "\t0 will isolate due to positive contact (0 as groupmates of contact)\n",
      "\t0 entered isolation\n",
      "[INTERVENTIONS @ t = 172.17 (2 (0.04%) infected)]\n",
      "\t0\ttested due to symptoms  [+ 0 positive (0.00 %) +]\n",
      "\t0\ttested as traces        [+ 0 positive (0.00 %) +]\n",
      "\t4\ttested randomly         [+ 0 positive (0.00 %) +]\n",
      "\t4\ttested TOTAL            [+ 0 positive (0.00 %) +]\n",
      "\t0 will isolate due to symptoms         (0 as groupmates of symptomatic)\n",
      "\t0 will isolate due to positive test    (0 as groupmates of positive)\n",
      "\t2 will isolate due to positive contact (0 as groupmates of contact)\n",
      "\t7 entered isolation\n",
      "[INTERVENTIONS @ t = 176.29 (1 (0.02%) infected)]\n",
      "\t0\ttested due to symptoms  [+ 0 positive (0.00 %) +]\n",
      "\t0\ttested as traces        [+ 0 positive (0.00 %) +]\n",
      "\t4\ttested randomly         [+ 0 positive (0.00 %) +]\n",
      "\t4\ttested TOTAL            [+ 0 positive (0.00 %) +]\n",
      "\t0 will isolate due to symptoms         (0 as groupmates of symptomatic)\n",
      "\t0 will isolate due to positive test    (0 as groupmates of positive)\n",
      "\t0 will isolate due to positive contact (0 as groupmates of contact)\n",
      "\t0 entered isolation\n",
      "[INTERVENTIONS @ t = 179.47 (0 (0.00%) infected)]\n",
      "\t0\ttested due to symptoms  [+ 0 positive (0.00 %) +]\n",
      "\t0\ttested as traces        [+ 0 positive (0.00 %) +]\n",
      "\t4\ttested randomly         [+ 0 positive (0.00 %) +]\n",
      "\t4\ttested TOTAL            [+ 0 positive (0.00 %) +]\n",
      "\t0 will isolate due to symptoms         (0 as groupmates of symptomatic)\n",
      "\t0 will isolate due to positive test    (0 as groupmates of positive)\n",
      "\t0 will isolate due to positive contact (0 as groupmates of contact)\n",
      "\t0 entered isolation\n",
      "[INTERVENTIONS @ t = 180.01 (0 (0.00%) infected)]\n",
      "\t0\ttested due to symptoms  [+ 0 positive (0.00 %) +]\n",
      "\t0\ttested as traces        [+ 0 positive (0.00 %) +]\n",
      "\t4\ttested randomly         [+ 0 positive (0.00 %) +]\n",
      "\t4\ttested TOTAL            [+ 0 positive (0.00 %) +]\n",
      "\t0 will isolate due to symptoms         (0 as groupmates of symptomatic)\n",
      "\t0 will isolate due to positive test    (0 as groupmates of positive)\n",
      "\t0 will isolate due to positive contact (0 as groupmates of contact)\n",
      "\t0 entered isolation\n",
      "[INTERVENTIONS @ t = 181.01 (0 (0.00%) infected)]\n",
      "\t0\ttested due to symptoms  [+ 0 positive (0.00 %) +]\n",
      "\t0\ttested as traces        [+ 0 positive (0.00 %) +]\n",
      "\t4\ttested randomly         [+ 0 positive (0.00 %) +]\n",
      "\t4\ttested TOTAL            [+ 0 positive (0.00 %) +]\n",
      "\t0 will isolate due to symptoms         (0 as groupmates of symptomatic)\n",
      "\t0 will isolate due to positive test    (0 as groupmates of positive)\n",
      "\t0 will isolate due to positive contact (0 as groupmates of contact)\n",
      "\t0 entered isolation\n",
      "[INTERVENTIONS @ t = 182.01 (0 (0.00%) infected)]\n",
      "\t0\ttested due to symptoms  [+ 0 positive (0.00 %) +]\n",
      "\t0\ttested as traces        [+ 0 positive (0.00 %) +]\n",
      "\t4\ttested randomly         [+ 0 positive (0.00 %) +]\n",
      "\t4\ttested TOTAL            [+ 0 positive (0.00 %) +]\n",
      "\t0 will isolate due to symptoms         (0 as groupmates of symptomatic)\n",
      "\t0 will isolate due to positive test    (0 as groupmates of positive)\n",
      "\t0 will isolate due to positive contact (0 as groupmates of contact)\n",
      "\t0 entered isolation\n",
      "[INTERVENTIONS @ t = 183.01 (0 (0.00%) infected)]\n",
      "\t0\ttested due to symptoms  [+ 0 positive (0.00 %) +]\n",
      "\t0\ttested as traces        [+ 0 positive (0.00 %) +]\n",
      "\t4\ttested randomly         [+ 0 positive (0.00 %) +]\n",
      "\t4\ttested TOTAL            [+ 0 positive (0.00 %) +]\n",
      "\t0 will isolate due to symptoms         (0 as groupmates of symptomatic)\n",
      "\t0 will isolate due to positive test    (0 as groupmates of positive)\n",
      "\t0 will isolate due to positive contact (0 as groupmates of contact)\n",
      "\t0 entered isolation\n",
      "[INTERVENTIONS @ t = 184.01 (0 (0.00%) infected)]\n",
      "\t0\ttested due to symptoms  [+ 0 positive (0.00 %) +]\n",
      "\t0\ttested as traces        [+ 0 positive (0.00 %) +]\n",
      "\t4\ttested randomly         [+ 0 positive (0.00 %) +]\n",
      "\t4\ttested TOTAL            [+ 0 positive (0.00 %) +]\n",
      "\t0 will isolate due to symptoms         (0 as groupmates of symptomatic)\n",
      "\t0 will isolate due to positive test    (0 as groupmates of positive)\n",
      "\t0 will isolate due to positive contact (0 as groupmates of contact)\n",
      "\t0 entered isolation\n",
      "[INTERVENTIONS @ t = 185.01 (0 (0.00%) infected)]\n",
      "\t0\ttested due to symptoms  [+ 0 positive (0.00 %) +]\n",
      "\t0\ttested as traces        [+ 0 positive (0.00 %) +]\n",
      "\t4\ttested randomly         [+ 0 positive (0.00 %) +]\n",
      "\t4\ttested TOTAL            [+ 0 positive (0.00 %) +]\n",
      "\t0 will isolate due to symptoms         (0 as groupmates of symptomatic)\n",
      "\t0 will isolate due to positive test    (0 as groupmates of positive)\n",
      "\t0 will isolate due to positive contact (0 as groupmates of contact)\n",
      "\t0 entered isolation\n",
      "[INTERVENTIONS @ t = 186.01 (0 (0.00%) infected)]\n",
      "\t0\ttested due to symptoms  [+ 0 positive (0.00 %) +]\n",
      "\t0\ttested as traces        [+ 0 positive (0.00 %) +]\n",
      "\t4\ttested randomly         [+ 0 positive (0.00 %) +]\n",
      "\t4\ttested TOTAL            [+ 0 positive (0.00 %) +]\n",
      "\t0 will isolate due to symptoms         (0 as groupmates of symptomatic)\n",
      "\t0 will isolate due to positive test    (0 as groupmates of positive)\n",
      "\t0 will isolate due to positive contact (0 as groupmates of contact)\n",
      "\t0 entered isolation\n"
     ]
    },
    {
     "data": {
      "text/plain": [
       "(1.0061371447895697, 186.18693189302866)"
      ]
     },
     "execution_count": 94,
     "metadata": {},
     "output_type": "execute_result"
    }
   ],
   "source": [
    "run_tti_sim(model, T, \n",
    "            intervention_start_pct_infected=INTERVENTION_START_PCT_INFECTED, average_introductions_per_day=AVERAGE_INTRODUCTIONS_PER_DAY,\n",
    "            testing_cadence=TESTING_CADENCE, pct_tested_per_day=PCT_TESTED_PER_DAY, test_falseneg_rate=TEST_FALSENEG_RATE, \n",
    "            testing_compliance_symptomatic=TESTING_COMPLIANCE_SYMPTOMATIC, max_pct_tests_for_symptomatics=MAX_PCT_TESTS_FOR_SYMPTOMATICS,\n",
    "            testing_compliance_traced=TESTING_COMPLIANCE_TRACED, max_pct_tests_for_traces=MAX_PCT_TESTS_FOR_TRACES,\n",
    "            testing_compliance_random=TESTING_COMPLIANCE_RANDOM, random_testing_degree_bias=RANDOM_TESTING_DEGREE_BIAS,\n",
    "            tracing_compliance=TRACING_COMPLIANCE, pct_contacts_to_trace=PCT_CONTACTS_TO_TRACE, tracing_lag=TRACING_LAG,\n",
    "            isolation_compliance_symptomatic_individual=ISOLATION_COMPLIANCE_SYMPTOMATIC_INDIVIDUAL, isolation_compliance_symptomatic_groupmate=ISOLATION_COMPLIANCE_SYMPTOMATIC_GROUPMATE, \n",
    "            isolation_compliance_positive_individual=ISOLATION_COMPLIANCE_POSITIVE_INDIVIDUAL, isolation_compliance_positive_groupmate=ISOLATION_COMPLIANCE_POSITIVE_GROUPMATE,\n",
    "            isolation_compliance_positive_contact=ISOLATION_COMPLIANCE_POSITIVE_CONTACT, isolation_compliance_positive_contactgroupmate=ISOLATION_COMPLIANCE_POSITIVE_CONTACTGROUPMATE,\n",
    "            isolation_lag_symptomatic=ISOLATION_LAG_SYMPTOMATIC, isolation_lag_positive=ISOLATION_LAG_POSITIVE, isolation_groups=updated_nodes_per_struct)"
   ]
  },
  {
   "cell_type": "code",
   "execution_count": 96,
   "metadata": {},
   "outputs": [
    {
     "name": "stdout",
     "output_type": "stream",
     "text": [
      "total percent infected: 86.01%\n",
      "total percent fatality: 0.62%\n",
      "peak  pct hospitalized: 0.41%\n"
     ]
    }
   ],
   "source": [
    "results_summary(model)"
   ]
  },
  {
   "cell_type": "code",
   "execution_count": 97,
   "metadata": {},
   "outputs": [
    {
     "data": {
      "image/png": "[encoded data removed]",
      "text/plain": [
       "<Figure size 864x576 with 1 Axes>"
      ]
     },
     "metadata": {
      "needs_background": "light"
     },
     "output_type": "display_data"
    }
   ],
   "source": [
    "fig, ax = model.figure_infections(combine_Q_infected=False, plot_Q_R='stacked', plot_Q_S='stacked')"
   ]
  },
  {
   "cell_type": "code",
   "execution_count": 98,
   "metadata": {},
   "outputs": [
    {
     "data": {
      "image/png": "[encoded data removed]",
      "text/plain": [
       "<Figure size 864x576 with 1 Axes>"
      ]
     },
     "metadata": {},
     "output_type": "display_data"
    },
    {
     "data": {
      "text/plain": [
       "(<Figure size 864x576 with 1 Axes>,\n",
       " <matplotlib.axes._subplots.AxesSubplot at 0x7fad71372ed0>)"
      ]
     },
     "execution_count": 98,
     "metadata": {},
     "output_type": "execute_result"
    }
   ],
   "source": [
    "model.figure_infections()"
   ]
  },
  {
   "cell_type": "code",
   "execution_count": 33,
   "metadata": {},
   "outputs": [],
   "source": [
    "import time\n",
    "import datetime"
   ]
  },
  {
   "cell_type": "code",
   "execution_count": 34,
   "metadata": {},
   "outputs": [],
   "source": [
    "new_model = ExtSEIRSNetworkModel(G=sampled_graph, p=P_GLOBALINTXN,\n",
    "                              beta=BETA, sigma=SIGMA, lamda=LAMDA, gamma=GAMMA, \n",
    "                              gamma_asym=GAMMA, eta=ETA, gamma_H=GAMMA_H, mu_H=MU_H, \n",
    "                              a=PCT_ASYMPTOMATIC, h=PCT_HOSPITALIZED, f=PCT_FATALITY,              \n",
    "                              alpha=ALPHA, beta_pairwise_mode=BETA_PAIRWISE_MODE, delta_pairwise_mode=DELTA_PAIRWISE_MODE,\n",
    "                              initE=INIT_EXPOSED)"
   ]
  },
  {
   "cell_type": "code",
   "execution_count": 35,
   "metadata": {
    "tags": []
   },
   "outputs": [
    {
     "name": "stdout",
     "output_type": "stream",
     "text": [
      "Running simulation for 200 steps...\n",
      "\n",
      "-------------------------------------------\n",
      "Day = 0.01\n",
      "\t Susceptible    = 4629.0\n",
      "\t Exposed        = 45.0\n",
      "\t Infected_pre   = 1.0\n",
      "\t Infected_sym   = 0.0\n",
      "\t Infected_asym  = 0.0\n",
      "\t Hospitalized   = 0.0\n",
      "\t Recovered      = 0.0\n",
      "\t Fatalities     = 0.0\n",
      "-------------------------------------------\n",
      "Day = 30.00\n",
      "\t Susceptible    = 2671.0\n",
      "\t Exposed        = 540.0\n",
      "\t Infected_pre   = 248.0\n",
      "\t Infected_sym   = 143.0\n",
      "\t Infected_asym  = 223.0\n",
      "\t Hospitalized   = 9.0\n",
      "\t Recovered      = 841.0\n",
      "\t Fatalities     = 0.0\n",
      "-------------------------------------------\n",
      "Day = 60.02\n",
      "\t Susceptible    = 589.0\n",
      "\t Exposed        = 117.0\n",
      "\t Infected_pre   = 65.0\n",
      "\t Infected_sym   = 97.0\n",
      "\t Infected_asym  = 95.0\n",
      "\t Hospitalized   = 17.0\n",
      "\t Recovered      = 3685.0\n",
      "\t Fatalities     = 10.0\n",
      "-------------------------------------------\n",
      "Day = 90.05\n",
      "\t Susceptible    = 459.0\n",
      "\t Exposed        = 10.0\n",
      "\t Infected_pre   = 7.0\n",
      "\t Infected_sym   = 9.0\n",
      "\t Infected_asym  = 9.0\n",
      "\t Hospitalized   = 4.0\n",
      "\t Recovered      = 4157.0\n",
      "\t Fatalities     = 20.0\n",
      "-------------------------------------------\n"
     ]
    },
    {
     "data": {
      "text/plain": [
       "'0:00:59.039170'"
      ]
     },
     "execution_count": 35,
     "metadata": {},
     "output_type": "execute_result"
    }
   ],
   "source": [
    "# 8700: 3 minutes, 19 seconds\n",
    "# 6234: 1 minute, 37 seconds\n",
    "t_steps = 200\n",
    "\n",
    "start = time.time()\n",
    "node_states, simulation_results = run_simulation(new_model, t_steps)\n",
    "stop = time.time()\n",
    "time_elapsed = stop - start\n",
    "\n",
    "str(datetime.timedelta(seconds=time_elapsed))"
   ]
  },
  {
   "cell_type": "code",
   "execution_count": null,
   "metadata": {},
   "outputs": [],
   "source": [
    "node_states, simulation_results = run_simulation(new_model, t_steps)"
   ]
  },
  {
   "cell_type": "code",
   "execution_count": 39,
   "metadata": {},
   "outputs": [],
   "source": [
    "import joblib\n",
    "from joblib import Parallel, delayed"
   ]
  },
  {
   "cell_type": "code",
   "execution_count": 44,
   "metadata": {},
   "outputs": [],
   "source": [
    "number_of_cpu = joblib.cpu_count()\n",
    "delayed_funcs = [delayed(run_simulation)(new_model, 200) for _ in range(10)]\n",
    "parallel_pool = Parallel(n_jobs=number_of_cpu)"
   ]
  },
  {
   "cell_type": "code",
   "execution_count": 46,
   "metadata": {},
   "outputs": [
    {
     "ename": "TypeError",
     "evalue": "__call__() takes 2 positional arguments but 3 were given",
     "output_type": "error",
     "traceback": [
      "\u001b[0;31m---------------------------------------------------------------------------\u001b[0m",
      "\u001b[0;31mTypeError\u001b[0m                                 Traceback (most recent call last)",
      "\u001b[0;32m<timed eval>\u001b[0m in \u001b[0;36m<module>\u001b[0;34m\u001b[0m\n",
      "\u001b[0;31mTypeError\u001b[0m: __call__() takes 2 positional arguments but 3 were given"
     ]
    }
   ],
   "source": [
    "%time parallel_pool(1, 200)"
   ]
  },
  {
   "cell_type": "code",
   "execution_count": 102,
   "metadata": {},
   "outputs": [],
   "source": [
    "# Model name for storage + store the model params in csv\n",
    "i = 0  # This is a number assigned to identify a particular network\n",
    "param_combo_i = 99  # This is a number assigned to identify a particular combination of parameters\n",
    "fig_name = f\"BaseSympModel{i}_{param_combo_i}\"\n",
    "# add_model_name(\"experiments/model_names.csv\", fig_name, household_weight, neighbor_weight, food_weight, BETA, GAMMA, LAMBDA, PCT_HOSPITALIZED, round(sum(crit_rate)/len(crit_rate), 3), death_rate, init_symp_cases, init_asymp_cases, t_steps)\n",
    "# Construct results dataframe\n",
    "output_df = results_to_df(simulation_results, store=True, store_name=f\"experiments/results/{fig_name}.csv\")"
   ]
  },
  {
   "cell_type": "code",
   "execution_count": 103,
   "metadata": {},
   "outputs": [
    {
     "data": {
      "text/html": [
       "<div>\n",
       "<style scoped>\n",
       "    .dataframe tbody tr th:only-of-type {\n",
       "        vertical-align: middle;\n",
       "    }\n",
       "\n",
       "    .dataframe tbody tr th {\n",
       "        vertical-align: top;\n",
       "    }\n",
       "\n",
       "    .dataframe thead th {\n",
       "        text-align: right;\n",
       "    }\n",
       "</style>\n",
       "<table border=\"1\" class=\"dataframe\">\n",
       "  <thead>\n",
       "    <tr style=\"text-align: right;\">\n",
       "      <th></th>\n",
       "      <th>Susceptible</th>\n",
       "      <th>Exposed</th>\n",
       "      <th>Infected_Presymptomatic</th>\n",
       "      <th>Infected_Symptomatic</th>\n",
       "      <th>Infected_Asymptomatic</th>\n",
       "      <th>Hospitalized</th>\n",
       "      <th>Recovered</th>\n",
       "      <th>Fatalities</th>\n",
       "      <th>T_index</th>\n",
       "      <th>Time</th>\n",
       "    </tr>\n",
       "  </thead>\n",
       "  <tbody>\n",
       "    <tr>\n",
       "      <th>0</th>\n",
       "      <td>8613.0</td>\n",
       "      <td>86.0</td>\n",
       "      <td>1.0</td>\n",
       "      <td>0.0</td>\n",
       "      <td>0.0</td>\n",
       "      <td>0.0</td>\n",
       "      <td>0.0</td>\n",
       "      <td>0.0</td>\n",
       "      <td>1</td>\n",
       "      <td>1</td>\n",
       "    </tr>\n",
       "    <tr>\n",
       "      <th>1</th>\n",
       "      <td>8606.0</td>\n",
       "      <td>66.0</td>\n",
       "      <td>22.0</td>\n",
       "      <td>2.0</td>\n",
       "      <td>4.0</td>\n",
       "      <td>0.0</td>\n",
       "      <td>0.0</td>\n",
       "      <td>0.0</td>\n",
       "      <td>41</td>\n",
       "      <td>2</td>\n",
       "    </tr>\n",
       "    <tr>\n",
       "      <th>2</th>\n",
       "      <td>8592.0</td>\n",
       "      <td>65.0</td>\n",
       "      <td>32.0</td>\n",
       "      <td>4.0</td>\n",
       "      <td>6.0</td>\n",
       "      <td>0.0</td>\n",
       "      <td>1.0</td>\n",
       "      <td>0.0</td>\n",
       "      <td>76</td>\n",
       "      <td>3</td>\n",
       "    </tr>\n",
       "    <tr>\n",
       "      <th>3</th>\n",
       "      <td>8575.0</td>\n",
       "      <td>64.0</td>\n",
       "      <td>39.0</td>\n",
       "      <td>8.0</td>\n",
       "      <td>10.0</td>\n",
       "      <td>0.0</td>\n",
       "      <td>4.0</td>\n",
       "      <td>0.0</td>\n",
       "      <td>125</td>\n",
       "      <td>4</td>\n",
       "    </tr>\n",
       "    <tr>\n",
       "      <th>4</th>\n",
       "      <td>8558.0</td>\n",
       "      <td>58.0</td>\n",
       "      <td>47.0</td>\n",
       "      <td>12.0</td>\n",
       "      <td>15.0</td>\n",
       "      <td>0.0</td>\n",
       "      <td>10.0</td>\n",
       "      <td>0.0</td>\n",
       "      <td>186</td>\n",
       "      <td>5</td>\n",
       "    </tr>\n",
       "    <tr>\n",
       "      <th>...</th>\n",
       "      <td>...</td>\n",
       "      <td>...</td>\n",
       "      <td>...</td>\n",
       "      <td>...</td>\n",
       "      <td>...</td>\n",
       "      <td>...</td>\n",
       "      <td>...</td>\n",
       "      <td>...</td>\n",
       "      <td>...</td>\n",
       "      <td>...</td>\n",
       "    </tr>\n",
       "    <tr>\n",
       "      <th>133</th>\n",
       "      <td>790.0</td>\n",
       "      <td>0.0</td>\n",
       "      <td>0.0</td>\n",
       "      <td>1.0</td>\n",
       "      <td>0.0</td>\n",
       "      <td>2.0</td>\n",
       "      <td>7860.0</td>\n",
       "      <td>47.0</td>\n",
       "      <td>31743</td>\n",
       "      <td>134</td>\n",
       "    </tr>\n",
       "    <tr>\n",
       "      <th>134</th>\n",
       "      <td>790.0</td>\n",
       "      <td>0.0</td>\n",
       "      <td>0.0</td>\n",
       "      <td>1.0</td>\n",
       "      <td>0.0</td>\n",
       "      <td>1.0</td>\n",
       "      <td>7861.0</td>\n",
       "      <td>47.0</td>\n",
       "      <td>31744</td>\n",
       "      <td>135</td>\n",
       "    </tr>\n",
       "    <tr>\n",
       "      <th>135</th>\n",
       "      <td>790.0</td>\n",
       "      <td>0.0</td>\n",
       "      <td>0.0</td>\n",
       "      <td>0.0</td>\n",
       "      <td>0.0</td>\n",
       "      <td>2.0</td>\n",
       "      <td>7861.0</td>\n",
       "      <td>47.0</td>\n",
       "      <td>31745</td>\n",
       "      <td>136</td>\n",
       "    </tr>\n",
       "    <tr>\n",
       "      <th>136</th>\n",
       "      <td>790.0</td>\n",
       "      <td>0.0</td>\n",
       "      <td>0.0</td>\n",
       "      <td>0.0</td>\n",
       "      <td>0.0</td>\n",
       "      <td>1.0</td>\n",
       "      <td>7862.0</td>\n",
       "      <td>47.0</td>\n",
       "      <td>31746</td>\n",
       "      <td>137</td>\n",
       "    </tr>\n",
       "    <tr>\n",
       "      <th>137</th>\n",
       "      <td>790.0</td>\n",
       "      <td>0.0</td>\n",
       "      <td>0.0</td>\n",
       "      <td>0.0</td>\n",
       "      <td>0.0</td>\n",
       "      <td>0.0</td>\n",
       "      <td>7863.0</td>\n",
       "      <td>47.0</td>\n",
       "      <td>31747</td>\n",
       "      <td>138</td>\n",
       "    </tr>\n",
       "  </tbody>\n",
       "</table>\n",
       "<p>138 rows × 10 columns</p>\n",
       "</div>"
      ],
      "text/plain": [
       "     Susceptible  Exposed  Infected_Presymptomatic  Infected_Symptomatic  \\\n",
       "0         8613.0     86.0                      1.0                   0.0   \n",
       "1         8606.0     66.0                     22.0                   2.0   \n",
       "2         8592.0     65.0                     32.0                   4.0   \n",
       "3         8575.0     64.0                     39.0                   8.0   \n",
       "4         8558.0     58.0                     47.0                  12.0   \n",
       "..           ...      ...                      ...                   ...   \n",
       "133        790.0      0.0                      0.0                   1.0   \n",
       "134        790.0      0.0                      0.0                   1.0   \n",
       "135        790.0      0.0                      0.0                   0.0   \n",
       "136        790.0      0.0                      0.0                   0.0   \n",
       "137        790.0      0.0                      0.0                   0.0   \n",
       "\n",
       "     Infected_Asymptomatic  Hospitalized  Recovered  Fatalities  T_index  Time  \n",
       "0                      0.0           0.0        0.0         0.0        1     1  \n",
       "1                      4.0           0.0        0.0         0.0       41     2  \n",
       "2                      6.0           0.0        1.0         0.0       76     3  \n",
       "3                     10.0           0.0        4.0         0.0      125     4  \n",
       "4                     15.0           0.0       10.0         0.0      186     5  \n",
       "..                     ...           ...        ...         ...      ...   ...  \n",
       "133                    0.0           2.0     7860.0        47.0    31743   134  \n",
       "134                    0.0           1.0     7861.0        47.0    31744   135  \n",
       "135                    0.0           2.0     7861.0        47.0    31745   136  \n",
       "136                    0.0           1.0     7862.0        47.0    31746   137  \n",
       "137                    0.0           0.0     7863.0        47.0    31747   138  \n",
       "\n",
       "[138 rows x 10 columns]"
      ]
     },
     "execution_count": 103,
     "metadata": {},
     "output_type": "execute_result"
    }
   ],
   "source": [
    "output_df"
   ]
  },
  {
   "cell_type": "code",
   "execution_count": 104,
   "metadata": {},
   "outputs": [
    {
     "data": {
      "image/png": "[encoded data removed]",
      "text/plain": [
       "<Figure size 864x576 with 1 Axes>"
      ]
     },
     "metadata": {
      "needs_background": "light"
     },
     "output_type": "display_data"
    },
    {
     "data": {
      "image/png": "[encoded data removed]",
      "text/plain": [
       "<Figure size 864x576 with 1 Axes>"
      ]
     },
     "metadata": {},
     "output_type": "display_data"
    },
    {
     "data": {
      "text/plain": [
       "31747"
      ]
     },
     "execution_count": 104,
     "metadata": {},
     "output_type": "execute_result"
    }
   ],
   "source": [
    "new_model.figure_infections()\n",
    "new_model.figure_basic()\n",
    "new_model.tidx"
   ]
  },
  {
   "cell_type": "markdown",
   "metadata": {},
   "source": [
    "### 5) Running the base model"
   ]
  },
  {
   "cell_type": "code",
   "execution_count": null,
   "metadata": {},
   "outputs": [],
   "source": [
    "# Model construction\n",
    "ref_model = ExtSEIRSNetworkModel(G=graph_1fq, p=prob_global_contact, beta=transmission_rate, sigma=progression_rate, gamma=recovery_rate, lamda=progression_rate, mu_H=crit_rate, eta=hosp_rate, a=prob_asymptomatic, f=death_rate, h=prob_symp_to_hosp, initI_sym=init_symp_cases, initI_asym=init_asymp_cases, store_Xseries=True)"
   ]
  },
  {
   "cell_type": "code",
   "execution_count": null,
   "metadata": {
    "tags": []
   },
   "outputs": [],
   "source": [
    "t_steps = 200\n",
    "node_states, simulation_results = run_simulation(ref_model, t_steps)"
   ]
  },
  {
   "cell_type": "code",
   "execution_count": null,
   "metadata": {},
   "outputs": [],
   "source": [
    "sim = pd.DataFrame(simulation_results)\n",
    "sim"
   ]
  },
  {
   "cell_type": "code",
   "execution_count": null,
   "metadata": {},
   "outputs": [],
   "source": [
    "# Model name for storage + store the model params in csv\n",
    "i = 0  # This is a number assigned to identify a particular network\n",
    "param_combo_i = 0  # This is a number assigned to identify a particular combination of parameters\n",
    "fig_name = f\"BaseSympModel{i}_{param_combo_i}\"\n",
    "add_model_name(\"experiments/model_names.csv\", fig_name, household_weight, neighbor_weight, food_weight, transmission_rate, recovery_rate, progression_rate, hosp_rate, round(sum(crit_rate)/len(crit_rate), 3), death_rate, init_symp_cases, init_asymp_cases, t_steps)"
   ]
  },
  {
   "cell_type": "code",
   "execution_count": null,
   "metadata": {},
   "outputs": [],
   "source": [
    "#here we set up a parallel computing to run experiments in parallel and aggregate the results"
   ]
  },
  {
   "cell_type": "code",
   "execution_count": null,
   "metadata": {},
   "outputs": [],
   "source": [
    "# Construct results dataframe\n",
    "output_df = results_to_df(simulation_results, store=True, store_name=f\"experiments/results/{fig_name}.csv\")"
   ]
  },
  {
   "cell_type": "code",
   "execution_count": null,
   "metadata": {},
   "outputs": [],
   "source": [
    "output_df"
   ]
  },
  {
   "cell_type": "code",
   "execution_count": null,
   "metadata": {},
   "outputs": [],
   "source": [
    "fig, ax = ref_model.figure_basic()#vlines=interventions.get_checkpoints()['t'])\n",
    "fig.savefig(f\"plots/{fig_name}_figBasic.png\")"
   ]
  },
  {
   "cell_type": "markdown",
   "metadata": {},
   "source": [
    "### 6) Define Interventions\n",
    "\n",
    "With the interventions module, we can create an intervention with just a time step and a custom network referring to that intervention, as well as remove/edit them from the list. The method get_checkpoints() will allow us to get the dictionary to be fed to the SEIRS+ model"
   ]
  },
  {
   "cell_type": "markdown",
   "metadata": {},
   "source": [
    "#### 6.1) First, define the intervention graphs"
   ]
  },
  {
   "cell_type": "code",
   "execution_count": null,
   "metadata": {},
   "outputs": [],
   "source": [
    "# This is social distancing within the food queue \n",
    "distancing_graph = remove_edges_from_graph(graph_1fq, scale=10, edge_label_list=[\"food\"], min_num_edges=4)\n",
    "\n",
    "# This also includes neighbor/friendship edges\n",
    "quarantine_graph = remove_edges_from_graph(graph_1fq, scale=2, edge_label_list=[\"food\", \"friendship\"], min_num_edges=2)\n",
    "\n",
    "# Create graphs with multiple sectoring of food queues - in this case, 1 and 2 queues per each block (4 and 8 food queues respectively)\n",
    "graph_4fq = create_multiple_food_queues(graph, 1, food_weight, nodes_per_struct, [grid_isoboxes, grid_block1, grid_block2, grid_block3])\n",
    "graph_8fq = create_multiple_food_queues(graph, 2, food_weight, nodes_per_struct, [grid_isoboxes, grid_block1, grid_block2, grid_block3])\n",
    "\n",
    "# Create quarantine graphs for the sectored graphs\n",
    "quarantine_graph_4fq = remove_edges_from_graph(graph_4fq, scale=2, edge_label_list=[f\"food_{i}\" for i in range(4)] + [\"friendship\"], min_num_edges=2)\n",
    "quarantine_graph_8fq = remove_edges_from_graph(graph_8fq, scale=2, edge_label_list=[f\"food_{i}\" for i in range(8)] + [\"friendship\"], min_num_edges=2)"
   ]
  },
  {
   "cell_type": "code",
   "execution_count": null,
   "metadata": {},
   "outputs": [],
   "source": [
    "min_D, max_D = min_degree(distancing_graph), max_degree(distancing_graph)\n",
    "print(\"Min degree:\", min_D, \"Max degree:\", max_D)\n",
    "\n",
    "# As we can see, there isn't much of a difference when we only cut food-queue interactions, \n",
    "# which means we need a harder distancing policy\n",
    "plot_degree_distn(distancing_graph, max_degree=max_D)"
   ]
  },
  {
   "cell_type": "code",
   "execution_count": null,
   "metadata": {},
   "outputs": [],
   "source": [
    "min_Q, max_Q = min_degree(quarantine_graph), max_degree(quarantine_graph)\n",
    "print(\"Min degree:\", min_Q, \"Max degree:\", max_Q)\n",
    "\n",
    "plot_degree_distn(quarantine_graph, max_degree=max_Q)"
   ]
  },
  {
   "cell_type": "code",
   "execution_count": null,
   "metadata": {},
   "outputs": [],
   "source": [
    "# 4 food queues \n",
    "min_4fq, max_4fq = min_degree(graph_4fq), max_degree(graph_4fq)\n",
    "print(\"Min degree:\", min_4fq, \"Max degree:\", max_4fq)\n",
    "\n",
    "plot_degree_distn(quarantine_graph, max_degree=max_4fq)"
   ]
  },
  {
   "cell_type": "code",
   "execution_count": null,
   "metadata": {},
   "outputs": [],
   "source": [
    "# 8 food queues\n",
    "min_8fq, max_8fq = min_degree(graph_8fq), max_degree(graph_8fq)\n",
    "print(\"Min degree:\", min_8fq, \"Max degree:\", max_8fq)\n",
    "\n",
    "plot_degree_distn(quarantine_graph, max_degree=max_8fq)"
   ]
  },
  {
   "cell_type": "markdown",
   "metadata": {},
   "source": [
    "#### 6.2) Construct the checkpoints"
   ]
  },
  {
   "cell_type": "code",
   "execution_count": null,
   "metadata": {},
   "outputs": [],
   "source": [
    "interventions = Interventions()\n",
    "reduction_percentage = 0.5\n",
    "\n",
    "# Simulate quarantine + masks\n",
    "q_start = 0\n",
    "interventions.add(quarantine_graph, q_start, beta=transmission_rate*reduction_percentage)\n",
    "\n",
    "# Simulate HALT of quarantine but people still have to wear masks\n",
    "q_end = 150\n",
    "interventions.add(graph_1fq, q_end, beta=transmission_rate*reduction_percentage)\n",
    "\n",
    "# Simulate HALT of wearing masks\n",
    "m_end = 200\n",
    "interventions.add(graph_1fq, m_end, beta=transmission_rate)\n",
    "\n",
    "checkpoints = interventions.get_checkpoints()"
   ]
  },
  {
   "cell_type": "markdown",
   "metadata": {},
   "source": [
    "### 7) Running the model with interventions"
   ]
  },
  {
   "cell_type": "code",
   "execution_count": null,
   "metadata": {},
   "outputs": [],
   "source": [
    "# Model construction with interventions on the model with 1 food queue\n",
    "interventions_model = ExtSEIRSNetworkModel(G=graph_1fq, Q=quarantine_graph, p=prob_global_contact, q=prob_quarantine_global_contact, beta=transmission_rate, sigma=progression_rate, gamma=recovery_rate, lamda=progression_rate, mu_H=crit_rate, eta=hosp_rate, a=prob_asymptomatic, f=death_rate, h=prob_symp_to_hosp, initI_sym=init_symp_cases, initI_asym=init_asymp_cases, store_Xseries=True)"
   ]
  },
  {
   "cell_type": "code",
   "execution_count": null,
   "metadata": {},
   "outputs": [],
   "source": [
    "t_steps = 200\n",
    "intervention_node_states, intervention_results = run_simulation(interventions_model, t_steps, checkpoints)"
   ]
  },
  {
   "cell_type": "code",
   "execution_count": null,
   "metadata": {},
   "outputs": [],
   "source": [
    "# Model name for storage + store the model params in csv\n",
    "i, param_combo_i = 0, 0\n",
    "fig_name = f\"InterventionsBaseModel{i}_{param_combo_i}\"\n",
    "add_model_name(\"experiments/model_names.csv\", fig_name, household_weight, neighbor_weight, food_weight, transmission_rate, recovery_rate, progression_rate, hosp_rate, round(sum(crit_rate)/len(crit_rate), 3), death_rate, init_symp_cases, init_asymp_cases, t_steps, f\"{q_start}-{q_end}\", reduction_percentage, f\"{q_start}-{m_end}\")\n"
   ]
  },
  {
   "cell_type": "code",
   "execution_count": null,
   "metadata": {},
   "outputs": [],
   "source": [
    "output_df = results_to_df(intervention_results, store=True, store_name=f\"experiments/results/{fig_name}.csv\")"
   ]
  },
  {
   "cell_type": "code",
   "execution_count": null,
   "metadata": {},
   "outputs": [],
   "source": [
    "output_df"
   ]
  },
  {
   "cell_type": "code",
   "execution_count": null,
   "metadata": {},
   "outputs": [],
   "source": [
    "fig, ax = interventions_model.figure_basic()#vlines=interventions.get_checkpoints()['t'])\n",
    "# fig.savefig(f\"plots/{fig_name}_figBasic.png\")"
   ]
  },
  {
   "cell_type": "markdown",
   "metadata": {},
   "source": [
    "#### 7.1) Running the base model with multiple food queues"
   ]
  },
  {
   "cell_type": "code",
   "execution_count": null,
   "metadata": {},
   "outputs": [],
   "source": [
    "# Model construction for multiple food queues but no more interventions\n",
    "model_4fq = ExtSEIRSNetworkModel(G=graph_4fq, p=prob_global_contact, beta=transmission_rate, sigma=progression_rate, gamma=recovery_rate, lamda=progression_rate, mu_H=crit_rate, eta=hosp_rate, a=prob_asymptomatic, f=death_rate, h=prob_symp_to_hosp, initI_sym=init_symp_cases, initI_asym=init_asymp_cases, store_Xseries=True)\n",
    "\n",
    "model_8fq = ExtSEIRSNetworkModel(G=graph_8fq, p=prob_global_contact, beta=transmission_rate, sigma=progression_rate, gamma=recovery_rate, lamda=progression_rate, mu_H=crit_rate, eta=hosp_rate, a=prob_asymptomatic, f=death_rate, h=prob_symp_to_hosp, initI_sym=init_symp_cases, initI_asym=init_asymp_cases, store_Xseries=True)"
   ]
  },
  {
   "cell_type": "code",
   "execution_count": null,
   "metadata": {},
   "outputs": [],
   "source": [
    "t_steps = 200\n",
    "node_states, simulation_results_4fq = run_simulation(model_4fq, t_steps)"
   ]
  },
  {
   "cell_type": "code",
   "execution_count": null,
   "metadata": {},
   "outputs": [],
   "source": [
    "# Model name for storage\n",
    "food_queue_number = 4\n",
    "i = 0\n",
    "fig_name = f\"MultFQ{food_queue_number}_Model{i}\"\n",
    "\n",
    "add_model_name(\"experiments/model_names.csv\", fig_name, household_weight, neighbor_weight, food_weight, transmission_rate, recovery_rate, progression_rate, hosp_rate, round(sum(crit_rate)/len(crit_rate), 3), death_rate, init_symp_cases, init_asymp_cases, t_steps)\n",
    "\t\t\t"
   ]
  },
  {
   "cell_type": "code",
   "execution_count": null,
   "metadata": {},
   "outputs": [],
   "source": [
    "output_df = results_to_df(simulation_results_4fq, store=True, store_name=f\"experiments/results/{fig_name}.csv\")\n"
   ]
  },
  {
   "cell_type": "code",
   "execution_count": null,
   "metadata": {},
   "outputs": [],
   "source": [
    "output_df"
   ]
  },
  {
   "cell_type": "code",
   "execution_count": null,
   "metadata": {},
   "outputs": [],
   "source": [
    "fig, ax = model_4fq.figure_basic()#vlines=interventions.get_checkpoints()['t'])\n",
    "# fig.savefig(f\"plots/{fig_name}_figBasic.png\")"
   ]
  },
  {
   "cell_type": "code",
   "execution_count": null,
   "metadata": {},
   "outputs": [],
   "source": [
    "t_steps = 200\n",
    "node_states, simulation_results_8fq = run_simulation(model_8fq, t_steps)"
   ]
  },
  {
   "cell_type": "code",
   "execution_count": null,
   "metadata": {},
   "outputs": [],
   "source": [
    "food_queue_number = 8\n",
    "i = 0\n",
    "fig_name = f\"MultFQ{food_queue_number}_Model{i}\"\n",
    "\n",
    "add_model_name(\"experiments/model_names.csv\", fig_name, household_weight, neighbor_weight, food_weight, transmission_rate, recovery_rate, progression_rate, hosp_rate, round(sum(crit_rate)/len(crit_rate), 3), death_rate, init_symp_cases, init_asymp_cases, t_steps)\n",
    "\t"
   ]
  },
  {
   "cell_type": "code",
   "execution_count": null,
   "metadata": {},
   "outputs": [],
   "source": [
    "output_df = results_to_df(simulation_results_8fq, store=True, store_name=f\"experiments/results/{fig_name}.csv\")\n"
   ]
  },
  {
   "cell_type": "code",
   "execution_count": null,
   "metadata": {},
   "outputs": [],
   "source": [
    "output_df"
   ]
  },
  {
   "cell_type": "code",
   "execution_count": null,
   "metadata": {},
   "outputs": [],
   "source": [
    "fig, ax = model_8fq.figure_basic()#vlines=interventions.get_checkpoints()['t'])\n",
    "# fig.savefig(f\"plots/{fig_name}_figBasic.png\")"
   ]
  },
  {
   "cell_type": "markdown",
   "metadata": {},
   "source": [
    "#### 7.2) Running the multiple food queues model with interventions"
   ]
  },
  {
   "cell_type": "code",
   "execution_count": null,
   "metadata": {},
   "outputs": [],
   "source": [
    "# Model construction for multiple food queues in addition to other interventions\n",
    "interventions_model_4fq = ExtSEIRSNetworkModel(G=graph_4fq, Q=quarantine_graph_4fq, p=prob_global_contact, q=prob_quarantine_global_contact, beta=transmission_rate, sigma=progression_rate, gamma=recovery_rate, lamda=progression_rate, mu_H=crit_rate, eta=hosp_rate, a=prob_asymptomatic, f=death_rate, h=prob_symp_to_hosp, initI_sym=init_symp_cases, initI_asym=init_asymp_cases, store_Xseries=True)\n",
    "\n",
    "interventions_model_8fq = ExtSEIRSNetworkModel(G=graph_8fq, Q=quarantine_graph_8fq, p=prob_global_contact, q=prob_quarantine_global_contact, beta=transmission_rate, sigma=progression_rate, gamma=recovery_rate, lamda=progression_rate, mu_H=crit_rate, eta=hosp_rate, a=prob_asymptomatic, f=death_rate, h=prob_symp_to_hosp, initI_sym=init_symp_cases, initI_asym=init_asymp_cases, store_Xseries=True)"
   ]
  },
  {
   "cell_type": "code",
   "execution_count": null,
   "metadata": {},
   "outputs": [],
   "source": [
    "## Interventions for graph with 4 food queues \n",
    "interventions.clear()\n",
    "\n",
    "# Amount by which wearing masks reduces the transmission rate\n",
    "reduction_percentage = 0.3\n",
    "\n",
    "# Simulate quarantine + masks\n",
    "q_start = 0\n",
    "interventions.add(quarantine_graph_4fq, q_start, beta=transmission_rate*reduction_percentage)\n",
    "\n",
    "# Simulate HALT of quarantine but people still have to wear masks\n",
    "q_end = 150\n",
    "interventions.add(graph_4fq, q_end, beta=transmission_rate*reduction_percentage)\n",
    "\n",
    "# Simulate HALT of wearing masks\n",
    "m_end = 200\n",
    "interventions.add(graph_4fq, m_end, beta=transmission_rate)\n",
    "\n",
    "checkpoints = interventions.get_checkpoints()"
   ]
  },
  {
   "cell_type": "code",
   "execution_count": null,
   "metadata": {},
   "outputs": [],
   "source": [
    "t_steps = 200\n",
    "node_states, intervention_results_4fq = run_simulation(interventions_model_4fq, t_steps)"
   ]
  },
  {
   "cell_type": "code",
   "execution_count": null,
   "metadata": {},
   "outputs": [],
   "source": [
    "# Model name for storage - adjust accordingly to interventions\n",
    "i = 0\n",
    "food_queue_number = 4\n",
    "fig_name = f\"InterventionsMultFQ{food_queue_number}_Model{i}\"\n",
    "\n",
    "add_model_name(\"experiments/model_names.csv\", fig_name, household_weight, neighbor_weight, food_weight, transmission_rate, recovery_rate, progression_rate, hosp_rate, round(sum(crit_rate)/len(crit_rate), 3), death_rate, init_symp_cases, init_asymp_cases, t_steps, f\"{q_start}-{q_end}\", reduction_percentage, f\"{q_start}-{m_end}\")\n"
   ]
  },
  {
   "cell_type": "code",
   "execution_count": null,
   "metadata": {},
   "outputs": [],
   "source": [
    "output_df = results_to_df(intervention_results_4fq, store=True, store_name=f\"experiments/results/{fig_name}.csv\")"
   ]
  },
  {
   "cell_type": "code",
   "execution_count": null,
   "metadata": {},
   "outputs": [],
   "source": [
    "output_df"
   ]
  },
  {
   "cell_type": "code",
   "execution_count": null,
   "metadata": {},
   "outputs": [],
   "source": [
    "fig, ax = interventions_model_4fq.figure_basic()#vlines=interventions.get_checkpoints()['t'])\n",
    "# fig.savefig(f\"plots/{fig_name}_figBasic.png\")"
   ]
  },
  {
   "cell_type": "code",
   "execution_count": null,
   "metadata": {},
   "outputs": [],
   "source": [
    "## Interventions for graph with 8 food queues \n",
    "interventions.clear()\n",
    "\n",
    "# Amount by which wearing masks reduces the transmission rate\n",
    "reduction_percentage = 0.3\n",
    "\n",
    "# Simulate quarantine + masks\n",
    "q_start = 0\n",
    "interventions.add(quarantine_graph_8fq, q_start, beta=transmission_rate*reduction_percentage)\n",
    "\n",
    "# Simulate HALT of quarantine but people still have to wear masks\n",
    "q_end = 150\n",
    "interventions.add(graph_8fq, q_end, beta=transmission_rate*reduction_percentage)\n",
    "\n",
    "# Simulate HALT of wearing masks\n",
    "m_end = 200\n",
    "interventions.add(graph_8fq, m_end, beta=transmission_rate)\n",
    "\n",
    "checkpoints = interventions.get_checkpoints()"
   ]
  },
  {
   "cell_type": "code",
   "execution_count": null,
   "metadata": {},
   "outputs": [],
   "source": [
    "t_steps = 200\n",
    "node_states, interventions_results_8fq = run_simulation(interventions_model_8fq, t_steps)"
   ]
  },
  {
   "cell_type": "code",
   "execution_count": null,
   "metadata": {},
   "outputs": [],
   "source": [
    "i = 0\n",
    "food_queue_number = 8\n",
    "fig_name = f\"InterventionsMultFQ{food_queue_number}_Model{i}\"\n",
    "\n",
    "add_model_name(\"experiments/model_names.csv\", fig_name, household_weight, neighbor_weight, food_weight, transmission_rate, recovery_rate, progression_rate, hosp_rate, round(sum(crit_rate)/len(crit_rate), 3), death_rate, init_symp_cases, init_asymp_cases, t_steps, f\"{q_start}-{q_end}\", reduction_percentage, f\"{q_start}-{m_end}\")"
   ]
  },
  {
   "cell_type": "code",
   "execution_count": null,
   "metadata": {},
   "outputs": [],
   "source": [
    "output_df = results_to_df(intervention_results_8fq, store=True, store_name=f\"experiments/results/{fig_name}.csv\")"
   ]
  },
  {
   "cell_type": "code",
   "execution_count": null,
   "metadata": {},
   "outputs": [],
   "source": [
    "output_df"
   ]
  },
  {
   "cell_type": "code",
   "execution_count": null,
   "metadata": {},
   "outputs": [],
   "source": [
    "fig, ax = interventions_model_8fq.figure_basic()#vlines=interventions.get_checkpoints()['t'])\n",
    "fig.savefig(f\"plots/{fig_name}_figBasic.png\")"
   ]
  }
 ],
 "metadata": {
  "kernelspec": {
   "display_name": "Python 3",
   "language": "python",
   "name": "python3"
  },
  "language_info": {
   "codemirror_mode": {
    "name": "ipython",
    "version": 3
   },
   "file_extension": ".py",
   "mimetype": "text/x-python",
   "name": "python",
   "nbconvert_exporter": "python",
   "pygments_lexer": "ipython3",
   "version": "3.8.5"
  },
  "widgets": {
   "application/vnd.jupyter.widget-state+json": {
    "state": {},
    "version_major": 2,
    "version_minor": 0
   }
  }
 },
 "nbformat": 4,
 "nbformat_minor": 4
}
