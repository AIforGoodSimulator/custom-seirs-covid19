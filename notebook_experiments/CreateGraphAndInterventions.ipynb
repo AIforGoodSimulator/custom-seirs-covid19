{
 "cells": [
  {
   "cell_type": "code",
   "execution_count": 4,
   "metadata": {},
   "outputs": [],
   "source": [
    "import networkx as nx\n",
    "import pandas as pd\n",
    "import numpy as np\n",
    "import matplotlib.pyplot as plt\n",
    "from scipy.stats import poisson\n",
    "from seirsplus.models import *\n",
    "from network_utils import *\n",
    "from stats_utils import *\n",
    "from intervention_utils import *\n",
    "from camp_networks import *\n",
    "import pickle as pkl"
   ]
  },
  {
   "cell_type": "markdown",
   "metadata": {},
   "source": [
    "### Parameters\n",
    "\n",
    "Here, we define the parameters taken from the Tucker model. These can be customized further and then the rest of the cells can be run. We are dividing the tents zones into 3 big blocks for grid/measuring proximity purposes"
   ]
  },
  {
   "cell_type": "code",
   "execution_count": 5,
   "metadata": {},
   "outputs": [],
   "source": [
    "n_pop = 18700\n",
    "\n",
    "# Grid info for isoboxes\n",
    "dims_isoboxes = (29, 28)  # 812\n",
    "\n",
    "# Grid info for tents\n",
    "dims_block1 = (20, 67)  # 1340\n",
    "dims_block2 = (53, 15)  # 795\n",
    "dims_block3 = (19, 28)  # 532\n",
    "\n",
    "# Isoboxes\n",
    "pop_isoboxes = 8100\n",
    "pop_per_isobox = 10\n",
    "n_isoboxes = dims_isoboxes[0]*dims_isoboxes[1]\n",
    "\n",
    "# Tents\n",
    "n_tents = 2650\n",
    "pop_tents = 10600\n",
    "pop_per_tent = 4\n",
    "\n",
    "# Others \n",
    "n_bathrooms = 144\n",
    "n_ethnic_groups = 8\n",
    "\n",
    "# We define neighboring structures within a range of 2 in the structure grid\n",
    "proximity = 2\n",
    "\n",
    "# Define the maximum population per structures (tents and isoboxes) drawn from a poisson distribution\n",
    "max_pop_per_struct = list(poisson.rvs(mu=pop_per_isobox, size=n_isoboxes))\n",
    "max_pop_per_struct = max_pop_per_struct + list(poisson.rvs(mu=pop_per_tent, size=dims_block1[0]*dims_block1[1]))\n",
    "max_pop_per_struct = max_pop_per_struct + list(poisson.rvs(mu=pop_per_tent, size=dims_block2[0]*dims_block2[1]))\n",
    "max_pop_per_struct = max_pop_per_struct + list(poisson.rvs(mu=pop_per_tent, size=dims_block3[0]*dims_block3[1]))\n",
    "\n",
    "n_structs = len(max_pop_per_struct)\n",
    "\n",
    "# Sample the population age, and parameter rates\n",
    "sample_pop = sample_population(n_pop, \"data/augmented_population.csv\")"
   ]
  },
  {
   "cell_type": "markdown",
   "metadata": {},
   "source": [
    "### Basic Network\n",
    "\n",
    "#### 1) Create graph for both isoboxes and tents"
   ]
  },
  {
   "cell_type": "code",
   "execution_count": 3,
   "metadata": {},
   "outputs": [
    {
     "name": "stderr",
     "output_type": "stream",
     "text": [
      "100%|██████████| 18700/18700 [00:08<00:00, 2188.71it/s]\n"
     ]
    }
   ],
   "source": [
    "household_weight = 0.98  # Edge weight for connections within each structure\n",
    "graph, nodes_per_struct = create_graph(n_structs, 0, n_pop, max_pop_per_struct, \n",
    "                                       edge_weight=household_weight, label=\"household\",\n",
    "                                       age_list=list(sample_pop[\"age\"]),\n",
    "                                       sex_list = list(sample_pop[\"sex\"]),\n",
    "                                       n_ethnicities=n_ethnic_groups)"
   ]
  },
  {
   "cell_type": "markdown",
   "metadata": {},
   "source": [
    "#### 2) Create the grids that will help with positioning when measuring proximity\n",
    "\n",
    "We will create 4 different grids: 1 for the isobox area and 3 for the big tent blocks"
   ]
  },
  {
   "cell_type": "code",
   "execution_count": 4,
   "metadata": {},
   "outputs": [],
   "source": [
    "grid_isoboxes = create_grid(dims_isoboxes[0], dims_isoboxes[1], 0)\n",
    "grid_block1 = create_grid(dims_block1[0], dims_block1[1], grid_isoboxes[-1][-1] + 1)\n",
    "grid_block2 = create_grid(dims_block2[0], dims_block2[1], grid_block1[-1][-1] + 1)\n",
    "grid_block3 = create_grid(dims_block3[0], dims_block3[1], grid_block2[-1][-1] + 1)"
   ]
  },
  {
   "cell_type": "markdown",
   "metadata": {},
   "source": [
    "#### 3) Connect the nodes that are within a certain degree of proximity\n",
    "\n",
    "We call the `connect_neighbors` method 4 times because we are connecting nodes within the isobox grid, and within the 3 other tent block grids"
   ]
  },
  {
   "cell_type": "code",
   "execution_count": 5,
   "metadata": {},
   "outputs": [],
   "source": [
    "neighbor_weight = 0.017\n",
    "graph = connect_neighbors(graph, 0, n_isoboxes, nodes_per_struct,\n",
    "                          grid_isoboxes, 2, neighbor_weight, 'friendship')\n",
    "graph = connect_neighbors(graph, dims_isoboxes[0]*dims_isoboxes[1], dims_block1[0]*dims_block1[1], nodes_per_struct,\n",
    "                          grid_block1, 2, neighbor_weight, 'friendship')\n",
    "graph = connect_neighbors(graph, dims_block1[0]*dims_block1[1], dims_block2[0]*dims_block2[1], nodes_per_struct,\n",
    "                          grid_block2, 2, neighbor_weight, 'friendship')\n",
    "graph = connect_neighbors(graph, dims_block2[0]*dims_block2[1], dims_block3[0]*dims_block3[1], nodes_per_struct,\n",
    "                          grid_block3, 2, neighbor_weight, 'friendship')"
   ]
  },
  {
   "cell_type": "markdown",
   "metadata": {},
   "source": [
    "#### 4) Connect the nodes that go to the food line - can be extended to all nodes\n",
    "Assumption: 2 people from each structure are randomly selected to get food, and then we connect each person from the food queue with the previous + next 5 people near them."
   ]
  },
  {
   "cell_type": "code",
   "execution_count": 6,
   "metadata": {},
   "outputs": [],
   "source": [
    "food_weight = 0.407 # Edge weight for connections in the food queue \n",
    "graph = connect_food_queue(graph, nodes_per_struct, food_weight, \"food\") "
   ]
  },
  {
   "cell_type": "markdown",
   "metadata": {},
   "source": [
    "#### 5) Plot the basic network degrees"
   ]
  },
  {
   "cell_type": "code",
   "execution_count": 7,
   "metadata": {},
   "outputs": [
    {
     "data": {
      "text/plain": [
       "(0, 191)"
      ]
     },
     "execution_count": 7,
     "metadata": {},
     "output_type": "execute_result"
    }
   ],
   "source": [
    "min_G, max_G = min_degree(graph), max_degree(graph)\n",
    "min_G, max_G"
   ]
  },
  {
   "cell_type": "code",
   "execution_count": 8,
   "metadata": {},
   "outputs": [
    {
     "data": {
      "image/png": "[encoded data removed]",
      "text/plain": [
       "<Figure size 432x288 with 1 Axes>"
      ]
     },
     "metadata": {},
     "output_type": "display_data"
    }
   ],
   "source": [
    "plot_degree_distn(graph, max_degree=max_G)"
   ]
  },
  {
   "cell_type": "markdown",
   "metadata": {},
   "source": [
    "#### 6) Create node groups of 10 year age bucket to track the results"
   ]
  },
  {
   "cell_type": "code",
   "execution_count": 9,
   "metadata": {},
   "outputs": [],
   "source": [
    "node_groups=create_node_groups(graph)"
   ]
  },
  {
   "cell_type": "code",
   "execution_count": 6,
   "metadata": {},
   "outputs": [],
   "source": [
    "with open(\"baseGraph.pkl\", \"rb\") as f:\n",
    "    graph = pkl.load(f)"
   ]
  },
  {
   "cell_type": "markdown",
   "metadata": {},
   "source": [
    "### Interventions\n",
    "\n",
    "With the interventions module, we can create an intervention with just a time step and a custom network referring to that intervention, as well as remove/edit them from the list. The method get_checkpoints() will allow us to get the dictionary to be fed to the SEIRS+ model"
   ]
  },
  {
   "cell_type": "code",
   "execution_count": 23,
   "metadata": {},
   "outputs": [],
   "source": [
    "# This is social distancing within the food queue \n",
    "distancing_graph = create_distancing_graph(graph, scale=10, min_num_edges=4)\n",
    "\n",
    "# This also includes neighbor/friendship edges\n",
    "quarantine_graph = create_quarantine_graph(graph, scale=2, min_num_edges=2)"
   ]
  },
  {
   "cell_type": "code",
   "execution_count": 24,
   "metadata": {},
   "outputs": [
    {
     "data": {
      "text/plain": [
       "(0, 194)"
      ]
     },
     "execution_count": 24,
     "metadata": {},
     "output_type": "execute_result"
    }
   ],
   "source": [
    "min_D, max_D = min_degree(distancing_graph), max_degree(distancing_graph)\n",
    "min_D, max_D"
   ]
  },
  {
   "cell_type": "code",
   "execution_count": 25,
   "metadata": {},
   "outputs": [
    {
     "data": {
      "image/png": "[encoded data removed]",
      "text/plain": [
       "<Figure size 432x288 with 1 Axes>"
      ]
     },
     "metadata": {},
     "output_type": "display_data"
    }
   ],
   "source": [
    "# As we can see, there isn't much of a difference when we only cut food-queue interactions, \n",
    "# which means we need a harder distancing policy\n",
    "plot_degree_distn(distancing_graph, max_degree=max_D)"
   ]
  },
  {
   "cell_type": "code",
   "execution_count": 26,
   "metadata": {},
   "outputs": [
    {
     "data": {
      "text/plain": [
       "(0, 21)"
      ]
     },
     "execution_count": 26,
     "metadata": {},
     "output_type": "execute_result"
    }
   ],
   "source": [
    "min_Q, max_Q = min_degree(quarantine_graph), max_degree(quarantine_graph)\n",
    "min_Q, max_Q"
   ]
  },
  {
   "cell_type": "code",
   "execution_count": 27,
   "metadata": {},
   "outputs": [
    {
     "data": {
      "image/png": "[encoded data removed]",
      "text/plain": [
       "<Figure size 432x288 with 1 Axes>"
      ]
     },
     "metadata": {},
     "output_type": "display_data"
    }
   ],
   "source": [
    "plot_degree_distn(quarantine_graph, max_degree=max_Q)"
   ]
  },
  {
   "cell_type": "markdown",
   "metadata": {},
   "source": [
    "### 4) Define model parameters"
   ]
  },
  {
   "cell_type": "code",
   "execution_count": 28,
   "metadata": {},
   "outputs": [],
   "source": [
    "household_weight = 0.98  # Edge weight for connections within each structure\n",
    "neighbor_weight = 0.017\n",
    "food_weight = 0.407 # Edge weight for connections in the food queue \n",
    "\n",
    "transmission_rate = 1.28\n",
    "progression_rate = 1/5.1\n",
    "recovery_rate = 0.056 # Approx 1/18 -> Recovery occurs after 18 days\n",
    "hosp_rate = 1/11.4 #1/6.3 # From Tucker Model\n",
    "# crit_rate = 0.3 # From camp_params\n",
    "crit_rate = list(sample_pop[\"death_rate\"] / (sample_pop[\"prob_symptomatic\"] * sample_pop[\"prob_hospitalisation\"]))\n",
    "\n",
    "\n",
    "prob_global_contact = 1\n",
    "prob_detected_global_contact = 1\n",
    "\n",
    "prob_hosp_to_critical = list(sample_pop[\"death_rate\"]/sample_pop[\"prob_hospitalisation\"])\n",
    "prob_asymptomatic = list(1 - sample_pop[\"prob_symptomatic\"])\n",
    "prob_symp_to_hosp = list(sample_pop[\"prob_hospitalisation\"])\n",
    "\n",
    "init_symp_cases = 1\n",
    "init_asymp_cases = 0"
   ]
  },
  {
   "cell_type": "code",
   "execution_count": 29,
   "metadata": {},
   "outputs": [],
   "source": [
    "interventions = Interventions()\n",
    "\n",
    "# Simulate quarantine\n",
    "interventions.add(quarantine_graph, 3, beta=transmission_rate)\n",
    "\n",
    "# Simulate wearing masks\n",
    "reduction_percentage = 0.5\n",
    "interventions.add(graph, 63, beta=transmission_rate*reduction_percentage)\n",
    "\n",
    "# Simulate HALT of wearing masks\n",
    "interventions.add(graph, 93, beta=transmission_rate)\n",
    "\n",
    "checkpoints = dict(interventions.checkpoints)"
   ]
  },
  {
   "cell_type": "code",
   "execution_count": 13,
   "metadata": {},
   "outputs": [
    {
     "data": {
      "text/plain": [
       "{'G': [<networkx.classes.graph.Graph at 0x7fd1058c3a90>,\n",
       "  <networkx.classes.graph.Graph at 0x7fd10719ba10>,\n",
       "  <networkx.classes.graph.Graph at 0x7fd10719ba10>],\n",
       " 't': [3, 63, 93],\n",
       " 'beta': [1.28, 0.64, 1.28]}"
      ]
     },
     "execution_count": 13,
     "metadata": {},
     "output_type": "execute_result"
    }
   ],
   "source": [
    "checkpoints"
   ]
  },
  {
   "cell_type": "markdown",
   "metadata": {},
   "source": [
    "### Running the model"
   ]
  },
  {
   "cell_type": "code",
   "execution_count": 16,
   "metadata": {},
   "outputs": [],
   "source": [
    "# checkpoints = interventions.get_checkpoints()\n",
    "\n",
    "ref_model = SymptomaticSEIRSNetworkModel(G=graph, beta=transmission_rate, sigma=progression_rate, gamma=recovery_rate, \n",
    "                                         lamda=progression_rate, mu_H=crit_rate, eta=hosp_rate, p=prob_global_contact, a=prob_asymptomatic, f=0.75, \n",
    "                                         h=prob_symp_to_hosp, q=prob_detected_global_contact, initI_S=init_symp_cases, initI_A=init_asymp_cases, store_Xseries=True)\n"
   ]
  },
  {
   "cell_type": "code",
   "execution_count": 17,
   "metadata": {
    "collapsed": true,
    "jupyter": {
     "outputs_hidden": true
    }
   },
   "outputs": [
    {
     "name": "stderr",
     "output_type": "stream",
     "text": [
      "  0%|          | 0/100 [00:00<?, ?it/s]"
     ]
    },
    {
     "name": "stdout",
     "output_type": "stream",
     "text": [
      "Running simulation for 100 steps...\n",
      "\n"
     ]
    },
    {
     "name": "stderr",
     "output_type": "stream",
     "text": [
      "  3%|▎         | 3/100 [00:02<01:20,  1.21it/s]"
     ]
    },
    {
     "name": "stdout",
     "output_type": "stream",
     "text": [
      "[Checkpoint: Updating parameters]\n"
     ]
    },
    {
     "name": "stderr",
     "output_type": "stream",
     "text": [
      " 10%|█         | 10/100 [00:11<01:59,  1.32s/it]"
     ]
    },
    {
     "name": "stdout",
     "output_type": "stream",
     "text": [
      "t = 10.01\n",
      "\t S     = 18655.0\n",
      "\t E     = 33.0\n",
      "\t I_pre = 3.0\n",
      "\t I_S   = 3.0\n",
      "\t I_A   = 4.0\n",
      "\t H     = 0.0\n",
      "\t R     = 2.0\n",
      "\t F     = 0.0\n",
      "\t D_E   = 0.0\n",
      "\t D_pre = 0.0\n",
      "\t D_S   = 0.0\n",
      "\t D_A   = 0.0\n",
      "t = 10.11\n",
      "\t S     = 18655.0\n",
      "\t E     = 32.0\n",
      "\t I_pre = 4.0\n",
      "\t I_S   = 3.0\n",
      "\t I_A   = 4.0\n",
      "\t H     = 0.0\n",
      "\t R     = 2.0\n",
      "\t F     = 0.0\n",
      "\t D_E   = 0.0\n",
      "\t D_pre = 0.0\n",
      "\t D_S   = 0.0\n",
      "\t D_A   = 0.0\n"
     ]
    },
    {
     "name": "stderr",
     "output_type": "stream",
     "text": [
      " 20%|██        | 20/100 [00:58<10:37,  7.97s/it]"
     ]
    },
    {
     "name": "stdout",
     "output_type": "stream",
     "text": [
      "t = 20.00\n",
      "\t S     = 16669.0\n",
      "\t E     = 1340.0\n",
      "\t I_pre = 458.0\n",
      "\t I_S   = 72.0\n",
      "\t I_A   = 133.0\n",
      "\t H     = 0.0\n",
      "\t R     = 28.0\n",
      "\t F     = 0.0\n",
      "\t D_E   = 0.0\n",
      "\t D_pre = 0.0\n",
      "\t D_S   = 0.0\n",
      "\t D_A   = 0.0\n",
      "t = 20.01\n",
      "\t S     = 16668.0\n",
      "\t E     = 1341.0\n",
      "\t I_pre = 458.0\n",
      "\t I_S   = 72.0\n",
      "\t I_A   = 133.0\n",
      "\t H     = 0.0\n",
      "\t R     = 28.0\n",
      "\t F     = 0.0\n",
      "\t D_E   = 0.0\n",
      "\t D_pre = 0.0\n",
      "\t D_S   = 0.0\n",
      "\t D_A   = 0.0\n"
     ]
    },
    {
     "name": "stderr",
     "output_type": "stream",
     "text": [
      " 30%|███       | 30/100 [07:29<50:58, 43.70s/it]"
     ]
    },
    {
     "name": "stdout",
     "output_type": "stream",
     "text": [
      "t = 30.00\n",
      "\t S     = 797.0\n",
      "\t E     = 6793.0\n",
      "\t I_pre = 5513.0\n",
      "\t I_S   = 1798.0\n",
      "\t I_A   = 2889.0\n",
      "\t H     = 16.0\n",
      "\t R     = 879.0\n",
      "\t F     = 15.0\n",
      "\t D_E   = 0.0\n",
      "\t D_pre = 0.0\n",
      "\t D_S   = 0.0\n",
      "\t D_A   = 0.0\n",
      "t = 30.00\n",
      "\t S     = 797.0\n",
      "\t E     = 6793.0\n",
      "\t I_pre = 5512.0\n",
      "\t I_S   = 1798.0\n",
      "\t I_A   = 2890.0\n",
      "\t H     = 16.0\n",
      "\t R     = 879.0\n",
      "\t F     = 15.0\n",
      "\t D_E   = 0.0\n",
      "\t D_pre = 0.0\n",
      "\t D_S   = 0.0\n",
      "\t D_A   = 0.0\n"
     ]
    },
    {
     "name": "stderr",
     "output_type": "stream",
     "text": [
      " 40%|████      | 40/100 [12:31<24:26, 24.45s/it]"
     ]
    },
    {
     "name": "stdout",
     "output_type": "stream",
     "text": [
      "t = 40.00\n",
      "\t S     = 0.0\n",
      "\t E     = 1085.0\n",
      "\t I_pre = 2912.0\n",
      "\t I_S   = 3664.0\n",
      "\t I_A   = 5636.0\n",
      "\t H     = 50.0\n",
      "\t R     = 5209.0\n",
      "\t F     = 144.0\n",
      "\t D_E   = 0.0\n",
      "\t D_pre = 0.0\n",
      "\t D_S   = 0.0\n",
      "\t D_A   = 0.0\n",
      "t = 40.00\n",
      "\t S     = 0.0\n",
      "\t E     = 1085.0\n",
      "\t I_pre = 2912.0\n",
      "\t I_S   = 3663.0\n",
      "\t I_A   = 5636.0\n",
      "\t H     = 50.0\n",
      "\t R     = 5210.0\n",
      "\t F     = 144.0\n",
      "\t D_E   = 0.0\n",
      "\t D_pre = 0.0\n",
      "\t D_S   = 0.0\n",
      "\t D_A   = 0.0\n"
     ]
    },
    {
     "name": "stderr",
     "output_type": "stream",
     "text": [
      " 50%|█████     | 50/100 [14:51<10:16, 12.34s/it]"
     ]
    },
    {
     "name": "stdout",
     "output_type": "stream",
     "text": [
      "t = 50.00\n",
      "\t S     = 0.0\n",
      "\t E     = 159.0\n",
      "\t I_pre = 730.0\n",
      "\t I_S   = 2890.0\n",
      "\t I_A   = 4574.0\n",
      "\t H     = 43.0\n",
      "\t R     = 9999.0\n",
      "\t F     = 305.0\n",
      "\t D_E   = 0.0\n",
      "\t D_pre = 0.0\n",
      "\t D_S   = 0.0\n",
      "\t D_A   = 0.0\n",
      "t = 50.00\n",
      "\t S     = 0.0\n",
      "\t E     = 159.0\n",
      "\t I_pre = 729.0\n",
      "\t I_S   = 2890.0\n",
      "\t I_A   = 4575.0\n",
      "\t H     = 43.0\n",
      "\t R     = 9999.0\n",
      "\t F     = 305.0\n",
      "\t D_E   = 0.0\n",
      "\t D_pre = 0.0\n",
      "\t D_S   = 0.0\n",
      "\t D_A   = 0.0\n"
     ]
    },
    {
     "name": "stderr",
     "output_type": "stream",
     "text": [
      " 60%|██████    | 60/100 [16:05<04:25,  6.63s/it]"
     ]
    },
    {
     "name": "stdout",
     "output_type": "stream",
     "text": [
      "t = 60.01\n",
      "\t S     = 0.0\n",
      "\t E     = 26.0\n",
      "\t I_pre = 148.0\n",
      "\t I_S   = 1812.0\n",
      "\t I_A   = 2872.0\n",
      "\t H     = 41.0\n",
      "\t R     = 13375.0\n",
      "\t F     = 426.0\n",
      "\t D_E   = 0.0\n",
      "\t D_pre = 0.0\n",
      "\t D_S   = 0.0\n",
      "\t D_A   = 0.0\n",
      "t = 60.01\n",
      "\t S     = 0.0\n",
      "\t E     = 26.0\n",
      "\t I_pre = 148.0\n",
      "\t I_S   = 1812.0\n",
      "\t I_A   = 2871.0\n",
      "\t H     = 41.0\n",
      "\t R     = 13376.0\n",
      "\t F     = 426.0\n",
      "\t D_E   = 0.0\n",
      "\t D_pre = 0.0\n",
      "\t D_S   = 0.0\n",
      "\t D_A   = 0.0\n"
     ]
    },
    {
     "name": "stderr",
     "output_type": "stream",
     "text": [
      " 62%|██████▏   | 62/100 [16:17<03:56,  6.23s/it]"
     ]
    },
    {
     "name": "stdout",
     "output_type": "stream",
     "text": [
      "[Checkpoint: Updating parameters]\n"
     ]
    },
    {
     "name": "stderr",
     "output_type": "stream",
     "text": [
      " 70%|███████   | 70/100 [16:57<02:23,  4.77s/it]"
     ]
    },
    {
     "name": "stdout",
     "output_type": "stream",
     "text": [
      "t = 70.00\n",
      "\t S     = 0.0\n",
      "\t E     = 3.0\n",
      "\t I_pre = 33.0\n",
      "\t I_S   = 1025.0\n",
      "\t I_A   = 1705.0\n",
      "\t H     = 21.0\n",
      "\t R     = 15405.0\n",
      "\t F     = 508.0\n",
      "\t D_E   = 0.0\n",
      "\t D_pre = 0.0\n",
      "\t D_S   = 0.0\n",
      "\t D_A   = 0.0\n",
      "t = 70.00\n",
      "\t S     = 0.0\n",
      "\t E     = 3.0\n",
      "\t I_pre = 33.0\n",
      "\t I_S   = 1025.0\n",
      "\t I_A   = 1704.0\n",
      "\t H     = 21.0\n",
      "\t R     = 15406.0\n",
      "\t F     = 508.0\n",
      "\t D_E   = 0.0\n",
      "\t D_pre = 0.0\n",
      "\t D_S   = 0.0\n",
      "\t D_A   = 0.0\n"
     ]
    },
    {
     "name": "stderr",
     "output_type": "stream",
     "text": [
      " 80%|████████  | 80/100 [17:36<01:13,  3.67s/it]"
     ]
    },
    {
     "name": "stdout",
     "output_type": "stream",
     "text": [
      "t = 80.00\n",
      "\t S     = 0.0\n",
      "\t E     = 2.0\n",
      "\t I_pre = 6.0\n",
      "\t I_S   = 587.0\n",
      "\t I_A   = 980.0\n",
      "\t H     = 6.0\n",
      "\t R     = 16565.0\n",
      "\t F     = 554.0\n",
      "\t D_E   = 0.0\n",
      "\t D_pre = 0.0\n",
      "\t D_S   = 0.0\n",
      "\t D_A   = 0.0\n",
      "t = 80.05\n",
      "\t S     = 0.0\n",
      "\t E     = 2.0\n",
      "\t I_pre = 6.0\n",
      "\t I_S   = 587.0\n",
      "\t I_A   = 979.0\n",
      "\t H     = 6.0\n",
      "\t R     = 16566.0\n",
      "\t F     = 554.0\n",
      "\t D_E   = 0.0\n",
      "\t D_pre = 0.0\n",
      "\t D_S   = 0.0\n",
      "\t D_A   = 0.0\n"
     ]
    },
    {
     "name": "stderr",
     "output_type": "stream",
     "text": [
      " 90%|█████████ | 90/100 [18:06<00:28,  2.87s/it]"
     ]
    },
    {
     "name": "stdout",
     "output_type": "stream",
     "text": [
      "t = 90.00\n",
      "\t S     = 0.0\n",
      "\t E     = 0.0\n",
      "\t I_pre = 2.0\n",
      "\t I_S   = 341.0\n",
      "\t I_A   = 538.0\n",
      "\t H     = 3.0\n",
      "\t R     = 17241.0\n",
      "\t F     = 575.0\n",
      "\t D_E   = 0.0\n",
      "\t D_pre = 0.0\n",
      "\t D_S   = 0.0\n",
      "\t D_A   = 0.0\n",
      "t = 90.00\n",
      "\t S     = 0.0\n",
      "\t E     = 0.0\n",
      "\t I_pre = 2.0\n",
      "\t I_S   = 341.0\n",
      "\t I_A   = 537.0\n",
      "\t H     = 3.0\n",
      "\t R     = 17242.0\n",
      "\t F     = 575.0\n",
      "\t D_E   = 0.0\n",
      "\t D_pre = 0.0\n",
      "\t D_S   = 0.0\n",
      "\t D_A   = 0.0\n"
     ]
    },
    {
     "name": "stderr",
     "output_type": "stream",
     "text": [
      " 92%|█████████▏| 92/100 [18:12<00:22,  2.87s/it]"
     ]
    },
    {
     "name": "stdout",
     "output_type": "stream",
     "text": [
      "[Checkpoint: Updating parameters]\n"
     ]
    },
    {
     "name": "stderr",
     "output_type": "stream",
     "text": [
      "100%|██████████| 100/100 [18:34<00:00, 11.15s/it]"
     ]
    },
    {
     "name": "stdout",
     "output_type": "stream",
     "text": [
      "t = 100.05\n",
      "\t S     = 0.0\n",
      "\t E     = 0.0\n",
      "\t I_pre = 0.0\n",
      "\t I_S   = 192.0\n",
      "\t I_A   = 313.0\n",
      "\t H     = 4.0\n",
      "\t R     = 17604.0\n",
      "\t F     = 587.0\n",
      "\t D_E   = 0.0\n",
      "\t D_pre = 0.0\n",
      "\t D_S   = 0.0\n",
      "\t D_A   = 0.0\n"
     ]
    },
    {
     "name": "stderr",
     "output_type": "stream",
     "text": [
      "\n"
     ]
    }
   ],
   "source": [
    "node_states, sim_results = run_simulation(ref_model, 100, checkpoints, print_info=True)"
   ]
  },
  {
   "cell_type": "code",
   "execution_count": 19,
   "metadata": {},
   "outputs": [],
   "source": [
    "fig_name = f\"SymptomaticModel_Houseweight={household_weight}_NeighWeight={neighbor_weight}_FoodWeight={food_weight}_ + \\\n",
    "TransRate={transmission_rate}_RecRate={recovery_rate}_ProgRate={progression_rate}_HospRate={hosp_rate}_initI_S={init_symp_cases}_initI_A={init_asymp_cases}\""
   ]
  },
  {
   "cell_type": "code",
   "execution_count": 20,
   "metadata": {},
   "outputs": [],
   "source": [
    "complement = \"quarantineStart=3_meanDegree=6_deathRate=0.75_tsteps=200\"\n",
    "output_df = results_to_df(sim_results, store=True, store_name=f\"{fig_name}_{complement}\")"
   ]
  },
  {
   "cell_type": "code",
   "execution_count": 21,
   "metadata": {},
   "outputs": [
    {
     "data": {
      "text/html": [
       "<div>\n",
       "<style scoped>\n",
       "    .dataframe tbody tr th:only-of-type {\n",
       "        vertical-align: middle;\n",
       "    }\n",
       "\n",
       "    .dataframe tbody tr th {\n",
       "        vertical-align: top;\n",
       "    }\n",
       "\n",
       "    .dataframe thead th {\n",
       "        text-align: right;\n",
       "    }\n",
       "</style>\n",
       "<table border=\"1\" class=\"dataframe\">\n",
       "  <thead>\n",
       "    <tr style=\"text-align: right;\">\n",
       "      <th></th>\n",
       "      <th>Susceptible</th>\n",
       "      <th>Exposed</th>\n",
       "      <th>Infected_Presymptomatic</th>\n",
       "      <th>Infected_Symptomatic</th>\n",
       "      <th>Infected_Asymptomatic</th>\n",
       "      <th>Hospitalized</th>\n",
       "      <th>Recovered</th>\n",
       "      <th>Fatalities</th>\n",
       "      <th>Detected_Presymptomatic</th>\n",
       "      <th>Detected_Symptomatic</th>\n",
       "      <th>Detected_Asymptomatic</th>\n",
       "      <th>T_index</th>\n",
       "      <th>Time</th>\n",
       "    </tr>\n",
       "  </thead>\n",
       "  <tbody>\n",
       "    <tr>\n",
       "      <th>0</th>\n",
       "      <td>18698.0</td>\n",
       "      <td>1.0</td>\n",
       "      <td>0.0</td>\n",
       "      <td>1.0</td>\n",
       "      <td>0.0</td>\n",
       "      <td>0.0</td>\n",
       "      <td>0.0</td>\n",
       "      <td>0.0</td>\n",
       "      <td>0.0</td>\n",
       "      <td>0.0</td>\n",
       "      <td>0.0</td>\n",
       "      <td>1</td>\n",
       "      <td>1</td>\n",
       "    </tr>\n",
       "    <tr>\n",
       "      <th>1</th>\n",
       "      <td>18697.0</td>\n",
       "      <td>2.0</td>\n",
       "      <td>0.0</td>\n",
       "      <td>1.0</td>\n",
       "      <td>0.0</td>\n",
       "      <td>0.0</td>\n",
       "      <td>0.0</td>\n",
       "      <td>0.0</td>\n",
       "      <td>0.0</td>\n",
       "      <td>0.0</td>\n",
       "      <td>0.0</td>\n",
       "      <td>2</td>\n",
       "      <td>2</td>\n",
       "    </tr>\n",
       "    <tr>\n",
       "      <th>2</th>\n",
       "      <td>18695.0</td>\n",
       "      <td>4.0</td>\n",
       "      <td>0.0</td>\n",
       "      <td>1.0</td>\n",
       "      <td>0.0</td>\n",
       "      <td>0.0</td>\n",
       "      <td>0.0</td>\n",
       "      <td>0.0</td>\n",
       "      <td>0.0</td>\n",
       "      <td>0.0</td>\n",
       "      <td>0.0</td>\n",
       "      <td>4</td>\n",
       "      <td>3</td>\n",
       "    </tr>\n",
       "    <tr>\n",
       "      <th>3</th>\n",
       "      <td>18693.0</td>\n",
       "      <td>6.0</td>\n",
       "      <td>0.0</td>\n",
       "      <td>1.0</td>\n",
       "      <td>0.0</td>\n",
       "      <td>0.0</td>\n",
       "      <td>0.0</td>\n",
       "      <td>0.0</td>\n",
       "      <td>0.0</td>\n",
       "      <td>0.0</td>\n",
       "      <td>0.0</td>\n",
       "      <td>6</td>\n",
       "      <td>4</td>\n",
       "    </tr>\n",
       "    <tr>\n",
       "      <th>4</th>\n",
       "      <td>18692.0</td>\n",
       "      <td>6.0</td>\n",
       "      <td>1.0</td>\n",
       "      <td>1.0</td>\n",
       "      <td>0.0</td>\n",
       "      <td>0.0</td>\n",
       "      <td>0.0</td>\n",
       "      <td>0.0</td>\n",
       "      <td>0.0</td>\n",
       "      <td>0.0</td>\n",
       "      <td>0.0</td>\n",
       "      <td>8</td>\n",
       "      <td>5</td>\n",
       "    </tr>\n",
       "    <tr>\n",
       "      <th>...</th>\n",
       "      <td>...</td>\n",
       "      <td>...</td>\n",
       "      <td>...</td>\n",
       "      <td>...</td>\n",
       "      <td>...</td>\n",
       "      <td>...</td>\n",
       "      <td>...</td>\n",
       "      <td>...</td>\n",
       "      <td>...</td>\n",
       "      <td>...</td>\n",
       "      <td>...</td>\n",
       "      <td>...</td>\n",
       "      <td>...</td>\n",
       "    </tr>\n",
       "    <tr>\n",
       "      <th>95</th>\n",
       "      <td>0.0</td>\n",
       "      <td>0.0</td>\n",
       "      <td>0.0</td>\n",
       "      <td>241.0</td>\n",
       "      <td>384.0</td>\n",
       "      <td>5.0</td>\n",
       "      <td>17487.0</td>\n",
       "      <td>583.0</td>\n",
       "      <td>0.0</td>\n",
       "      <td>0.0</td>\n",
       "      <td>0.0</td>\n",
       "      <td>74780</td>\n",
       "      <td>96</td>\n",
       "    </tr>\n",
       "    <tr>\n",
       "      <th>96</th>\n",
       "      <td>0.0</td>\n",
       "      <td>0.0</td>\n",
       "      <td>0.0</td>\n",
       "      <td>226.0</td>\n",
       "      <td>365.0</td>\n",
       "      <td>6.0</td>\n",
       "      <td>17520.0</td>\n",
       "      <td>583.0</td>\n",
       "      <td>0.0</td>\n",
       "      <td>0.0</td>\n",
       "      <td>0.0</td>\n",
       "      <td>74814</td>\n",
       "      <td>97</td>\n",
       "    </tr>\n",
       "    <tr>\n",
       "      <th>97</th>\n",
       "      <td>0.0</td>\n",
       "      <td>0.0</td>\n",
       "      <td>0.0</td>\n",
       "      <td>210.0</td>\n",
       "      <td>343.0</td>\n",
       "      <td>5.0</td>\n",
       "      <td>17557.0</td>\n",
       "      <td>585.0</td>\n",
       "      <td>0.0</td>\n",
       "      <td>0.0</td>\n",
       "      <td>0.0</td>\n",
       "      <td>74854</td>\n",
       "      <td>98</td>\n",
       "    </tr>\n",
       "    <tr>\n",
       "      <th>98</th>\n",
       "      <td>0.0</td>\n",
       "      <td>0.0</td>\n",
       "      <td>0.0</td>\n",
       "      <td>201.0</td>\n",
       "      <td>325.0</td>\n",
       "      <td>4.0</td>\n",
       "      <td>17584.0</td>\n",
       "      <td>586.0</td>\n",
       "      <td>0.0</td>\n",
       "      <td>0.0</td>\n",
       "      <td>0.0</td>\n",
       "      <td>74882</td>\n",
       "      <td>99</td>\n",
       "    </tr>\n",
       "    <tr>\n",
       "      <th>99</th>\n",
       "      <td>0.0</td>\n",
       "      <td>0.0</td>\n",
       "      <td>0.0</td>\n",
       "      <td>192.0</td>\n",
       "      <td>313.0</td>\n",
       "      <td>4.0</td>\n",
       "      <td>17604.0</td>\n",
       "      <td>587.0</td>\n",
       "      <td>0.0</td>\n",
       "      <td>0.0</td>\n",
       "      <td>0.0</td>\n",
       "      <td>74904</td>\n",
       "      <td>100</td>\n",
       "    </tr>\n",
       "  </tbody>\n",
       "</table>\n",
       "<p>100 rows × 13 columns</p>\n",
       "</div>"
      ],
      "text/plain": [
       "    Susceptible  Exposed  Infected_Presymptomatic  Infected_Symptomatic  \\\n",
       "0       18698.0      1.0                      0.0                   1.0   \n",
       "1       18697.0      2.0                      0.0                   1.0   \n",
       "2       18695.0      4.0                      0.0                   1.0   \n",
       "3       18693.0      6.0                      0.0                   1.0   \n",
       "4       18692.0      6.0                      1.0                   1.0   \n",
       "..          ...      ...                      ...                   ...   \n",
       "95          0.0      0.0                      0.0                 241.0   \n",
       "96          0.0      0.0                      0.0                 226.0   \n",
       "97          0.0      0.0                      0.0                 210.0   \n",
       "98          0.0      0.0                      0.0                 201.0   \n",
       "99          0.0      0.0                      0.0                 192.0   \n",
       "\n",
       "    Infected_Asymptomatic  Hospitalized  Recovered  Fatalities  \\\n",
       "0                     0.0           0.0        0.0         0.0   \n",
       "1                     0.0           0.0        0.0         0.0   \n",
       "2                     0.0           0.0        0.0         0.0   \n",
       "3                     0.0           0.0        0.0         0.0   \n",
       "4                     0.0           0.0        0.0         0.0   \n",
       "..                    ...           ...        ...         ...   \n",
       "95                  384.0           5.0    17487.0       583.0   \n",
       "96                  365.0           6.0    17520.0       583.0   \n",
       "97                  343.0           5.0    17557.0       585.0   \n",
       "98                  325.0           4.0    17584.0       586.0   \n",
       "99                  313.0           4.0    17604.0       587.0   \n",
       "\n",
       "    Detected_Presymptomatic  Detected_Symptomatic  Detected_Asymptomatic  \\\n",
       "0                       0.0                   0.0                    0.0   \n",
       "1                       0.0                   0.0                    0.0   \n",
       "2                       0.0                   0.0                    0.0   \n",
       "3                       0.0                   0.0                    0.0   \n",
       "4                       0.0                   0.0                    0.0   \n",
       "..                      ...                   ...                    ...   \n",
       "95                      0.0                   0.0                    0.0   \n",
       "96                      0.0                   0.0                    0.0   \n",
       "97                      0.0                   0.0                    0.0   \n",
       "98                      0.0                   0.0                    0.0   \n",
       "99                      0.0                   0.0                    0.0   \n",
       "\n",
       "    T_index  Time  \n",
       "0         1     1  \n",
       "1         2     2  \n",
       "2         4     3  \n",
       "3         6     4  \n",
       "4         8     5  \n",
       "..      ...   ...  \n",
       "95    74780    96  \n",
       "96    74814    97  \n",
       "97    74854    98  \n",
       "98    74882    99  \n",
       "99    74904   100  \n",
       "\n",
       "[100 rows x 13 columns]"
      ]
     },
     "execution_count": 21,
     "metadata": {},
     "output_type": "execute_result"
    }
   ],
   "source": [
    "output_df"
   ]
  },
  {
   "cell_type": "code",
   "execution_count": 22,
   "metadata": {},
   "outputs": [
    {
     "data": {
      "image/png": "[encoded data removed]",
      "text/plain": [
       "<Figure size 864x576 with 1 Axes>"
      ]
     },
     "metadata": {},
     "output_type": "display_data"
    }
   ],
   "source": [
    "fig, ax = ref_model.figure_basic(vlines=checkpoints['t'])\n",
    "fig.savefig(f\"plots/{fig_name}_{complement}_figBasic.png\")"
   ]
  },
  {
   "cell_type": "code",
   "execution_count": null,
   "metadata": {},
   "outputs": [],
   "source": []
  }
 ],
 "metadata": {
  "kernelspec": {
   "display_name": "Python 3",
   "language": "python",
   "name": "python3"
  },
  "language_info": {
   "codemirror_mode": {
    "name": "ipython",
    "version": 3
   },
   "file_extension": ".py",
   "mimetype": "text/x-python",
   "name": "python",
   "nbconvert_exporter": "python",
   "pygments_lexer": "ipython3",
   "version": "3.7.3"
  }
 },
 "nbformat": 4,
 "nbformat_minor": 4
}
