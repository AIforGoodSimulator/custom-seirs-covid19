{
 "cells": [
  {
   "cell_type": "code",
   "execution_count": 70,
   "metadata": {},
   "outputs": [],
   "source": [
    "import networkx as nx\n",
    "from scipy.stats import poisson\n",
    "import itertools\n",
    "from tqdm import tqdm\n",
    "from seirsplus.models import *\n",
    "import pandas as pd\n",
    "import numpy as np\n",
    "import matplotlib.pyplot as plt\n",
    "from collections import defaultdict"
   ]
  },
  {
   "cell_type": "markdown",
   "metadata": {},
   "source": [
    "### Specifying parameters from Tucker model"
   ]
  },
  {
   "cell_type": "code",
   "execution_count": 2,
   "metadata": {},
   "outputs": [],
   "source": [
    "n_pop = 18700\n",
    "\n",
    "# Isoboxes\n",
    "n_isoboxes = 810\n",
    "pop_isoboxes = 8100\n",
    "pop_per_isobox = 10\n",
    "\n",
    "# Tents\n",
    "n_tents = 2650\n",
    "pop_tents = 10600\n",
    "pop_per_tent = 4\n",
    "\n",
    "# Others \n",
    "n_bathrooms = 144\n",
    "n_ethnic_groups = 8"
   ]
  },
  {
   "cell_type": "markdown",
   "metadata": {},
   "source": [
    "### Assigning population to isoboxes"
   ]
  },
  {
   "cell_type": "code",
   "execution_count": null,
   "metadata": {},
   "outputs": [],
   "source": [
    "max_pop_per_isobox = poisson.rvs(mu=10, size=812)"
   ]
  },
  {
   "cell_type": "code",
   "execution_count": null,
   "metadata": {},
   "outputs": [],
   "source": [
    "max_pop_per_isobox[:10]"
   ]
  },
  {
   "cell_type": "code",
   "execution_count": null,
   "metadata": {},
   "outputs": [],
   "source": [
    "g = nx.Graph()\n",
    "isobox_num = 812\n",
    "n_ethnicities = 8\n",
    "iso_count = np.zeros(shape=(isobox_num ))\n",
    "nodes_per_isobox = [[] for i in range(isobox_num)]\n",
    "\n",
    "for node in range(pop_isoboxes):\n",
    "    g.add_node(node)\n",
    "    \n",
    "    iso_num = np.random.choice(range(isobox_num))\n",
    "    while iso_count[iso_num] == max_pop_per_isobox[iso_num]:\n",
    "        iso_num = np.random.choice(range(isobox_num))\n",
    "    \n",
    "    g.nodes[node][\"isobox_num\"] = iso_num\n",
    "    g.nodes[node][\"ethnicity\"] = np.random.choice(range(n_ethnicities))\n",
    "    iso_count[iso_num] += 1\n",
    "    \n",
    "    nodes_per_isobox[iso_num].append(node)\n"
   ]
  },
  {
   "cell_type": "markdown",
   "metadata": {},
   "source": [
    "### Add connections between people from the same isobox"
   ]
  },
  {
   "cell_type": "code",
   "execution_count": null,
   "metadata": {},
   "outputs": [],
   "source": [
    "for node_list in nodes_per_isobox:\n",
    "    edge_list = [tup for tup in list(itertools.product(node_list, repeat=2)) if tup[0] != tup[1]]\n",
    "    g.add_edges_from(edge_list)"
   ]
  },
  {
   "cell_type": "code",
   "execution_count": null,
   "metadata": {},
   "outputs": [],
   "source": [
    "nodes_per_isobox[809]"
   ]
  },
  {
   "cell_type": "markdown",
   "metadata": {},
   "source": [
    "### Create FRIENDSHIP GRID: Match nodes that share the same ethnicity with nodes of neighboring isoboxes"
   ]
  },
  {
   "cell_type": "code",
   "execution_count": null,
   "metadata": {},
   "outputs": [],
   "source": [
    "width = 29\n",
    "height = 28\n",
    "iso_grid = np.zeros(shape=(width, height)).astype(int)\n",
    "iso_n = 0\n",
    "\n",
    "for i in range(width):\n",
    "    for j in range(height):\n",
    "        iso_grid[i][j] = iso_n\n",
    "        iso_n += 1\n",
    "iso_grid"
   ]
  },
  {
   "cell_type": "code",
   "execution_count": null,
   "metadata": {},
   "outputs": [],
   "source": [
    "def get_iso_neighbors(grid, isobox, iso_proximity):\n",
    "    \"\"\" Given a grid of isobox numbers, returns the closest proximity neighbors to the given isobox\n",
    "    \n",
    "        params:\n",
    "        - Grid: 2D numpy array\n",
    "        - isobox: int\n",
    "        - proximity: int\n",
    "    \"\"\"\n",
    "    \n",
    "    iso_neighbors = set()\n",
    "    \n",
    "    for i in range(-iso_proximity, iso_proximity + 1):\n",
    "        for j in range(-iso_proximity, iso_proximity + 1):\n",
    "            if not (i == 0 and j == 0):    \n",
    "                x = min(max((isobox // height) - i, 0), width-1)\n",
    "                y = min(max((isobox % height) - j, 0), height-1)\n",
    "                \n",
    "                if iso_grid[x][y] != isobox:\n",
    "                    iso_neighbors.add(iso_grid[x][y])\n",
    "    \n",
    "    return list(iso_neighbors)"
   ]
  },
  {
   "cell_type": "code",
   "execution_count": null,
   "metadata": {},
   "outputs": [],
   "source": [
    "# Assumption: people of same node properties interact if they are within close (variable=1) isobox proximity\n",
    "iso_proximity = 2\n",
    "isobox = 27\n",
    "isobox_neighbors = get_iso_neighbors(iso_grid, isobox, iso_proximity)\n",
    "isobox_neighbors.sort()\n",
    "isobox_neighbors"
   ]
  },
  {
   "cell_type": "code",
   "execution_count": null,
   "metadata": {},
   "outputs": [],
   "source": [
    "def connect_with_neighbors(graph, iso_grid, iso_proximity):\n",
    "    \"\"\"\n",
    "        TEMPORARY: Only connect nodes that share the same ethnicity\n",
    "        TODO: Don't add edges if we have added them already (don't search for things twice?)\n",
    "    \"\"\"\n",
    "    \n",
    "    \n",
    "    # For every possible isobox:\n",
    "    for isobox in range(n_isoboxes):\n",
    "        \n",
    "        # Get all the nodes in the current isobox\n",
    "        #nodes = [node for node, attr in graph.nodes(data=True) if attr[\"isobox_num\"] == isobox]\n",
    "        nodes = [g.nodes[i] for i in nodes_per_isobox[isobox]]\n",
    "        \n",
    "        # Get the coordinates of the isobox in the grid\n",
    "        #isobox_coords = (np.where(iso_grid == isobox)[0][0], np.where(iso_grid == isobox)[1][0])\n",
    "        \n",
    "        # Given its isobox number and coordinates in the iso grid, get its neighbor isoboxes\n",
    "        isobox_neighbors = get_iso_neighbors(iso_grid, isobox, iso_proximity)\n",
    "        \n",
    "        # For every neighbor isobox:\n",
    "        for iso_neighbor in isobox_neighbors:\n",
    "            \n",
    "            # Get all the nodes in that isobox neighbor\n",
    "            try:\n",
    "                neighbor_nodes = [g.nodes[i] for i in nodes_per_isobox[iso_neighbor]]\n",
    "            except:\n",
    "                print(iso_neighbor)\n",
    "            \n",
    "            # If they share the same properties, draw an edge between them\n",
    "            graph.add_edges_from([(i, j) for i in nodes_per_isobox[isobox] \\\n",
    "                                  for j in nodes_per_isobox[iso_neighbor] if g.nodes[i][\"ethnicity\"] == g.nodes[j][\"ethnicity\"]])\n",
    "            \n",
    "    "
   ]
  },
  {
   "cell_type": "code",
   "execution_count": null,
   "metadata": {},
   "outputs": [],
   "source": [
    "connect_with_neighbors(g, iso_grid, iso_proximity)"
   ]
  },
  {
   "cell_type": "code",
   "execution_count": null,
   "metadata": {},
   "outputs": [],
   "source": [
    "g.nodes[nodes_per_isobox[0][0]], nodes_per_isobox[0][0]"
   ]
  },
  {
   "cell_type": "code",
   "execution_count": null,
   "metadata": {},
   "outputs": [],
   "source": [
    "connected_bois = [edge[1] for edge in g.edges if edge[0] == 678]"
   ]
  },
  {
   "cell_type": "code",
   "execution_count": null,
   "metadata": {},
   "outputs": [],
   "source": [
    "[g.nodes[cb] for cb in connected_bois]"
   ]
  },
  {
   "cell_type": "markdown",
   "metadata": {},
   "source": [
    "## Connecting people that go to the food line"
   ]
  },
  {
   "cell_type": "code",
   "execution_count": null,
   "metadata": {},
   "outputs": [],
   "source": [
    "food_bois = set()\n",
    "\n",
    "for iso_list in nodes_per_isobox:\n",
    "    the_chosenone = np.random.choice(iso_list)\n",
    "    the_chosentwo = np.random.choice(iso_list)\n",
    "    \n",
    "    food_bois.add(the_chosenone)\n",
    "    food_bois.add(the_chosentwo) \n",
    "\n",
    "food_bois = list(food_bois)"
   ]
  },
  {
   "cell_type": "code",
   "execution_count": null,
   "metadata": {},
   "outputs": [],
   "source": [
    "np.random.shuffle(food_bois)"
   ]
  },
  {
   "cell_type": "code",
   "execution_count": null,
   "metadata": {},
   "outputs": [],
   "source": [
    "for i in range(len(food_bois) - 1):\n",
    "    g.add_edge(food_bois[i], food_bois[i+1])"
   ]
  },
  {
   "cell_type": "code",
   "execution_count": null,
   "metadata": {},
   "outputs": [],
   "source": [
    "food_bois[0]"
   ]
  },
  {
   "cell_type": "code",
   "execution_count": null,
   "metadata": {},
   "outputs": [],
   "source": [
    "connected_bois = [edge[1] for edge in g.edges if edge[0] == 802]\n",
    "[g.nodes[cb] for cb in connected_bois]"
   ]
  },
  {
   "cell_type": "markdown",
   "metadata": {},
   "source": [
    "## Make everything usable and modular"
   ]
  },
  {
   "cell_type": "code",
   "execution_count": 2,
   "metadata": {},
   "outputs": [],
   "source": [
    "def create_graph(n_structures, population, max_pop_per_struct, edge_weight):\n",
    "    \"\"\" Creates a networkX graph containing all the population in the camp that is in a given structure (currently just isoboxes). \n",
    "        Draws edges between people from the same isobox and returns the networkX graph and an adjacency list \n",
    "    \"\"\"\n",
    "    # For now we will only add ethnicity as a node property, but we can expand on this\n",
    "    n_ethnicities = 8\n",
    "    \n",
    "    # Graph is a networkX graph object\n",
    "    g = nx.Graph()\n",
    "    \n",
    "    # Keep track of how many nodes we have put in an isobox already\n",
    "    struct_count = np.zeros(shape=(n_structures))\n",
    "    \n",
    "    # Store the indices of the nodes we store in each isobox in a 2D array where array[i] contains the nodes in isobox i\n",
    "    nodes_per_struct = [[] for i in range(n_structures)]\n",
    "    \n",
    "    available_structs = list(range(n_structures))\n",
    "    \n",
    "    # Add the nodes to the graph\n",
    "    for node in tqdm(range(population)):\n",
    "        g.add_node(node)\n",
    "        \n",
    "        # Assign nodes to isoboxes randomly, until we reach the capacity of that isobox\n",
    "        struct_num = np.random.choice(available_structs)\n",
    "        \n",
    "        # Assign properties to nodes\n",
    "        g.nodes[node][\"location\"] = struct_num\n",
    "        g.nodes[node][\"ethnicity\"] = np.random.choice(range(n_ethnicities)) \n",
    "        \n",
    "        # Update number of nodes per isobox and which nodes were added to iso_num\n",
    "        struct_count[struct_num] += 1\n",
    "        nodes_per_struct[struct_num].append(node)\n",
    "        \n",
    "        if struct_count[struct_num] > max_pop_per_struct[struct_num]:\n",
    "            available_structs.remove(struct_num)\n",
    "    \n",
    "    \n",
    "    # Now we connect nodes inside of the same isobox\n",
    "    for node_list in nodes_per_struct:\n",
    "        \n",
    "        # Use the cartesian product to get all possible edges within the nodes in an isobox and only add if they are not the same node \n",
    "        edge_list = [tup for tup in list(itertools.product(node_list, repeat=2)) if tup[0] != tup[1]]\n",
    "        g.add_edges_from(edge_list, weight=edge_weight)\n",
    "    \n",
    "    return g, nodes_per_struct"
   ]
  },
  {
   "cell_type": "code",
   "execution_count": 3,
   "metadata": {},
   "outputs": [],
   "source": [
    "def create_grid(width, height):\n",
    "    \"\"\" Create a grid of isoboxes that resembles the isobox area of the camp, for ease of measuring proximity between nodes \n",
    "        Returns a numpy array of shape (width, height) \"\"\"\n",
    "    \n",
    "    iso_grid = np.zeros(shape=(width, height)).astype(int)\n",
    "    iso_n = 0\n",
    "\n",
    "    for i in range(width):\n",
    "        for j in range(height):\n",
    "            iso_grid[i][j] = iso_n\n",
    "            iso_n += 1\n",
    "    \n",
    "    return iso_grid"
   ]
  },
  {
   "cell_type": "code",
   "execution_count": 4,
   "metadata": {},
   "outputs": [],
   "source": [
    "def get_neighbors(grid, structure_num, proximity):\n",
    "    \"\"\" Given a grid of structures, returns the closest proximity neighbors to the given structure\n",
    "    \n",
    "        params:\n",
    "        - Grid: 2D numpy array\n",
    "        - structure_num: int\n",
    "        - proximity: int\n",
    "    \"\"\"\n",
    "    \n",
    "    # Get the number of columns for ease of access\n",
    "    width = len(grid)\n",
    "    height = len(grid[0])\n",
    "    \n",
    "    # We'll make it a set initially to avoid duplicate neighbors\n",
    "    neighbors = set()\n",
    "    \n",
    "    for i in range(-proximity, proximity + 1):\n",
    "        for j in range(-proximity, proximity + 1):\n",
    "            if not (i == 0 and j == 0):    \n",
    "                x = min(max((structure_num// height) - i, 0), width-1)\n",
    "                y = min(max((structure_num % height) - j, 0), height-1)\n",
    "                \n",
    "                if grid[x][y] != structure_num:\n",
    "                    neighbors.add(grid[x][y])\n",
    "    \n",
    "    return list(neighbors)"
   ]
  },
  {
   "cell_type": "code",
   "execution_count": 5,
   "metadata": {},
   "outputs": [],
   "source": [
    "def connect_neighbors(graph, n_structures, nodes_per_structure, grid, proximity, edge_weight):\n",
    "    \"\"\" Draw edges in the given graph between people of neighboring structures (currently isoboxes) if they have the same ethnicity \"\"\"\n",
    "    \n",
    "    # For every possible structure:\n",
    "    for structure in range(n_structures):\n",
    "        \n",
    "        # Get all the nodes in the current structure\n",
    "        nodes = [graph.nodes[i] for i in nodes_per_structure[structure]]\n",
    "        \n",
    "        # Given its isobox number get its neighbor isoboxes\n",
    "        neighbors = get_neighbors(grid, structure, proximity)\n",
    "        \n",
    "        # For every neighbor isobox:\n",
    "        for neighbor in neighbors:\n",
    "            \n",
    "            # Get all the nodes in that isobox neighbor\n",
    "            neighbor_nodes = [graph.nodes[i] for i in nodes_per_structure[neighbor]]\n",
    "\n",
    "            # If they share the same properties, draw an edge between them\n",
    "            graph.add_edges_from([(i, j) for i in nodes_per_structure[structure] \\\n",
    "                                  for j in nodes_per_structure[neighbor] if graph.nodes[i][\"ethnicity\"] == graph.nodes[j][\"ethnicity\"]], weight=edge_weight)\n",
    "            \n",
    "    return graph"
   ]
  },
  {
   "cell_type": "code",
   "execution_count": 6,
   "metadata": {},
   "outputs": [],
   "source": [
    "def connect_food_queue(graph, nodes_per_structure, edge_weight):\n",
    "    \"\"\" Connect 1-2 people per structure (currently just isoboxes) randomly to represent that they go to the food queue \n",
    "        We have 3 options:\n",
    "            - Either have a range of people (2-5 per isobox) that go to food queue, same edge weights\n",
    "            - Connect all people in the food queue, same edge weights\n",
    "            - Connect all people in food queue with different edge weights\n",
    "    \"\"\"\n",
    "    \n",
    "    food_bois = set()\n",
    "    \n",
    "    # Choose half of the people randomly from each structure\n",
    "    for node_list in nodes_per_structure:\n",
    "        for i in range(len(node_list)//2):\n",
    "            food_bois.add(np.random.choice(node_list)) \n",
    "    \n",
    "    # This list represents the food queue\n",
    "    food_bois = list(food_bois)\n",
    "    np.random.shuffle(food_bois)\n",
    "    \n",
    "    # Draw an edge between everyone in the list in order, since we have already shuffled them\n",
    "    for i in range(len(food_bois)-6):\n",
    "        for j in range(i+1, i+6):\n",
    "            if not graph.has_edge(food_bois[i], food_bois[j]):\n",
    "                graph.add_edge(food_bois[i], food_bois[j], weight=edge_weight)\n",
    "        \n",
    "    return graph\n",
    "    "
   ]
  },
  {
   "cell_type": "code",
   "execution_count": 29,
   "metadata": {},
   "outputs": [],
   "source": [
    "# Some helper functions\n",
    "def min_degree(graph):\n",
    "    return min(graph.degree, key=lambda kv: kv[1])[1]\n",
    "\n",
    "def max_degree(graph):\n",
    "    return max(graph.degree, key=lambda kv: kv[1])[1]"
   ]
  },
  {
   "cell_type": "code",
   "execution_count": 7,
   "metadata": {},
   "outputs": [],
   "source": [
    "n_pop = 18700\n",
    "\n",
    "# Isoboxes\n",
    "n_isoboxes = 812\n",
    "pop_isoboxes = 8100\n",
    "pop_per_isobox = 10\n",
    "max_pop_per_isobox  = poisson.rvs(mu=pop_per_isobox, size=n_isoboxes) # According to the model, this is drawn through a poison distribution\n",
    "\n",
    "# Tents\n",
    "n_tents = 2650\n",
    "pop_tents = 10600\n",
    "pop_per_tent = 4\n",
    "\n",
    "# Others \n",
    "n_bathrooms = 144\n",
    "n_ethnic_groups = 8\n",
    "\n",
    "# Isobox grid parameters - can be extended to tents as well\n",
    "grid_width = 29\n",
    "grid_height = 28\n",
    "\n",
    "# We define neighboring isoboxes as any isobox within a range of 2 in the isobox grid\n",
    "iso_proximity = 2"
   ]
  },
  {
   "cell_type": "code",
   "execution_count": 8,
   "metadata": {},
   "outputs": [
    {
     "name": "stderr",
     "output_type": "stream",
     "text": [
      "100%|██████████| 8100/8100 [00:00<00:00, 12331.05it/s]\n"
     ]
    }
   ],
   "source": [
    "# 1. Create isobox graph - can be used to create tent graphs as well\n",
    "isoweight = 1\n",
    "graph, nodes_per_isobox = create_graph(n_isoboxes, pop_isoboxes, max_pop_per_isobox, isoweight)"
   ]
  },
  {
   "cell_type": "code",
   "execution_count": 9,
   "metadata": {},
   "outputs": [],
   "source": [
    "# 2. Create the grid that will help with positioning when measuring proximity\n",
    "isobox_grid = create_grid(grid_width, grid_height)"
   ]
  },
  {
   "cell_type": "code",
   "execution_count": 10,
   "metadata": {},
   "outputs": [],
   "source": [
    "# 3. Connect the nodes that are within a certain degree of proximity - can be used for tents as well\n",
    "neighborweight = 0.5\n",
    "graph = connect_neighbors(graph, n_isoboxes, nodes_per_isobox, isobox_grid, iso_proximity, neighborweight)"
   ]
  },
  {
   "cell_type": "code",
   "execution_count": 11,
   "metadata": {},
   "outputs": [],
   "source": [
    "# 4. Connect the nodes that go to the food line - can be extended to all nodes\n",
    "foodweight = 0.2\n",
    "graph = connect_food_queue(graph, nodes_per_isobox, foodweight)\n",
    "\n",
    "# Check the lowest number of connections that exist in the graph!\n",
    "print(\"Min degree of a node is\", min_degree(graph))"
   ]
  },
  {
   "cell_type": "code",
   "execution_count": 19,
   "metadata": {},
   "outputs": [],
   "source": [
    "# 5. Adding age/sex/death dataframe info\n",
    "\n",
    "# Death rate per age calculation - parameters found by fitting a sigmoid curve\n",
    "A_MALES = -9.58814632\n",
    "B_MALES = 0.61453804\n",
    "A_FEMALES = -9.91023535\n",
    "B_FEMALES = 0.47451181\n",
    "\n",
    "def sigmoid(x):\n",
    "    return 1 / (1 + np.exp(-x))\n",
    "\n",
    "def deathrate_male(x):\n",
    "    return sigmoid(np.sqrt(x) + A_MALES) * B_MALES\n",
    "\n",
    "def deathrate_female(x):\n",
    "    return sigmoid(np.sqrt(x) + A_FEMALES) * B_FEMALES\n",
    "\n",
    "def get_deathrate(row):\n",
    "    if row[\"sex\"] == 0:\n",
    "        return deathrate_male(row[\"age\"])\n",
    "    \n",
    "    else:\n",
    "        return deathrate_female(row[\"age\"])"
   ]
  },
  {
   "cell_type": "code",
   "execution_count": 26,
   "metadata": {},
   "outputs": [
    {
     "data": {
      "text/plain": [
       "(8100,)"
      ]
     },
     "execution_count": 26,
     "metadata": {},
     "output_type": "execute_result"
    }
   ],
   "source": [
    "# Dataframe including age (V1) and sex (V2)\n",
    "pop_df = pd.read_csv('data/age_and_sex.csv')\n",
    "pop_df = pop_df[[\"V1\", \"V2\"]].rename(columns={\"V1\": \"age\", \"V2\": \"sex\"})\n",
    "\n",
    "# Sample only the number of people in isoboxes\n",
    "pop_df['death_rate'] = pop_df.apply(lambda row: get_deathrate(row), axis=1)\n",
    "sample = pop_df.sample(n=pop_isoboxes, random_state=69420)\n",
    "sample['death_rate'].values.shape"
   ]
  },
  {
   "cell_type": "code",
   "execution_count": 31,
   "metadata": {},
   "outputs": [
    {
     "data": {
      "text/plain": [
       "(15, 69)"
      ]
     },
     "execution_count": 31,
     "metadata": {},
     "output_type": "execute_result"
    }
   ],
   "source": [
    "min_G, max_G = min_degree(graph), max_degree(graph)\n",
    "min_G, max_G"
   ]
  },
  {
   "cell_type": "code",
   "execution_count": 27,
   "metadata": {},
   "outputs": [
    {
     "data": {
      "image/png": "[encoded data removed]",
      "text/plain": [
       "<Figure size 432x288 with 1 Axes>"
      ]
     },
     "metadata": {},
     "output_type": "display_data"
    }
   ],
   "source": [
    "# Plot the degrees of the normal/default graph\n",
    "plot_degree_distn(graph, max_degree=max_G)"
   ]
  },
  {
   "cell_type": "code",
   "execution_count": 66,
   "metadata": {},
   "outputs": [],
   "source": [
    "# 6. Setting up a quarantine/social distancing graph \n",
    "# NOTE: We should tweak the reduction scale depending on what we want our mean degree to be\n",
    "\n",
    "reduction_scale = 20 # Exponential distribution parameter. Setting it to 20 gives a mean of ~10, when the past mean was ~40\n",
    "min_neighbors = 5 # The minimum number of connections that a person would hold in a distancing/quarantine scenario\n",
    "Q = custom_exponential_graph(graph, scale=reduction_scale, min_num_edges=min_neighbors)"
   ]
  },
  {
   "cell_type": "code",
   "execution_count": 67,
   "metadata": {},
   "outputs": [
    {
     "data": {
      "text/plain": [
       "(0, 39)"
      ]
     },
     "execution_count": 67,
     "metadata": {},
     "output_type": "execute_result"
    }
   ],
   "source": [
    "min_Q, max_Q = min_degree(Q), max_degree(Q)\n",
    "min_Q, max_Q"
   ]
  },
  {
   "cell_type": "code",
   "execution_count": 68,
   "metadata": {},
   "outputs": [
    {
     "data": {
      "image/png": "[encoded data removed]",
      "text/plain": [
       "<Figure size 432x288 with 1 Axes>"
      ]
     },
     "metadata": {},
     "output_type": "display_data"
    }
   ],
   "source": [
    "plot_degree_distn(Q, max_degree=max_Q)"
   ]
  },
  {
   "cell_type": "code",
   "execution_count": 72,
   "metadata": {},
   "outputs": [],
   "source": [
    "# 7. Create checkpoints\n",
    "checkpoints = defaultdict(list)"
   ]
  },
  {
   "cell_type": "code",
   "execution_count": 74,
   "metadata": {},
   "outputs": [],
   "source": [
    "# Initialize empty checkpoints\n",
    "checkpoints[\"t\"] = []\n",
    "checkpoints[\"G\"] = []"
   ]
  },
  {
   "cell_type": "code",
   "execution_count": null,
   "metadata": {},
   "outputs": [],
   "source": []
  },
  {
   "cell_type": "code",
   "execution_count": 23,
   "metadata": {},
   "outputs": [
    {
     "name": "stdout",
     "output_type": "stream",
     "text": [
      "t = 0.04\n",
      "t = 10.00\n",
      "t = 20.00\n",
      "t = 30.00\n",
      "t = 40.00\n",
      "t = 50.02\n",
      "t = 60.00\n",
      "t = 70.02\n",
      "t = 80.02\n",
      "t = 90.10\n",
      "t = 100.37\n",
      "t = 110.27\n",
      "t = 140.33\n"
     ]
    },
    {
     "data": {
      "text/plain": [
       "True"
      ]
     },
     "execution_count": 23,
     "metadata": {},
     "output_type": "execute_result"
    }
   ],
   "source": [
    "beta = 1.28\n",
    "sigma = 1/5.1\n",
    "gamma = 0.056\n",
    "initI = 10\n",
    "\n",
    "ref_model = SEIRSNetworkModel(G=graph, beta=beta, sigma=sigma, gamma=gamma, mu_I=list(sample[\"death_rate\"]), p=0.5,\n",
    "                          beta_D=beta, sigma_D=sigma, gamma_D=gamma, mu_D=list(sample[\"death_rate\"]),\n",
    "                          theta_E=0, theta_I=0, phi_E=0, phi_I=0, psi_E=1.0, psi_I=1.0, q=0.5,\n",
    "                          initI=10)\n",
    "\n",
    "fig_name = f\"Infections_IsoWeight={isoweight}_NeighWeight={neighborweight}_FoodWeight={foodweight}_Beta={beta}_Gamma={gamma}_Sigma={sigma}_initI={initI}\"\n",
    "ref_model.run(T=300)"
   ]
  },
  {
   "cell_type": "code",
   "execution_count": 24,
   "metadata": {},
   "outputs": [
    {
     "data": {
      "image/png": "[encoded data removed]",
      "text/plain": [
       "<Figure size 864x576 with 1 Axes>"
      ]
     },
     "metadata": {
      "needs_background": "light"
     },
     "output_type": "display_data"
    }
   ],
   "source": [
    "fig, ax = ref_model.figure_basic()\n",
    "fig.savefig(f\"{fig_name}_figBasic.png\")"
   ]
  },
  {
   "cell_type": "code",
   "execution_count": 25,
   "metadata": {},
   "outputs": [
    {
     "data": {
      "image/png": "[encoded data removed]",
      "text/plain": [
       "<Figure size 864x576 with 1 Axes>"
      ]
     },
     "metadata": {},
     "output_type": "display_data"
    }
   ],
   "source": [
    "fig, ax = ref_model.figure_infections()\n",
    "fig.savefig(f\"{fig_name}_figInfections.png\")"
   ]
  },
  {
   "cell_type": "markdown",
   "metadata": {},
   "source": [
    "### Adding age, sex, deathrate"
   ]
  },
  {
   "cell_type": "code",
   "execution_count": 14,
   "metadata": {},
   "outputs": [],
   "source": [
    "# Death rate per age calculation - parameters found by fitting a sigmoid curve\n",
    "A_MALES = -9.58814632\n",
    "B_MALES = 0.61453804\n",
    "A_FEMALES = -9.91023535\n",
    "B_FEMALES = 0.47451181\n",
    "\n",
    "def sigmoid(x):\n",
    "    return 1 / (1 + np.exp(-x))\n",
    "\n",
    "def deathrate_male(x):\n",
    "    return sigmoid(np.sqrt(x) + A_MALES) * B_MALES\n",
    "\n",
    "def deathrate_female(x):\n",
    "    return sigmoid(np.sqrt(x) + A_FEMALES) * B_FEMALES\n",
    "\n",
    "def get_deathrate(row):\n",
    "    if row[\"sex\"] == 0:\n",
    "        return deathrate_male(row[\"age\"])\n",
    "    \n",
    "    else:\n",
    "        return deathrate_female(row[\"age\"])"
   ]
  },
  {
   "cell_type": "code",
   "execution_count": 15,
   "metadata": {},
   "outputs": [
    {
     "data": {
      "text/html": [
       "<div>\n",
       "<style scoped>\n",
       "    .dataframe tbody tr th:only-of-type {\n",
       "        vertical-align: middle;\n",
       "    }\n",
       "\n",
       "    .dataframe tbody tr th {\n",
       "        vertical-align: top;\n",
       "    }\n",
       "\n",
       "    .dataframe thead th {\n",
       "        text-align: right;\n",
       "    }\n",
       "</style>\n",
       "<table border=\"1\" class=\"dataframe\">\n",
       "  <thead>\n",
       "    <tr style=\"text-align: right;\">\n",
       "      <th></th>\n",
       "      <th>age</th>\n",
       "      <th>sex</th>\n",
       "    </tr>\n",
       "  </thead>\n",
       "  <tbody>\n",
       "    <tr>\n",
       "      <th>0</th>\n",
       "      <td>2.1</td>\n",
       "      <td>1</td>\n",
       "    </tr>\n",
       "    <tr>\n",
       "      <th>1</th>\n",
       "      <td>25.6</td>\n",
       "      <td>0</td>\n",
       "    </tr>\n",
       "    <tr>\n",
       "      <th>2</th>\n",
       "      <td>23.6</td>\n",
       "      <td>0</td>\n",
       "    </tr>\n",
       "    <tr>\n",
       "      <th>3</th>\n",
       "      <td>49.6</td>\n",
       "      <td>1</td>\n",
       "    </tr>\n",
       "    <tr>\n",
       "      <th>4</th>\n",
       "      <td>28.6</td>\n",
       "      <td>0</td>\n",
       "    </tr>\n",
       "  </tbody>\n",
       "</table>\n",
       "</div>"
      ],
      "text/plain": [
       "    age  sex\n",
       "0   2.1    1\n",
       "1  25.6    0\n",
       "2  23.6    0\n",
       "3  49.6    1\n",
       "4  28.6    0"
      ]
     },
     "execution_count": 15,
     "metadata": {},
     "output_type": "execute_result"
    }
   ],
   "source": [
    "# Dataframe including age (V1) and sex (V2)\n",
    "pop_df = pd.read_csv('data/age_and_sex.csv')\n",
    "pop_df = pop_df[[\"V1\", \"V2\"]].rename(columns={\"V1\": \"age\", \"V2\": \"sex\"})\n",
    "pop_df.head()"
   ]
  },
  {
   "cell_type": "code",
   "execution_count": 16,
   "metadata": {
    "collapsed": true,
    "jupyter": {
     "outputs_hidden": true
    }
   },
   "outputs": [
    {
     "data": {
      "text/html": [
       "<div>\n",
       "<style scoped>\n",
       "    .dataframe tbody tr th:only-of-type {\n",
       "        vertical-align: middle;\n",
       "    }\n",
       "\n",
       "    .dataframe tbody tr th {\n",
       "        vertical-align: top;\n",
       "    }\n",
       "\n",
       "    .dataframe thead th {\n",
       "        text-align: right;\n",
       "    }\n",
       "</style>\n",
       "<table border=\"1\" class=\"dataframe\">\n",
       "  <thead>\n",
       "    <tr style=\"text-align: right;\">\n",
       "      <th></th>\n",
       "      <th>age</th>\n",
       "      <th>sex</th>\n",
       "      <th>death_rate</th>\n",
       "    </tr>\n",
       "  </thead>\n",
       "  <tbody>\n",
       "    <tr>\n",
       "      <th>9814</th>\n",
       "      <td>18.0</td>\n",
       "      <td>1</td>\n",
       "      <td>0.001634</td>\n",
       "    </tr>\n",
       "    <tr>\n",
       "      <th>4134</th>\n",
       "      <td>3.6</td>\n",
       "      <td>0</td>\n",
       "      <td>0.000281</td>\n",
       "    </tr>\n",
       "    <tr>\n",
       "      <th>11848</th>\n",
       "      <td>6.1</td>\n",
       "      <td>1</td>\n",
       "      <td>0.000278</td>\n",
       "    </tr>\n",
       "    <tr>\n",
       "      <th>5922</th>\n",
       "      <td>13.8</td>\n",
       "      <td>0</td>\n",
       "      <td>0.001724</td>\n",
       "    </tr>\n",
       "    <tr>\n",
       "      <th>10323</th>\n",
       "      <td>34.0</td>\n",
       "      <td>0</td>\n",
       "      <td>0.014022</td>\n",
       "    </tr>\n",
       "    <tr>\n",
       "      <th>2710</th>\n",
       "      <td>20.8</td>\n",
       "      <td>1</td>\n",
       "      <td>0.002243</td>\n",
       "    </tr>\n",
       "    <tr>\n",
       "      <th>6024</th>\n",
       "      <td>42.8</td>\n",
       "      <td>0</td>\n",
       "      <td>0.027895</td>\n",
       "    </tr>\n",
       "    <tr>\n",
       "      <th>6497</th>\n",
       "      <td>26.0</td>\n",
       "      <td>0</td>\n",
       "      <td>0.006825</td>\n",
       "    </tr>\n",
       "    <tr>\n",
       "      <th>9524</th>\n",
       "      <td>21.7</td>\n",
       "      <td>1</td>\n",
       "      <td>0.002472</td>\n",
       "    </tr>\n",
       "    <tr>\n",
       "      <th>4397</th>\n",
       "      <td>23.8</td>\n",
       "      <td>0</td>\n",
       "      <td>0.005486</td>\n",
       "    </tr>\n",
       "    <tr>\n",
       "      <th>127</th>\n",
       "      <td>32.5</td>\n",
       "      <td>1</td>\n",
       "      <td>0.006946</td>\n",
       "    </tr>\n",
       "    <tr>\n",
       "      <th>2697</th>\n",
       "      <td>0.2</td>\n",
       "      <td>1</td>\n",
       "      <td>0.000037</td>\n",
       "    </tr>\n",
       "    <tr>\n",
       "      <th>5341</th>\n",
       "      <td>20.6</td>\n",
       "      <td>1</td>\n",
       "      <td>0.002195</td>\n",
       "    </tr>\n",
       "    <tr>\n",
       "      <th>1167</th>\n",
       "      <td>41.6</td>\n",
       "      <td>0</td>\n",
       "      <td>0.025536</td>\n",
       "    </tr>\n",
       "    <tr>\n",
       "      <th>5918</th>\n",
       "      <td>0.8</td>\n",
       "      <td>0</td>\n",
       "      <td>0.000103</td>\n",
       "    </tr>\n",
       "    <tr>\n",
       "      <th>8570</th>\n",
       "      <td>34.8</td>\n",
       "      <td>0</td>\n",
       "      <td>0.014987</td>\n",
       "    </tr>\n",
       "    <tr>\n",
       "      <th>3227</th>\n",
       "      <td>67.1</td>\n",
       "      <td>1</td>\n",
       "      <td>0.072139</td>\n",
       "    </tr>\n",
       "    <tr>\n",
       "      <th>1768</th>\n",
       "      <td>31.1</td>\n",
       "      <td>1</td>\n",
       "      <td>0.006146</td>\n",
       "    </tr>\n",
       "    <tr>\n",
       "      <th>3002</th>\n",
       "      <td>49.6</td>\n",
       "      <td>1</td>\n",
       "      <td>0.025521</td>\n",
       "    </tr>\n",
       "    <tr>\n",
       "      <th>10478</th>\n",
       "      <td>24.7</td>\n",
       "      <td>1</td>\n",
       "      <td>0.003370</td>\n",
       "    </tr>\n",
       "    <tr>\n",
       "      <th>2365</th>\n",
       "      <td>1.9</td>\n",
       "      <td>0</td>\n",
       "      <td>0.000167</td>\n",
       "    </tr>\n",
       "    <tr>\n",
       "      <th>8060</th>\n",
       "      <td>21.7</td>\n",
       "      <td>0</td>\n",
       "      <td>0.004410</td>\n",
       "    </tr>\n",
       "    <tr>\n",
       "      <th>11491</th>\n",
       "      <td>51.1</td>\n",
       "      <td>0</td>\n",
       "      <td>0.049282</td>\n",
       "    </tr>\n",
       "    <tr>\n",
       "      <th>9209</th>\n",
       "      <td>58.9</td>\n",
       "      <td>1</td>\n",
       "      <td>0.045837</td>\n",
       "    </tr>\n",
       "    <tr>\n",
       "      <th>276</th>\n",
       "      <td>28.7</td>\n",
       "      <td>1</td>\n",
       "      <td>0.004947</td>\n",
       "    </tr>\n",
       "    <tr>\n",
       "      <th>12854</th>\n",
       "      <td>41.9</td>\n",
       "      <td>0</td>\n",
       "      <td>0.026110</td>\n",
       "    </tr>\n",
       "    <tr>\n",
       "      <th>7735</th>\n",
       "      <td>19.9</td>\n",
       "      <td>1</td>\n",
       "      <td>0.002031</td>\n",
       "    </tr>\n",
       "    <tr>\n",
       "      <th>1519</th>\n",
       "      <td>0.4</td>\n",
       "      <td>0</td>\n",
       "      <td>0.000079</td>\n",
       "    </tr>\n",
       "    <tr>\n",
       "      <th>12862</th>\n",
       "      <td>30.6</td>\n",
       "      <td>1</td>\n",
       "      <td>0.005879</td>\n",
       "    </tr>\n",
       "    <tr>\n",
       "      <th>328</th>\n",
       "      <td>31.8</td>\n",
       "      <td>0</td>\n",
       "      <td>0.011621</td>\n",
       "    </tr>\n",
       "    <tr>\n",
       "      <th>...</th>\n",
       "      <td>...</td>\n",
       "      <td>...</td>\n",
       "      <td>...</td>\n",
       "    </tr>\n",
       "    <tr>\n",
       "      <th>3592</th>\n",
       "      <td>39.8</td>\n",
       "      <td>1</td>\n",
       "      <td>0.012602</td>\n",
       "    </tr>\n",
       "    <tr>\n",
       "      <th>2036</th>\n",
       "      <td>32.8</td>\n",
       "      <td>0</td>\n",
       "      <td>0.012667</td>\n",
       "    </tr>\n",
       "    <tr>\n",
       "      <th>4426</th>\n",
       "      <td>26.7</td>\n",
       "      <td>0</td>\n",
       "      <td>0.007301</td>\n",
       "    </tr>\n",
       "    <tr>\n",
       "      <th>2766</th>\n",
       "      <td>22.6</td>\n",
       "      <td>0</td>\n",
       "      <td>0.004849</td>\n",
       "    </tr>\n",
       "    <tr>\n",
       "      <th>3289</th>\n",
       "      <td>27.6</td>\n",
       "      <td>1</td>\n",
       "      <td>0.004465</td>\n",
       "    </tr>\n",
       "    <tr>\n",
       "      <th>310</th>\n",
       "      <td>15.7</td>\n",
       "      <td>1</td>\n",
       "      <td>0.001236</td>\n",
       "    </tr>\n",
       "    <tr>\n",
       "      <th>8856</th>\n",
       "      <td>28.1</td>\n",
       "      <td>1</td>\n",
       "      <td>0.004679</td>\n",
       "    </tr>\n",
       "    <tr>\n",
       "      <th>9216</th>\n",
       "      <td>50.1</td>\n",
       "      <td>0</td>\n",
       "      <td>0.046188</td>\n",
       "    </tr>\n",
       "    <tr>\n",
       "      <th>9998</th>\n",
       "      <td>15.9</td>\n",
       "      <td>1</td>\n",
       "      <td>0.001267</td>\n",
       "    </tr>\n",
       "    <tr>\n",
       "      <th>2235</th>\n",
       "      <td>37.5</td>\n",
       "      <td>1</td>\n",
       "      <td>0.010521</td>\n",
       "    </tr>\n",
       "    <tr>\n",
       "      <th>12622</th>\n",
       "      <td>24.0</td>\n",
       "      <td>0</td>\n",
       "      <td>0.005599</td>\n",
       "    </tr>\n",
       "    <tr>\n",
       "      <th>3903</th>\n",
       "      <td>43.8</td>\n",
       "      <td>1</td>\n",
       "      <td>0.017008</td>\n",
       "    </tr>\n",
       "    <tr>\n",
       "      <th>1044</th>\n",
       "      <td>0.2</td>\n",
       "      <td>1</td>\n",
       "      <td>0.000037</td>\n",
       "    </tr>\n",
       "    <tr>\n",
       "      <th>755</th>\n",
       "      <td>46.6</td>\n",
       "      <td>1</td>\n",
       "      <td>0.020774</td>\n",
       "    </tr>\n",
       "    <tr>\n",
       "      <th>8641</th>\n",
       "      <td>5.7</td>\n",
       "      <td>0</td>\n",
       "      <td>0.000458</td>\n",
       "    </tr>\n",
       "    <tr>\n",
       "      <th>6589</th>\n",
       "      <td>9.1</td>\n",
       "      <td>0</td>\n",
       "      <td>0.000859</td>\n",
       "    </tr>\n",
       "    <tr>\n",
       "      <th>10786</th>\n",
       "      <td>39.6</td>\n",
       "      <td>0</td>\n",
       "      <td>0.021959</td>\n",
       "    </tr>\n",
       "    <tr>\n",
       "      <th>3269</th>\n",
       "      <td>28.9</td>\n",
       "      <td>0</td>\n",
       "      <td>0.008970</td>\n",
       "    </tr>\n",
       "    <tr>\n",
       "      <th>5586</th>\n",
       "      <td>4.8</td>\n",
       "      <td>1</td>\n",
       "      <td>0.000211</td>\n",
       "    </tr>\n",
       "    <tr>\n",
       "      <th>171</th>\n",
       "      <td>25.0</td>\n",
       "      <td>0</td>\n",
       "      <td>0.006188</td>\n",
       "    </tr>\n",
       "    <tr>\n",
       "      <th>12524</th>\n",
       "      <td>21.9</td>\n",
       "      <td>1</td>\n",
       "      <td>0.002526</td>\n",
       "    </tr>\n",
       "    <tr>\n",
       "      <th>4512</th>\n",
       "      <td>50.5</td>\n",
       "      <td>1</td>\n",
       "      <td>0.027101</td>\n",
       "    </tr>\n",
       "    <tr>\n",
       "      <th>5479</th>\n",
       "      <td>26.0</td>\n",
       "      <td>0</td>\n",
       "      <td>0.006825</td>\n",
       "    </tr>\n",
       "    <tr>\n",
       "      <th>12663</th>\n",
       "      <td>38.0</td>\n",
       "      <td>1</td>\n",
       "      <td>0.010948</td>\n",
       "    </tr>\n",
       "    <tr>\n",
       "      <th>2992</th>\n",
       "      <td>24.8</td>\n",
       "      <td>0</td>\n",
       "      <td>0.006066</td>\n",
       "    </tr>\n",
       "    <tr>\n",
       "      <th>9267</th>\n",
       "      <td>42.2</td>\n",
       "      <td>1</td>\n",
       "      <td>0.015117</td>\n",
       "    </tr>\n",
       "    <tr>\n",
       "      <th>5864</th>\n",
       "      <td>28.7</td>\n",
       "      <td>0</td>\n",
       "      <td>0.008807</td>\n",
       "    </tr>\n",
       "    <tr>\n",
       "      <th>10206</th>\n",
       "      <td>12.2</td>\n",
       "      <td>0</td>\n",
       "      <td>0.001382</td>\n",
       "    </tr>\n",
       "    <tr>\n",
       "      <th>12258</th>\n",
       "      <td>18.2</td>\n",
       "      <td>1</td>\n",
       "      <td>0.001673</td>\n",
       "    </tr>\n",
       "    <tr>\n",
       "      <th>4347</th>\n",
       "      <td>26.0</td>\n",
       "      <td>0</td>\n",
       "      <td>0.006825</td>\n",
       "    </tr>\n",
       "  </tbody>\n",
       "</table>\n",
       "<p>8100 rows × 3 columns</p>\n",
       "</div>"
      ],
      "text/plain": [
       "        age  sex  death_rate\n",
       "9814   18.0    1    0.001634\n",
       "4134    3.6    0    0.000281\n",
       "11848   6.1    1    0.000278\n",
       "5922   13.8    0    0.001724\n",
       "10323  34.0    0    0.014022\n",
       "2710   20.8    1    0.002243\n",
       "6024   42.8    0    0.027895\n",
       "6497   26.0    0    0.006825\n",
       "9524   21.7    1    0.002472\n",
       "4397   23.8    0    0.005486\n",
       "127    32.5    1    0.006946\n",
       "2697    0.2    1    0.000037\n",
       "5341   20.6    1    0.002195\n",
       "1167   41.6    0    0.025536\n",
       "5918    0.8    0    0.000103\n",
       "8570   34.8    0    0.014987\n",
       "3227   67.1    1    0.072139\n",
       "1768   31.1    1    0.006146\n",
       "3002   49.6    1    0.025521\n",
       "10478  24.7    1    0.003370\n",
       "2365    1.9    0    0.000167\n",
       "8060   21.7    0    0.004410\n",
       "11491  51.1    0    0.049282\n",
       "9209   58.9    1    0.045837\n",
       "276    28.7    1    0.004947\n",
       "12854  41.9    0    0.026110\n",
       "7735   19.9    1    0.002031\n",
       "1519    0.4    0    0.000079\n",
       "12862  30.6    1    0.005879\n",
       "328    31.8    0    0.011621\n",
       "...     ...  ...         ...\n",
       "3592   39.8    1    0.012602\n",
       "2036   32.8    0    0.012667\n",
       "4426   26.7    0    0.007301\n",
       "2766   22.6    0    0.004849\n",
       "3289   27.6    1    0.004465\n",
       "310    15.7    1    0.001236\n",
       "8856   28.1    1    0.004679\n",
       "9216   50.1    0    0.046188\n",
       "9998   15.9    1    0.001267\n",
       "2235   37.5    1    0.010521\n",
       "12622  24.0    0    0.005599\n",
       "3903   43.8    1    0.017008\n",
       "1044    0.2    1    0.000037\n",
       "755    46.6    1    0.020774\n",
       "8641    5.7    0    0.000458\n",
       "6589    9.1    0    0.000859\n",
       "10786  39.6    0    0.021959\n",
       "3269   28.9    0    0.008970\n",
       "5586    4.8    1    0.000211\n",
       "171    25.0    0    0.006188\n",
       "12524  21.9    1    0.002526\n",
       "4512   50.5    1    0.027101\n",
       "5479   26.0    0    0.006825\n",
       "12663  38.0    1    0.010948\n",
       "2992   24.8    0    0.006066\n",
       "9267   42.2    1    0.015117\n",
       "5864   28.7    0    0.008807\n",
       "10206  12.2    0    0.001382\n",
       "12258  18.2    1    0.001673\n",
       "4347   26.0    0    0.006825\n",
       "\n",
       "[8100 rows x 3 columns]"
      ]
     },
     "execution_count": 16,
     "metadata": {},
     "output_type": "execute_result"
    }
   ],
   "source": [
    "#pop_isoboxes\n",
    "pop_df['death_rate'] = pop_df.apply(lambda row: get_deathrate(row), axis=1)\n",
    "sample = pop_df.sample(n=pop_isoboxes, random_state=69420)\n",
    "sample"
   ]
  },
  {
   "cell_type": "code",
   "execution_count": 17,
   "metadata": {},
   "outputs": [
    {
     "data": {
      "text/plain": [
       "(8100,)"
      ]
     },
     "execution_count": 17,
     "metadata": {},
     "output_type": "execute_result"
    }
   ],
   "source": [
    "sample['death_rate'].values.shape"
   ]
  },
  {
   "cell_type": "code",
   "execution_count": null,
   "metadata": {},
   "outputs": [],
   "source": []
  }
 ],
 "metadata": {
  "kernelspec": {
   "display_name": "Python 3",
   "language": "python",
   "name": "python3"
  },
  "language_info": {
   "codemirror_mode": {
    "name": "ipython",
    "version": 3
   },
   "file_extension": ".py",
   "mimetype": "text/x-python",
   "name": "python",
   "nbconvert_exporter": "python",
   "pygments_lexer": "ipython3",
   "version": "3.6.8"
  }
 },
 "nbformat": 4,
 "nbformat_minor": 4
}
