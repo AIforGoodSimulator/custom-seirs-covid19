{
 "cells": [
  {
   "cell_type": "code",
   "execution_count": 50,
   "metadata": {},
   "outputs": [],
   "source": [
    "from camp_networks import create_moria\n",
    "from scipy.stats import poisson\n",
    "from stats_utils import sample_population\n",
    "from seirsplus.models import SymptomaticSEIRSNetworkModel\n",
    "from network_utils import run_simulation\n",
    "import numpy as np\n",
    "from collections import defaultdict\n",
    "from tqdm import tqdm"
   ]
  },
  {
   "cell_type": "code",
   "execution_count": 2,
   "metadata": {},
   "outputs": [
    {
     "name": "stderr",
     "output_type": "stream",
     "text": [
      "100%|██████████| 18700/18700 [00:04<00:00, 3858.89it/s]\n"
     ]
    }
   ],
   "source": [
    "graph, node_groups=create_moria()"
   ]
  },
  {
   "cell_type": "code",
   "execution_count": 9,
   "metadata": {},
   "outputs": [],
   "source": [
    "n_pop = 18700\n",
    "\n",
    "# Grid info for isoboxes\n",
    "dims_isoboxes = (29, 28)  # 812\n",
    "\n",
    "# Grid info for tents\n",
    "dims_block1 = (20, 67)  # 1340\n",
    "dims_block2 = (53, 15)  # 795\n",
    "dims_block3 = (19, 28)  # 532\n",
    "\n",
    "# Isoboxes\n",
    "pop_isoboxes = 8100\n",
    "pop_per_isobox = 10\n",
    "n_isoboxes = dims_isoboxes[0]*dims_isoboxes[1]\n",
    "\n",
    "# Tents\n",
    "n_tents = 2650\n",
    "pop_tents = 10600\n",
    "pop_per_tent = 4\n",
    "\n",
    "# Others \n",
    "n_bathrooms = 144\n",
    "n_ethnic_groups = 8\n",
    "\n",
    "# We define neighboring structures within a range of 2 in the structure grid\n",
    "proximity = 2\n",
    "\n",
    "# Define the maximum population per structures (tents and isoboxes) drawn from a poisson distribution\n",
    "max_pop_per_struct = list(poisson.rvs(mu=pop_per_isobox, size=n_isoboxes))\n",
    "max_pop_per_struct = max_pop_per_struct + list(poisson.rvs(mu=pop_per_tent, size=dims_block1[0]*dims_block1[1]))\n",
    "max_pop_per_struct = max_pop_per_struct + list(poisson.rvs(mu=pop_per_tent, size=dims_block2[0]*dims_block2[1]))\n",
    "max_pop_per_struct = max_pop_per_struct + list(poisson.rvs(mu=pop_per_tent, size=dims_block3[0]*dims_block3[1]))\n",
    "\n",
    "n_structs = len(max_pop_per_struct)\n",
    "\n",
    "# Sample the population age, and parameter rates\n",
    "sample_pop = sample_population(n_pop, \"data/augmented_population.csv\")\n",
    "\n",
    "transmission_rate = 1.28\n",
    "progression_rate = 1/5.1\n",
    "recovery_rate = 0.056 # Approx 1/18 -> Recovery occurs after 18 days\n",
    "hosp_rate = 1/11.4 #1/6.3 # From Tucker Model\n",
    "crit_rate = 0.3 # From camp_params\n",
    "\n",
    "prob_global_contact = 1\n",
    "prob_detected_global_contact = 1\n",
    "\n",
    "\n",
    "\n",
    "prob_hosp_to_critical = list(sample_pop[\"death_rate\"]/sample_pop[\"prob_hospitalisation\"])\n",
    "prob_asymptomatic = list(1 - sample_pop[\"prob_symptomatic\"])\n",
    "prob_symp_to_hosp = list(sample_pop[\"prob_hospitalisation\"])\n",
    "\n",
    "init_symp_cases = 1\n",
    "init_asymp_cases = 0"
   ]
  },
  {
   "cell_type": "code",
   "execution_count": 52,
   "metadata": {},
   "outputs": [],
   "source": [
    "ref_model = SymptomaticSEIRSNetworkModel(G=graph, beta=transmission_rate, sigma=progression_rate, gamma=recovery_rate, \n",
    "                                         lamda=progression_rate, mu_H=crit_rate, eta=hosp_rate, p=prob_global_contact, a=prob_asymptomatic, f=prob_hosp_to_critical, \n",
    "                                         h=prob_symp_to_hosp, q=prob_detected_global_contact, initI_S=init_symp_cases, initI_A=init_asymp_cases, store_Xseries=True,node_groups=node_groups)"
   ]
  },
  {
   "cell_type": "code",
   "execution_count": 53,
   "metadata": {},
   "outputs": [
    {
     "name": "stderr",
     "output_type": "stream",
     "text": [
      "  0%|          | 0/20 [00:00<?, ?it/s]"
     ]
    },
    {
     "name": "stdout",
     "output_type": "stream",
     "text": [
      "Running simulation for 20 steps...\n",
      "\n"
     ]
    },
    {
     "name": "stderr",
     "output_type": "stream",
     "text": [
      "100%|██████████| 20/20 [02:50<00:00,  8.50s/it]\n"
     ]
    }
   ],
   "source": [
    "node_states,simulation_results,grouped_data = run_simulation(ref_model, 20, print_info=False, store_every=1)"
   ]
  },
  {
   "cell_type": "code",
   "execution_count": 56,
   "metadata": {},
   "outputs": [],
   "source": [
    "def find_whole_time(tseries, T):\n",
    "    idt=[]\n",
    "    for t in range(0, T + 1):\n",
    "        idt.append(np.abs(tseries - t).argmin())\n",
    "    return idt"
   ]
  },
  {
   "cell_type": "code",
   "execution_count": 51,
   "metadata": {},
   "outputs": [],
   "source": [
    "def run_simulation(model, t, print_info=False, store_every=1):\n",
    "    node_states = dict()\n",
    "    simulation_results = defaultdict(list)\n",
    "\n",
    "    print(f\"Running simulation for {t} steps...\\n\")\n",
    "\n",
    "    for i in tqdm(range(1, t + 1)):\n",
    "        model.run(T=1, verbose=print_info)\n",
    "\n",
    "        if i % store_every == 0:\n",
    "            # Store the node states - an array of size (1, num_nodes) -> we store a copy because the array gets updated\n",
    "            node_states[i] = np.copy(model.X.T)\n",
    "\n",
    "            # Store the quantities of the last time step t \n",
    "            simulation_results[\"Symptomatic\"].append(model.numS[-1])\n",
    "            simulation_results[\"Exposed\"].append(model.numE[-1])\n",
    "            simulation_results[\"Infected_Presymptomatic\"].append(model.numI_pre[-1])\n",
    "            simulation_results[\"Infected_Symptomatic\"].append(model.numI_S[-1])\n",
    "            simulation_results[\"Infected_Asymptomatic\"].append(model.numI_A[-1])\n",
    "            simulation_results[\"Hospitalized\"].append(model.numH[-1])\n",
    "            simulation_results[\"Recovered\"].append(model.numR[-1])\n",
    "            simulation_results[\"Fatalities\"].append(model.numF[-1])\n",
    "            simulation_results[\"Detected_Presymptomatic\"].append(model.numD_pre[-1])\n",
    "            simulation_results[\"Detected_Symptomatic\"].append(model.numD_S[-1])\n",
    "            simulation_results[\"Detected_Asymptomatic\"].append(model.numD_A[-1])\n",
    "            simulation_results[\"T_index\"].append(model.tidx)\n",
    "    \n",
    "    group_data=model.nodeGroupData\n",
    "    time_stamps=model.tseries\n",
    "    idt=find_whole_time(time_stamps,t)\n",
    "    timed_group_data=group_data.copy()\n",
    "    for group,group_detail in group_data.items():\n",
    "        for key,value in group_detail.items():\n",
    "            if key!='nodes' and  key!='mask' and key!='N':\n",
    "                timed_group_data[group][key]=value[idt]\n",
    "    \n",
    "    \n",
    "    return node_states,simulation_results,timed_group_data"
   ]
  },
  {
   "cell_type": "code",
   "execution_count": null,
   "metadata": {},
   "outputs": [],
   "source": []
  }
 ],
 "metadata": {
  "kernelspec": {
   "display_name": "Python 3",
   "language": "python",
   "name": "python3"
  },
  "language_info": {
   "codemirror_mode": {
    "name": "ipython",
    "version": 3
   },
   "file_extension": ".py",
   "mimetype": "text/x-python",
   "name": "python",
   "nbconvert_exporter": "python",
   "pygments_lexer": "ipython3",
   "version": "3.7.6"
  },
  "widgets": {
   "application/vnd.jupyter.widget-state+json": {
    "state": {},
    "version_major": 2,
    "version_minor": 0
   }
  }
 },
 "nbformat": 4,
 "nbformat_minor": 4
}
