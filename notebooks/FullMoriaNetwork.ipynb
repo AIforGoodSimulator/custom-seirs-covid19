{
 "cells": [
  {
   "cell_type": "code",
   "execution_count": 1,
   "metadata": {},
   "outputs": [
    {
     "ename": "FileNotFoundError",
     "evalue": "[Errno 2] No such file or directory: 'data/augmented_population.csv'",
     "output_type": "error",
     "traceback": [
      "\u001b[0;31m---------------------------------------------------------------------------\u001b[0m",
      "\u001b[0;31mFileNotFoundError\u001b[0m                         Traceback (most recent call last)",
      "\u001b[0;32m<ipython-input-1-2a6048fcc963>\u001b[0m in \u001b[0;36m<module>\u001b[0;34m\u001b[0m\n\u001b[1;32m      1\u001b[0m \u001b[0;32mimport\u001b[0m \u001b[0mpandas\u001b[0m \u001b[0;32mas\u001b[0m \u001b[0mpd\u001b[0m\u001b[0;34m\u001b[0m\u001b[0;34m\u001b[0m\u001b[0m\n\u001b[1;32m      2\u001b[0m \u001b[0;34m\u001b[0m\u001b[0m\n\u001b[0;32m----> 3\u001b[0;31m \u001b[0mdf\u001b[0m \u001b[0;34m=\u001b[0m \u001b[0mpd\u001b[0m\u001b[0;34m.\u001b[0m\u001b[0mread_csv\u001b[0m\u001b[0;34m(\u001b[0m\u001b[0;34m'data/augmented_population.csv'\u001b[0m\u001b[0;34m,\u001b[0m \u001b[0mindex_col\u001b[0m\u001b[0;34m=\u001b[0m\u001b[0;36m0\u001b[0m\u001b[0;34m)\u001b[0m\u001b[0;34m\u001b[0m\u001b[0;34m\u001b[0m\u001b[0m\n\u001b[0m\u001b[1;32m      4\u001b[0m \u001b[0mdf\u001b[0m\u001b[0;34m\u001b[0m\u001b[0;34m\u001b[0m\u001b[0m\n",
      "\u001b[0;32m/opt/conda/lib/python3.8/site-packages/pandas/io/parsers.py\u001b[0m in \u001b[0;36mread_csv\u001b[0;34m(filepath_or_buffer, sep, delimiter, header, names, index_col, usecols, squeeze, prefix, mangle_dupe_cols, dtype, engine, converters, true_values, false_values, skipinitialspace, skiprows, skipfooter, nrows, na_values, keep_default_na, na_filter, verbose, skip_blank_lines, parse_dates, infer_datetime_format, keep_date_col, date_parser, dayfirst, cache_dates, iterator, chunksize, compression, thousands, decimal, lineterminator, quotechar, quoting, doublequote, escapechar, comment, encoding, dialect, error_bad_lines, warn_bad_lines, delim_whitespace, low_memory, memory_map, float_precision)\u001b[0m\n\u001b[1;32m    684\u001b[0m     )\n\u001b[1;32m    685\u001b[0m \u001b[0;34m\u001b[0m\u001b[0m\n\u001b[0;32m--> 686\u001b[0;31m     \u001b[0;32mreturn\u001b[0m \u001b[0m_read\u001b[0m\u001b[0;34m(\u001b[0m\u001b[0mfilepath_or_buffer\u001b[0m\u001b[0;34m,\u001b[0m \u001b[0mkwds\u001b[0m\u001b[0;34m)\u001b[0m\u001b[0;34m\u001b[0m\u001b[0;34m\u001b[0m\u001b[0m\n\u001b[0m\u001b[1;32m    687\u001b[0m \u001b[0;34m\u001b[0m\u001b[0m\n\u001b[1;32m    688\u001b[0m \u001b[0;34m\u001b[0m\u001b[0m\n",
      "\u001b[0;32m/opt/conda/lib/python3.8/site-packages/pandas/io/parsers.py\u001b[0m in \u001b[0;36m_read\u001b[0;34m(filepath_or_buffer, kwds)\u001b[0m\n\u001b[1;32m    450\u001b[0m \u001b[0;34m\u001b[0m\u001b[0m\n\u001b[1;32m    451\u001b[0m     \u001b[0;31m# Create the parser.\u001b[0m\u001b[0;34m\u001b[0m\u001b[0;34m\u001b[0m\u001b[0;34m\u001b[0m\u001b[0m\n\u001b[0;32m--> 452\u001b[0;31m     \u001b[0mparser\u001b[0m \u001b[0;34m=\u001b[0m \u001b[0mTextFileReader\u001b[0m\u001b[0;34m(\u001b[0m\u001b[0mfp_or_buf\u001b[0m\u001b[0;34m,\u001b[0m \u001b[0;34m**\u001b[0m\u001b[0mkwds\u001b[0m\u001b[0;34m)\u001b[0m\u001b[0;34m\u001b[0m\u001b[0;34m\u001b[0m\u001b[0m\n\u001b[0m\u001b[1;32m    453\u001b[0m \u001b[0;34m\u001b[0m\u001b[0m\n\u001b[1;32m    454\u001b[0m     \u001b[0;32mif\u001b[0m \u001b[0mchunksize\u001b[0m \u001b[0;32mor\u001b[0m \u001b[0miterator\u001b[0m\u001b[0;34m:\u001b[0m\u001b[0;34m\u001b[0m\u001b[0;34m\u001b[0m\u001b[0m\n",
      "\u001b[0;32m/opt/conda/lib/python3.8/site-packages/pandas/io/parsers.py\u001b[0m in \u001b[0;36m__init__\u001b[0;34m(self, f, engine, **kwds)\u001b[0m\n\u001b[1;32m    934\u001b[0m             \u001b[0mself\u001b[0m\u001b[0;34m.\u001b[0m\u001b[0moptions\u001b[0m\u001b[0;34m[\u001b[0m\u001b[0;34m\"has_index_names\"\u001b[0m\u001b[0;34m]\u001b[0m \u001b[0;34m=\u001b[0m \u001b[0mkwds\u001b[0m\u001b[0;34m[\u001b[0m\u001b[0;34m\"has_index_names\"\u001b[0m\u001b[0;34m]\u001b[0m\u001b[0;34m\u001b[0m\u001b[0;34m\u001b[0m\u001b[0m\n\u001b[1;32m    935\u001b[0m \u001b[0;34m\u001b[0m\u001b[0m\n\u001b[0;32m--> 936\u001b[0;31m         \u001b[0mself\u001b[0m\u001b[0;34m.\u001b[0m\u001b[0m_make_engine\u001b[0m\u001b[0;34m(\u001b[0m\u001b[0mself\u001b[0m\u001b[0;34m.\u001b[0m\u001b[0mengine\u001b[0m\u001b[0;34m)\u001b[0m\u001b[0;34m\u001b[0m\u001b[0;34m\u001b[0m\u001b[0m\n\u001b[0m\u001b[1;32m    937\u001b[0m \u001b[0;34m\u001b[0m\u001b[0m\n\u001b[1;32m    938\u001b[0m     \u001b[0;32mdef\u001b[0m \u001b[0mclose\u001b[0m\u001b[0;34m(\u001b[0m\u001b[0mself\u001b[0m\u001b[0;34m)\u001b[0m\u001b[0;34m:\u001b[0m\u001b[0;34m\u001b[0m\u001b[0;34m\u001b[0m\u001b[0m\n",
      "\u001b[0;32m/opt/conda/lib/python3.8/site-packages/pandas/io/parsers.py\u001b[0m in \u001b[0;36m_make_engine\u001b[0;34m(self, engine)\u001b[0m\n\u001b[1;32m   1166\u001b[0m     \u001b[0;32mdef\u001b[0m \u001b[0m_make_engine\u001b[0m\u001b[0;34m(\u001b[0m\u001b[0mself\u001b[0m\u001b[0;34m,\u001b[0m \u001b[0mengine\u001b[0m\u001b[0;34m=\u001b[0m\u001b[0;34m\"c\"\u001b[0m\u001b[0;34m)\u001b[0m\u001b[0;34m:\u001b[0m\u001b[0;34m\u001b[0m\u001b[0;34m\u001b[0m\u001b[0m\n\u001b[1;32m   1167\u001b[0m         \u001b[0;32mif\u001b[0m \u001b[0mengine\u001b[0m \u001b[0;34m==\u001b[0m \u001b[0;34m\"c\"\u001b[0m\u001b[0;34m:\u001b[0m\u001b[0;34m\u001b[0m\u001b[0;34m\u001b[0m\u001b[0m\n\u001b[0;32m-> 1168\u001b[0;31m             \u001b[0mself\u001b[0m\u001b[0;34m.\u001b[0m\u001b[0m_engine\u001b[0m \u001b[0;34m=\u001b[0m \u001b[0mCParserWrapper\u001b[0m\u001b[0;34m(\u001b[0m\u001b[0mself\u001b[0m\u001b[0;34m.\u001b[0m\u001b[0mf\u001b[0m\u001b[0;34m,\u001b[0m \u001b[0;34m**\u001b[0m\u001b[0mself\u001b[0m\u001b[0;34m.\u001b[0m\u001b[0moptions\u001b[0m\u001b[0;34m)\u001b[0m\u001b[0;34m\u001b[0m\u001b[0;34m\u001b[0m\u001b[0m\n\u001b[0m\u001b[1;32m   1169\u001b[0m         \u001b[0;32melse\u001b[0m\u001b[0;34m:\u001b[0m\u001b[0;34m\u001b[0m\u001b[0;34m\u001b[0m\u001b[0m\n\u001b[1;32m   1170\u001b[0m             \u001b[0;32mif\u001b[0m \u001b[0mengine\u001b[0m \u001b[0;34m==\u001b[0m \u001b[0;34m\"python\"\u001b[0m\u001b[0;34m:\u001b[0m\u001b[0;34m\u001b[0m\u001b[0;34m\u001b[0m\u001b[0m\n",
      "\u001b[0;32m/opt/conda/lib/python3.8/site-packages/pandas/io/parsers.py\u001b[0m in \u001b[0;36m__init__\u001b[0;34m(self, src, **kwds)\u001b[0m\n\u001b[1;32m   1996\u001b[0m         \u001b[0mkwds\u001b[0m\u001b[0;34m[\u001b[0m\u001b[0;34m\"usecols\"\u001b[0m\u001b[0;34m]\u001b[0m \u001b[0;34m=\u001b[0m \u001b[0mself\u001b[0m\u001b[0;34m.\u001b[0m\u001b[0musecols\u001b[0m\u001b[0;34m\u001b[0m\u001b[0;34m\u001b[0m\u001b[0m\n\u001b[1;32m   1997\u001b[0m \u001b[0;34m\u001b[0m\u001b[0m\n\u001b[0;32m-> 1998\u001b[0;31m         \u001b[0mself\u001b[0m\u001b[0;34m.\u001b[0m\u001b[0m_reader\u001b[0m \u001b[0;34m=\u001b[0m \u001b[0mparsers\u001b[0m\u001b[0;34m.\u001b[0m\u001b[0mTextReader\u001b[0m\u001b[0;34m(\u001b[0m\u001b[0msrc\u001b[0m\u001b[0;34m,\u001b[0m \u001b[0;34m**\u001b[0m\u001b[0mkwds\u001b[0m\u001b[0;34m)\u001b[0m\u001b[0;34m\u001b[0m\u001b[0;34m\u001b[0m\u001b[0m\n\u001b[0m\u001b[1;32m   1999\u001b[0m         \u001b[0mself\u001b[0m\u001b[0;34m.\u001b[0m\u001b[0munnamed_cols\u001b[0m \u001b[0;34m=\u001b[0m \u001b[0mself\u001b[0m\u001b[0;34m.\u001b[0m\u001b[0m_reader\u001b[0m\u001b[0;34m.\u001b[0m\u001b[0munnamed_cols\u001b[0m\u001b[0;34m\u001b[0m\u001b[0;34m\u001b[0m\u001b[0m\n\u001b[1;32m   2000\u001b[0m \u001b[0;34m\u001b[0m\u001b[0m\n",
      "\u001b[0;32mpandas/_libs/parsers.pyx\u001b[0m in \u001b[0;36mpandas._libs.parsers.TextReader.__cinit__\u001b[0;34m()\u001b[0m\n",
      "\u001b[0;32mpandas/_libs/parsers.pyx\u001b[0m in \u001b[0;36mpandas._libs.parsers.TextReader._setup_parser_source\u001b[0;34m()\u001b[0m\n",
      "\u001b[0;31mFileNotFoundError\u001b[0m: [Errno 2] No such file or directory: 'data/augmented_population.csv'"
     ]
    }
   ],
   "source": [
    "import pandas as pd\n",
    "\n",
    "df = pd.read_csv('../data/augmented_population.csv', index_col=0)\n",
    "df"
   ]
  },
  {
   "cell_type": "code",
   "execution_count": 2,
   "metadata": {},
   "outputs": [],
   "source": [
    "houses_pop = 8100\n",
    "tents_block1 = (len(df) - houses_pop) / 4 * 0.5\n",
    "tents_block2 = (len(df) - houses_pop) / 4 * 0.3\n",
    "tents_block3 = (len(df) - houses_pop) / 4 * 0.2"
   ]
  },
  {
   "cell_type": "code",
   "execution_count": 3,
   "metadata": {},
   "outputs": [],
   "source": [
    "dims_isoboxes = (29, 28)  # 812\n",
    "dims_block1 = (20, 67)  # 1340\n",
    "dims_block2 = (53, 15)  # 795\n",
    "dims_block3 = (19, 28)  # 532"
   ]
  },
  {
   "cell_type": "code",
   "execution_count": 4,
   "metadata": {},
   "outputs": [],
   "source": [
    "from network_utils import *\n",
    "\n",
    "grid_isoboxes = create_grid(dims_isoboxes[0], dims_isoboxes[1], 0)\n",
    "grid_block1 = create_grid(dims_block1[0], dims_block1[1], grid_isoboxes[-1][-1] + 1)\n",
    "grid_block2 = create_grid(dims_block2[0], dims_block2[1], grid_block1[-1][-1] + 1)\n",
    "grid_block3 = create_grid(dims_block3[0], dims_block3[1], grid_block2[-1][-1] + 1)"
   ]
  },
  {
   "cell_type": "code",
   "execution_count": 5,
   "metadata": {},
   "outputs": [],
   "source": [
    "from scipy.stats import poisson\n",
    "\n",
    "isobox_mean = 10\n",
    "tent_mean = 4\n",
    "\n",
    "max_pop_per_struct = list(poisson.rvs(mu=isobox_mean, size=dims_isoboxes[0]*dims_isoboxes[1]))\n",
    "max_pop_per_struct = max_pop_per_struct + list(poisson.rvs(mu=tent_mean, size=dims_block1[0]*dims_block1[1]))\n",
    "max_pop_per_struct = max_pop_per_struct + list(poisson.rvs(mu=tent_mean, size=dims_block2[0]*dims_block2[1]))\n",
    "max_pop_per_struct = max_pop_per_struct + list(poisson.rvs(mu=tent_mean, size=dims_block3[0]*dims_block3[1]))"
   ]
  },
  {
   "cell_type": "code",
   "execution_count": 6,
   "metadata": {},
   "outputs": [],
   "source": [
    "from stats_utils import *\n",
    "\n",
    "n_pop = 18700\n",
    "n_structs = len(max_pop_per_struct)\n",
    "\n",
    "# Isoboxes\n",
    "n_isoboxes = 812\n",
    "pop_isoboxes = 8100\n",
    "pop_per_isobox = 10\n",
    "\n",
    "# Tents\n",
    "n_tents = 2650\n",
    "pop_tents = 10600\n",
    "pop_per_tent = 4\n",
    "\n",
    "# Others \n",
    "n_bathrooms = 144\n",
    "n_ethnic_groups = 8\n",
    "\n",
    "# Isobox grid parameters - can be extended to tents as well\n",
    "grid_width = 29\n",
    "grid_height = 28\n",
    "\n",
    "# We define neighboring isoboxes as any isobox within a range of 2 in the isobox grid\n",
    "iso_proximity = 2\n",
    "\n",
    "# Sample the population age, and parameter rates\n",
    "sample_pop = sample_population(n_pop, 'data/augmented_population.csv')"
   ]
  },
  {
   "cell_type": "code",
   "execution_count": 8,
   "metadata": {},
   "outputs": [
    {
     "name": "stderr",
     "output_type": "stream",
     "text": [
      "100%|██████████| 18700/18700 [00:17<00:00, 1056.78it/s]\n"
     ]
    }
   ],
   "source": [
    "household_weight = 0.98  # Edge weight for connections within each isobox\n",
    "graph, nodes_per_struct = create_graph(n_structs, 0, n_pop, max_pop_per_struct, \n",
    "                                       edge_weight=household_weight, label=\"household\",\n",
    "                                       age_list=list(sample_pop[\"age\"]),\n",
    "                                       sex_list = list(sample_pop[\"sex\"]),\n",
    "                                       n_ethnicities=n_ethnic_groups)"
   ]
  },
  {
   "cell_type": "code",
   "execution_count": 11,
   "metadata": {},
   "outputs": [],
   "source": [
    "neighbor_weight = 0.017\n",
    "graph = connect_neighbors(graph, 0, n_isoboxes, nodes_per_struct,\n",
    "                          grid_isoboxes, 2, neighbor_weight, 'friendship')\n",
    "graph = connect_neighbors(graph, dims_isoboxes[0]*dims_isoboxes[1], dims_block1[0]*dims_block1[1], nodes_per_struct,\n",
    "                          grid_block1, 2, neighbor_weight, 'friendship')\n",
    "graph = connect_neighbors(graph, dims_block1[0]*dims_block1[1], dims_block2[0]*dims_block2[1], nodes_per_struct,\n",
    "                          grid_block2, 2, neighbor_weight, 'friendship')\n",
    "graph = connect_neighbors(graph, dims_block2[0]*dims_block2[1], dims_block3[0]*dims_block3[1], nodes_per_struct,\n",
    "                          grid_block3, 2, neighbor_weight, 'friendship')"
   ]
  },
  {
   "cell_type": "code",
   "execution_count": 25,
   "metadata": {},
   "outputs": [
    {
     "data": {
      "text/plain": [
       "({'age': 41.7, 'sex': 0, 'location': 813, 'ethnicity': 7}, 3009)"
      ]
     },
     "execution_count": 25,
     "metadata": {},
     "output_type": "execute_result"
    }
   ],
   "source": [
    "graph.nodes[nodes_per_struct[813][0]], nodes_per_struct[813][0]"
   ]
  },
  {
   "cell_type": "code",
   "execution_count": 26,
   "metadata": {},
   "outputs": [
    {
     "data": {
      "text/plain": [
       "[{'age': 12.8, 'sex': 0, 'location': 813, 'ethnicity': 1},\n",
       " {'age': 32.9, 'sex': 1, 'location': 813, 'ethnicity': 4},\n",
       " {'age': 0.1, 'sex': 0, 'location': 813, 'ethnicity': 0},\n",
       " {'age': 25.9, 'sex': 1, 'location': 1558, 'ethnicity': 7},\n",
       " {'age': 12.0, 'sex': 0, 'location': 1559, 'ethnicity': 7},\n",
       " {'age': 23.0, 'sex': 1, 'location': 1690, 'ethnicity': 7},\n",
       " {'age': 49.1, 'sex': 0, 'location': 1690, 'ethnicity': 7},\n",
       " {'age': 26.5, 'sex': 1, 'location': 1690, 'ethnicity': 7},\n",
       " {'age': 6.8, 'sex': 0, 'location': 1691, 'ethnicity': 7},\n",
       " {'age': 4.2, 'sex': 0, 'location': 1693, 'ethnicity': 7},\n",
       " {'age': 0.0, 'sex': 1, 'location': 1492, 'ethnicity': 7},\n",
       " {'age': 18.7, 'sex': 1, 'location': 1623, 'ethnicity': 7},\n",
       " {'age': 39.2, 'sex': 1, 'location': 1757, 'ethnicity': 7},\n",
       " {'age': 49.7, 'sex': 0, 'location': 3452, 'ethnicity': 7},\n",
       " {'age': 34.0, 'sex': 0, 'location': 3453, 'ethnicity': 7},\n",
       " {'age': 12.0, 'sex': 0, 'location': 3453, 'ethnicity': 7},\n",
       " {'age': 22.9, 'sex': 0, 'location': 3454, 'ethnicity': 7}]"
      ]
     },
     "execution_count": 26,
     "metadata": {},
     "output_type": "execute_result"
    }
   ],
   "source": [
    "connected_bois = [edge[1] for edge in graph.edges if edge[0] == 3009]\n",
    "[graph.nodes[cb] for cb in connected_bois]"
   ]
  },
  {
   "cell_type": "code",
   "execution_count": 22,
   "metadata": {},
   "outputs": [
    {
     "data": {
      "text/plain": [
       "3479"
      ]
     },
     "execution_count": 22,
     "metadata": {},
     "output_type": "execute_result"
    }
   ],
   "source": [
    "len(nodes_per_struct)"
   ]
  },
  {
   "cell_type": "code",
   "execution_count": 29,
   "metadata": {},
   "outputs": [
    {
     "name": "stdout",
     "output_type": "stream",
     "text": [
      "[{'age': 21.7, 'sex': 1, 'location': 795, 'ethnicity': 1}, {'age': 22.7, 'sex': 1, 'location': 795, 'ethnicity': 7}, {'age': 1.1, 'sex': 0, 'location': 795, 'ethnicity': 2}, {'age': 2.3, 'sex': 1, 'location': 795, 'ethnicity': 3}, {'age': 34.8, 'sex': 0, 'location': 795, 'ethnicity': 0}, {'age': 30.7, 'sex': 1, 'location': 795, 'ethnicity': 0}, {'age': 24.0, 'sex': 1, 'location': 795, 'ethnicity': 5}, {'age': 35.1, 'sex': 1, 'location': 795, 'ethnicity': 1}, {'age': 20.9, 'sex': 1, 'location': 795, 'ethnicity': 3}, {'age': 30.1, 'sex': 1, 'location': 737, 'ethnicity': 0}, {'age': 41.6, 'sex': 0, 'location': 739, 'ethnicity': 0}, {'age': 31.6, 'sex': 0, 'location': 739, 'ethnicity': 0}, {'age': 31.7, 'sex': 0, 'location': 741, 'ethnicity': 0}, {'age': 26.3, 'sex': 1, 'location': 741, 'ethnicity': 0}, {'age': 2.6, 'sex': 0, 'location': 741, 'ethnicity': 0}, {'age': 8.0, 'sex': 1, 'location': 741, 'ethnicity': 0}, {'age': 40.0, 'sex': 0, 'location': 765, 'ethnicity': 0}, {'age': 1.0, 'sex': 1, 'location': 766, 'ethnicity': 0}, {'age': 1.5, 'sex': 0, 'location': 767, 'ethnicity': 0}, {'age': 28.0, 'sex': 0, 'location': 768, 'ethnicity': 0}, {'age': 49.0, 'sex': 0, 'location': 768, 'ethnicity': 0}, {'age': 30.4, 'sex': 0, 'location': 769, 'ethnicity': 0}, {'age': 21.3, 'sex': 0, 'location': 769, 'ethnicity': 0}, {'age': 25.0, 'sex': 0, 'location': 793, 'ethnicity': 0}, {'age': 7.7, 'sex': 1, 'location': 793, 'ethnicity': 0}, {'age': 16.8, 'sex': 1, 'location': 794, 'ethnicity': 0}, {'age': 4.0, 'sex': 0, 'location': 796, 'ethnicity': 0}, {'age': 3.9, 'sex': 0, 'location': 3462, 'ethnicity': 0}, {'age': 40.7, 'sex': 1, 'location': 3464, 'ethnicity': 0}]\n"
     ]
    }
   ],
   "source": [
    "for i in range(dims_block2[0]*dims_block2[1], dims_block2[0]*dims_block2[1] + dims_block3[0]*dims_block3[1]):\n",
    "    connected_bois = [edge[1] for edge in graph.edges if edge[0] == nodes_per_struct[i][0]]\n",
    "    \n",
    "    if len(connected_bois) > 4:\n",
    "        print([graph.nodes[cb] for cb in connected_bois])\n",
    "        break"
   ]
  },
  {
   "cell_type": "code",
   "execution_count": 30,
   "metadata": {},
   "outputs": [],
   "source": [
    "food_weight = 0.407  # Edge weight for connections in the food queue \n",
    "graph = connect_food_queue(graph, nodes_per_struct, food_weight, \"food\") "
   ]
  },
  {
   "cell_type": "code",
   "execution_count": 36,
   "metadata": {},
   "outputs": [
    {
     "name": "stdout",
     "output_type": "stream",
     "text": [
      "t = 0.04\n",
      "t = 10.00\n",
      "t = 20.00\n",
      "t = 30.00\n",
      "t = 40.00\n",
      "t = 50.00\n",
      "t = 60.00\n",
      "t = 70.00\n",
      "t = 80.00\n",
      "t = 90.28\n",
      "t = 100.05\n",
      "t = 110.09\n",
      "t = 120.09\n",
      "t = 130.05\n",
      "t = 150.25\n",
      "t = 170.79\n"
     ]
    },
    {
     "data": {
      "text/plain": [
       "True"
      ]
     },
     "execution_count": 36,
     "metadata": {},
     "output_type": "execute_result"
    }
   ],
   "source": [
    "from seirsplus.models import *\n",
    "\n",
    "beta = 1.28\n",
    "sigma = 1/5.1\n",
    "gamma = 0.056\n",
    "initI = 10\n",
    "\n",
    "ref_model = SEIRSNetworkModel(G=graph, beta=beta, sigma=sigma, gamma=gamma, mu_I=list(sample_pop[\"death_rate\"]), p=0.5,\n",
    "                              beta_D=beta, sigma_D=sigma, gamma_D=gamma, mu_D=list(sample_pop[\"death_rate\"]),\n",
    "                              theta_E=0, theta_I=0, phi_E=0, phi_I=0, psi_E=1.0, psi_I=1.0, q=0.5,\n",
    "                              initI=10)\n",
    "\n",
    "ref_model.run(T=300)"
   ]
  },
  {
   "cell_type": "code",
   "execution_count": 37,
   "metadata": {},
   "outputs": [
    {
     "data": {
      "image/png": "[encoded data removed]",
      "text/plain": [
       "<Figure size 864x576 with 1 Axes>"
      ]
     },
     "metadata": {
      "needs_background": "light"
     },
     "output_type": "display_data"
    },
    {
     "data": {
      "text/plain": [
       "(<Figure size 864x576 with 1 Axes>,\n",
       " <matplotlib.axes._subplots.AxesSubplot at 0x7fa13f87d650>)"
      ]
     },
     "execution_count": 37,
     "metadata": {},
     "output_type": "execute_result"
    }
   ],
   "source": [
    "ref_model.figure_basic()"
   ]
  },
  {
   "cell_type": "code",
   "execution_count": null,
   "metadata": {},
   "outputs": [],
   "source": []
  }
 ],
 "metadata": {
  "kernelspec": {
   "display_name": "Python 3",
   "language": "python",
   "name": "python3"
  },
  "language_info": {
   "codemirror_mode": {
    "name": "ipython",
    "version": 3
   },
   "file_extension": ".py",
   "mimetype": "text/x-python",
   "name": "python",
   "nbconvert_exporter": "python",
   "pygments_lexer": "ipython3",
   "version": "3.8.5"
  }
 },
 "nbformat": 4,
 "nbformat_minor": 4
}
