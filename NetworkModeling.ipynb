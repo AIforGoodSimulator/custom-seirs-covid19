{
 "cells": [
  {
   "cell_type": "markdown",
   "metadata": {},
   "source": [
    "# Network Modeling with SEIRS+ Notebook "
   ]
  },
  {
   "cell_type": "code",
   "execution_count": 83,
   "metadata": {},
   "outputs": [],
   "source": [
    "import networkx as nx\n",
    "import pandas as pd\n",
    "import numpy as np\n",
    "import matplotlib.pyplot as plt\n",
    "from scipy.stats import poisson\n",
    "from seirsplus.models import *\n",
    "from seirsplus.networks import *\n",
    "from seirsplus.sim_loops import *\n",
    "from seirsplus.utilities import *\n",
    "from network_utils import *\n",
    "from stats_utils import *\n",
    "from intervention_utils import *\n",
    "from camp_params import *\n",
    "import pickle as pkl"
   ]
  },
  {
   "cell_type": "code",
   "execution_count": 84,
   "metadata": {},
   "outputs": [],
   "source": [
    "n_pop = 18700\n",
    "\n",
    "# Grid info for isoboxes\n",
    "dims_isoboxes = (29, 28)  # 812\n",
    "\n",
    "# Grid info for tents\n",
    "dims_block1 = (20, 67)  # 1340\n",
    "dims_block2 = (53, 15)  # 795\n",
    "dims_block3 = (19, 28)  # 532\n",
    "\n",
    "# Isoboxes\n",
    "pop_isoboxes = 8100\n",
    "pop_per_isobox = 10\n",
    "n_isoboxes = dims_isoboxes[0]*dims_isoboxes[1]\n",
    "\n",
    "# Tents\n",
    "n_tents = 2650\n",
    "pop_tents = 10600\n",
    "pop_per_tent = 4\n",
    "\n",
    "# Others \n",
    "n_bathrooms = 144\n",
    "n_ethnic_groups = 8\n",
    "\n",
    "# We define neighboring structures within a range of 2 in the structure grid\n",
    "proximity = 2\n",
    "\n",
    "# Define the maximum population per structures (tents and isoboxes) drawn from a poisson distribution\n",
    "max_pop_per_struct = list(poisson.rvs(mu=pop_per_isobox, size=n_isoboxes))\n",
    "max_pop_per_struct = max_pop_per_struct + list(poisson.rvs(mu=pop_per_tent, size=dims_block1[0]*dims_block1[1]))\n",
    "max_pop_per_struct = max_pop_per_struct + list(poisson.rvs(mu=pop_per_tent, size=dims_block2[0]*dims_block2[1]))\n",
    "max_pop_per_struct = max_pop_per_struct + list(poisson.rvs(mu=pop_per_tent, size=dims_block3[0]*dims_block3[1]))\n",
    "\n",
    "n_structs = len(max_pop_per_struct)\n",
    "\n",
    "# Sample the population age, and parameter rates\n",
    "sample_pop = sample_population(n_pop, \"data/augmented_population.csv\")"
   ]
  },
  {
   "cell_type": "markdown",
   "metadata": {},
   "source": [
    "### 1) Load base graph for Moria"
   ]
  },
  {
   "cell_type": "code",
   "execution_count": 85,
   "metadata": {},
   "outputs": [
    {
     "name": "stderr",
     "output_type": "stream",
     "text": [
      "100%|██████████| 18700/18700 [00:20<00:00, 907.21it/s] \n"
     ]
    }
   ],
   "source": [
    "# graph, nodes_per_struct = load_graph(\"experiments/networks/Moria_wNeighbors_4\")\n",
    "\n",
    "household_weight = 0.98\n",
    "graph, nodes_per_struct = create_graph(n_structs, 0, n_pop, max_pop_per_struct, \n",
    "                                       edge_weight=household_weight, label=\"household\",\n",
    "                                       age_list=list(sample_pop[\"age\"]),\n",
    "                                       sex_list = list(sample_pop[\"sex\"]),\n",
    "                                       n_ethnicities=n_ethnic_groups)"
   ]
  },
  {
   "cell_type": "code",
   "execution_count": 86,
   "metadata": {},
   "outputs": [
    {
     "data": {
      "text/plain": [
       "<networkx.classes.graph.Graph at 0x7fab41b89640>"
      ]
     },
     "execution_count": 86,
     "metadata": {},
     "output_type": "execute_result"
    }
   ],
   "source": [
    "graph"
   ]
  },
  {
   "cell_type": "code",
   "execution_count": 87,
   "metadata": {},
   "outputs": [
    {
     "data": {
      "text/plain": [
       "(<networkx.classes.graph.Graph at 0x7fab41b89640>,\n",
       " [[2897, 3248, 7490, 12566, 18470],\n",
       "  [2195, 4727, 5436, 6683, 7119, 13986],\n",
       "  [1093, 1250, 1604, 12400, 12410, 13859, 15896, 16147, 17055],\n",
       "  [1403, 3603, 6748, 6783, 7950, 8826, 8949, 11899, 13567, 17890],\n",
       "  [6281, 7893, 14219, 14439, 17153, 17276, 17317, 17812, 18241, 18360],\n",
       "  [1830, 2307, 6797, 10979, 13198, 14246],\n",
       "  [11382, 12239],\n",
       "  [6209, 9989, 13878, 15626, 16745, 17475, 17826],\n",
       "  [3446, 4208, 7055, 10516, 12063, 12531, 13692, 14137, 17479],\n",
       "  [378, 1156, 5353, 10515, 12904, 13124, 15926, 16237]])"
      ]
     },
     "execution_count": 87,
     "metadata": {},
     "output_type": "execute_result"
    }
   ],
   "source": [
    "graph, nodes_per_struct[:10]"
   ]
  },
  {
   "cell_type": "markdown",
   "metadata": {},
   "source": [
    "#### 1.1) We will add a general food queue which represents the current state of the camp"
   ]
  },
  {
   "cell_type": "code",
   "execution_count": 88,
   "metadata": {},
   "outputs": [],
   "source": [
    "food_weight = 0.407\n",
    "graph_1fq = connect_food_queue(graph, nodes_per_struct, food_weight, \"food\")"
   ]
  },
  {
   "cell_type": "markdown",
   "metadata": {},
   "source": [
    "### 2) Plot the basic network degrees"
   ]
  },
  {
   "cell_type": "code",
   "execution_count": 89,
   "metadata": {
    "tags": []
   },
   "outputs": [
    {
     "name": "stdout",
     "output_type": "stream",
     "text": [
      "Min degree: 0 Max degree: 14\n",
      "Baseline:\n",
      "Degree: mean = 5.31, std = 2.37, 95% CI = (1.48, 11.00)\n",
      "        coeff var = 0.45\n",
      "Assortativity:    1.00\n",
      "Clustering coeff: 0.97\n",
      "\n"
     ]
    },
    {
     "data": {
      "image/png": "[encoded data removed]",
      "text/plain": [
       "<Figure size 432x288 with 1 Axes>"
      ]
     },
     "metadata": {},
     "output_type": "display_data"
    }
   ],
   "source": [
    "# Degrees without food queue, just neighbors\n",
    "min_G, max_G = min_degree(graph), max_degree(graph)\n",
    "print(\"Min degree:\", min_G, \"Max degree:\", max_G)\n",
    "# plot_degree_distn(graph, max_degree=max_G)\n",
    "network_info(graph, \"Baseline\", plot=True)"
   ]
  },
  {
   "cell_type": "code",
   "execution_count": 90,
   "metadata": {
    "tags": []
   },
   "outputs": [
    {
     "name": "stdout",
     "output_type": "stream",
     "text": [
      "Min degree: 0 Max degree: 24\n",
      "Baseline with 1 food queue:\n",
      "Degree: mean = 9.25, std = 5.43, 95% CI = (2.00, 19.00)\n",
      "        coeff var = 0.59\n",
      "Assortativity:    0.29\n",
      "Clustering coeff: 0.75\n",
      "\n"
     ]
    },
    {
     "data": {
      "image/png": "[encoded data removed]",
      "text/plain": [
       "<Figure size 432x288 with 1 Axes>"
      ]
     },
     "metadata": {},
     "output_type": "display_data"
    }
   ],
   "source": [
    "# Degrees with 1 food queue\n",
    "min_G, max_G = min_degree(graph_1fq), max_degree(graph_1fq)\n",
    "print(\"Min degree:\", min_G, \"Max degree:\", max_G)\n",
    "# plot_degree_distn(graph_1fq, max_degree=max_G)\n",
    "network_info(graph_1fq, \"Baseline with 1 food queue\", plot=True)"
   ]
  },
  {
   "cell_type": "code",
   "execution_count": 91,
   "metadata": {},
   "outputs": [],
   "source": [
    "neighbor_weight = 0.017\n",
    "graph_1fq = connect_neighbors(graph_1fq, 0, n_isoboxes, nodes_per_struct,\n",
    "                              grid_isoboxes, 2, neighbor_weight, 'friendship')\n",
    "graph_1fq = connect_neighbors(graph_1fq, dims_isoboxes[0]*dims_isoboxes[1], dims_block1[0]*dims_block1[1], nodes_per_struct,\n",
    "                              grid_block1, 2, neighbor_weight, 'friendship')\n",
    "graph_1fq = connect_neighbors(graph_1fq, dims_block1[0]*dims_block1[1], dims_block2[0]*dims_block2[1], nodes_per_struct,\n",
    "                              grid_block2, 2, neighbor_weight, 'friendship')\n",
    "graph_1fq = connect_neighbors(graph_1fq, dims_block2[0]*dims_block2[1], dims_block3[0]*dims_block3[1], nodes_per_struct,\n",
    "                              grid_block3, 2, neighbor_weight, 'friendship')"
   ]
  },
  {
   "cell_type": "code",
   "execution_count": 92,
   "metadata": {},
   "outputs": [
    {
     "name": "stdout",
     "output_type": "stream",
     "text": [
      "Min degree: 0 Max degree: 196\n",
      "Baseline with neighbours:\n",
      "Degree: mean = 22.48, std = 15.48, 95% CI = (2.00, 50.00)\n",
      "        coeff var = 0.69\n",
      "Assortativity:    0.02\n",
      "Clustering coeff: 0.41\n",
      "\n"
     ]
    },
    {
     "data": {
      "image/png": "[encoded data removed]",
      "text/plain": [
       "<Figure size 432x288 with 1 Axes>"
      ]
     },
     "metadata": {},
     "output_type": "display_data"
    }
   ],
   "source": [
    "# Actual neighbours?\n",
    "min_G, max_G = min_degree(graph_1fq), max_degree(graph_1fq)\n",
    "print(\"Min degree:\", min_G, \"Max degree:\", max_G)\n",
    "# plot_degree_distn(graph_1fq, max_degree=max_G)\n",
    "network_info(graph_1fq, \"Baseline with neighbours\", plot=True)"
   ]
  },
  {
   "cell_type": "markdown",
   "metadata": {},
   "source": [
    "### 4) Define SEIRS model parameters"
   ]
  },
  {
   "cell_type": "code",
   "execution_count": 93,
   "metadata": {},
   "outputs": [],
   "source": [
    "transmission_rate = 1.28\n",
    "progression_rate = round(1/5.1, 3)\n",
    "recovery_rate = 0.056 # Approx 1/18 -> Recovery occurs after 18 days\n",
    "hosp_rate = round(1/11.4, 3) #1/6.3 # From Tucker Model\n",
    "# crit_rate = 0.3 # From camp_params\n",
    "crit_rate = list((sample_pop[\"death_rate\"] / sample_pop[\"prob_symptomatic\"]) / sample_pop[\"prob_hospitalisation\"])\n",
    "death_rate = 0.75\n",
    "\n",
    "prob_global_contact = 0.2\n",
    "prob_quarantine_global_contact = 1\n",
    "\n",
    "# prob_hosp_to_critical = list(sample_pop[\"death_rate\"]/sample_pop[\"prob_hospitalisation\"])\n",
    "prob_death = list(sample_pop[\"death_rate\"])\n",
    "prob_asymptomatic = list(1 - sample_pop[\"prob_symptomatic\"])\n",
    "prob_symp_to_hosp = list(sample_pop[\"prob_hospitalisation\"])\n",
    "\n",
    "init_symp_cases = 1\n",
    "init_asymp_cases = 1"
   ]
  },
  {
   "cell_type": "markdown",
   "metadata": {},
   "source": [
    "### 4.1) Testing out new parameters combined from seirsplus"
   ]
  },
  {
   "cell_type": "code",
   "execution_count": 94,
   "metadata": {
    "tags": []
   },
   "outputs": [
    {
     "name": "stdout",
     "output_type": "stream",
     "text": [
      "latent period:  mean = 2.20, std = 1.11, 95% CI = (0.61, 4.82)\n",
      "\n",
      "pre-symptomatic period:  mean = 3.00, std = 1.82, 95% CI = (0.56, 7.48)\n",
      "\n",
      "total incubation period:  mean = 5.20, std = 2.12, 95% CI = (1.96, 10.19)\n",
      "\n"
     ]
    },
    {
     "data": {
      "image/png": "[encoded data removed]",
      "text/plain": [
       "<Figure size 432x288 with 1 Axes>"
      ]
     },
     "metadata": {},
     "output_type": "display_data"
    }
   ],
   "source": [
    "latentPeriod_mean, latentPeriod_coeffvar = 3.0, 0.6\n",
    "SIGMA   = 1 / gamma_dist(latentPeriod_mean, latentPeriod_coeffvar, n_pop)\n",
    "\n",
    "presymptomaticPeriod_mean, presymptomaticPeriod_coeffvar = 2.2, 0.5\n",
    "LAMDA   = 1 / gamma_dist(presymptomaticPeriod_mean, presymptomaticPeriod_coeffvar, n_pop)\n",
    "\n",
    "dist_info([1/LAMDA, 1/SIGMA, 1/LAMDA+1/SIGMA], [\"latent period\", \"pre-symptomatic period\", \"total incubation period\"], plot=True, colors=['gold', 'darkorange', 'black'], reverse_plot=True)"
   ]
  },
  {
   "cell_type": "code",
   "execution_count": 95,
   "metadata": {
    "tags": []
   },
   "outputs": [
    {
     "name": "stdout",
     "output_type": "stream",
     "text": [
      "pre-symptomatic period:  mean = 2.20, std = 1.11, 95% CI = (0.61, 4.82)\n",
      "\n",
      "(a)symptomatic period:  mean = 3.99, std = 1.60, 95% CI = (1.51, 7.64)\n",
      "\n",
      "total infectious period:  mean = 6.19, std = 1.94, 95% CI = (3.03, 10.61)\n",
      "\n"
     ]
    },
    {
     "data": {
      "image/png": "[encoded data removed]",
      "text/plain": [
       "<Figure size 432x288 with 1 Axes>"
      ]
     },
     "metadata": {},
     "output_type": "display_data"
    }
   ],
   "source": [
    "symptomaticPeriod_mean, symptomaticPeriod_coeffvar = 4.0, 0.4\n",
    "GAMMA   = 1 / gamma_dist(symptomaticPeriod_mean, symptomaticPeriod_coeffvar, n_pop)\n",
    "\n",
    "infectiousPeriod = 1/LAMDA + 1/GAMMA\n",
    "\n",
    "dist_info([1/LAMDA, 1/GAMMA, 1/LAMDA+1/GAMMA], [\"pre-symptomatic period\", \"(a)symptomatic period\", \"total infectious period\"], plot=True, colors=['darkorange', 'crimson', 'black'], reverse_plot=True)"
   ]
  },
  {
   "cell_type": "code",
   "execution_count": 96,
   "metadata": {
    "tags": []
   },
   "outputs": [
    {
     "name": "stdout",
     "output_type": "stream",
     "text": [
      "onset-to-hospitalization period:  mean = 11.00, std = 4.94, 95% CI = (3.53, 22.55)\n",
      "\n",
      "hospitalization-to-discharge period:  mean = 10.94, std = 4.92, 95% CI = (3.55, 22.57)\n",
      "\n",
      "onset-to-discharge period:  mean = 21.95, std = 6.97, 95% CI = (10.37, 37.73)\n",
      "\n"
     ]
    },
    {
     "data": {
      "image/png": "[encoded data removed]",
      "text/plain": [
       "<Figure size 432x288 with 1 Axes>"
      ]
     },
     "metadata": {},
     "output_type": "display_data"
    }
   ],
   "source": [
    "\n",
    "onsetToHospitalizationPeriod_mean, onsetToHospitalizationPeriod_coeffvar = 11.0, 0.45\n",
    "ETA     = 1 / gamma_dist(onsetToHospitalizationPeriod_mean, onsetToHospitalizationPeriod_coeffvar, n_pop)\n",
    "\n",
    "hospitalizationToDischargePeriod_mean, hospitalizationToDischargePeriod_coeffvar = 11.0, 0.45\n",
    "GAMMA_H = 1 / gamma_dist(hospitalizationToDischargePeriod_mean, hospitalizationToDischargePeriod_coeffvar, n_pop)\n",
    "\n",
    "dist_info([1/ETA, 1/GAMMA_H, 1/ETA+1/GAMMA_H], [\"onset-to-hospitalization period\", \"hospitalization-to-discharge period\", \"onset-to-discharge period\"], plot=True, colors=['crimson', 'violet', 'black'], reverse_plot=True)"
   ]
  },
  {
   "cell_type": "code",
   "execution_count": 97,
   "metadata": {
    "tags": []
   },
   "outputs": [
    {
     "name": "stdout",
     "output_type": "stream",
     "text": [
      "onset-to-hospitalization period:  mean = 11.00, std = 4.94, 95% CI = (3.53, 22.55)\n",
      "\n",
      "hospitalization-to-death period:  mean = 7.02, std = 3.17, 95% CI = (2.24, 14.47)\n",
      "\n",
      "onset-to-death period:  mean = 18.02, std = 5.87, 95% CI = (8.44, 31.26)\n",
      "\n"
     ]
    },
    {
     "data": {
      "image/png": "[encoded data removed]",
      "text/plain": [
       "<Figure size 432x288 with 1 Axes>"
      ]
     },
     "metadata": {},
     "output_type": "display_data"
    }
   ],
   "source": [
    "hospitalizationToDeathPeriod_mean, hospitalizationToDeathPeriod_coeffvar = 7.0, 0.45\n",
    "MU_H    = 1 / gamma_dist(hospitalizationToDeathPeriod_mean, hospitalizationToDeathPeriod_coeffvar, n_pop)\n",
    "\n",
    "dist_info([1/ETA, 1/MU_H, 1/ETA+1/MU_H], [\"onset-to-hospitalization period\", \"hospitalization-to-death period\", \"onset-to-death period\"], plot=True, colors=['crimson', 'darkgray', 'black'], reverse_plot=True)"
   ]
  },
  {
   "cell_type": "code",
   "execution_count": 98,
   "metadata": {
    "tags": []
   },
   "outputs": [
    {
     "data": {
      "text/plain": [
       "18700"
      ]
     },
     "execution_count": 98,
     "metadata": {},
     "output_type": "execute_result"
    }
   ],
   "source": [
    "ageGroup_pctAsymp = {\"0-19\": 0.8, \"20+\": 0.2}\n",
    "PCT_ASYMPTOMATIC = get_values_per_node(ageGroup_pctAsymp, graph_1fq)\n",
    "len(PCT_ASYMPTOMATIC)"
   ]
  },
  {
   "cell_type": "code",
   "execution_count": 99,
   "metadata": {},
   "outputs": [
    {
     "data": {
      "text/plain": [
       "18700"
      ]
     },
     "execution_count": 99,
     "metadata": {},
     "output_type": "execute_result"
    }
   ],
   "source": [
    "\n",
    "ageGroup_pctHospitalized = {'0-9':      0.0000,\n",
    "                            '10-19':    0.0004,\n",
    "                            '20-29':    0.0104,\n",
    "                            '30-39':    0.0343,\n",
    "                            '40-49':    0.0425,\n",
    "                            '50-59':    0.0816,\n",
    "                            '60-69':    0.118,\n",
    "                            '70-79':    0.166,\n",
    "                            '80+':      0.184 }\n",
    "\n",
    "PCT_HOSPITALIZED = get_values_per_node(ageGroup_pctHospitalized, graph_1fq)\n",
    "len(PCT_HOSPITALIZED)"
   ]
  },
  {
   "cell_type": "code",
   "execution_count": 100,
   "metadata": {},
   "outputs": [
    {
     "data": {
      "text/plain": [
       "18700"
      ]
     },
     "execution_count": 100,
     "metadata": {},
     "output_type": "execute_result"
    }
   ],
   "source": [
    "ageGroup_hospitalFatalityRate = {'0-9':     0.0000,\n",
    "                                 '10-19':   0.3627,\n",
    "                                 '20-29':   0.0577,\n",
    "                                 '30-39':   0.0426,\n",
    "                                 '40-49':   0.0694,\n",
    "                                 '50-59':   0.1532,\n",
    "                                 '60-69':   0.3381,\n",
    "                                 '70-79':   0.5187,\n",
    "                                 '80+':     0.7283 }\n",
    "PCT_FATALITY = get_values_per_node(ageGroup_hospitalFatalityRate, graph_1fq)\n",
    "len(PCT_FATALITY)"
   ]
  },
  {
   "cell_type": "code",
   "execution_count": 101,
   "metadata": {
    "tags": []
   },
   "outputs": [
    {
     "name": "stdout",
     "output_type": "stream",
     "text": [
      "Individual R0:  mean = 2.50, std = 0.50, 95% CI = (1.62, 3.58)\n",
      "\n"
     ]
    },
    {
     "data": {
      "image/png": "[encoded data removed]",
      "text/plain": [
       "<Figure size 432x288 with 1 Axes>"
      ]
     },
     "metadata": {},
     "output_type": "display_data"
    }
   ],
   "source": [
    "R0_mean     = 2.5\n",
    "R0_coeffvar = 0.2\n",
    "\n",
    "R0 = gamma_dist(R0_mean, R0_coeffvar, n_pop)\n",
    "\n",
    "dist_info(R0, \"Individual R0\", bin_size=0.1, plot=True, colors='crimson')"
   ]
  },
  {
   "cell_type": "code",
   "execution_count": 102,
   "metadata": {},
   "outputs": [],
   "source": [
    "BETA = 1/infectiousPeriod * R0"
   ]
  },
  {
   "cell_type": "code",
   "execution_count": 103,
   "metadata": {},
   "outputs": [],
   "source": [
    "BETA_Q = BETA * (0.3/R0_mean)"
   ]
  },
  {
   "cell_type": "code",
   "execution_count": 104,
   "metadata": {},
   "outputs": [],
   "source": [
    "BETA_PAIRWISE_MODE  = 'infected'"
   ]
  },
  {
   "cell_type": "code",
   "execution_count": 105,
   "metadata": {},
   "outputs": [],
   "source": [
    "DELTA_PAIRWISE_MODE = 'mean'"
   ]
  },
  {
   "cell_type": "code",
   "execution_count": 106,
   "metadata": {
    "tags": []
   },
   "outputs": [
    {
     "data": {
      "text/plain": [
       "18700"
      ]
     },
     "execution_count": 106,
     "metadata": {},
     "output_type": "execute_result"
    }
   ],
   "source": [
    "ageGroup_susceptibility = {\"0-19\": 0.5, \"20+\": 1.0}\n",
    "ALPHA = get_values_per_node(ageGroup_susceptibility, graph_1fq)\n",
    "len(ALPHA)"
   ]
  },
  {
   "cell_type": "code",
   "execution_count": 107,
   "metadata": {},
   "outputs": [],
   "source": [
    "P_GLOBALINTXN = 0.2\n",
    "Q_GLOBALINTXN = 0.05\n",
    "# INIT_EXPOSED = int(n_pop / 100)\n",
    "INIT_INFECTED = int(n_pop / 100)"
   ]
  },
  {
   "cell_type": "code",
   "execution_count": 108,
   "metadata": {
    "tags": []
   },
   "outputs": [
    {
     "name": "stderr",
     "output_type": "stream",
     "text": [
      "\r",
      "  0%|          | 0/20000 [00:00<?, ?it/s]"
     ]
    },
    {
     "name": "stdout",
     "output_type": "stream",
     "text": [
      "Running simulation for 20000 steps...\n",
      "\n"
     ]
    },
    {
     "name": "stderr",
     "output_type": "stream",
     "text": [
      "100%|██████████| 20000/20000 [10:09<00:00, 32.83it/s] \n"
     ]
    }
   ],
   "source": [
    "t_steps = 20000\n",
    "node_states, simulation_results = run_simulation(new_model, t_steps)"
   ]
  },
  {
   "cell_type": "code",
   "execution_count": 109,
   "metadata": {},
   "outputs": [],
   "source": [
    "# Model name for storage + store the model params in csv\n",
    "i = 0  # This is a number assigned to identify a particular network\n",
    "param_combo_i = 99  # This is a number assigned to identify a particular combination of parameters\n",
    "fig_name = f\"BaseSympModel{i}_{param_combo_i}\"\n",
    "# add_model_name(\"experiments/model_names.csv\", fig_name, household_weight, neighbor_weight, food_weight, BETA, GAMMA, LAMBDA, PCT_HOSPITALIZED, round(sum(crit_rate)/len(crit_rate), 3), death_rate, init_symp_cases, init_asymp_cases, t_steps)\n",
    "# Construct results dataframe\n",
    "output_df = results_to_df(simulation_results, store=True, store_name=f\"experiments/results/{fig_name}.csv\")"
   ]
  },
  {
   "cell_type": "code",
   "execution_count": 110,
   "metadata": {},
   "outputs": [
    {
     "data": {
      "text/html": [
       "<div>\n",
       "<style scoped>\n",
       "    .dataframe tbody tr th:only-of-type {\n",
       "        vertical-align: middle;\n",
       "    }\n",
       "\n",
       "    .dataframe tbody tr th {\n",
       "        vertical-align: top;\n",
       "    }\n",
       "\n",
       "    .dataframe thead th {\n",
       "        text-align: right;\n",
       "    }\n",
       "</style>\n",
       "<table border=\"1\" class=\"dataframe\">\n",
       "  <thead>\n",
       "    <tr style=\"text-align: right;\">\n",
       "      <th></th>\n",
       "      <th>Susceptible</th>\n",
       "      <th>Exposed</th>\n",
       "      <th>Infected_Presymptomatic</th>\n",
       "      <th>Infected_Symptomatic</th>\n",
       "      <th>Infected_Asymptomatic</th>\n",
       "      <th>Hospitalized</th>\n",
       "      <th>Recovered</th>\n",
       "      <th>Fatalities</th>\n",
       "      <th>T_index</th>\n",
       "      <th>Time</th>\n",
       "    </tr>\n",
       "  </thead>\n",
       "  <tbody>\n",
       "    <tr>\n",
       "      <th>0</th>\n",
       "      <td>11834.0</td>\n",
       "      <td>1302.0</td>\n",
       "      <td>957.0</td>\n",
       "      <td>935.0</td>\n",
       "      <td>397.0</td>\n",
       "      <td>55.0</td>\n",
       "      <td>3193.0</td>\n",
       "      <td>27.0</td>\n",
       "      <td>20001</td>\n",
       "      <td>1</td>\n",
       "    </tr>\n",
       "    <tr>\n",
       "      <th>1</th>\n",
       "      <td>11834.0</td>\n",
       "      <td>1302.0</td>\n",
       "      <td>957.0</td>\n",
       "      <td>935.0</td>\n",
       "      <td>396.0</td>\n",
       "      <td>55.0</td>\n",
       "      <td>3194.0</td>\n",
       "      <td>27.0</td>\n",
       "      <td>20002</td>\n",
       "      <td>2</td>\n",
       "    </tr>\n",
       "    <tr>\n",
       "      <th>2</th>\n",
       "      <td>11834.0</td>\n",
       "      <td>1301.0</td>\n",
       "      <td>958.0</td>\n",
       "      <td>935.0</td>\n",
       "      <td>396.0</td>\n",
       "      <td>55.0</td>\n",
       "      <td>3194.0</td>\n",
       "      <td>27.0</td>\n",
       "      <td>20003</td>\n",
       "      <td>3</td>\n",
       "    </tr>\n",
       "    <tr>\n",
       "      <th>3</th>\n",
       "      <td>11834.0</td>\n",
       "      <td>1300.0</td>\n",
       "      <td>959.0</td>\n",
       "      <td>935.0</td>\n",
       "      <td>396.0</td>\n",
       "      <td>55.0</td>\n",
       "      <td>3194.0</td>\n",
       "      <td>27.0</td>\n",
       "      <td>20004</td>\n",
       "      <td>4</td>\n",
       "    </tr>\n",
       "    <tr>\n",
       "      <th>4</th>\n",
       "      <td>11834.0</td>\n",
       "      <td>1300.0</td>\n",
       "      <td>959.0</td>\n",
       "      <td>935.0</td>\n",
       "      <td>395.0</td>\n",
       "      <td>55.0</td>\n",
       "      <td>3195.0</td>\n",
       "      <td>27.0</td>\n",
       "      <td>20005</td>\n",
       "      <td>5</td>\n",
       "    </tr>\n",
       "    <tr>\n",
       "      <th>...</th>\n",
       "      <td>...</td>\n",
       "      <td>...</td>\n",
       "      <td>...</td>\n",
       "      <td>...</td>\n",
       "      <td>...</td>\n",
       "      <td>...</td>\n",
       "      <td>...</td>\n",
       "      <td>...</td>\n",
       "      <td>...</td>\n",
       "      <td>...</td>\n",
       "    </tr>\n",
       "    <tr>\n",
       "      <th>19995</th>\n",
       "      <td>7159.0</td>\n",
       "      <td>935.0</td>\n",
       "      <td>764.0</td>\n",
       "      <td>1160.0</td>\n",
       "      <td>484.0</td>\n",
       "      <td>131.0</td>\n",
       "      <td>7993.0</td>\n",
       "      <td>74.0</td>\n",
       "      <td>39996</td>\n",
       "      <td>19996</td>\n",
       "    </tr>\n",
       "    <tr>\n",
       "      <th>19996</th>\n",
       "      <td>7159.0</td>\n",
       "      <td>935.0</td>\n",
       "      <td>763.0</td>\n",
       "      <td>1161.0</td>\n",
       "      <td>484.0</td>\n",
       "      <td>131.0</td>\n",
       "      <td>7993.0</td>\n",
       "      <td>74.0</td>\n",
       "      <td>39997</td>\n",
       "      <td>19997</td>\n",
       "    </tr>\n",
       "    <tr>\n",
       "      <th>19997</th>\n",
       "      <td>7159.0</td>\n",
       "      <td>935.0</td>\n",
       "      <td>763.0</td>\n",
       "      <td>1161.0</td>\n",
       "      <td>483.0</td>\n",
       "      <td>131.0</td>\n",
       "      <td>7994.0</td>\n",
       "      <td>74.0</td>\n",
       "      <td>39998</td>\n",
       "      <td>19998</td>\n",
       "    </tr>\n",
       "    <tr>\n",
       "      <th>19998</th>\n",
       "      <td>7159.0</td>\n",
       "      <td>935.0</td>\n",
       "      <td>762.0</td>\n",
       "      <td>1161.0</td>\n",
       "      <td>484.0</td>\n",
       "      <td>131.0</td>\n",
       "      <td>7994.0</td>\n",
       "      <td>74.0</td>\n",
       "      <td>39999</td>\n",
       "      <td>19999</td>\n",
       "    </tr>\n",
       "    <tr>\n",
       "      <th>19999</th>\n",
       "      <td>7158.0</td>\n",
       "      <td>936.0</td>\n",
       "      <td>762.0</td>\n",
       "      <td>1161.0</td>\n",
       "      <td>484.0</td>\n",
       "      <td>131.0</td>\n",
       "      <td>7994.0</td>\n",
       "      <td>74.0</td>\n",
       "      <td>40000</td>\n",
       "      <td>20000</td>\n",
       "    </tr>\n",
       "  </tbody>\n",
       "</table>\n",
       "<p>20000 rows × 10 columns</p>\n",
       "</div>"
      ],
      "text/plain": [
       "       Susceptible  Exposed  Infected_Presymptomatic  Infected_Symptomatic  \\\n",
       "0          11834.0   1302.0                    957.0                 935.0   \n",
       "1          11834.0   1302.0                    957.0                 935.0   \n",
       "2          11834.0   1301.0                    958.0                 935.0   \n",
       "3          11834.0   1300.0                    959.0                 935.0   \n",
       "4          11834.0   1300.0                    959.0                 935.0   \n",
       "...            ...      ...                      ...                   ...   \n",
       "19995       7159.0    935.0                    764.0                1160.0   \n",
       "19996       7159.0    935.0                    763.0                1161.0   \n",
       "19997       7159.0    935.0                    763.0                1161.0   \n",
       "19998       7159.0    935.0                    762.0                1161.0   \n",
       "19999       7158.0    936.0                    762.0                1161.0   \n",
       "\n",
       "       Infected_Asymptomatic  Hospitalized  Recovered  Fatalities  T_index  \\\n",
       "0                      397.0          55.0     3193.0        27.0    20001   \n",
       "1                      396.0          55.0     3194.0        27.0    20002   \n",
       "2                      396.0          55.0     3194.0        27.0    20003   \n",
       "3                      396.0          55.0     3194.0        27.0    20004   \n",
       "4                      395.0          55.0     3195.0        27.0    20005   \n",
       "...                      ...           ...        ...         ...      ...   \n",
       "19995                  484.0         131.0     7993.0        74.0    39996   \n",
       "19996                  484.0         131.0     7993.0        74.0    39997   \n",
       "19997                  483.0         131.0     7994.0        74.0    39998   \n",
       "19998                  484.0         131.0     7994.0        74.0    39999   \n",
       "19999                  484.0         131.0     7994.0        74.0    40000   \n",
       "\n",
       "        Time  \n",
       "0          1  \n",
       "1          2  \n",
       "2          3  \n",
       "3          4  \n",
       "4          5  \n",
       "...      ...  \n",
       "19995  19996  \n",
       "19996  19997  \n",
       "19997  19998  \n",
       "19998  19999  \n",
       "19999  20000  \n",
       "\n",
       "[20000 rows x 10 columns]"
      ]
     },
     "execution_count": 110,
     "metadata": {},
     "output_type": "execute_result"
    }
   ],
   "source": [
    "output_df"
   ]
  },
  {
   "cell_type": "code",
   "execution_count": 114,
   "metadata": {},
   "outputs": [
    {
     "data": {
      "image/png": "[encoded data removed]",
      "text/plain": [
       "<Figure size 864x576 with 1 Axes>"
      ]
     },
     "metadata": {},
     "output_type": "display_data"
    },
    {
     "data": {
      "image/png": "[encoded data removed]",
      "text/plain": [
       "<Figure size 864x576 with 1 Axes>"
      ]
     },
     "metadata": {},
     "output_type": "display_data"
    },
    {
     "data": {
      "text/plain": [
       "40000"
      ]
     },
     "execution_count": 114,
     "metadata": {},
     "output_type": "execute_result"
    }
   ],
   "source": [
    "new_model.figure_infections()\n",
    "new_model.figure_basic()\n",
    "new_model.tidx"
   ]
  },
  {
   "cell_type": "markdown",
   "metadata": {},
   "source": [
    "### 5) Running the base model"
   ]
  },
  {
   "cell_type": "code",
   "execution_count": 109,
   "metadata": {},
   "outputs": [],
   "source": [
    "# Model construction\n",
    "ref_model = ExtSEIRSNetworkModel(G=graph_1fq, p=prob_global_contact, beta=transmission_rate, sigma=progression_rate, gamma=recovery_rate, lamda=progression_rate, mu_H=crit_rate, eta=hosp_rate, a=prob_asymptomatic, f=death_rate, h=prob_symp_to_hosp, initI_sym=init_symp_cases, initI_asym=init_asymp_cases, store_Xseries=True)"
   ]
  },
  {
   "cell_type": "code",
   "execution_count": 110,
   "metadata": {
    "tags": []
   },
   "outputs": [
    {
     "name": "stderr",
     "output_type": "stream",
     "text": [
      "\r",
      "  0%|          | 0/200 [00:00<?, ?it/s]"
     ]
    },
    {
     "name": "stdout",
     "output_type": "stream",
     "text": [
      "Running simulation for 200 steps...\n",
      "\n"
     ]
    },
    {
     "name": "stderr",
     "output_type": "stream",
     "text": [
      "100%|██████████| 200/200 [02:50<00:00,  1.18it/s]\n"
     ]
    }
   ],
   "source": [
    "t_steps = 200\n",
    "node_states, simulation_results = run_simulation(ref_model, t_steps)"
   ]
  },
  {
   "cell_type": "code",
   "execution_count": 114,
   "metadata": {},
   "outputs": [
    {
     "data": {
      "text/html": [
       "<div>\n",
       "<style scoped>\n",
       "    .dataframe tbody tr th:only-of-type {\n",
       "        vertical-align: middle;\n",
       "    }\n",
       "\n",
       "    .dataframe tbody tr th {\n",
       "        vertical-align: top;\n",
       "    }\n",
       "\n",
       "    .dataframe thead th {\n",
       "        text-align: right;\n",
       "    }\n",
       "</style>\n",
       "<table border=\"1\" class=\"dataframe\">\n",
       "  <thead>\n",
       "    <tr style=\"text-align: right;\">\n",
       "      <th></th>\n",
       "      <th>Susceptible</th>\n",
       "      <th>Exposed</th>\n",
       "      <th>Infected_Presymptomatic</th>\n",
       "      <th>Infected_Symptomatic</th>\n",
       "      <th>Infected_Asymptomatic</th>\n",
       "      <th>Hospitalized</th>\n",
       "      <th>Recovered</th>\n",
       "      <th>Fatalities</th>\n",
       "      <th>T_index</th>\n",
       "    </tr>\n",
       "  </thead>\n",
       "  <tbody>\n",
       "    <tr>\n",
       "      <th>0</th>\n",
       "      <td>18697.0</td>\n",
       "      <td>1.0</td>\n",
       "      <td>0.0</td>\n",
       "      <td>1.0</td>\n",
       "      <td>1.0</td>\n",
       "      <td>0.0</td>\n",
       "      <td>0.0</td>\n",
       "      <td>0.0</td>\n",
       "      <td>1</td>\n",
       "    </tr>\n",
       "    <tr>\n",
       "      <th>1</th>\n",
       "      <td>18696.0</td>\n",
       "      <td>2.0</td>\n",
       "      <td>0.0</td>\n",
       "      <td>1.0</td>\n",
       "      <td>1.0</td>\n",
       "      <td>0.0</td>\n",
       "      <td>0.0</td>\n",
       "      <td>0.0</td>\n",
       "      <td>2</td>\n",
       "    </tr>\n",
       "    <tr>\n",
       "      <th>2</th>\n",
       "      <td>18695.0</td>\n",
       "      <td>3.0</td>\n",
       "      <td>0.0</td>\n",
       "      <td>1.0</td>\n",
       "      <td>1.0</td>\n",
       "      <td>0.0</td>\n",
       "      <td>0.0</td>\n",
       "      <td>0.0</td>\n",
       "      <td>3</td>\n",
       "    </tr>\n",
       "    <tr>\n",
       "      <th>3</th>\n",
       "      <td>18694.0</td>\n",
       "      <td>4.0</td>\n",
       "      <td>0.0</td>\n",
       "      <td>1.0</td>\n",
       "      <td>1.0</td>\n",
       "      <td>0.0</td>\n",
       "      <td>0.0</td>\n",
       "      <td>0.0</td>\n",
       "      <td>4</td>\n",
       "    </tr>\n",
       "    <tr>\n",
       "      <th>4</th>\n",
       "      <td>18694.0</td>\n",
       "      <td>3.0</td>\n",
       "      <td>1.0</td>\n",
       "      <td>1.0</td>\n",
       "      <td>1.0</td>\n",
       "      <td>0.0</td>\n",
       "      <td>0.0</td>\n",
       "      <td>0.0</td>\n",
       "      <td>5</td>\n",
       "    </tr>\n",
       "    <tr>\n",
       "      <th>...</th>\n",
       "      <td>...</td>\n",
       "      <td>...</td>\n",
       "      <td>...</td>\n",
       "      <td>...</td>\n",
       "      <td>...</td>\n",
       "      <td>...</td>\n",
       "      <td>...</td>\n",
       "      <td>...</td>\n",
       "      <td>...</td>\n",
       "    </tr>\n",
       "    <tr>\n",
       "      <th>195</th>\n",
       "      <td>18562.0</td>\n",
       "      <td>92.0</td>\n",
       "      <td>29.0</td>\n",
       "      <td>8.0</td>\n",
       "      <td>8.0</td>\n",
       "      <td>0.0</td>\n",
       "      <td>1.0</td>\n",
       "      <td>0.0</td>\n",
       "      <td>196</td>\n",
       "    </tr>\n",
       "    <tr>\n",
       "      <th>196</th>\n",
       "      <td>18561.0</td>\n",
       "      <td>93.0</td>\n",
       "      <td>29.0</td>\n",
       "      <td>8.0</td>\n",
       "      <td>8.0</td>\n",
       "      <td>0.0</td>\n",
       "      <td>1.0</td>\n",
       "      <td>0.0</td>\n",
       "      <td>197</td>\n",
       "    </tr>\n",
       "    <tr>\n",
       "      <th>197</th>\n",
       "      <td>18560.0</td>\n",
       "      <td>94.0</td>\n",
       "      <td>29.0</td>\n",
       "      <td>8.0</td>\n",
       "      <td>8.0</td>\n",
       "      <td>0.0</td>\n",
       "      <td>1.0</td>\n",
       "      <td>0.0</td>\n",
       "      <td>198</td>\n",
       "    </tr>\n",
       "    <tr>\n",
       "      <th>198</th>\n",
       "      <td>18560.0</td>\n",
       "      <td>94.0</td>\n",
       "      <td>28.0</td>\n",
       "      <td>8.0</td>\n",
       "      <td>9.0</td>\n",
       "      <td>0.0</td>\n",
       "      <td>1.0</td>\n",
       "      <td>0.0</td>\n",
       "      <td>199</td>\n",
       "    </tr>\n",
       "    <tr>\n",
       "      <th>199</th>\n",
       "      <td>18559.0</td>\n",
       "      <td>95.0</td>\n",
       "      <td>28.0</td>\n",
       "      <td>8.0</td>\n",
       "      <td>9.0</td>\n",
       "      <td>0.0</td>\n",
       "      <td>1.0</td>\n",
       "      <td>0.0</td>\n",
       "      <td>200</td>\n",
       "    </tr>\n",
       "  </tbody>\n",
       "</table>\n",
       "<p>200 rows × 9 columns</p>\n",
       "</div>"
      ],
      "text/plain": [
       "     Susceptible  Exposed  Infected_Presymptomatic  Infected_Symptomatic  \\\n",
       "0        18697.0      1.0                      0.0                   1.0   \n",
       "1        18696.0      2.0                      0.0                   1.0   \n",
       "2        18695.0      3.0                      0.0                   1.0   \n",
       "3        18694.0      4.0                      0.0                   1.0   \n",
       "4        18694.0      3.0                      1.0                   1.0   \n",
       "..           ...      ...                      ...                   ...   \n",
       "195      18562.0     92.0                     29.0                   8.0   \n",
       "196      18561.0     93.0                     29.0                   8.0   \n",
       "197      18560.0     94.0                     29.0                   8.0   \n",
       "198      18560.0     94.0                     28.0                   8.0   \n",
       "199      18559.0     95.0                     28.0                   8.0   \n",
       "\n",
       "     Infected_Asymptomatic  Hospitalized  Recovered  Fatalities  T_index  \n",
       "0                      1.0           0.0        0.0         0.0        1  \n",
       "1                      1.0           0.0        0.0         0.0        2  \n",
       "2                      1.0           0.0        0.0         0.0        3  \n",
       "3                      1.0           0.0        0.0         0.0        4  \n",
       "4                      1.0           0.0        0.0         0.0        5  \n",
       "..                     ...           ...        ...         ...      ...  \n",
       "195                    8.0           0.0        1.0         0.0      196  \n",
       "196                    8.0           0.0        1.0         0.0      197  \n",
       "197                    8.0           0.0        1.0         0.0      198  \n",
       "198                    9.0           0.0        1.0         0.0      199  \n",
       "199                    9.0           0.0        1.0         0.0      200  \n",
       "\n",
       "[200 rows x 9 columns]"
      ]
     },
     "execution_count": 114,
     "metadata": {},
     "output_type": "execute_result"
    }
   ],
   "source": [
    "sim = pd.DataFrame(simulation_results)\n",
    "sim"
   ]
  },
  {
   "cell_type": "code",
   "execution_count": 111,
   "metadata": {},
   "outputs": [
    {
     "ename": "ValueError",
     "evalue": "cannot set a row with mismatched columns",
     "output_type": "error",
     "traceback": [
      "\u001b[0;31m---------------------------------------------------------------------------\u001b[0m",
      "\u001b[0;31mValueError\u001b[0m                                Traceback (most recent call last)",
      "\u001b[0;32m<ipython-input-111-38cd07d0a0fc>\u001b[0m in \u001b[0;36m<module>\u001b[0;34m\u001b[0m\n\u001b[1;32m      3\u001b[0m \u001b[0mparam_combo_i\u001b[0m \u001b[0;34m=\u001b[0m \u001b[0;36m0\u001b[0m  \u001b[0;31m# This is a number assigned to identify a particular combination of parameters\u001b[0m\u001b[0;34m\u001b[0m\u001b[0;34m\u001b[0m\u001b[0m\n\u001b[1;32m      4\u001b[0m \u001b[0mfig_name\u001b[0m \u001b[0;34m=\u001b[0m \u001b[0;34mf\"BaseSympModel{i}_{param_combo_i}\"\u001b[0m\u001b[0;34m\u001b[0m\u001b[0;34m\u001b[0m\u001b[0m\n\u001b[0;32m----> 5\u001b[0;31m \u001b[0madd_model_name\u001b[0m\u001b[0;34m(\u001b[0m\u001b[0;34m\"experiments/model_names.csv\"\u001b[0m\u001b[0;34m,\u001b[0m \u001b[0mfig_name\u001b[0m\u001b[0;34m,\u001b[0m \u001b[0mhousehold_weight\u001b[0m\u001b[0;34m,\u001b[0m \u001b[0mneighbor_weight\u001b[0m\u001b[0;34m,\u001b[0m \u001b[0mfood_weight\u001b[0m\u001b[0;34m,\u001b[0m \u001b[0mtransmission_rate\u001b[0m\u001b[0;34m,\u001b[0m \u001b[0mrecovery_rate\u001b[0m\u001b[0;34m,\u001b[0m \u001b[0mprogression_rate\u001b[0m\u001b[0;34m,\u001b[0m \u001b[0mhosp_rate\u001b[0m\u001b[0;34m,\u001b[0m \u001b[0mround\u001b[0m\u001b[0;34m(\u001b[0m\u001b[0msum\u001b[0m\u001b[0;34m(\u001b[0m\u001b[0mcrit_rate\u001b[0m\u001b[0;34m)\u001b[0m\u001b[0;34m/\u001b[0m\u001b[0mlen\u001b[0m\u001b[0;34m(\u001b[0m\u001b[0mcrit_rate\u001b[0m\u001b[0;34m)\u001b[0m\u001b[0;34m,\u001b[0m \u001b[0;36m3\u001b[0m\u001b[0;34m)\u001b[0m\u001b[0;34m,\u001b[0m \u001b[0mdeath_rate\u001b[0m\u001b[0;34m,\u001b[0m \u001b[0minit_symp_cases\u001b[0m\u001b[0;34m,\u001b[0m \u001b[0minit_asymp_cases\u001b[0m\u001b[0;34m,\u001b[0m \u001b[0mt_steps\u001b[0m\u001b[0;34m)\u001b[0m\u001b[0;34m\u001b[0m\u001b[0;34m\u001b[0m\u001b[0m\n\u001b[0m",
      "\u001b[0;32m~/work/network_utils.py\u001b[0m in \u001b[0;36madd_model_name\u001b[0;34m(name_csv, fig_name, household_weight, neighbor_weight, food_weight, transmission_rate, recovery_rate, progression_rate, hosp_rate, crit_rate, death_rate, init_symp_cases, init_asymp_cases, t_steps, q_time, q_red, h_time)\u001b[0m\n\u001b[1;32m    387\u001b[0m     \u001b[0;31m# Add a new model name + parameters as a new row at the end of the df\u001b[0m\u001b[0;34m\u001b[0m\u001b[0;34m\u001b[0m\u001b[0;34m\u001b[0m\u001b[0m\n\u001b[1;32m    388\u001b[0m     \u001b[0midx\u001b[0m \u001b[0;34m=\u001b[0m \u001b[0;36m0\u001b[0m \u001b[0;32mif\u001b[0m \u001b[0mpd\u001b[0m\u001b[0;34m.\u001b[0m\u001b[0misnull\u001b[0m\u001b[0;34m(\u001b[0m\u001b[0mname_df\u001b[0m\u001b[0;34m.\u001b[0m\u001b[0mindex\u001b[0m\u001b[0;34m.\u001b[0m\u001b[0mmax\u001b[0m\u001b[0;34m(\u001b[0m\u001b[0;34m)\u001b[0m\u001b[0;34m)\u001b[0m \u001b[0;32melse\u001b[0m \u001b[0mname_df\u001b[0m\u001b[0;34m.\u001b[0m\u001b[0mindex\u001b[0m\u001b[0;34m.\u001b[0m\u001b[0mmax\u001b[0m\u001b[0;34m(\u001b[0m\u001b[0;34m)\u001b[0m \u001b[0;34m+\u001b[0m \u001b[0;36m1\u001b[0m\u001b[0;34m\u001b[0m\u001b[0;34m\u001b[0m\u001b[0m\n\u001b[0;32m--> 389\u001b[0;31m     \u001b[0mname_df\u001b[0m\u001b[0;34m.\u001b[0m\u001b[0mloc\u001b[0m\u001b[0;34m[\u001b[0m\u001b[0midx\u001b[0m\u001b[0;34m]\u001b[0m \u001b[0;34m=\u001b[0m \u001b[0;34m[\u001b[0m\u001b[0mfig_name\u001b[0m\u001b[0;34m,\u001b[0m \u001b[0mhousehold_weight\u001b[0m\u001b[0;34m,\u001b[0m \u001b[0mneighbor_weight\u001b[0m\u001b[0;34m,\u001b[0m \u001b[0mfood_weight\u001b[0m\u001b[0;34m,\u001b[0m \u001b[0mtransmission_rate\u001b[0m\u001b[0;34m,\u001b[0m \u001b[0mrecovery_rate\u001b[0m\u001b[0;34m,\u001b[0m \u001b[0mprogression_rate\u001b[0m\u001b[0;34m,\u001b[0m \u001b[0mhosp_rate\u001b[0m\u001b[0;34m,\u001b[0m \u001b[0mcrit_rate\u001b[0m\u001b[0;34m,\u001b[0m \u001b[0mdeath_rate\u001b[0m\u001b[0;34m,\u001b[0m \u001b[0minit_symp_cases\u001b[0m\u001b[0;34m,\u001b[0m \u001b[0minit_asymp_cases\u001b[0m\u001b[0;34m,\u001b[0m \u001b[0mt_steps\u001b[0m\u001b[0;34m,\u001b[0m \u001b[0mq_time\u001b[0m\u001b[0;34m,\u001b[0m \u001b[0mq_red\u001b[0m\u001b[0;34m,\u001b[0m \u001b[0mh_time\u001b[0m\u001b[0;34m]\u001b[0m\u001b[0;34m\u001b[0m\u001b[0;34m\u001b[0m\u001b[0m\n\u001b[0m\u001b[1;32m    390\u001b[0m \u001b[0;34m\u001b[0m\u001b[0m\n\u001b[1;32m    391\u001b[0m     \u001b[0;31m# Store as csv again\u001b[0m\u001b[0;34m\u001b[0m\u001b[0;34m\u001b[0m\u001b[0;34m\u001b[0m\u001b[0m\n",
      "\u001b[0;32m/opt/conda/lib/python3.8/site-packages/pandas/core/indexing.py\u001b[0m in \u001b[0;36m__setitem__\u001b[0;34m(self, key, value)\u001b[0m\n\u001b[1;32m    669\u001b[0m             \u001b[0mkey\u001b[0m \u001b[0;34m=\u001b[0m \u001b[0mcom\u001b[0m\u001b[0;34m.\u001b[0m\u001b[0mapply_if_callable\u001b[0m\u001b[0;34m(\u001b[0m\u001b[0mkey\u001b[0m\u001b[0;34m,\u001b[0m \u001b[0mself\u001b[0m\u001b[0;34m.\u001b[0m\u001b[0mobj\u001b[0m\u001b[0;34m)\u001b[0m\u001b[0;34m\u001b[0m\u001b[0;34m\u001b[0m\u001b[0m\n\u001b[1;32m    670\u001b[0m         \u001b[0mindexer\u001b[0m \u001b[0;34m=\u001b[0m \u001b[0mself\u001b[0m\u001b[0;34m.\u001b[0m\u001b[0m_get_setitem_indexer\u001b[0m\u001b[0;34m(\u001b[0m\u001b[0mkey\u001b[0m\u001b[0;34m)\u001b[0m\u001b[0;34m\u001b[0m\u001b[0;34m\u001b[0m\u001b[0m\n\u001b[0;32m--> 671\u001b[0;31m         \u001b[0mself\u001b[0m\u001b[0;34m.\u001b[0m\u001b[0m_setitem_with_indexer\u001b[0m\u001b[0;34m(\u001b[0m\u001b[0mindexer\u001b[0m\u001b[0;34m,\u001b[0m \u001b[0mvalue\u001b[0m\u001b[0;34m)\u001b[0m\u001b[0;34m\u001b[0m\u001b[0;34m\u001b[0m\u001b[0m\n\u001b[0m\u001b[1;32m    672\u001b[0m \u001b[0;34m\u001b[0m\u001b[0m\n\u001b[1;32m    673\u001b[0m     \u001b[0;32mdef\u001b[0m \u001b[0m_validate_key\u001b[0m\u001b[0;34m(\u001b[0m\u001b[0mself\u001b[0m\u001b[0;34m,\u001b[0m \u001b[0mkey\u001b[0m\u001b[0;34m,\u001b[0m \u001b[0maxis\u001b[0m\u001b[0;34m:\u001b[0m \u001b[0mint\u001b[0m\u001b[0;34m)\u001b[0m\u001b[0;34m:\u001b[0m\u001b[0;34m\u001b[0m\u001b[0;34m\u001b[0m\u001b[0m\n",
      "\u001b[0;32m/opt/conda/lib/python3.8/site-packages/pandas/core/indexing.py\u001b[0m in \u001b[0;36m_setitem_with_indexer\u001b[0;34m(self, indexer, value)\u001b[0m\n\u001b[1;32m    873\u001b[0m \u001b[0;34m\u001b[0m\u001b[0m\n\u001b[1;32m    874\u001b[0m             \u001b[0;32mif\u001b[0m \u001b[0mmissing\u001b[0m\u001b[0;34m:\u001b[0m\u001b[0;34m\u001b[0m\u001b[0;34m\u001b[0m\u001b[0m\n\u001b[0;32m--> 875\u001b[0;31m                 \u001b[0;32mreturn\u001b[0m \u001b[0mself\u001b[0m\u001b[0;34m.\u001b[0m\u001b[0m_setitem_with_indexer_missing\u001b[0m\u001b[0;34m(\u001b[0m\u001b[0mindexer\u001b[0m\u001b[0;34m,\u001b[0m \u001b[0mvalue\u001b[0m\u001b[0;34m)\u001b[0m\u001b[0;34m\u001b[0m\u001b[0;34m\u001b[0m\u001b[0m\n\u001b[0m\u001b[1;32m    876\u001b[0m \u001b[0;34m\u001b[0m\u001b[0m\n\u001b[1;32m    877\u001b[0m         \u001b[0;31m# set\u001b[0m\u001b[0;34m\u001b[0m\u001b[0;34m\u001b[0m\u001b[0;34m\u001b[0m\u001b[0m\n",
      "\u001b[0;32m/opt/conda/lib/python3.8/site-packages/pandas/core/indexing.py\u001b[0m in \u001b[0;36m_setitem_with_indexer_missing\u001b[0;34m(self, indexer, value)\u001b[0m\n\u001b[1;32m   1117\u001b[0m                     \u001b[0;31m# must have conforming columns\u001b[0m\u001b[0;34m\u001b[0m\u001b[0;34m\u001b[0m\u001b[0;34m\u001b[0m\u001b[0m\n\u001b[1;32m   1118\u001b[0m                     \u001b[0;32mif\u001b[0m \u001b[0mlen\u001b[0m\u001b[0;34m(\u001b[0m\u001b[0mvalue\u001b[0m\u001b[0;34m)\u001b[0m \u001b[0;34m!=\u001b[0m \u001b[0mlen\u001b[0m\u001b[0;34m(\u001b[0m\u001b[0mself\u001b[0m\u001b[0;34m.\u001b[0m\u001b[0mobj\u001b[0m\u001b[0;34m.\u001b[0m\u001b[0mcolumns\u001b[0m\u001b[0;34m)\u001b[0m\u001b[0;34m:\u001b[0m\u001b[0;34m\u001b[0m\u001b[0;34m\u001b[0m\u001b[0m\n\u001b[0;32m-> 1119\u001b[0;31m                         \u001b[0;32mraise\u001b[0m \u001b[0mValueError\u001b[0m\u001b[0;34m(\u001b[0m\u001b[0;34m\"cannot set a row with mismatched columns\"\u001b[0m\u001b[0;34m)\u001b[0m\u001b[0;34m\u001b[0m\u001b[0;34m\u001b[0m\u001b[0m\n\u001b[0m\u001b[1;32m   1120\u001b[0m \u001b[0;34m\u001b[0m\u001b[0m\n\u001b[1;32m   1121\u001b[0m                 \u001b[0mvalue\u001b[0m \u001b[0;34m=\u001b[0m \u001b[0mSeries\u001b[0m\u001b[0;34m(\u001b[0m\u001b[0mvalue\u001b[0m\u001b[0;34m,\u001b[0m \u001b[0mindex\u001b[0m\u001b[0;34m=\u001b[0m\u001b[0mself\u001b[0m\u001b[0;34m.\u001b[0m\u001b[0mobj\u001b[0m\u001b[0;34m.\u001b[0m\u001b[0mcolumns\u001b[0m\u001b[0;34m,\u001b[0m \u001b[0mname\u001b[0m\u001b[0;34m=\u001b[0m\u001b[0mindexer\u001b[0m\u001b[0;34m)\u001b[0m\u001b[0;34m\u001b[0m\u001b[0;34m\u001b[0m\u001b[0m\n",
      "\u001b[0;31mValueError\u001b[0m: cannot set a row with mismatched columns"
     ]
    }
   ],
   "source": [
    "# Model name for storage + store the model params in csv\n",
    "i = 0  # This is a number assigned to identify a particular network\n",
    "param_combo_i = 0  # This is a number assigned to identify a particular combination of parameters\n",
    "fig_name = f\"BaseSympModel{i}_{param_combo_i}\"\n",
    "add_model_name(\"experiments/model_names.csv\", fig_name, household_weight, neighbor_weight, food_weight, transmission_rate, recovery_rate, progression_rate, hosp_rate, round(sum(crit_rate)/len(crit_rate), 3), death_rate, init_symp_cases, init_asymp_cases, t_steps)"
   ]
  },
  {
   "cell_type": "code",
   "execution_count": null,
   "metadata": {},
   "outputs": [],
   "source": [
    "#here we set up a parallel computing to run experiments in parallel and aggregate the results"
   ]
  },
  {
   "cell_type": "code",
   "execution_count": null,
   "metadata": {},
   "outputs": [],
   "source": [
    "# Construct results dataframe\n",
    "output_df = results_to_df(simulation_results, store=True, store_name=f\"experiments/results/{fig_name}.csv\")"
   ]
  },
  {
   "cell_type": "code",
   "execution_count": null,
   "metadata": {},
   "outputs": [],
   "source": [
    "output_df"
   ]
  },
  {
   "cell_type": "code",
   "execution_count": null,
   "metadata": {},
   "outputs": [],
   "source": [
    "fig, ax = ref_model.figure_basic()#vlines=interventions.get_checkpoints()['t'])\n",
    "fig.savefig(f\"plots/{fig_name}_figBasic.png\")"
   ]
  },
  {
   "cell_type": "markdown",
   "metadata": {},
   "source": [
    "### 6) Define Interventions\n",
    "\n",
    "With the interventions module, we can create an intervention with just a time step and a custom network referring to that intervention, as well as remove/edit them from the list. The method get_checkpoints() will allow us to get the dictionary to be fed to the SEIRS+ model"
   ]
  },
  {
   "cell_type": "markdown",
   "metadata": {},
   "source": [
    "#### 6.1) First, define the intervention graphs"
   ]
  },
  {
   "cell_type": "code",
   "execution_count": null,
   "metadata": {},
   "outputs": [],
   "source": [
    "# This is social distancing within the food queue \n",
    "distancing_graph = remove_edges_from_graph(graph_1fq, scale=10, edge_label_list=[\"food\"], min_num_edges=4)\n",
    "\n",
    "# This also includes neighbor/friendship edges\n",
    "quarantine_graph = remove_edges_from_graph(graph_1fq, scale=2, edge_label_list=[\"food\", \"friendship\"], min_num_edges=2)\n",
    "\n",
    "# Create graphs with multiple sectoring of food queues - in this case, 1 and 2 queues per each block (4 and 8 food queues respectively)\n",
    "graph_4fq = create_multiple_food_queues(graph, 1, food_weight, nodes_per_struct, [grid_isoboxes, grid_block1, grid_block2, grid_block3])\n",
    "graph_8fq = create_multiple_food_queues(graph, 2, food_weight, nodes_per_struct, [grid_isoboxes, grid_block1, grid_block2, grid_block3])\n",
    "\n",
    "# Create quarantine graphs for the sectored graphs\n",
    "quarantine_graph_4fq = remove_edges_from_graph(graph_4fq, scale=2, edge_label_list=[f\"food_{i}\" for i in range(4)] + [\"friendship\"], min_num_edges=2)\n",
    "quarantine_graph_8fq = remove_edges_from_graph(graph_8fq, scale=2, edge_label_list=[f\"food_{i}\" for i in range(8)] + [\"friendship\"], min_num_edges=2)"
   ]
  },
  {
   "cell_type": "code",
   "execution_count": null,
   "metadata": {},
   "outputs": [],
   "source": [
    "min_D, max_D = min_degree(distancing_graph), max_degree(distancing_graph)\n",
    "print(\"Min degree:\", min_D, \"Max degree:\", max_D)\n",
    "\n",
    "# As we can see, there isn't much of a difference when we only cut food-queue interactions, \n",
    "# which means we need a harder distancing policy\n",
    "plot_degree_distn(distancing_graph, max_degree=max_D)"
   ]
  },
  {
   "cell_type": "code",
   "execution_count": null,
   "metadata": {},
   "outputs": [],
   "source": [
    "min_Q, max_Q = min_degree(quarantine_graph), max_degree(quarantine_graph)\n",
    "print(\"Min degree:\", min_Q, \"Max degree:\", max_Q)\n",
    "\n",
    "plot_degree_distn(quarantine_graph, max_degree=max_Q)"
   ]
  },
  {
   "cell_type": "code",
   "execution_count": null,
   "metadata": {},
   "outputs": [],
   "source": [
    "# 4 food queues \n",
    "min_4fq, max_4fq = min_degree(graph_4fq), max_degree(graph_4fq)\n",
    "print(\"Min degree:\", min_4fq, \"Max degree:\", max_4fq)\n",
    "\n",
    "plot_degree_distn(quarantine_graph, max_degree=max_4fq)"
   ]
  },
  {
   "cell_type": "code",
   "execution_count": null,
   "metadata": {},
   "outputs": [],
   "source": [
    "# 8 food queues\n",
    "min_8fq, max_8fq = min_degree(graph_8fq), max_degree(graph_8fq)\n",
    "print(\"Min degree:\", min_8fq, \"Max degree:\", max_8fq)\n",
    "\n",
    "plot_degree_distn(quarantine_graph, max_degree=max_8fq)"
   ]
  },
  {
   "cell_type": "markdown",
   "metadata": {},
   "source": [
    "#### 6.2) Construct the checkpoints"
   ]
  },
  {
   "cell_type": "code",
   "execution_count": null,
   "metadata": {},
   "outputs": [],
   "source": [
    "interventions = Interventions()\n",
    "reduction_percentage = 0.5\n",
    "\n",
    "# Simulate quarantine + masks\n",
    "q_start = 0\n",
    "interventions.add(quarantine_graph, q_start, beta=transmission_rate*reduction_percentage)\n",
    "\n",
    "# Simulate HALT of quarantine but people still have to wear masks\n",
    "q_end = 150\n",
    "interventions.add(graph_1fq, q_end, beta=transmission_rate*reduction_percentage)\n",
    "\n",
    "# Simulate HALT of wearing masks\n",
    "m_end = 200\n",
    "interventions.add(graph_1fq, m_end, beta=transmission_rate)\n",
    "\n",
    "checkpoints = interventions.get_checkpoints()"
   ]
  },
  {
   "cell_type": "markdown",
   "metadata": {},
   "source": [
    "### 7) Running the model with interventions"
   ]
  },
  {
   "cell_type": "code",
   "execution_count": null,
   "metadata": {},
   "outputs": [],
   "source": [
    "# Model construction with interventions on the model with 1 food queue\n",
    "interventions_model = ExtSEIRSNetworkModel(G=graph_1fq, Q=quarantine_graph, p=prob_global_contact, q=prob_quarantine_global_contact, beta=transmission_rate, sigma=progression_rate, gamma=recovery_rate, lamda=progression_rate, mu_H=crit_rate, eta=hosp_rate, a=prob_asymptomatic, f=death_rate, h=prob_symp_to_hosp, initI_sym=init_symp_cases, initI_asym=init_asymp_cases, store_Xseries=True)"
   ]
  },
  {
   "cell_type": "code",
   "execution_count": null,
   "metadata": {},
   "outputs": [],
   "source": [
    "t_steps = 200\n",
    "intervention_node_states, intervention_results = run_simulation(interventions_model, t_steps, checkpoints)"
   ]
  },
  {
   "cell_type": "code",
   "execution_count": null,
   "metadata": {},
   "outputs": [],
   "source": [
    "# Model name for storage + store the model params in csv\n",
    "i, param_combo_i = 0, 0\n",
    "fig_name = f\"InterventionsBaseModel{i}_{param_combo_i}\"\n",
    "add_model_name(\"experiments/model_names.csv\", fig_name, household_weight, neighbor_weight, food_weight, transmission_rate, recovery_rate, progression_rate, hosp_rate, round(sum(crit_rate)/len(crit_rate), 3), death_rate, init_symp_cases, init_asymp_cases, t_steps, f\"{q_start}-{q_end}\", reduction_percentage, f\"{q_start}-{m_end}\")\n"
   ]
  },
  {
   "cell_type": "code",
   "execution_count": null,
   "metadata": {},
   "outputs": [],
   "source": [
    "output_df = results_to_df(intervention_results, store=True, store_name=f\"experiments/results/{fig_name}.csv\")"
   ]
  },
  {
   "cell_type": "code",
   "execution_count": null,
   "metadata": {},
   "outputs": [],
   "source": [
    "output_df"
   ]
  },
  {
   "cell_type": "code",
   "execution_count": null,
   "metadata": {},
   "outputs": [],
   "source": [
    "fig, ax = interventions_model.figure_basic()#vlines=interventions.get_checkpoints()['t'])\n",
    "# fig.savefig(f\"plots/{fig_name}_figBasic.png\")"
   ]
  },
  {
   "cell_type": "markdown",
   "metadata": {},
   "source": [
    "#### 7.1) Running the base model with multiple food queues"
   ]
  },
  {
   "cell_type": "code",
   "execution_count": null,
   "metadata": {},
   "outputs": [],
   "source": [
    "# Model construction for multiple food queues but no more interventions\n",
    "model_4fq = ExtSEIRSNetworkModel(G=graph_4fq, p=prob_global_contact, beta=transmission_rate, sigma=progression_rate, gamma=recovery_rate, lamda=progression_rate, mu_H=crit_rate, eta=hosp_rate, a=prob_asymptomatic, f=death_rate, h=prob_symp_to_hosp, initI_sym=init_symp_cases, initI_asym=init_asymp_cases, store_Xseries=True)\n",
    "\n",
    "model_8fq = ExtSEIRSNetworkModel(G=graph_8fq, p=prob_global_contact, beta=transmission_rate, sigma=progression_rate, gamma=recovery_rate, lamda=progression_rate, mu_H=crit_rate, eta=hosp_rate, a=prob_asymptomatic, f=death_rate, h=prob_symp_to_hosp, initI_sym=init_symp_cases, initI_asym=init_asymp_cases, store_Xseries=True)"
   ]
  },
  {
   "cell_type": "code",
   "execution_count": null,
   "metadata": {},
   "outputs": [],
   "source": [
    "t_steps = 200\n",
    "node_states, simulation_results_4fq = run_simulation(model_4fq, t_steps)"
   ]
  },
  {
   "cell_type": "code",
   "execution_count": null,
   "metadata": {},
   "outputs": [],
   "source": [
    "# Model name for storage\n",
    "food_queue_number = 4\n",
    "i = 0\n",
    "fig_name = f\"MultFQ{food_queue_number}_Model{i}\"\n",
    "\n",
    "add_model_name(\"experiments/model_names.csv\", fig_name, household_weight, neighbor_weight, food_weight, transmission_rate, recovery_rate, progression_rate, hosp_rate, round(sum(crit_rate)/len(crit_rate), 3), death_rate, init_symp_cases, init_asymp_cases, t_steps)\n",
    "\t\t\t"
   ]
  },
  {
   "cell_type": "code",
   "execution_count": null,
   "metadata": {},
   "outputs": [],
   "source": [
    "output_df = results_to_df(simulation_results_4fq, store=True, store_name=f\"experiments/results/{fig_name}.csv\")\n"
   ]
  },
  {
   "cell_type": "code",
   "execution_count": null,
   "metadata": {},
   "outputs": [],
   "source": [
    "output_df"
   ]
  },
  {
   "cell_type": "code",
   "execution_count": null,
   "metadata": {},
   "outputs": [],
   "source": [
    "fig, ax = model_4fq.figure_basic()#vlines=interventions.get_checkpoints()['t'])\n",
    "# fig.savefig(f\"plots/{fig_name}_figBasic.png\")"
   ]
  },
  {
   "cell_type": "code",
   "execution_count": null,
   "metadata": {},
   "outputs": [],
   "source": [
    "t_steps = 200\n",
    "node_states, simulation_results_8fq = run_simulation(model_8fq, t_steps)"
   ]
  },
  {
   "cell_type": "code",
   "execution_count": null,
   "metadata": {},
   "outputs": [],
   "source": [
    "food_queue_number = 8\n",
    "i = 0\n",
    "fig_name = f\"MultFQ{food_queue_number}_Model{i}\"\n",
    "\n",
    "add_model_name(\"experiments/model_names.csv\", fig_name, household_weight, neighbor_weight, food_weight, transmission_rate, recovery_rate, progression_rate, hosp_rate, round(sum(crit_rate)/len(crit_rate), 3), death_rate, init_symp_cases, init_asymp_cases, t_steps)\n",
    "\t"
   ]
  },
  {
   "cell_type": "code",
   "execution_count": null,
   "metadata": {},
   "outputs": [],
   "source": [
    "output_df = results_to_df(simulation_results_8fq, store=True, store_name=f\"experiments/results/{fig_name}.csv\")\n"
   ]
  },
  {
   "cell_type": "code",
   "execution_count": null,
   "metadata": {},
   "outputs": [],
   "source": [
    "output_df"
   ]
  },
  {
   "cell_type": "code",
   "execution_count": null,
   "metadata": {},
   "outputs": [],
   "source": [
    "fig, ax = model_8fq.figure_basic()#vlines=interventions.get_checkpoints()['t'])\n",
    "# fig.savefig(f\"plots/{fig_name}_figBasic.png\")"
   ]
  },
  {
   "cell_type": "markdown",
   "metadata": {},
   "source": [
    "#### 7.2) Running the multiple food queues model with interventions"
   ]
  },
  {
   "cell_type": "code",
   "execution_count": null,
   "metadata": {},
   "outputs": [],
   "source": [
    "# Model construction for multiple food queues in addition to other interventions\n",
    "interventions_model_4fq = ExtSEIRSNetworkModel(G=graph_4fq, Q=quarantine_graph_4fq, p=prob_global_contact, q=prob_quarantine_global_contact, beta=transmission_rate, sigma=progression_rate, gamma=recovery_rate, lamda=progression_rate, mu_H=crit_rate, eta=hosp_rate, a=prob_asymptomatic, f=death_rate, h=prob_symp_to_hosp, initI_sym=init_symp_cases, initI_asym=init_asymp_cases, store_Xseries=True)\n",
    "\n",
    "interventions_model_8fq = ExtSEIRSNetworkModel(G=graph_8fq, Q=quarantine_graph_8fq, p=prob_global_contact, q=prob_quarantine_global_contact, beta=transmission_rate, sigma=progression_rate, gamma=recovery_rate, lamda=progression_rate, mu_H=crit_rate, eta=hosp_rate, a=prob_asymptomatic, f=death_rate, h=prob_symp_to_hosp, initI_sym=init_symp_cases, initI_asym=init_asymp_cases, store_Xseries=True)"
   ]
  },
  {
   "cell_type": "code",
   "execution_count": null,
   "metadata": {},
   "outputs": [],
   "source": [
    "## Interventions for graph with 4 food queues \n",
    "interventions.clear()\n",
    "\n",
    "# Amount by which wearing masks reduces the transmission rate\n",
    "reduction_percentage = 0.3\n",
    "\n",
    "# Simulate quarantine + masks\n",
    "q_start = 0\n",
    "interventions.add(quarantine_graph_4fq, q_start, beta=transmission_rate*reduction_percentage)\n",
    "\n",
    "# Simulate HALT of quarantine but people still have to wear masks\n",
    "q_end = 150\n",
    "interventions.add(graph_4fq, q_end, beta=transmission_rate*reduction_percentage)\n",
    "\n",
    "# Simulate HALT of wearing masks\n",
    "m_end = 200\n",
    "interventions.add(graph_4fq, m_end, beta=transmission_rate)\n",
    "\n",
    "checkpoints = interventions.get_checkpoints()"
   ]
  },
  {
   "cell_type": "code",
   "execution_count": null,
   "metadata": {},
   "outputs": [],
   "source": [
    "t_steps = 200\n",
    "node_states, intervention_results_4fq = run_simulation(interventions_model_4fq, t_steps)"
   ]
  },
  {
   "cell_type": "code",
   "execution_count": null,
   "metadata": {},
   "outputs": [],
   "source": [
    "# Model name for storage - adjust accordingly to interventions\n",
    "i = 0\n",
    "food_queue_number = 4\n",
    "fig_name = f\"InterventionsMultFQ{food_queue_number}_Model{i}\"\n",
    "\n",
    "add_model_name(\"experiments/model_names.csv\", fig_name, household_weight, neighbor_weight, food_weight, transmission_rate, recovery_rate, progression_rate, hosp_rate, round(sum(crit_rate)/len(crit_rate), 3), death_rate, init_symp_cases, init_asymp_cases, t_steps, f\"{q_start}-{q_end}\", reduction_percentage, f\"{q_start}-{m_end}\")\n"
   ]
  },
  {
   "cell_type": "code",
   "execution_count": null,
   "metadata": {},
   "outputs": [],
   "source": [
    "output_df = results_to_df(intervention_results_4fq, store=True, store_name=f\"experiments/results/{fig_name}.csv\")"
   ]
  },
  {
   "cell_type": "code",
   "execution_count": null,
   "metadata": {},
   "outputs": [],
   "source": [
    "output_df"
   ]
  },
  {
   "cell_type": "code",
   "execution_count": null,
   "metadata": {},
   "outputs": [],
   "source": [
    "fig, ax = interventions_model_4fq.figure_basic()#vlines=interventions.get_checkpoints()['t'])\n",
    "# fig.savefig(f\"plots/{fig_name}_figBasic.png\")"
   ]
  },
  {
   "cell_type": "code",
   "execution_count": null,
   "metadata": {},
   "outputs": [],
   "source": [
    "## Interventions for graph with 8 food queues \n",
    "interventions.clear()\n",
    "\n",
    "# Amount by which wearing masks reduces the transmission rate\n",
    "reduction_percentage = 0.3\n",
    "\n",
    "# Simulate quarantine + masks\n",
    "q_start = 0\n",
    "interventions.add(quarantine_graph_8fq, q_start, beta=transmission_rate*reduction_percentage)\n",
    "\n",
    "# Simulate HALT of quarantine but people still have to wear masks\n",
    "q_end = 150\n",
    "interventions.add(graph_8fq, q_end, beta=transmission_rate*reduction_percentage)\n",
    "\n",
    "# Simulate HALT of wearing masks\n",
    "m_end = 200\n",
    "interventions.add(graph_8fq, m_end, beta=transmission_rate)\n",
    "\n",
    "checkpoints = interventions.get_checkpoints()"
   ]
  },
  {
   "cell_type": "code",
   "execution_count": null,
   "metadata": {},
   "outputs": [],
   "source": [
    "t_steps = 200\n",
    "node_states, interventions_results_8fq = run_simulation(interventions_model_8fq, t_steps)"
   ]
  },
  {
   "cell_type": "code",
   "execution_count": null,
   "metadata": {},
   "outputs": [],
   "source": [
    "i = 0\n",
    "food_queue_number = 8\n",
    "fig_name = f\"InterventionsMultFQ{food_queue_number}_Model{i}\"\n",
    "\n",
    "add_model_name(\"experiments/model_names.csv\", fig_name, household_weight, neighbor_weight, food_weight, transmission_rate, recovery_rate, progression_rate, hosp_rate, round(sum(crit_rate)/len(crit_rate), 3), death_rate, init_symp_cases, init_asymp_cases, t_steps, f\"{q_start}-{q_end}\", reduction_percentage, f\"{q_start}-{m_end}\")"
   ]
  },
  {
   "cell_type": "code",
   "execution_count": null,
   "metadata": {},
   "outputs": [],
   "source": [
    "output_df = results_to_df(intervention_results_8fq, store=True, store_name=f\"experiments/results/{fig_name}.csv\")"
   ]
  },
  {
   "cell_type": "code",
   "execution_count": null,
   "metadata": {},
   "outputs": [],
   "source": [
    "output_df"
   ]
  },
  {
   "cell_type": "code",
   "execution_count": null,
   "metadata": {},
   "outputs": [],
   "source": [
    "fig, ax = interventions_model_8fq.figure_basic()#vlines=interventions.get_checkpoints()['t'])\n",
    "fig.savefig(f\"plots/{fig_name}_figBasic.png\")"
   ]
  }
 ],
 "metadata": {
  "kernelspec": {
   "display_name": "Python 3",
   "language": "python",
   "name": "python3"
  },
  "language_info": {
   "codemirror_mode": {
    "name": "ipython",
    "version": 3
   },
   "file_extension": ".py",
   "mimetype": "text/x-python",
   "name": "python",
   "nbconvert_exporter": "python",
   "pygments_lexer": "ipython3",
   "version": "3.8.5"
  },
  "widgets": {
   "application/vnd.jupyter.widget-state+json": {
    "state": {},
    "version_major": 2,
    "version_minor": 0
   }
  }
 },
 "nbformat": 4,
 "nbformat_minor": 4
}
