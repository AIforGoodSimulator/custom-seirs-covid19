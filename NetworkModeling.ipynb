{
 "cells": [
  {
   "cell_type": "markdown",
   "metadata": {},
   "source": [
    "# Network Modeling with SEIRS+ Notebook "
   ]
  },
  {
   "cell_type": "code",
   "execution_count": 1,
   "metadata": {},
   "outputs": [],
   "source": [
    "import networkx as nx\n",
    "import pandas as pd\n",
    "import numpy as np\n",
    "import matplotlib.pyplot as plt\n",
    "from scipy.stats import poisson\n",
    "from seirsplus.models import *\n",
    "from network_utils import *\n",
    "from stats_utils import *\n",
    "from intervention_utils import *"
   ]
  },
  {
   "cell_type": "markdown",
   "metadata": {},
   "source": [
    "### Parameters\n",
    "\n",
    "Here, we define the parameters taken from the Tucker model. These can be customized further and then the rest of the cells can be run. We are dividing the tents zones into 3 big blocks for grid/measuring proximity purposes"
   ]
  },
  {
   "cell_type": "code",
   "execution_count": 2,
   "metadata": {},
   "outputs": [],
   "source": [
    "n_pop = 18700\n",
    "\n",
    "# Grid info for isoboxes\n",
    "dims_isoboxes = (29, 28)  # 812\n",
    "\n",
    "# Grid info for tents\n",
    "dims_block1 = (20, 67)  # 1340\n",
    "dims_block2 = (53, 15)  # 795\n",
    "dims_block3 = (19, 28)  # 532\n",
    "\n",
    "# Isoboxes\n",
    "pop_isoboxes = 8100\n",
    "pop_per_isobox = 10\n",
    "n_isoboxes = dims_isoboxes[0]*dims_isoboxes[1]\n",
    "\n",
    "# Tents\n",
    "n_tents = 2650\n",
    "pop_tents = 10600\n",
    "pop_per_tent = 4\n",
    "\n",
    "# Others \n",
    "n_bathrooms = 144\n",
    "n_ethnic_groups = 8\n",
    "\n",
    "# We define neighboring structures within a range of 2 in the structure grid\n",
    "proximity = 2\n",
    "\n",
    "# Define the maximum population per structures (tents and isoboxes) drawn from a poisson distribution\n",
    "max_pop_per_struct = list(poisson.rvs(mu=pop_per_isobox, size=n_isoboxes))\n",
    "max_pop_per_struct = max_pop_per_struct + list(poisson.rvs(mu=pop_per_tent, size=dims_block1[0]*dims_block1[1]))\n",
    "max_pop_per_struct = max_pop_per_struct + list(poisson.rvs(mu=pop_per_tent, size=dims_block2[0]*dims_block2[1]))\n",
    "max_pop_per_struct = max_pop_per_struct + list(poisson.rvs(mu=pop_per_tent, size=dims_block3[0]*dims_block3[1]))\n",
    "\n",
    "n_structs = len(max_pop_per_struct)\n",
    "\n",
    "# Sample the population age, and parameter rates\n",
    "sample_pop = sample_population(n_pop, \"data/augmented_population.csv\")"
   ]
  },
  {
   "cell_type": "markdown",
   "metadata": {},
   "source": [
    "### Basic Network\n",
    "\n",
    "#### 1) Create graph for both isoboxes and tents"
   ]
  },
  {
   "cell_type": "code",
   "execution_count": 3,
   "metadata": {},
   "outputs": [
    {
     "name": "stderr",
     "output_type": "stream",
     "text": [
      "100%|██████████| 18700/18700 [00:04<00:00, 4182.25it/s]\n"
     ]
    }
   ],
   "source": [
    "household_weight = 0.98  # Edge weight for connections within each structure\n",
    "graph, nodes_per_struct = create_graph(n_structs, 0, n_pop, max_pop_per_struct, \n",
    "                                       edge_weight=household_weight, label=\"household\",\n",
    "                                       age_list=list(sample_pop[\"age\"]),\n",
    "                                       sex_list = list(sample_pop[\"sex\"]),\n",
    "                                       n_ethnicities=n_ethnic_groups)"
   ]
  },
  {
   "cell_type": "markdown",
   "metadata": {},
   "source": [
    "#### 2) Create the grids that will help with positioning when measuring proximity\n",
    "\n",
    "We will create 4 different grids: 1 for the isobox area and 3 for the big tent blocks"
   ]
  },
  {
   "cell_type": "code",
   "execution_count": 4,
   "metadata": {},
   "outputs": [],
   "source": [
    "grid_isoboxes = create_grid(dims_isoboxes[0], dims_isoboxes[1], 0)\n",
    "grid_block1 = create_grid(dims_block1[0], dims_block1[1], grid_isoboxes[-1][-1] + 1)\n",
    "grid_block2 = create_grid(dims_block2[0], dims_block2[1], grid_block1[-1][-1] + 1)\n",
    "grid_block3 = create_grid(dims_block3[0], dims_block3[1], grid_block2[-1][-1] + 1)"
   ]
  },
  {
   "cell_type": "markdown",
   "metadata": {},
   "source": [
    "#### 3) Connect the nodes that are within a certain degree of proximity\n",
    "\n",
    "We call the `connect_neighbors` method 4 times because we are connecting nodes within the isobox grid, and within the 3 other tent block grids"
   ]
  },
  {
   "cell_type": "code",
   "execution_count": 5,
   "metadata": {},
   "outputs": [],
   "source": [
    "neighbor_weight = 0.017\n",
    "graph = connect_neighbors(graph, 0, n_isoboxes, nodes_per_struct,\n",
    "                          grid_isoboxes, 2, neighbor_weight, 'friendship')\n",
    "graph = connect_neighbors(graph, dims_isoboxes[0]*dims_isoboxes[1], dims_block1[0]*dims_block1[1], nodes_per_struct,\n",
    "                          grid_block1, 2, neighbor_weight, 'friendship')\n",
    "graph = connect_neighbors(graph, dims_block1[0]*dims_block1[1], dims_block2[0]*dims_block2[1], nodes_per_struct,\n",
    "                          grid_block2, 2, neighbor_weight, 'friendship')\n",
    "graph = connect_neighbors(graph, dims_block2[0]*dims_block2[1], dims_block3[0]*dims_block3[1], nodes_per_struct,\n",
    "                          grid_block3, 2, neighbor_weight, 'friendship')"
   ]
  },
  {
   "cell_type": "markdown",
   "metadata": {},
   "source": [
    "#### 4) Connect the nodes that go to the food line - can be extended to all nodes\n",
    "Assumption: 2 people from each structure are randomly selected to get food, and then we connect each person from the food queue with the previous + next 5 people near them."
   ]
  },
  {
   "cell_type": "code",
   "execution_count": 6,
   "metadata": {},
   "outputs": [],
   "source": [
    "food_weight = 0.407 # Edge weight for connections in the food queue \n",
    "graph = connect_food_queue(graph, nodes_per_struct, food_weight, \"food\") "
   ]
  },
  {
   "cell_type": "markdown",
   "metadata": {},
   "source": [
    "#### 5) Plot the basic network degrees"
   ]
  },
  {
   "cell_type": "code",
   "execution_count": 7,
   "metadata": {},
   "outputs": [
    {
     "data": {
      "text/plain": [
       "(0, 192)"
      ]
     },
     "execution_count": 7,
     "metadata": {},
     "output_type": "execute_result"
    }
   ],
   "source": [
    "min_G, max_G = min_degree(graph), max_degree(graph)\n",
    "min_G, max_G"
   ]
  },
  {
   "cell_type": "code",
   "execution_count": 8,
   "metadata": {},
   "outputs": [
    {
     "data": {
      "image/png": "[encoded data removed]",
      "text/plain": [
       "<Figure size 432x288 with 1 Axes>"
      ]
     },
     "metadata": {},
     "output_type": "display_data"
    }
   ],
   "source": [
    "plot_degree_distn(graph, max_degree=max_G)"
   ]
  },
  {
   "cell_type": "markdown",
   "metadata": {},
   "source": [
    "#### 6) Create node groups of 10 year age bucket to track the results"
   ]
  },
  {
   "cell_type": "code",
   "execution_count": 9,
   "metadata": {},
   "outputs": [],
   "source": [
    "node_groups=create_node_groups(graph)"
   ]
  },
  {
   "cell_type": "markdown",
   "metadata": {},
   "source": [
    "### Interventions\n",
    "\n",
    "With the interventions module, we can create an intervention with just a time step and a custom network referring to that intervention, as well as remove/edit them from the list. The method get_checkpoints() will allow us to get the dictionary to be fed to the SEIRS+ model"
   ]
  },
  {
   "cell_type": "code",
   "execution_count": 11,
   "metadata": {},
   "outputs": [],
   "source": [
    "interventions = Interventions()"
   ]
  },
  {
   "cell_type": "code",
   "execution_count": 12,
   "metadata": {},
   "outputs": [],
   "source": [
    "# interventions.add(15, Q)\n",
    "# interventions.add(45, graph)\n",
    "# interventions.add(\"dummy\", Q)"
   ]
  },
  {
   "cell_type": "code",
   "execution_count": 13,
   "metadata": {},
   "outputs": [
    {
     "data": {
      "text/plain": [
       "{'t': [], 'G': []}"
      ]
     },
     "execution_count": 13,
     "metadata": {},
     "output_type": "execute_result"
    }
   ],
   "source": [
    "interventions.get_checkpoints()"
   ]
  },
  {
   "cell_type": "code",
   "execution_count": 14,
   "metadata": {},
   "outputs": [],
   "source": [
    "# interventions.remove('dummy')"
   ]
  },
  {
   "cell_type": "code",
   "execution_count": 15,
   "metadata": {},
   "outputs": [
    {
     "data": {
      "text/plain": [
       "{'t': [], 'G': []}"
      ]
     },
     "execution_count": 15,
     "metadata": {},
     "output_type": "execute_result"
    }
   ],
   "source": [
    "interventions.get_checkpoints()"
   ]
  },
  {
   "cell_type": "code",
   "execution_count": 16,
   "metadata": {},
   "outputs": [],
   "source": [
    "transmission_rate = 1.28\n",
    "progression_rate = 1/5.1\n",
    "recovery_rate = 0.056 # Approx 1/18 -> Recovery occurs after 18 days\n",
    "hosp_rate = 1/11.4 #1/6.3 # From Tucker Model\n",
    "crit_rate = 0.3 # From camp_params\n",
    "\n",
    "prob_global_contact = 1\n",
    "prob_detected_global_contact = 1\n",
    "\n",
    "\n",
    "\n",
    "prob_hosp_to_critical = list(sample_pop[\"death_rate\"]/sample_pop[\"prob_hospitalisation\"])\n",
    "prob_asymptomatic = list(1 - sample_pop[\"prob_symptomatic\"])\n",
    "prob_symp_to_hosp = list(sample_pop[\"prob_hospitalisation\"])\n",
    "\n",
    "init_symp_cases = 1\n",
    "init_asymp_cases = 0"
   ]
  },
  {
   "cell_type": "code",
   "execution_count": 17,
   "metadata": {},
   "outputs": [],
   "source": [
    "#assumption\n",
    "iso_weight=household_weight"
   ]
  },
  {
   "cell_type": "code",
   "execution_count": 18,
   "metadata": {},
   "outputs": [],
   "source": [
    "# checkpoints = interventions.get_checkpoints()\n",
    "\n",
    "ref_model = SymptomaticSEIRSNetworkModel(G=graph, beta=transmission_rate, sigma=progression_rate, gamma=recovery_rate, \n",
    "                                         lamda=progression_rate, mu_H=crit_rate, eta=hosp_rate, p=prob_global_contact, a=prob_asymptomatic, f=prob_hosp_to_critical, \n",
    "                                         h=prob_symp_to_hosp, q=prob_detected_global_contact, initI_S=init_symp_cases, initI_A=init_asymp_cases, store_Xseries=True,\n",
    "                                        node_groups=node_groups)\n",
    "\n",
    "fig_name = f\"SymptomaticModel_IsoWeight={iso_weight}_NeighWeight={neighbor_weight}_FoodWeight={food_weight}_ + \\\n",
    "TransRate={transmission_rate}_RecRate={recovery_rate}_ProgRate={progression_rate}_HospRate={hosp_rate}_initI_S={init_symp_cases}_initI_A={init_asymp_cases}\"\n",
    "\n",
    "# ref_model.run(T=10, verbose=True)#, checkpoints=checkpoints)"
   ]
  },
  {
   "cell_type": "code",
   "execution_count": 19,
   "metadata": {},
   "outputs": [
    {
     "name": "stderr",
     "output_type": "stream",
     "text": [
      "  5%|▌         | 1/20 [00:00<00:01,  9.63it/s]"
     ]
    },
    {
     "name": "stdout",
     "output_type": "stream",
     "text": [
      "Running simulation for 20 steps...\n",
      "\n"
     ]
    },
    {
     "name": "stderr",
     "output_type": "stream",
     "text": [
      "100%|██████████| 20/20 [00:47<00:00,  2.37s/it]\n"
     ]
    }
   ],
   "source": [
    "node_states, simulation_results = run_simulation(ref_model, 20, print_info=False, store_every=1)"
   ]
  },
  {
   "cell_type": "code",
   "execution_count": 19,
   "metadata": {},
   "outputs": [],
   "source": [
    "#here we set up a parallel computing to run experiments in parallel and aggregate the results"
   ]
  },
  {
   "cell_type": "code",
   "execution_count": 21,
   "metadata": {},
   "outputs": [
    {
     "data": {
      "text/plain": [
       "{'age0-10': {'nodes': array([    2,     4,    10, ..., 18683, 18684, 18692]),\n",
       "  'mask': array([[False],\n",
       "         [False],\n",
       "         [ True],\n",
       "         ...,\n",
       "         [False],\n",
       "         [False],\n",
       "         [False]]),\n",
       "  'numS': array([3942., 3942., 3942., ..., 3714., 3714., 3714.]),\n",
       "  'numE': array([  0.,   0.,   0., ..., 152., 152., 151.]),\n",
       "  'numI_pre': array([ 0.,  0.,  0., ..., 49., 49., 50.]),\n",
       "  'numI_S': array([0., 0., 0., ..., 9., 9., 9.]),\n",
       "  'numI_A': array([ 0.,  0.,  0., ..., 17., 17., 17.]),\n",
       "  'numH': array([0., 0., 0., ..., 0., 0., 0.]),\n",
       "  'numR': array([0., 0., 0., ..., 1., 1., 1.]),\n",
       "  'numF': array([0., 0., 0., ..., 0., 0., 0.]),\n",
       "  'numD_E': array([0., 0., 0., ..., 0., 0., 0.]),\n",
       "  'numD_pre': array([0., 0., 0., ..., 0., 0., 0.]),\n",
       "  'numD_S': array([0., 0., 0., ..., 0., 0., 0.]),\n",
       "  'numD_A': array([0., 0., 0., ..., 0., 0., 0.]),\n",
       "  'N': array([18700.,  3942.,  3942., ...,  3942.,  3942.,  3942.])},\n",
       " 'age10-20': {'nodes': array([    0,     1,     7, ..., 18691, 18697, 18698]),\n",
       "  'mask': array([[ True],\n",
       "         [ True],\n",
       "         [False],\n",
       "         ...,\n",
       "         [ True],\n",
       "         [ True],\n",
       "         [False]]),\n",
       "  'numS': array([3221., 3221., 3221., ..., 3019., 3018., 3018.]),\n",
       "  'numE': array([  0.,   0.,   0., ..., 126., 127., 127.]),\n",
       "  'numI_pre': array([ 0.,  0.,  0., ..., 53., 53., 53.]),\n",
       "  'numI_S': array([0., 0., 0., ..., 5., 5., 5.]),\n",
       "  'numI_A': array([ 0.,  0.,  0., ..., 14., 14., 14.]),\n",
       "  'numH': array([0., 0., 0., ..., 0., 0., 0.]),\n",
       "  'numR': array([0., 0., 0., ..., 4., 4., 4.]),\n",
       "  'numF': array([0., 0., 0., ..., 0., 0., 0.]),\n",
       "  'numD_E': array([0., 0., 0., ..., 0., 0., 0.]),\n",
       "  'numD_pre': array([0., 0., 0., ..., 0., 0., 0.]),\n",
       "  'numD_S': array([0., 0., 0., ..., 0., 0., 0.]),\n",
       "  'numD_A': array([0., 0., 0., ..., 0., 0., 0.]),\n",
       "  'N': array([18700.,  3221.,  3221., ...,  3221.,  3221.,  3221.])},\n",
       " 'age20-30': {'nodes': array([   14,    16,    18, ..., 18693, 18694, 18695]),\n",
       "  'mask': array([[False],\n",
       "         [False],\n",
       "         [False],\n",
       "         ...,\n",
       "         [False],\n",
       "         [False],\n",
       "         [False]]),\n",
       "  'numS': array([4881., 4880., 4880., ..., 4597., 4597., 4597.]),\n",
       "  'numE': array([  0.,   1.,   1., ..., 196., 196., 196.]),\n",
       "  'numI_pre': array([ 0.,  0.,  0., ..., 50., 50., 50.]),\n",
       "  'numI_S': array([ 1.,  1.,  1., ..., 15., 15., 15.]),\n",
       "  'numI_A': array([ 0.,  0.,  0., ..., 18., 18., 18.]),\n",
       "  'numH': array([0., 0., 0., ..., 0., 0., 0.]),\n",
       "  'numR': array([0., 0., 0., ..., 6., 6., 6.]),\n",
       "  'numF': array([0., 0., 0., ..., 0., 0., 0.]),\n",
       "  'numD_E': array([0., 0., 0., ..., 0., 0., 0.]),\n",
       "  'numD_pre': array([0., 0., 0., ..., 0., 0., 0.]),\n",
       "  'numD_S': array([0., 0., 0., ..., 0., 0., 0.]),\n",
       "  'numD_A': array([0., 0., 0., ..., 0., 0., 0.]),\n",
       "  'N': array([18700.,  4882.,  4882., ...,  4882.,  4882.,  4882.])},\n",
       " 'age30-40': {'nodes': array([    3,     5,     6, ..., 18690, 18696, 18699]),\n",
       "  'mask': array([[False],\n",
       "         [False],\n",
       "         [False],\n",
       "         ...,\n",
       "         [False],\n",
       "         [False],\n",
       "         [ True]]),\n",
       "  'numS': array([3194., 3194., 3194., ..., 3007., 3007., 3007.]),\n",
       "  'numE': array([  0.,   0.,   0., ..., 122., 122., 122.]),\n",
       "  'numI_pre': array([ 0.,  0.,  0., ..., 44., 44., 44.]),\n",
       "  'numI_S': array([0., 0., 0., ..., 8., 8., 8.]),\n",
       "  'numI_A': array([ 0.,  0.,  0., ..., 12., 12., 12.]),\n",
       "  'numH': array([0., 0., 0., ..., 0., 0., 0.]),\n",
       "  'numR': array([0., 0., 0., ..., 1., 1., 1.]),\n",
       "  'numF': array([0., 0., 0., ..., 0., 0., 0.]),\n",
       "  'numD_E': array([0., 0., 0., ..., 0., 0., 0.]),\n",
       "  'numD_pre': array([0., 0., 0., ..., 0., 0., 0.]),\n",
       "  'numD_S': array([0., 0., 0., ..., 0., 0., 0.]),\n",
       "  'numD_A': array([0., 0., 0., ..., 0., 0., 0.]),\n",
       "  'N': array([18700.,  3194.,  3194., ...,  3194.,  3194.,  3194.])},\n",
       " 'age40-50': {'nodes': array([    9,    27,    31, ..., 18663, 18674, 18685]),\n",
       "  'mask': array([[False],\n",
       "         [False],\n",
       "         [False],\n",
       "         ...,\n",
       "         [False],\n",
       "         [False],\n",
       "         [False]]),\n",
       "  'numS': array([1742., 1742., 1742., ..., 1634., 1634., 1634.]),\n",
       "  'numE': array([ 0.,  0.,  0., ..., 77., 77., 77.]),\n",
       "  'numI_pre': array([ 0.,  0.,  0., ..., 15., 15., 15.]),\n",
       "  'numI_S': array([0., 0., 0., ..., 6., 6., 6.]),\n",
       "  'numI_A': array([0., 0., 0., ..., 7., 7., 7.]),\n",
       "  'numH': array([0., 0., 0., ..., 0., 0., 0.]),\n",
       "  'numR': array([0., 0., 0., ..., 3., 3., 3.]),\n",
       "  'numF': array([0., 0., 0., ..., 0., 0., 0.]),\n",
       "  'numD_E': array([0., 0., 0., ..., 0., 0., 0.]),\n",
       "  'numD_pre': array([0., 0., 0., ..., 0., 0., 0.]),\n",
       "  'numD_S': array([0., 0., 0., ..., 0., 0., 0.]),\n",
       "  'numD_A': array([0., 0., 0., ..., 0., 0., 0.]),\n",
       "  'N': array([18700.,  1742.,  1742., ...,  1742.,  1742.,  1742.])},\n",
       " 'age50-60': {'nodes': array([   97,   104,   129, ..., 18665, 18669, 18682]),\n",
       "  'mask': array([[False],\n",
       "         [False],\n",
       "         [False],\n",
       "         ...,\n",
       "         [False],\n",
       "         [False],\n",
       "         [False]]),\n",
       "  'numS': array([1044., 1044., 1043., ...,  986.,  986.,  986.]),\n",
       "  'numE': array([ 0.,  0.,  1., ..., 41., 41., 41.]),\n",
       "  'numI_pre': array([0., 0., 0., ..., 9., 9., 9.]),\n",
       "  'numI_S': array([0., 0., 0., ..., 5., 5., 5.]),\n",
       "  'numI_A': array([0., 0., 0., ..., 0., 0., 0.]),\n",
       "  'numH': array([0., 0., 0., ..., 0., 0., 0.]),\n",
       "  'numR': array([0., 0., 0., ..., 2., 2., 2.]),\n",
       "  'numF': array([0., 0., 0., ..., 0., 0., 0.]),\n",
       "  'numD_E': array([0., 0., 0., ..., 0., 0., 0.]),\n",
       "  'numD_pre': array([0., 0., 0., ..., 0., 0., 0.]),\n",
       "  'numD_S': array([0., 0., 0., ..., 0., 0., 0.]),\n",
       "  'numD_A': array([0., 0., 0., ..., 0., 0., 0.]),\n",
       "  'N': array([18700.,  1044.,  1044., ...,  1044.,  1044.,  1044.])},\n",
       " 'age60-70': {'nodes': array([   11,   117,   118,   128,   161,   275,   336,   342,   349,\n",
       "           358,   380,   389,   435,   477,   552,   573,   579,   653,\n",
       "           697,   800,   813,   983,   984,   996,  1015,  1022,  1070,\n",
       "          1143,  1185,  1306,  1313,  1344,  1351,  1409,  1457,  1485,\n",
       "          1501,  1509,  1517,  1547,  1568,  1707,  1728,  1776,  1777,\n",
       "          1778,  1790,  1891,  1895,  1917,  1925,  1957,  1992,  2046,\n",
       "          2084,  2090,  2120,  2124,  2153,  2252,  2260,  2295,  2304,\n",
       "          2305,  2334,  2342,  2450,  2460,  2469,  2474,  2488,  2500,\n",
       "          2586,  2597,  2620,  2632,  2647,  2651,  2654,  2662,  2663,\n",
       "          2677,  2693,  2703,  2724,  2799,  2838,  2847,  2879,  2905,\n",
       "          2909,  2937,  2976,  3008,  3013,  3110,  3124,  3170,  3179,\n",
       "          3243,  3262,  3362,  3368,  3394,  3438,  3470,  3473,  3482,\n",
       "          3491,  3546,  3568,  3596,  3623,  3637,  3672,  3683,  3692,\n",
       "          3719,  3783,  3815,  3830,  3864,  3950,  3973,  4024,  4029,\n",
       "          4036,  4059,  4077,  4135,  4184,  4254,  4273,  4319,  4363,\n",
       "          4381,  4404,  4442,  4498,  4504,  4507,  4526,  4539,  4556,\n",
       "          4577,  4580,  4604,  4655,  4661,  4666,  4707,  4708,  4851,\n",
       "          4861,  4864,  4994,  5021,  5067,  5089,  5099,  5168,  5180,\n",
       "          5188,  5192,  5214,  5216,  5257,  5264,  5278,  5294,  5305,\n",
       "          5330,  5341,  5375,  5417,  5446,  5477,  5483,  5491,  5574,\n",
       "          5589,  5689,  5712,  5714,  5720,  5740,  5773,  5780,  5781,\n",
       "          5824,  5827,  5845,  5861,  5949,  5955,  5960,  6001,  6010,\n",
       "          6018,  6059,  6073,  6075,  6179,  6327,  6453,  6486,  6505,\n",
       "          6613,  6615,  6618,  6633,  6695,  6769,  6774,  6957,  6965,\n",
       "          6985,  7005,  7043,  7124,  7135,  7158,  7238,  7287,  7316,\n",
       "          7375,  7387,  7435,  7439,  7643,  7682,  7774,  7790,  7829,\n",
       "          7865,  7888,  7898,  7910,  7914,  7950,  7967,  7971,  7997,\n",
       "          8148,  8229,  8288,  8332,  8357,  8362,  8426,  8439,  8467,\n",
       "          8566,  8573,  8615,  8653,  8670,  8680,  8732,  8741,  8771,\n",
       "          8786,  8923,  8964,  9014,  9025,  9029,  9045,  9055,  9099,\n",
       "          9216,  9265,  9304,  9331,  9381,  9484,  9485,  9615,  9639,\n",
       "          9715,  9739,  9824,  9842,  9871,  9916,  9923,  9928,  9979,\n",
       "         10072, 10115, 10194, 10332, 10378, 10387, 10388, 10420, 10421,\n",
       "         10487, 10630, 10637, 10639, 10643, 10653, 10667, 10813, 10858,\n",
       "         10880, 10964, 10975, 10978, 11043, 11063, 11085, 11141, 11218,\n",
       "         11271, 11293, 11314, 11379, 11414, 11453, 11460, 11575, 11659,\n",
       "         11662, 11670, 11764, 11768, 11775, 11784, 11786, 11918, 11932,\n",
       "         12058, 12083, 12109, 12115, 12151, 12172, 12279, 12294, 12308,\n",
       "         12309, 12330, 12336, 12424, 12440, 12457, 12463, 12470, 12504,\n",
       "         12559, 12687, 12710, 12743, 12764, 12769, 12809, 12881, 12912,\n",
       "         12914, 12922, 12975, 13067, 13073, 13078, 13151, 13152, 13164,\n",
       "         13213, 13219, 13224, 13240, 13267, 13327, 13394, 13437, 13482,\n",
       "         13483, 13547, 13550, 13569, 13588, 13630, 13726, 13751, 13783,\n",
       "         13804, 13841, 13852, 13855, 13915, 13934, 13952, 13956, 13961,\n",
       "         14112, 14121, 14124, 14202, 14211, 14241, 14282, 14283, 14285,\n",
       "         14317, 14326, 14329, 14379, 14495, 14569, 14572, 14654, 14693,\n",
       "         14738, 14793, 14814, 14870, 14890, 14975, 14985, 15174, 15213,\n",
       "         15263, 15285, 15310, 15326, 15420, 15518, 15807, 15866, 15905,\n",
       "         15913, 15985, 16004, 16047, 16048, 16094, 16129, 16130, 16138,\n",
       "         16164, 16187, 16215, 16330, 16337, 16345, 16459, 16467, 16486,\n",
       "         16518, 16635, 16657, 16662, 16816, 16822, 16828, 16834, 16839,\n",
       "         16908, 16918, 16956, 16957, 16965, 17034, 17037, 17083, 17115,\n",
       "         17121, 17131, 17153, 17171, 17182, 17282, 17284, 17304, 17334,\n",
       "         17343, 17348, 17389, 17425, 17434, 17469, 17492, 17498, 17515,\n",
       "         17522, 17524, 17546, 17570, 17664, 17706, 17776, 17798, 17801,\n",
       "         17819, 17830, 17852, 17866, 17914, 17965, 17978, 17987, 18022,\n",
       "         18036, 18053, 18077, 18082, 18132, 18134, 18308, 18344, 18351,\n",
       "         18358, 18374, 18376, 18380, 18518, 18538, 18586, 18606, 18625,\n",
       "         18645, 18681]),\n",
       "  'mask': array([[False],\n",
       "         [False],\n",
       "         [False],\n",
       "         ...,\n",
       "         [False],\n",
       "         [False],\n",
       "         [False]]),\n",
       "  'numS': array([524., 524., 524., ..., 496., 496., 496.]),\n",
       "  'numE': array([ 0.,  0.,  0., ..., 20., 20., 20.]),\n",
       "  'numI_pre': array([0., 0., 0., ..., 6., 6., 6.]),\n",
       "  'numI_S': array([0., 0., 0., ..., 0., 0., 0.]),\n",
       "  'numI_A': array([0., 0., 0., ..., 1., 1., 1.]),\n",
       "  'numH': array([0., 0., 0., ..., 0., 0., 0.]),\n",
       "  'numR': array([0., 0., 0., ..., 1., 1., 1.]),\n",
       "  'numF': array([0., 0., 0., ..., 0., 0., 0.]),\n",
       "  'numD_E': array([0., 0., 0., ..., 0., 0., 0.]),\n",
       "  'numD_pre': array([0., 0., 0., ..., 0., 0., 0.]),\n",
       "  'numD_S': array([0., 0., 0., ..., 0., 0., 0.]),\n",
       "  'numD_A': array([0., 0., 0., ..., 0., 0., 0.]),\n",
       "  'N': array([18700.,   524.,   524., ...,   524.,   524.,   524.])},\n",
       " 'age70-80': {'nodes': array([  109,   354,   498,   714,   735,  1034,  1106,  1223,  1698,\n",
       "          1712,  2001,  2546,  2835,  3034,  3400,  3430,  3535,  3566,\n",
       "          3574,  3604,  3805,  3893,  3915,  4002,  4086,  4115,  4405,\n",
       "          4540,  4824,  5148,  5335,  5419,  5570,  5696,  5888,  6229,\n",
       "          6432,  6434,  7017,  7093,  7122,  7249,  7604,  7637,  7742,\n",
       "          7870,  7930,  7934,  8007,  8038,  8107,  8147,  8237,  8505,\n",
       "          8593,  8722,  8947,  8976,  8983,  9080,  9268,  9343,  9382,\n",
       "          9418,  9481,  9609,  9652,  9977, 10155, 10607, 10681, 10899,\n",
       "         11076, 11101, 11612, 12138, 12405, 12811, 12902, 13280, 13355,\n",
       "         13581, 13771, 13837, 13908, 13972, 13973, 14040, 14505, 14618,\n",
       "         14808, 15050, 15254, 15353, 15581, 15657, 15873, 16433, 16679,\n",
       "         16691, 16808, 16849, 16895, 17088, 17173, 17233, 17436, 17656,\n",
       "         18045, 18147]),\n",
       "  'mask': array([[False],\n",
       "         [False],\n",
       "         [False],\n",
       "         ...,\n",
       "         [False],\n",
       "         [False],\n",
       "         [False]]),\n",
       "  'numS': array([110., 110., 110., ..., 104., 104., 104.]),\n",
       "  'numE': array([0., 0., 0., ..., 5., 5., 5.]),\n",
       "  'numI_pre': array([0., 0., 0., ..., 1., 1., 1.]),\n",
       "  'numI_S': array([0., 0., 0., ..., 0., 0., 0.]),\n",
       "  'numI_A': array([0., 0., 0., ..., 0., 0., 0.]),\n",
       "  'numH': array([0., 0., 0., ..., 0., 0., 0.]),\n",
       "  'numR': array([0., 0., 0., ..., 0., 0., 0.]),\n",
       "  'numF': array([0., 0., 0., ..., 0., 0., 0.]),\n",
       "  'numD_E': array([0., 0., 0., ..., 0., 0., 0.]),\n",
       "  'numD_pre': array([0., 0., 0., ..., 0., 0., 0.]),\n",
       "  'numD_S': array([0., 0., 0., ..., 0., 0., 0.]),\n",
       "  'numD_A': array([0., 0., 0., ..., 0., 0., 0.]),\n",
       "  'N': array([18700.,   110.,   110., ...,   110.,   110.,   110.])},\n",
       " 'age>80': {'nodes': array([ 1132,  1704,  2263,  3006,  3728,  3831,  4236,  4349,  5071,\n",
       "          5547,  6236,  6555,  6594,  7526,  7781,  7844,  8433,  8809,\n",
       "          8876,  9365,  9930, 10254, 10804, 11083, 11200, 11506, 12611,\n",
       "         13616, 14167, 14378, 14854, 15234, 16513, 16540, 16746, 17036,\n",
       "         17576, 17713, 17859, 18012, 18243]),\n",
       "  'mask': array([[False],\n",
       "         [False],\n",
       "         [False],\n",
       "         ...,\n",
       "         [False],\n",
       "         [False],\n",
       "         [False]]),\n",
       "  'numS': array([41., 41., 41., ..., 40., 40., 40.]),\n",
       "  'numE': array([0., 0., 0., ..., 1., 1., 1.]),\n",
       "  'numI_pre': array([0., 0., 0., ..., 0., 0., 0.]),\n",
       "  'numI_S': array([0., 0., 0., ..., 0., 0., 0.]),\n",
       "  'numI_A': array([0., 0., 0., ..., 0., 0., 0.]),\n",
       "  'numH': array([0., 0., 0., ..., 0., 0., 0.]),\n",
       "  'numR': array([0., 0., 0., ..., 0., 0., 0.]),\n",
       "  'numF': array([0., 0., 0., ..., 0., 0., 0.]),\n",
       "  'numD_E': array([0., 0., 0., ..., 0., 0., 0.]),\n",
       "  'numD_pre': array([0., 0., 0., ..., 0., 0., 0.]),\n",
       "  'numD_S': array([0., 0., 0., ..., 0., 0., 0.]),\n",
       "  'numD_A': array([0., 0., 0., ..., 0., 0., 0.]),\n",
       "  'N': array([18700.,    41.,    41., ...,    41.,    41.,    41.])}}"
      ]
     },
     "execution_count": 21,
     "metadata": {},
     "output_type": "execute_result"
    }
   ],
   "source": [
    "ref_model.nodeGroupData"
   ]
  },
  {
   "cell_type": "code",
   "execution_count": 25,
   "metadata": {},
   "outputs": [
    {
     "data": {
      "text/plain": [
       "18700"
      ]
     },
     "execution_count": 25,
     "metadata": {},
     "output_type": "execute_result"
    }
   ],
   "source": [
    "len(node_states[1][0])"
   ]
  },
  {
   "cell_type": "code",
   "execution_count": 111,
   "metadata": {},
   "outputs": [
    {
     "data": {
      "text/plain": [
       "defaultdict(list,\n",
       "            {'Symptomatic': [8096.0,\n",
       "              8095.0,\n",
       "              8091.0,\n",
       "              8085.0,\n",
       "              8081.0,\n",
       "              8069.0,\n",
       "              8060.0,\n",
       "              8028.0,\n",
       "              7989.0,\n",
       "              7929.0,\n",
       "              7872.0,\n",
       "              7754.0,\n",
       "              7583.0,\n",
       "              7355.0,\n",
       "              7034.0,\n",
       "              6586.0,\n",
       "              5956.0,\n",
       "              5195.0,\n",
       "              4285.0,\n",
       "              3269.0],\n",
       "             'Exposed': [3.0,\n",
       "              4.0,\n",
       "              6.0,\n",
       "              11.0,\n",
       "              15.0,\n",
       "              24.0,\n",
       "              26.0,\n",
       "              52.0,\n",
       "              81.0,\n",
       "              118.0,\n",
       "              154.0,\n",
       "              225.0,\n",
       "              340.0,\n",
       "              476.0,\n",
       "              686.0,\n",
       "              979.0,\n",
       "              1370.0,\n",
       "              1812.0,\n",
       "              2315.0,\n",
       "              2830.0],\n",
       "             'Infected_Presymptomatic': [0.0,\n",
       "              0.0,\n",
       "              2.0,\n",
       "              3.0,\n",
       "              3.0,\n",
       "              6.0,\n",
       "              11.0,\n",
       "              16.0,\n",
       "              23.0,\n",
       "              39.0,\n",
       "              55.0,\n",
       "              86.0,\n",
       "              116.0,\n",
       "              177.0,\n",
       "              246.0,\n",
       "              348.0,\n",
       "              508.0,\n",
       "              721.0,\n",
       "              961.0,\n",
       "              1239.0],\n",
       "             'Infected_Symptomatic': [1.0,\n",
       "              1.0,\n",
       "              1.0,\n",
       "              1.0,\n",
       "              1.0,\n",
       "              1.0,\n",
       "              1.0,\n",
       "              2.0,\n",
       "              3.0,\n",
       "              5.0,\n",
       "              8.0,\n",
       "              17.0,\n",
       "              24.0,\n",
       "              33.0,\n",
       "              50.0,\n",
       "              70.0,\n",
       "              99.0,\n",
       "              144.0,\n",
       "              197.0,\n",
       "              266.0],\n",
       "             'Infected_Asymptomatic': [0.0,\n",
       "              0.0,\n",
       "              0.0,\n",
       "              0.0,\n",
       "              0.0,\n",
       "              0.0,\n",
       "              2.0,\n",
       "              2.0,\n",
       "              4.0,\n",
       "              9.0,\n",
       "              9.0,\n",
       "              15.0,\n",
       "              31.0,\n",
       "              47.0,\n",
       "              66.0,\n",
       "              94.0,\n",
       "              130.0,\n",
       "              179.0,\n",
       "              266.0,\n",
       "              379.0],\n",
       "             'Hospitalized': [0.0,\n",
       "              0.0,\n",
       "              0.0,\n",
       "              0.0,\n",
       "              0.0,\n",
       "              0.0,\n",
       "              0.0,\n",
       "              0.0,\n",
       "              0.0,\n",
       "              0.0,\n",
       "              0.0,\n",
       "              0.0,\n",
       "              0.0,\n",
       "              0.0,\n",
       "              1.0,\n",
       "              2.0,\n",
       "              3.0,\n",
       "              4.0,\n",
       "              5.0,\n",
       "              4.0],\n",
       "             'Recovered': [0.0,\n",
       "              0.0,\n",
       "              0.0,\n",
       "              0.0,\n",
       "              0.0,\n",
       "              0.0,\n",
       "              0.0,\n",
       "              0.0,\n",
       "              0.0,\n",
       "              0.0,\n",
       "              2.0,\n",
       "              3.0,\n",
       "              6.0,\n",
       "              12.0,\n",
       "              17.0,\n",
       "              21.0,\n",
       "              34.0,\n",
       "              45.0,\n",
       "              71.0,\n",
       "              113.0],\n",
       "             'Fatalities': [0.0,\n",
       "              0.0,\n",
       "              0.0,\n",
       "              0.0,\n",
       "              0.0,\n",
       "              0.0,\n",
       "              0.0,\n",
       "              0.0,\n",
       "              0.0,\n",
       "              0.0,\n",
       "              0.0,\n",
       "              0.0,\n",
       "              0.0,\n",
       "              0.0,\n",
       "              0.0,\n",
       "              0.0,\n",
       "              0.0,\n",
       "              0.0,\n",
       "              0.0,\n",
       "              0.0],\n",
       "             'Detected_Presymptomatic': [0.0,\n",
       "              0.0,\n",
       "              0.0,\n",
       "              0.0,\n",
       "              0.0,\n",
       "              0.0,\n",
       "              0.0,\n",
       "              0.0,\n",
       "              0.0,\n",
       "              0.0,\n",
       "              0.0,\n",
       "              0.0,\n",
       "              0.0,\n",
       "              0.0,\n",
       "              0.0,\n",
       "              0.0,\n",
       "              0.0,\n",
       "              0.0,\n",
       "              0.0,\n",
       "              0.0],\n",
       "             'Detected_Symptomatic': [0.0,\n",
       "              0.0,\n",
       "              0.0,\n",
       "              0.0,\n",
       "              0.0,\n",
       "              0.0,\n",
       "              0.0,\n",
       "              0.0,\n",
       "              0.0,\n",
       "              0.0,\n",
       "              0.0,\n",
       "              0.0,\n",
       "              0.0,\n",
       "              0.0,\n",
       "              0.0,\n",
       "              0.0,\n",
       "              0.0,\n",
       "              0.0,\n",
       "              0.0,\n",
       "              0.0],\n",
       "             'Detected_Asymptomatic': [0.0,\n",
       "              0.0,\n",
       "              0.0,\n",
       "              0.0,\n",
       "              0.0,\n",
       "              0.0,\n",
       "              0.0,\n",
       "              0.0,\n",
       "              0.0,\n",
       "              0.0,\n",
       "              0.0,\n",
       "              0.0,\n",
       "              0.0,\n",
       "              0.0,\n",
       "              0.0,\n",
       "              0.0,\n",
       "              0.0,\n",
       "              0.0,\n",
       "              0.0,\n",
       "              0.0]})"
      ]
     },
     "execution_count": 111,
     "metadata": {},
     "output_type": "execute_result"
    }
   ],
   "source": [
    "simulation_results"
   ]
  },
  {
   "cell_type": "code",
   "execution_count": null,
   "metadata": {},
   "outputs": [],
   "source": [
    "fig, ax = ref_model.figure_basic()#vlines=interventions.get_checkpoints()['t'])\n",
    "fig.savefig(f\"plots/{fig_name}_figBasic.png\")"
   ]
  },
  {
   "cell_type": "code",
   "execution_count": null,
   "metadata": {},
   "outputs": [],
   "source": [
    "fig, ax = ref_model.figure_infections()#vlines=interventions.get_checkpoints()['t'])\n",
    "fig.savefig(f\"plots/{fig_name}_figInfections.png\")"
   ]
  }
 ],
 "metadata": {
  "kernelspec": {
   "display_name": "Python 3",
   "language": "python",
   "name": "python3"
  },
  "language_info": {
   "codemirror_mode": {
    "name": "ipython",
    "version": 3
   },
   "file_extension": ".py",
   "mimetype": "text/x-python",
   "name": "python",
   "nbconvert_exporter": "python",
   "pygments_lexer": "ipython3",
   "version": "3.7.6"
  },
  "widgets": {
   "application/vnd.jupyter.widget-state+json": {
    "state": {},
    "version_major": 2,
    "version_minor": 0
   }
  }
 },
 "nbformat": 4,
 "nbformat_minor": 4
}
