{
 "cells": [
  {
   "cell_type": "markdown",
   "metadata": {},
   "source": [
    "# Network Modeling with SEIRS+ Notebook "
   ]
  },
  {
   "cell_type": "code",
   "execution_count": 1,
   "metadata": {},
   "outputs": [],
   "source": [
    "import networkx as nx\n",
    "import pandas as pd\n",
    "import numpy as np\n",
    "import matplotlib.pyplot as plt\n",
    "from scipy.stats import poisson\n",
    "from models import *\n",
    "from seirsplus.networks import *\n",
    "from seirsplus.sim_loops import *\n",
    "from seirsplus.utilities import *\n",
    "from network_utils import *\n",
    "from stats_utils import *\n",
    "from intervention_utils import *\n",
    "from camp_params import *\n",
    "import pickle as pkl"
   ]
  },
  {
   "cell_type": "code",
   "execution_count": 2,
   "metadata": {},
   "outputs": [],
   "source": [
    "n_pop = 18700\n",
    "\n",
    "# Grid info for isoboxes\n",
    "dims_isoboxes = (29, 28)  # 812\n",
    "\n",
    "# Grid info for tents\n",
    "dims_block1 = (20, 67)  # 1340\n",
    "dims_block2 = (53, 15)  # 795\n",
    "dims_block3 = (19, 28)  # 532\n",
    "\n",
    "# Isoboxes\n",
    "pop_isoboxes = 8100\n",
    "pop_per_isobox = 10\n",
    "n_isoboxes = dims_isoboxes[0]*dims_isoboxes[1]\n",
    "\n",
    "# Tents\n",
    "n_tents = 2650\n",
    "pop_tents = 10600\n",
    "pop_per_tent = 4\n",
    "\n",
    "# Others \n",
    "n_bathrooms = 144\n",
    "n_ethnic_groups = 8\n",
    "\n",
    "# We define neighboring structures within a range of 2 in the structure grid\n",
    "proximity = 2\n",
    "\n",
    "# Define the maximum population per structures (tents and isoboxes) drawn from a poisson distribution\n",
    "max_pop_per_struct = list(poisson.rvs(mu=pop_per_isobox, size=n_isoboxes))\n",
    "max_pop_per_struct = max_pop_per_struct + list(poisson.rvs(mu=pop_per_tent, size=dims_block1[0]*dims_block1[1]))\n",
    "max_pop_per_struct = max_pop_per_struct + list(poisson.rvs(mu=pop_per_tent, size=dims_block2[0]*dims_block2[1]))\n",
    "max_pop_per_struct = max_pop_per_struct + list(poisson.rvs(mu=pop_per_tent, size=dims_block3[0]*dims_block3[1]))\n",
    "\n",
    "n_structs = len(max_pop_per_struct)\n",
    "\n",
    "# Sample the population age, and parameter rates\n",
    "sample_pop = sample_population(n_pop, \"data/augmented_population.csv\")"
   ]
  },
  {
   "cell_type": "markdown",
   "metadata": {},
   "source": [
    "### 1) Load base graph for Moria"
   ]
  },
  {
   "cell_type": "code",
   "execution_count": 3,
   "metadata": {},
   "outputs": [
    {
     "name": "stderr",
     "output_type": "stream",
     "text": [
      "100%|██████████| 18700/18700 [00:20<00:00, 909.53it/s] \n"
     ]
    }
   ],
   "source": [
    "# graph, nodes_per_struct = load_graph(\"experiments/networks/Moria_wNeighbors_4\")\n",
    "\n",
    "household_weight = 0.98\n",
    "graph, nodes_per_struct = create_graph(n_structs, 0, n_pop, max_pop_per_struct, \n",
    "                                       edge_weight=household_weight, label=\"household\",\n",
    "                                       age_list=list(sample_pop[\"age\"]),\n",
    "                                       sex_list = list(sample_pop[\"sex\"]),\n",
    "                                       n_ethnicities=n_ethnic_groups)"
   ]
  },
  {
   "cell_type": "code",
   "execution_count": 4,
   "metadata": {},
   "outputs": [
    {
     "data": {
      "text/plain": [
       "<networkx.classes.graph.Graph at 0x7f46cc2bc9a0>"
      ]
     },
     "execution_count": 4,
     "metadata": {},
     "output_type": "execute_result"
    }
   ],
   "source": [
    "graph"
   ]
  },
  {
   "cell_type": "code",
   "execution_count": 5,
   "metadata": {},
   "outputs": [
    {
     "data": {
      "text/plain": [
       "(<networkx.classes.graph.Graph at 0x7f46cc2bc9a0>,\n",
       " [[758,\n",
       "   1215,\n",
       "   1971,\n",
       "   3535,\n",
       "   3730,\n",
       "   7377,\n",
       "   10658,\n",
       "   10665,\n",
       "   12702,\n",
       "   14371,\n",
       "   14748,\n",
       "   17456],\n",
       "  [4989, 8826, 11605, 11801, 12551, 14468, 15631, 16335, 16788, 17843, 18231],\n",
       "  [6867, 8946, 8985, 9285, 10151, 10215, 10297, 16751, 17654],\n",
       "  [3803, 5888, 6803, 9834, 10931, 16296],\n",
       "  [564, 8076, 9142, 15533, 15762, 17465, 18232],\n",
       "  [1136,\n",
       "   1379,\n",
       "   6170,\n",
       "   8200,\n",
       "   8326,\n",
       "   8607,\n",
       "   10324,\n",
       "   14798,\n",
       "   14825,\n",
       "   15020,\n",
       "   16519,\n",
       "   16658],\n",
       "  [3367, 14137, 15777, 18220],\n",
       "  [8793, 12361, 12614, 13729, 14809, 16116, 16703, 17119],\n",
       "  [3094, 5863, 13893, 15050, 17141, 18544],\n",
       "  [2281, 6172, 6456, 14581, 15144, 16947]])"
      ]
     },
     "execution_count": 5,
     "metadata": {},
     "output_type": "execute_result"
    }
   ],
   "source": [
    "graph, nodes_per_struct[:10]"
   ]
  },
  {
   "cell_type": "markdown",
   "metadata": {},
   "source": [
    "#### 1.1) We will add a general food queue which represents the current state of the camp"
   ]
  },
  {
   "cell_type": "code",
   "execution_count": 6,
   "metadata": {},
   "outputs": [],
   "source": [
    "food_weight = 0.407\n",
    "graph_1fq = link_nodes_by_activity(graph, nodes_per_struct, percentage_per_struct=0.5, proximity_radius=5, edge_weight=food_weight, activity_name=\"food\")"
   ]
  },
  {
   "cell_type": "markdown",
   "metadata": {},
   "source": [
    "### 2) Plot the basic network degrees"
   ]
  },
  {
   "cell_type": "code",
   "execution_count": 7,
   "metadata": {
    "tags": []
   },
   "outputs": [
    {
     "name": "stdout",
     "output_type": "stream",
     "text": [
      "Min degree: 0 Max degree: 14\n",
      "Baseline:\n",
      "Degree: mean = 5.37, std = 2.45, 95% CI = (2.00, 11.00)\n",
      "        coeff var = 0.46\n",
      "Assortativity:    1.00\n",
      "Clustering coeff: 0.98\n",
      "\n"
     ]
    },
    {
     "data": {
      "image/png": "[encoded data removed]",
      "text/plain": [
       "<Figure size 432x288 with 1 Axes>"
      ]
     },
     "metadata": {
      "needs_background": "light"
     },
     "output_type": "display_data"
    }
   ],
   "source": [
    "# Degrees without food queue, just neighbors\n",
    "min_G, max_G = min_degree(graph), max_degree(graph)\n",
    "print(\"Min degree:\", min_G, \"Max degree:\", max_G)\n",
    "# plot_degree_distn(graph, max_degree=max_G)\n",
    "network_info(graph, \"Baseline\", plot=True)"
   ]
  },
  {
   "cell_type": "code",
   "execution_count": 8,
   "metadata": {
    "tags": []
   },
   "outputs": [
    {
     "name": "stdout",
     "output_type": "stream",
     "text": [
      "Min degree: 0 Max degree: 24\n",
      "Baseline with 1 food queue:\n",
      "Degree: mean = 9.28, std = 5.46, 95% CI = (2.00, 20.00)\n",
      "        coeff var = 0.59\n",
      "Assortativity:    0.29\n",
      "Clustering coeff: 0.75\n",
      "\n"
     ]
    },
    {
     "data": {
      "image/png": "[encoded data removed]",
      "text/plain": [
       "<Figure size 432x288 with 1 Axes>"
      ]
     },
     "metadata": {
      "needs_background": "light"
     },
     "output_type": "display_data"
    }
   ],
   "source": [
    "# Degrees with 1 food queue\n",
    "min_G, max_G = min_degree(graph_1fq), max_degree(graph_1fq)\n",
    "print(\"Min degree:\", min_G, \"Max degree:\", max_G)\n",
    "# plot_degree_distn(graph_1fq, max_degree=max_G)\n",
    "network_info(graph_1fq, \"Baseline with 1 food queue\", plot=True)"
   ]
  },
  {
   "cell_type": "code",
   "execution_count": 9,
   "metadata": {},
   "outputs": [],
   "source": [
    "neighbor_weight = 0.017\n",
    "graph_1fq = link_nodes_by_property(graph_1fq, 0, n_isoboxes, nodes_per_struct,\n",
    "                              grid_isoboxes, 2, \"ethnicity\", neighbor_weight, 'friendship')\n",
    "graph_1fq = link_nodes_by_property(graph_1fq, dims_isoboxes[0]*dims_isoboxes[1], dims_block1[0]*dims_block1[1], nodes_per_struct,\n",
    "                              grid_block1, 2, \"ethnicity\", neighbor_weight, 'friendship')\n",
    "graph_1fq = link_nodes_by_property(graph_1fq, dims_block1[0]*dims_block1[1], dims_block2[0]*dims_block2[1], nodes_per_struct,\n",
    "                              grid_block2, 2, \"ethnicity\", neighbor_weight, 'friendship')\n",
    "graph_1fq = link_nodes_by_property(graph_1fq, dims_block2[0]*dims_block2[1], dims_block3[0]*dims_block3[1], nodes_per_struct,\n",
    "                              grid_block3, 2, \"ethnicity\", neighbor_weight, 'friendship')"
   ]
  },
  {
   "cell_type": "markdown",
   "metadata": {},
   "source": [
    "### 4) Define SEIRS model parameters"
   ]
  },
  {
   "cell_type": "code",
   "execution_count": 10,
   "metadata": {},
   "outputs": [],
   "source": [
    "transmission_rate = 1.28\n",
    "progression_rate = round(1/5.1, 3)\n",
    "recovery_rate = 0.056 # Approx 1/18 -> Recovery occurs after 18 days\n",
    "hosp_rate = round(1/11.4, 3) #1/6.3 # From Tucker Model\n",
    "# crit_rate = 0.3 # From camp_params\n",
    "crit_rate = list((sample_pop[\"death_rate\"] / sample_pop[\"prob_symptomatic\"]) / sample_pop[\"prob_hospitalisation\"])\n",
    "death_rate = 0.75\n",
    "\n",
    "prob_global_contact = 0.2\n",
    "prob_quarantine_global_contact = 1\n",
    "\n",
    "# prob_hosp_to_critical = list(sample_pop[\"death_rate\"]/sample_pop[\"prob_hospitalisation\"])\n",
    "prob_death = list(sample_pop[\"death_rate\"])\n",
    "prob_asymptomatic = list(1 - sample_pop[\"prob_symptomatic\"])\n",
    "prob_symp_to_hosp = list(sample_pop[\"prob_hospitalisation\"])\n",
    "\n",
    "init_symp_cases = 1\n",
    "init_asymp_cases = 1"
   ]
  },
  {
   "cell_type": "markdown",
   "metadata": {},
   "source": [
    "### 4.1) Testing out new parameters combined from seirsplus"
   ]
  },
  {
   "cell_type": "code",
   "execution_count": 11,
   "metadata": {
    "tags": []
   },
   "outputs": [
    {
     "name": "stdout",
     "output_type": "stream",
     "text": [
      "latent period:  mean = 2.21, std = 1.11, 95% CI = (0.60, 4.84)\n",
      "\n",
      "pre-symptomatic period:  mean = 3.03, std = 1.82, 95% CI = (0.58, 7.54)\n",
      "\n",
      "total incubation period:  mean = 5.24, std = 2.13, 95% CI = (1.98, 10.22)\n",
      "\n"
     ]
    },
    {
     "data": {
      "image/png": "[encoded data removed]",
      "text/plain": [
       "<Figure size 432x288 with 1 Axes>"
      ]
     },
     "metadata": {
      "needs_background": "light"
     },
     "output_type": "display_data"
    }
   ],
   "source": [
    "latentPeriod_mean, latentPeriod_coeffvar = 3.0, 0.6\n",
    "SIGMA   = 1 / gamma_dist(latentPeriod_mean, latentPeriod_coeffvar, n_pop)\n",
    "\n",
    "presymptomaticPeriod_mean, presymptomaticPeriod_coeffvar = 2.2, 0.5\n",
    "LAMDA   = 1 / gamma_dist(presymptomaticPeriod_mean, presymptomaticPeriod_coeffvar, n_pop)\n",
    "\n",
    "dist_info([1/LAMDA, 1/SIGMA, 1/LAMDA+1/SIGMA], [\"latent period\", \"pre-symptomatic period\", \"total incubation period\"], plot=True, colors=['gold', 'darkorange', 'black'], reverse_plot=True)"
   ]
  },
  {
   "cell_type": "code",
   "execution_count": 12,
   "metadata": {
    "tags": []
   },
   "outputs": [
    {
     "name": "stdout",
     "output_type": "stream",
     "text": [
      "pre-symptomatic period:  mean = 2.21, std = 1.11, 95% CI = (0.60, 4.84)\n",
      "\n",
      "(a)symptomatic period:  mean = 4.00, std = 1.60, 95% CI = (1.54, 7.63)\n",
      "\n",
      "total infectious period:  mean = 6.21, std = 1.94, 95% CI = (3.03, 10.55)\n",
      "\n"
     ]
    },
    {
     "data": {
      "image/png": "[encoded data removed]",
      "text/plain": [
       "<Figure size 432x288 with 1 Axes>"
      ]
     },
     "metadata": {
      "needs_background": "light"
     },
     "output_type": "display_data"
    }
   ],
   "source": [
    "symptomaticPeriod_mean, symptomaticPeriod_coeffvar = 4.0, 0.4\n",
    "GAMMA   = 1 / gamma_dist(symptomaticPeriod_mean, symptomaticPeriod_coeffvar, n_pop)\n",
    "\n",
    "infectiousPeriod = 1/LAMDA + 1/GAMMA\n",
    "\n",
    "dist_info([1/LAMDA, 1/GAMMA, 1/LAMDA+1/GAMMA], [\"pre-symptomatic period\", \"(a)symptomatic period\", \"total infectious period\"], plot=True, colors=['darkorange', 'crimson', 'black'], reverse_plot=True)"
   ]
  },
  {
   "cell_type": "code",
   "execution_count": 13,
   "metadata": {
    "tags": []
   },
   "outputs": [
    {
     "name": "stdout",
     "output_type": "stream",
     "text": [
      "onset-to-hospitalization period:  mean = 11.00, std = 4.96, 95% CI = (3.56, 22.69)\n",
      "\n",
      "hospitalization-to-discharge period:  mean = 10.99, std = 4.91, 95% CI = (3.59, 22.47)\n",
      "\n",
      "onset-to-discharge period:  mean = 22.00, std = 6.94, 95% CI = (10.60, 37.58)\n",
      "\n"
     ]
    },
    {
     "data": {
      "image/png": "[encoded data removed]",
      "text/plain": [
       "<Figure size 432x288 with 1 Axes>"
      ]
     },
     "metadata": {
      "needs_background": "light"
     },
     "output_type": "display_data"
    }
   ],
   "source": [
    "\n",
    "onsetToHospitalizationPeriod_mean, onsetToHospitalizationPeriod_coeffvar = 11.0, 0.45\n",
    "ETA     = 1 / gamma_dist(onsetToHospitalizationPeriod_mean, onsetToHospitalizationPeriod_coeffvar, n_pop)\n",
    "\n",
    "hospitalizationToDischargePeriod_mean, hospitalizationToDischargePeriod_coeffvar = 11.0, 0.45\n",
    "GAMMA_H = 1 / gamma_dist(hospitalizationToDischargePeriod_mean, hospitalizationToDischargePeriod_coeffvar, n_pop)\n",
    "\n",
    "dist_info([1/ETA, 1/GAMMA_H, 1/ETA+1/GAMMA_H], [\"onset-to-hospitalization period\", \"hospitalization-to-discharge period\", \"onset-to-discharge period\"], plot=True, colors=['crimson', 'violet', 'black'], reverse_plot=True)"
   ]
  },
  {
   "cell_type": "code",
   "execution_count": 14,
   "metadata": {
    "tags": []
   },
   "outputs": [
    {
     "name": "stdout",
     "output_type": "stream",
     "text": [
      "onset-to-hospitalization period:  mean = 11.00, std = 4.96, 95% CI = (3.56, 22.69)\n",
      "\n",
      "hospitalization-to-death period:  mean = 7.00, std = 3.15, 95% CI = (2.21, 14.44)\n",
      "\n",
      "onset-to-death period:  mean = 18.00, std = 5.91, 95% CI = (8.43, 31.53)\n",
      "\n"
     ]
    },
    {
     "data": {
      "image/png": "[encoded data removed]",
      "text/plain": [
       "<Figure size 432x288 with 1 Axes>"
      ]
     },
     "metadata": {
      "needs_background": "light"
     },
     "output_type": "display_data"
    }
   ],
   "source": [
    "hospitalizationToDeathPeriod_mean, hospitalizationToDeathPeriod_coeffvar = 7.0, 0.45\n",
    "MU_H    = 1 / gamma_dist(hospitalizationToDeathPeriod_mean, hospitalizationToDeathPeriod_coeffvar, n_pop)\n",
    "\n",
    "dist_info([1/ETA, 1/MU_H, 1/ETA+1/MU_H], [\"onset-to-hospitalization period\", \"hospitalization-to-death period\", \"onset-to-death period\"], plot=True, colors=['crimson', 'darkgray', 'black'], reverse_plot=True)"
   ]
  },
  {
   "cell_type": "code",
   "execution_count": 15,
   "metadata": {
    "tags": []
   },
   "outputs": [
    {
     "data": {
      "text/plain": [
       "18700"
      ]
     },
     "execution_count": 15,
     "metadata": {},
     "output_type": "execute_result"
    }
   ],
   "source": [
    "ageGroup_pctAsymp = {\"0-19\": 0.8, \"20+\": 0.2}\n",
    "PCT_ASYMPTOMATIC = get_values_per_node(ageGroup_pctAsymp, graph_1fq)\n",
    "len(PCT_ASYMPTOMATIC)"
   ]
  },
  {
   "cell_type": "code",
   "execution_count": 16,
   "metadata": {},
   "outputs": [
    {
     "data": {
      "text/plain": [
       "18700"
      ]
     },
     "execution_count": 16,
     "metadata": {},
     "output_type": "execute_result"
    }
   ],
   "source": [
    "\n",
    "ageGroup_pctHospitalized = {'0-9':      0.0000,\n",
    "                            '10-19':    0.0004,\n",
    "                            '20-29':    0.0104,\n",
    "                            '30-39':    0.0343,\n",
    "                            '40-49':    0.0425,\n",
    "                            '50-59':    0.0816,\n",
    "                            '60-69':    0.118,\n",
    "                            '70-79':    0.166,\n",
    "                            '80+':      0.184 }\n",
    "\n",
    "PCT_HOSPITALIZED = get_values_per_node(ageGroup_pctHospitalized, graph_1fq)\n",
    "len(PCT_HOSPITALIZED)"
   ]
  },
  {
   "cell_type": "code",
   "execution_count": 17,
   "metadata": {},
   "outputs": [
    {
     "data": {
      "text/plain": [
       "18700"
      ]
     },
     "execution_count": 17,
     "metadata": {},
     "output_type": "execute_result"
    }
   ],
   "source": [
    "ageGroup_hospitalFatalityRate = {'0-9':     0.0000,\n",
    "                                 '10-19':   0.3627,\n",
    "                                 '20-29':   0.0577,\n",
    "                                 '30-39':   0.0426,\n",
    "                                 '40-49':   0.0694,\n",
    "                                 '50-59':   0.1532,\n",
    "                                 '60-69':   0.3381,\n",
    "                                 '70-79':   0.5187,\n",
    "                                 '80+':     0.7283 }\n",
    "PCT_FATALITY = get_values_per_node(ageGroup_hospitalFatalityRate, graph_1fq)\n",
    "len(PCT_FATALITY)"
   ]
  },
  {
   "cell_type": "code",
   "execution_count": 18,
   "metadata": {
    "tags": []
   },
   "outputs": [
    {
     "name": "stdout",
     "output_type": "stream",
     "text": [
      "Individual R0:  mean = 2.50, std = 0.50, 95% CI = (1.62, 3.56)\n",
      "\n"
     ]
    },
    {
     "data": {
      "image/png": "[encoded data removed]",
      "text/plain": [
       "<Figure size 432x288 with 1 Axes>"
      ]
     },
     "metadata": {
      "needs_background": "light"
     },
     "output_type": "display_data"
    }
   ],
   "source": [
    "R0_mean     = 2.5\n",
    "R0_coeffvar = 0.2\n",
    "\n",
    "R0 = gamma_dist(R0_mean, R0_coeffvar, n_pop)\n",
    "\n",
    "dist_info(R0, \"Individual R0\", bin_size=0.1, plot=True, colors='crimson')"
   ]
  },
  {
   "cell_type": "code",
   "execution_count": 19,
   "metadata": {},
   "outputs": [],
   "source": [
    "BETA = 1/infectiousPeriod * R0"
   ]
  },
  {
   "cell_type": "code",
   "execution_count": 20,
   "metadata": {},
   "outputs": [],
   "source": [
    "BETA_Q = BETA * (0.3/R0_mean)"
   ]
  },
  {
   "cell_type": "code",
   "execution_count": 21,
   "metadata": {},
   "outputs": [],
   "source": [
    "BETA_PAIRWISE_MODE  = 'infected'"
   ]
  },
  {
   "cell_type": "code",
   "execution_count": 22,
   "metadata": {},
   "outputs": [],
   "source": [
    "DELTA_PAIRWISE_MODE = 'mean'"
   ]
  },
  {
   "cell_type": "code",
   "execution_count": 23,
   "metadata": {
    "tags": []
   },
   "outputs": [
    {
     "data": {
      "text/plain": [
       "18700"
      ]
     },
     "execution_count": 23,
     "metadata": {},
     "output_type": "execute_result"
    }
   ],
   "source": [
    "ageGroup_susceptibility = {\"0-19\": 0.5, \"20+\": 1.0}\n",
    "ALPHA = get_values_per_node(ageGroup_susceptibility, graph_1fq)\n",
    "len(ALPHA)"
   ]
  },
  {
   "cell_type": "code",
   "execution_count": 24,
   "metadata": {},
   "outputs": [],
   "source": [
    "P_GLOBALINTXN = 0.2\n",
    "Q_GLOBALINTXN = 0.05\n",
    "INIT_EXPOSED = int(n_pop / 100)\n",
    "INIT_INFECTED = int(n_pop / 100)"
   ]
  },
  {
   "cell_type": "code",
   "execution_count": 25,
   "metadata": {},
   "outputs": [],
   "source": [
    "node_groups = create_node_groups(graph_1fq)"
   ]
  },
  {
   "cell_type": "code",
   "execution_count": 26,
   "metadata": {},
   "outputs": [
    {
     "ename": "AttributeError",
     "evalue": "'ExtSEIRSNetworkModel' object has no attribute 'Q_I_sym'",
     "output_type": "error",
     "traceback": [
      "\u001b[0;31m---------------------------------------------------------------------------\u001b[0m",
      "\u001b[0;31mAttributeError\u001b[0m                            Traceback (most recent call last)",
      "\u001b[0;32m<ipython-input-26-b41992e9d9e2>\u001b[0m in \u001b[0;36m<module>\u001b[0;34m\u001b[0m\n\u001b[0;32m----> 1\u001b[0;31m new_model = ExtSEIRSNetworkModel(G=graph_1fq, p=P_GLOBALINTXN,\n\u001b[0m\u001b[1;32m      2\u001b[0m                               \u001b[0mbeta\u001b[0m\u001b[0;34m=\u001b[0m\u001b[0mBETA\u001b[0m\u001b[0;34m,\u001b[0m \u001b[0msigma\u001b[0m\u001b[0;34m=\u001b[0m\u001b[0mSIGMA\u001b[0m\u001b[0;34m,\u001b[0m \u001b[0mlamda\u001b[0m\u001b[0;34m=\u001b[0m\u001b[0mLAMDA\u001b[0m\u001b[0;34m,\u001b[0m \u001b[0mgamma\u001b[0m\u001b[0;34m=\u001b[0m\u001b[0mGAMMA\u001b[0m\u001b[0;34m,\u001b[0m\u001b[0;34m\u001b[0m\u001b[0;34m\u001b[0m\u001b[0m\n\u001b[1;32m      3\u001b[0m                               \u001b[0mgamma_asym\u001b[0m\u001b[0;34m=\u001b[0m\u001b[0mGAMMA\u001b[0m\u001b[0;34m,\u001b[0m \u001b[0meta\u001b[0m\u001b[0;34m=\u001b[0m\u001b[0mETA\u001b[0m\u001b[0;34m,\u001b[0m \u001b[0mgamma_H\u001b[0m\u001b[0;34m=\u001b[0m\u001b[0mGAMMA_H\u001b[0m\u001b[0;34m,\u001b[0m \u001b[0mmu_H\u001b[0m\u001b[0;34m=\u001b[0m\u001b[0mMU_H\u001b[0m\u001b[0;34m,\u001b[0m\u001b[0;34m\u001b[0m\u001b[0;34m\u001b[0m\u001b[0m\n\u001b[1;32m      4\u001b[0m                               \u001b[0ma\u001b[0m\u001b[0;34m=\u001b[0m\u001b[0mPCT_ASYMPTOMATIC\u001b[0m\u001b[0;34m,\u001b[0m \u001b[0mh\u001b[0m\u001b[0;34m=\u001b[0m\u001b[0mPCT_HOSPITALIZED\u001b[0m\u001b[0;34m,\u001b[0m \u001b[0mf\u001b[0m\u001b[0;34m=\u001b[0m\u001b[0mPCT_FATALITY\u001b[0m\u001b[0;34m,\u001b[0m\u001b[0;34m\u001b[0m\u001b[0;34m\u001b[0m\u001b[0m\n\u001b[1;32m      5\u001b[0m                               \u001b[0malpha\u001b[0m\u001b[0;34m=\u001b[0m\u001b[0mALPHA\u001b[0m\u001b[0;34m,\u001b[0m \u001b[0mbeta_pairwise_mode\u001b[0m\u001b[0;34m=\u001b[0m\u001b[0mBETA_PAIRWISE_MODE\u001b[0m\u001b[0;34m,\u001b[0m \u001b[0mdelta_pairwise_mode\u001b[0m\u001b[0;34m=\u001b[0m\u001b[0mDELTA_PAIRWISE_MODE\u001b[0m\u001b[0;34m,\u001b[0m\u001b[0;34m\u001b[0m\u001b[0;34m\u001b[0m\u001b[0m\n",
      "\u001b[0;32m/usr/local/lib/python3.8/dist-packages/seirsplus/models.py\u001b[0m in \u001b[0;36m__init__\u001b[0;34m(self, G, beta, sigma, lamda, gamma, gamma_asym, eta, gamma_H, mu_H, alpha, xi, mu_0, nu, a, h, f, p, beta_local, beta_asym, beta_asym_local, beta_pairwise_mode, delta, delta_pairwise_mode, G_Q, beta_Q, beta_Q_local, sigma_Q, lamda_Q, eta_Q, gamma_Q_sym, gamma_Q_asym, alpha_Q, delta_Q, theta_S, theta_E, theta_pre, theta_sym, theta_asym, phi_S, phi_E, phi_pre, phi_sym, phi_asym, psi_S, psi_E, psi_pre, psi_sym, psi_asym, q, isolation_time, initE, initI_pre, initI_sym, initI_asym, initH, initR, initF, initQ_S, initQ_E, initQ_pre, initQ_sym, initQ_asym, initQ_R, o, prevalence_ext, transition_mode, node_groups, store_Xseries, seed)\u001b[0m\n\u001b[1;32m   1926\u001b[0m                 \u001b[0mself\u001b[0m\u001b[0;34m.\u001b[0m\u001b[0mnodeGroupData\u001b[0m\u001b[0;34m[\u001b[0m\u001b[0mgroupName\u001b[0m\u001b[0;34m]\u001b[0m\u001b[0;34m[\u001b[0m\u001b[0;34m'numQ_E'\u001b[0m\u001b[0;34m]\u001b[0m\u001b[0;34m[\u001b[0m\u001b[0;36m0\u001b[0m\u001b[0;34m]\u001b[0m      \u001b[0;34m=\u001b[0m \u001b[0mnumpy\u001b[0m\u001b[0;34m.\u001b[0m\u001b[0mcount_nonzero\u001b[0m\u001b[0;34m(\u001b[0m\u001b[0mself\u001b[0m\u001b[0;34m.\u001b[0m\u001b[0mnodeGroupData\u001b[0m\u001b[0;34m[\u001b[0m\u001b[0mgroupName\u001b[0m\u001b[0;34m]\u001b[0m\u001b[0;34m[\u001b[0m\u001b[0;34m'mask'\u001b[0m\u001b[0;34m]\u001b[0m\u001b[0;34m*\u001b[0m\u001b[0mself\u001b[0m\u001b[0;34m.\u001b[0m\u001b[0mX\u001b[0m\u001b[0;34m==\u001b[0m\u001b[0mself\u001b[0m\u001b[0;34m.\u001b[0m\u001b[0mQ_E\u001b[0m\u001b[0;34m)\u001b[0m\u001b[0;34m\u001b[0m\u001b[0;34m\u001b[0m\u001b[0m\n\u001b[1;32m   1927\u001b[0m                 \u001b[0mself\u001b[0m\u001b[0;34m.\u001b[0m\u001b[0mnodeGroupData\u001b[0m\u001b[0;34m[\u001b[0m\u001b[0mgroupName\u001b[0m\u001b[0;34m]\u001b[0m\u001b[0;34m[\u001b[0m\u001b[0;34m'numQ_pre'\u001b[0m\u001b[0;34m]\u001b[0m\u001b[0;34m[\u001b[0m\u001b[0;36m0\u001b[0m\u001b[0;34m]\u001b[0m    \u001b[0;34m=\u001b[0m \u001b[0mnumpy\u001b[0m\u001b[0;34m.\u001b[0m\u001b[0mcount_nonzero\u001b[0m\u001b[0;34m(\u001b[0m\u001b[0mself\u001b[0m\u001b[0;34m.\u001b[0m\u001b[0mnodeGroupData\u001b[0m\u001b[0;34m[\u001b[0m\u001b[0mgroupName\u001b[0m\u001b[0;34m]\u001b[0m\u001b[0;34m[\u001b[0m\u001b[0;34m'mask'\u001b[0m\u001b[0;34m]\u001b[0m\u001b[0;34m*\u001b[0m\u001b[0mself\u001b[0m\u001b[0;34m.\u001b[0m\u001b[0mX\u001b[0m\u001b[0;34m==\u001b[0m\u001b[0mself\u001b[0m\u001b[0;34m.\u001b[0m\u001b[0mQ_pre\u001b[0m\u001b[0;34m)\u001b[0m\u001b[0;34m\u001b[0m\u001b[0;34m\u001b[0m\u001b[0m\n\u001b[0;32m-> 1928\u001b[0;31m                 \u001b[0mself\u001b[0m\u001b[0;34m.\u001b[0m\u001b[0mnodeGroupData\u001b[0m\u001b[0;34m[\u001b[0m\u001b[0mgroupName\u001b[0m\u001b[0;34m]\u001b[0m\u001b[0;34m[\u001b[0m\u001b[0;34m'numQ_I_sym'\u001b[0m\u001b[0;34m]\u001b[0m\u001b[0;34m[\u001b[0m\u001b[0;36m0\u001b[0m\u001b[0;34m]\u001b[0m  \u001b[0;34m=\u001b[0m \u001b[0mnumpy\u001b[0m\u001b[0;34m.\u001b[0m\u001b[0mcount_nonzero\u001b[0m\u001b[0;34m(\u001b[0m\u001b[0mself\u001b[0m\u001b[0;34m.\u001b[0m\u001b[0mnodeGroupData\u001b[0m\u001b[0;34m[\u001b[0m\u001b[0mgroupName\u001b[0m\u001b[0;34m]\u001b[0m\u001b[0;34m[\u001b[0m\u001b[0;34m'mask'\u001b[0m\u001b[0;34m]\u001b[0m\u001b[0;34m*\u001b[0m\u001b[0mself\u001b[0m\u001b[0;34m.\u001b[0m\u001b[0mX\u001b[0m\u001b[0;34m==\u001b[0m\u001b[0mself\u001b[0m\u001b[0;34m.\u001b[0m\u001b[0mQ_I_sym\u001b[0m\u001b[0;34m)\u001b[0m\u001b[0;34m\u001b[0m\u001b[0;34m\u001b[0m\u001b[0m\n\u001b[0m\u001b[1;32m   1929\u001b[0m                 \u001b[0mself\u001b[0m\u001b[0;34m.\u001b[0m\u001b[0mnodeGroupData\u001b[0m\u001b[0;34m[\u001b[0m\u001b[0mgroupName\u001b[0m\u001b[0;34m]\u001b[0m\u001b[0;34m[\u001b[0m\u001b[0;34m'numQ_I_asym'\u001b[0m\u001b[0;34m]\u001b[0m\u001b[0;34m[\u001b[0m\u001b[0;36m0\u001b[0m\u001b[0;34m]\u001b[0m \u001b[0;34m=\u001b[0m \u001b[0mnumpy\u001b[0m\u001b[0;34m.\u001b[0m\u001b[0mcount_nonzero\u001b[0m\u001b[0;34m(\u001b[0m\u001b[0mself\u001b[0m\u001b[0;34m.\u001b[0m\u001b[0mnodeGroupData\u001b[0m\u001b[0;34m[\u001b[0m\u001b[0mgroupName\u001b[0m\u001b[0;34m]\u001b[0m\u001b[0;34m[\u001b[0m\u001b[0;34m'mask'\u001b[0m\u001b[0;34m]\u001b[0m\u001b[0;34m*\u001b[0m\u001b[0mself\u001b[0m\u001b[0;34m.\u001b[0m\u001b[0mX\u001b[0m\u001b[0;34m==\u001b[0m\u001b[0mself\u001b[0m\u001b[0;34m.\u001b[0m\u001b[0mQ_I_asym\u001b[0m\u001b[0;34m)\u001b[0m\u001b[0;34m\u001b[0m\u001b[0;34m\u001b[0m\u001b[0m\n\u001b[1;32m   1930\u001b[0m                 \u001b[0mself\u001b[0m\u001b[0;34m.\u001b[0m\u001b[0mnodeGroupData\u001b[0m\u001b[0;34m[\u001b[0m\u001b[0mgroupName\u001b[0m\u001b[0;34m]\u001b[0m\u001b[0;34m[\u001b[0m\u001b[0;34m'numQ_R'\u001b[0m\u001b[0;34m]\u001b[0m\u001b[0;34m[\u001b[0m\u001b[0;36m0\u001b[0m\u001b[0;34m]\u001b[0m      \u001b[0;34m=\u001b[0m \u001b[0mnumpy\u001b[0m\u001b[0;34m.\u001b[0m\u001b[0mcount_nonzero\u001b[0m\u001b[0;34m(\u001b[0m\u001b[0mself\u001b[0m\u001b[0;34m.\u001b[0m\u001b[0mnodeGroupData\u001b[0m\u001b[0;34m[\u001b[0m\u001b[0mgroupName\u001b[0m\u001b[0;34m]\u001b[0m\u001b[0;34m[\u001b[0m\u001b[0;34m'mask'\u001b[0m\u001b[0;34m]\u001b[0m\u001b[0;34m*\u001b[0m\u001b[0mself\u001b[0m\u001b[0;34m.\u001b[0m\u001b[0mX\u001b[0m\u001b[0;34m==\u001b[0m\u001b[0mself\u001b[0m\u001b[0;34m.\u001b[0m\u001b[0mQ_E\u001b[0m\u001b[0;34m)\u001b[0m\u001b[0;34m\u001b[0m\u001b[0;34m\u001b[0m\u001b[0m\n",
      "\u001b[0;31mAttributeError\u001b[0m: 'ExtSEIRSNetworkModel' object has no attribute 'Q_I_sym'"
     ]
    }
   ],
   "source": [
    "new_model = ExtSEIRSNetworkModel(G=graph_1fq, p=P_GLOBALINTXN,\n",
    "                              beta=BETA, sigma=SIGMA, lamda=LAMDA, gamma=GAMMA, \n",
    "                              gamma_asym=GAMMA, eta=ETA, gamma_H=GAMMA_H, mu_H=MU_H, \n",
    "                              a=PCT_ASYMPTOMATIC, h=PCT_HOSPITALIZED, f=PCT_FATALITY,              \n",
    "                              alpha=ALPHA, beta_pairwise_mode=BETA_PAIRWISE_MODE, delta_pairwise_mode=DELTA_PAIRWISE_MODE,\n",
    "                              initE=INIT_EXPOSED, node_groups=node_groups)"
   ]
  },
  {
   "cell_type": "code",
   "execution_count": null,
   "metadata": {
    "jupyter": {
     "outputs_hidden": true
    },
    "scrolled": true,
    "tags": []
   },
   "outputs": [],
   "source": [
    "t_steps = 10\n",
    "node_states, simulation_results = run_simulation(new_model, t_steps)"
   ]
  },
  {
   "cell_type": "code",
   "execution_count": null,
   "metadata": {},
   "outputs": [],
   "source": [
    "results_to_df(simulation_results)"
   ]
  },
  {
   "cell_type": "code",
   "execution_count": 51,
   "metadata": {},
   "outputs": [
    {
     "data": {
      "text/plain": [
       "200.44164796691632"
      ]
     },
     "execution_count": 51,
     "metadata": {},
     "output_type": "execute_result"
    }
   ],
   "source": [
    "new_model.t"
   ]
  },
  {
   "cell_type": "code",
   "execution_count": 28,
   "metadata": {},
   "outputs": [],
   "source": [
    "# Model name for storage + store the model params in csv\n",
    "i = 0  # This is a number assigned to identify a particular network\n",
    "param_combo_i = 99  # This is a number assigned to identify a particular combination of parameters\n",
    "fig_name = f\"BaseSympModel{i}_{param_combo_i}\"\n",
    "# add_model_name(\"experiments/model_names.csv\", fig_name, household_weight, neighbor_weight, food_weight, BETA, GAMMA, LAMBDA, PCT_HOSPITALIZED, round(sum(crit_rate)/len(crit_rate), 3), death_rate, init_symp_cases, init_asymp_cases, t_steps)\n",
    "# Construct results dataframe\n",
    "output_df = results_to_df(simulation_results, store=True, store_name=f\"experiments/results/{fig_name}.csv\")"
   ]
  },
  {
   "cell_type": "code",
   "execution_count": 29,
   "metadata": {},
   "outputs": [
    {
     "data": {
      "text/html": [
       "<div>\n",
       "<style scoped>\n",
       "    .dataframe tbody tr th:only-of-type {\n",
       "        vertical-align: middle;\n",
       "    }\n",
       "\n",
       "    .dataframe tbody tr th {\n",
       "        vertical-align: top;\n",
       "    }\n",
       "\n",
       "    .dataframe thead th {\n",
       "        text-align: right;\n",
       "    }\n",
       "</style>\n",
       "<table border=\"1\" class=\"dataframe\">\n",
       "  <thead>\n",
       "    <tr style=\"text-align: right;\">\n",
       "      <th></th>\n",
       "      <th>Susceptible</th>\n",
       "      <th>Exposed</th>\n",
       "      <th>Infected_Presymptomatic</th>\n",
       "      <th>Infected_Symptomatic</th>\n",
       "      <th>Infected_Asymptomatic</th>\n",
       "      <th>Hospitalized</th>\n",
       "      <th>Recovered</th>\n",
       "      <th>Fatalities</th>\n",
       "      <th>T_index</th>\n",
       "      <th>Time</th>\n",
       "    </tr>\n",
       "  </thead>\n",
       "  <tbody>\n",
       "    <tr>\n",
       "      <th>0</th>\n",
       "      <td>0.0</td>\n",
       "      <td>0.0</td>\n",
       "      <td>0.0</td>\n",
       "      <td>0.0</td>\n",
       "      <td>0.0</td>\n",
       "      <td>0.0</td>\n",
       "      <td>0.0</td>\n",
       "      <td>0.0</td>\n",
       "      <td>1</td>\n",
       "      <td>1</td>\n",
       "    </tr>\n",
       "    <tr>\n",
       "      <th>1</th>\n",
       "      <td>0.0</td>\n",
       "      <td>0.0</td>\n",
       "      <td>0.0</td>\n",
       "      <td>0.0</td>\n",
       "      <td>0.0</td>\n",
       "      <td>0.0</td>\n",
       "      <td>0.0</td>\n",
       "      <td>0.0</td>\n",
       "      <td>2</td>\n",
       "      <td>2</td>\n",
       "    </tr>\n",
       "    <tr>\n",
       "      <th>2</th>\n",
       "      <td>0.0</td>\n",
       "      <td>0.0</td>\n",
       "      <td>0.0</td>\n",
       "      <td>0.0</td>\n",
       "      <td>0.0</td>\n",
       "      <td>0.0</td>\n",
       "      <td>0.0</td>\n",
       "      <td>0.0</td>\n",
       "      <td>3</td>\n",
       "      <td>3</td>\n",
       "    </tr>\n",
       "    <tr>\n",
       "      <th>3</th>\n",
       "      <td>0.0</td>\n",
       "      <td>0.0</td>\n",
       "      <td>0.0</td>\n",
       "      <td>0.0</td>\n",
       "      <td>0.0</td>\n",
       "      <td>0.0</td>\n",
       "      <td>0.0</td>\n",
       "      <td>0.0</td>\n",
       "      <td>4</td>\n",
       "      <td>4</td>\n",
       "    </tr>\n",
       "    <tr>\n",
       "      <th>4</th>\n",
       "      <td>0.0</td>\n",
       "      <td>0.0</td>\n",
       "      <td>0.0</td>\n",
       "      <td>0.0</td>\n",
       "      <td>0.0</td>\n",
       "      <td>0.0</td>\n",
       "      <td>0.0</td>\n",
       "      <td>0.0</td>\n",
       "      <td>5</td>\n",
       "      <td>5</td>\n",
       "    </tr>\n",
       "    <tr>\n",
       "      <th>...</th>\n",
       "      <td>...</td>\n",
       "      <td>...</td>\n",
       "      <td>...</td>\n",
       "      <td>...</td>\n",
       "      <td>...</td>\n",
       "      <td>...</td>\n",
       "      <td>...</td>\n",
       "      <td>...</td>\n",
       "      <td>...</td>\n",
       "      <td>...</td>\n",
       "    </tr>\n",
       "    <tr>\n",
       "      <th>38591</th>\n",
       "      <td>0.0</td>\n",
       "      <td>0.0</td>\n",
       "      <td>0.0</td>\n",
       "      <td>0.0</td>\n",
       "      <td>0.0</td>\n",
       "      <td>0.0</td>\n",
       "      <td>0.0</td>\n",
       "      <td>0.0</td>\n",
       "      <td>38592</td>\n",
       "      <td>38592</td>\n",
       "    </tr>\n",
       "    <tr>\n",
       "      <th>38592</th>\n",
       "      <td>0.0</td>\n",
       "      <td>0.0</td>\n",
       "      <td>0.0</td>\n",
       "      <td>0.0</td>\n",
       "      <td>0.0</td>\n",
       "      <td>0.0</td>\n",
       "      <td>0.0</td>\n",
       "      <td>0.0</td>\n",
       "      <td>38593</td>\n",
       "      <td>38593</td>\n",
       "    </tr>\n",
       "    <tr>\n",
       "      <th>38593</th>\n",
       "      <td>0.0</td>\n",
       "      <td>0.0</td>\n",
       "      <td>0.0</td>\n",
       "      <td>0.0</td>\n",
       "      <td>0.0</td>\n",
       "      <td>0.0</td>\n",
       "      <td>0.0</td>\n",
       "      <td>0.0</td>\n",
       "      <td>38594</td>\n",
       "      <td>38594</td>\n",
       "    </tr>\n",
       "    <tr>\n",
       "      <th>38594</th>\n",
       "      <td>0.0</td>\n",
       "      <td>0.0</td>\n",
       "      <td>0.0</td>\n",
       "      <td>0.0</td>\n",
       "      <td>0.0</td>\n",
       "      <td>0.0</td>\n",
       "      <td>0.0</td>\n",
       "      <td>0.0</td>\n",
       "      <td>38595</td>\n",
       "      <td>38595</td>\n",
       "    </tr>\n",
       "    <tr>\n",
       "      <th>38595</th>\n",
       "      <td>9047.0</td>\n",
       "      <td>3.0</td>\n",
       "      <td>0.0</td>\n",
       "      <td>6.0</td>\n",
       "      <td>1.0</td>\n",
       "      <td>0.0</td>\n",
       "      <td>9622.0</td>\n",
       "      <td>21.0</td>\n",
       "      <td>38596</td>\n",
       "      <td>38596</td>\n",
       "    </tr>\n",
       "  </tbody>\n",
       "</table>\n",
       "<p>38596 rows × 10 columns</p>\n",
       "</div>"
      ],
      "text/plain": [
       "       Susceptible  Exposed  Infected_Presymptomatic  Infected_Symptomatic  \\\n",
       "0              0.0      0.0                      0.0                   0.0   \n",
       "1              0.0      0.0                      0.0                   0.0   \n",
       "2              0.0      0.0                      0.0                   0.0   \n",
       "3              0.0      0.0                      0.0                   0.0   \n",
       "4              0.0      0.0                      0.0                   0.0   \n",
       "...            ...      ...                      ...                   ...   \n",
       "38591          0.0      0.0                      0.0                   0.0   \n",
       "38592          0.0      0.0                      0.0                   0.0   \n",
       "38593          0.0      0.0                      0.0                   0.0   \n",
       "38594          0.0      0.0                      0.0                   0.0   \n",
       "38595       9047.0      3.0                      0.0                   6.0   \n",
       "\n",
       "       Infected_Asymptomatic  Hospitalized  Recovered  Fatalities  T_index  \\\n",
       "0                        0.0           0.0        0.0         0.0        1   \n",
       "1                        0.0           0.0        0.0         0.0        2   \n",
       "2                        0.0           0.0        0.0         0.0        3   \n",
       "3                        0.0           0.0        0.0         0.0        4   \n",
       "4                        0.0           0.0        0.0         0.0        5   \n",
       "...                      ...           ...        ...         ...      ...   \n",
       "38591                    0.0           0.0        0.0         0.0    38592   \n",
       "38592                    0.0           0.0        0.0         0.0    38593   \n",
       "38593                    0.0           0.0        0.0         0.0    38594   \n",
       "38594                    0.0           0.0        0.0         0.0    38595   \n",
       "38595                    1.0           0.0     9622.0        21.0    38596   \n",
       "\n",
       "        Time  \n",
       "0          1  \n",
       "1          2  \n",
       "2          3  \n",
       "3          4  \n",
       "4          5  \n",
       "...      ...  \n",
       "38591  38592  \n",
       "38592  38593  \n",
       "38593  38594  \n",
       "38594  38595  \n",
       "38595  38596  \n",
       "\n",
       "[38596 rows x 10 columns]"
      ]
     },
     "execution_count": 29,
     "metadata": {},
     "output_type": "execute_result"
    }
   ],
   "source": [
    "output_df"
   ]
  },
  {
   "cell_type": "code",
   "execution_count": 30,
   "metadata": {},
   "outputs": [
    {
     "data": {
      "image/png": "[encoded data removed]",
      "text/plain": [
       "<Figure size 864x576 with 1 Axes>"
      ]
     },
     "metadata": {
      "needs_background": "light"
     },
     "output_type": "display_data"
    },
    {
     "data": {
      "image/png": "[encoded data removed]",
      "text/plain": [
       "<Figure size 864x576 with 1 Axes>"
      ]
     },
     "metadata": {},
     "output_type": "display_data"
    },
    {
     "data": {
      "text/plain": [
       "38596"
      ]
     },
     "execution_count": 30,
     "metadata": {},
     "output_type": "execute_result"
    }
   ],
   "source": [
    "new_model.figure_infections()\n",
    "new_model.figure_basic()\n",
    "new_model.tidx"
   ]
  },
  {
   "cell_type": "markdown",
   "metadata": {},
   "source": [
    "### 5) Running the base model"
   ]
  },
  {
   "cell_type": "code",
   "execution_count": null,
   "metadata": {},
   "outputs": [],
   "source": [
    "# Model construction\n",
    "ref_model = ExtSEIRSNetworkModel(G=graph_1fq, p=prob_global_contact, beta=transmission_rate, sigma=progression_rate, gamma=recovery_rate, lamda=progression_rate, mu_H=crit_rate, eta=hosp_rate, a=prob_asymptomatic, f=death_rate, h=prob_symp_to_hosp, initI_sym=init_symp_cases, initI_asym=init_asymp_cases, store_Xseries=True)"
   ]
  },
  {
   "cell_type": "code",
   "execution_count": null,
   "metadata": {
    "tags": []
   },
   "outputs": [],
   "source": [
    "t_steps = 200\n",
    "node_states, simulation_results = run_simulation(ref_model, t_steps)"
   ]
  },
  {
   "cell_type": "code",
   "execution_count": null,
   "metadata": {},
   "outputs": [],
   "source": [
    "sim = pd.DataFrame(simulation_results)\n",
    "sim"
   ]
  },
  {
   "cell_type": "code",
   "execution_count": null,
   "metadata": {},
   "outputs": [],
   "source": [
    "# Model name for storage + store the model params in csv\n",
    "i = 0  # This is a number assigned to identify a particular network\n",
    "param_combo_i = 0  # This is a number assigned to identify a particular combination of parameters\n",
    "fig_name = f\"BaseSympModel{i}_{param_combo_i}\"\n",
    "add_model_name(\"experiments/model_names.csv\", fig_name, household_weight, neighbor_weight, food_weight, transmission_rate, recovery_rate, progression_rate, hosp_rate, round(sum(crit_rate)/len(crit_rate), 3), death_rate, init_symp_cases, init_asymp_cases, t_steps)"
   ]
  },
  {
   "cell_type": "code",
   "execution_count": null,
   "metadata": {},
   "outputs": [],
   "source": [
    "#here we set up a parallel computing to run experiments in parallel and aggregate the results"
   ]
  },
  {
   "cell_type": "code",
   "execution_count": null,
   "metadata": {},
   "outputs": [],
   "source": [
    "# Construct results dataframe\n",
    "output_df = results_to_df(simulation_results, store=True, store_name=f\"experiments/results/{fig_name}.csv\")"
   ]
  },
  {
   "cell_type": "code",
   "execution_count": null,
   "metadata": {},
   "outputs": [],
   "source": [
    "output_df"
   ]
  },
  {
   "cell_type": "code",
   "execution_count": null,
   "metadata": {},
   "outputs": [],
   "source": [
    "fig, ax = ref_model.figure_basic()#vlines=interventions.get_checkpoints()['t'])\n",
    "fig.savefig(f\"plots/{fig_name}_figBasic.png\")"
   ]
  },
  {
   "cell_type": "markdown",
   "metadata": {},
   "source": [
    "### 6) Define Interventions\n",
    "\n",
    "With the interventions module, we can create an intervention with just a time step and a custom network referring to that intervention, as well as remove/edit them from the list. The method get_checkpoints() will allow us to get the dictionary to be fed to the SEIRS+ model"
   ]
  },
  {
   "cell_type": "markdown",
   "metadata": {},
   "source": [
    "#### 6.1) First, define the intervention graphs"
   ]
  },
  {
   "cell_type": "code",
   "execution_count": null,
   "metadata": {},
   "outputs": [],
   "source": [
    "# This is social distancing within the food queue \n",
    "distancing_graph = remove_edges_from_graph(graph_1fq, scale=10, edge_label_list=[\"food\"], min_num_edges=4)\n",
    "\n",
    "# This also includes neighbor/friendship edges\n",
    "quarantine_graph = remove_edges_from_graph(graph_1fq, scale=2, edge_label_list=[\"food\", \"friendship\"], min_num_edges=2)\n",
    "\n",
    "# Create graphs with multiple sectoring of food queues - in this case, 1 and 2 queues per each block (4 and 8 food queues respectively)\n",
    "graph_4fq = create_multiple_food_queues(graph, 1, food_weight, nodes_per_struct, [grid_isoboxes, grid_block1, grid_block2, grid_block3])\n",
    "graph_8fq = create_multiple_food_queues(graph, 2, food_weight, nodes_per_struct, [grid_isoboxes, grid_block1, grid_block2, grid_block3])\n",
    "\n",
    "# Create quarantine graphs for the sectored graphs\n",
    "quarantine_graph_4fq = remove_edges_from_graph(graph_4fq, scale=2, edge_label_list=[f\"food_{i}\" for i in range(4)] + [\"friendship\"], min_num_edges=2)\n",
    "quarantine_graph_8fq = remove_edges_from_graph(graph_8fq, scale=2, edge_label_list=[f\"food_{i}\" for i in range(8)] + [\"friendship\"], min_num_edges=2)"
   ]
  },
  {
   "cell_type": "code",
   "execution_count": null,
   "metadata": {},
   "outputs": [],
   "source": [
    "min_D, max_D = min_degree(distancing_graph), max_degree(distancing_graph)\n",
    "print(\"Min degree:\", min_D, \"Max degree:\", max_D)\n",
    "\n",
    "# As we can see, there isn't much of a difference when we only cut food-queue interactions, \n",
    "# which means we need a harder distancing policy\n",
    "plot_degree_distn(distancing_graph, max_degree=max_D)"
   ]
  },
  {
   "cell_type": "code",
   "execution_count": null,
   "metadata": {},
   "outputs": [],
   "source": [
    "min_Q, max_Q = min_degree(quarantine_graph), max_degree(quarantine_graph)\n",
    "print(\"Min degree:\", min_Q, \"Max degree:\", max_Q)\n",
    "\n",
    "plot_degree_distn(quarantine_graph, max_degree=max_Q)"
   ]
  },
  {
   "cell_type": "code",
   "execution_count": null,
   "metadata": {},
   "outputs": [],
   "source": [
    "# 4 food queues \n",
    "min_4fq, max_4fq = min_degree(graph_4fq), max_degree(graph_4fq)\n",
    "print(\"Min degree:\", min_4fq, \"Max degree:\", max_4fq)\n",
    "\n",
    "plot_degree_distn(quarantine_graph, max_degree=max_4fq)"
   ]
  },
  {
   "cell_type": "code",
   "execution_count": null,
   "metadata": {},
   "outputs": [],
   "source": [
    "# 8 food queues\n",
    "min_8fq, max_8fq = min_degree(graph_8fq), max_degree(graph_8fq)\n",
    "print(\"Min degree:\", min_8fq, \"Max degree:\", max_8fq)\n",
    "\n",
    "plot_degree_distn(quarantine_graph, max_degree=max_8fq)"
   ]
  },
  {
   "cell_type": "markdown",
   "metadata": {},
   "source": [
    "#### 6.2) Construct the checkpoints"
   ]
  },
  {
   "cell_type": "code",
   "execution_count": null,
   "metadata": {},
   "outputs": [],
   "source": [
    "interventions = Interventions()\n",
    "reduction_percentage = 0.5\n",
    "\n",
    "# Simulate quarantine + masks\n",
    "q_start = 0\n",
    "interventions.add(quarantine_graph, q_start, beta=transmission_rate*reduction_percentage)\n",
    "\n",
    "# Simulate HALT of quarantine but people still have to wear masks\n",
    "q_end = 150\n",
    "interventions.add(graph_1fq, q_end, beta=transmission_rate*reduction_percentage)\n",
    "\n",
    "# Simulate HALT of wearing masks\n",
    "m_end = 200\n",
    "interventions.add(graph_1fq, m_end, beta=transmission_rate)\n",
    "\n",
    "checkpoints = interventions.get_checkpoints()"
   ]
  },
  {
   "cell_type": "markdown",
   "metadata": {},
   "source": [
    "### 7) Running the model with interventions"
   ]
  },
  {
   "cell_type": "code",
   "execution_count": null,
   "metadata": {},
   "outputs": [],
   "source": [
    "# Model construction with interventions on the model with 1 food queue\n",
    "interventions_model = ExtSEIRSNetworkModel(G=graph_1fq, Q=quarantine_graph, p=prob_global_contact, q=prob_quarantine_global_contact, beta=transmission_rate, sigma=progression_rate, gamma=recovery_rate, lamda=progression_rate, mu_H=crit_rate, eta=hosp_rate, a=prob_asymptomatic, f=death_rate, h=prob_symp_to_hosp, initI_sym=init_symp_cases, initI_asym=init_asymp_cases, store_Xseries=True)"
   ]
  },
  {
   "cell_type": "code",
   "execution_count": null,
   "metadata": {},
   "outputs": [],
   "source": [
    "t_steps = 200\n",
    "intervention_node_states, intervention_results = run_simulation(interventions_model, t_steps, checkpoints)"
   ]
  },
  {
   "cell_type": "code",
   "execution_count": null,
   "metadata": {},
   "outputs": [],
   "source": [
    "# Model name for storage + store the model params in csv\n",
    "i, param_combo_i = 0, 0\n",
    "fig_name = f\"InterventionsBaseModel{i}_{param_combo_i}\"\n",
    "add_model_name(\"experiments/model_names.csv\", fig_name, household_weight, neighbor_weight, food_weight, transmission_rate, recovery_rate, progression_rate, hosp_rate, round(sum(crit_rate)/len(crit_rate), 3), death_rate, init_symp_cases, init_asymp_cases, t_steps, f\"{q_start}-{q_end}\", reduction_percentage, f\"{q_start}-{m_end}\")\n"
   ]
  },
  {
   "cell_type": "code",
   "execution_count": null,
   "metadata": {},
   "outputs": [],
   "source": [
    "output_df = results_to_df(intervention_results, store=True, store_name=f\"experiments/results/{fig_name}.csv\")"
   ]
  },
  {
   "cell_type": "code",
   "execution_count": null,
   "metadata": {},
   "outputs": [],
   "source": [
    "output_df"
   ]
  },
  {
   "cell_type": "code",
   "execution_count": null,
   "metadata": {},
   "outputs": [],
   "source": [
    "fig, ax = interventions_model.figure_basic()#vlines=interventions.get_checkpoints()['t'])\n",
    "# fig.savefig(f\"plots/{fig_name}_figBasic.png\")"
   ]
  },
  {
   "cell_type": "markdown",
   "metadata": {},
   "source": [
    "#### 7.1) Running the base model with multiple food queues"
   ]
  },
  {
   "cell_type": "code",
   "execution_count": null,
   "metadata": {},
   "outputs": [],
   "source": [
    "# Model construction for multiple food queues but no more interventions\n",
    "model_4fq = ExtSEIRSNetworkModel(G=graph_4fq, p=prob_global_contact, beta=transmission_rate, sigma=progression_rate, gamma=recovery_rate, lamda=progression_rate, mu_H=crit_rate, eta=hosp_rate, a=prob_asymptomatic, f=death_rate, h=prob_symp_to_hosp, initI_sym=init_symp_cases, initI_asym=init_asymp_cases, store_Xseries=True)\n",
    "\n",
    "model_8fq = ExtSEIRSNetworkModel(G=graph_8fq, p=prob_global_contact, beta=transmission_rate, sigma=progression_rate, gamma=recovery_rate, lamda=progression_rate, mu_H=crit_rate, eta=hosp_rate, a=prob_asymptomatic, f=death_rate, h=prob_symp_to_hosp, initI_sym=init_symp_cases, initI_asym=init_asymp_cases, store_Xseries=True)"
   ]
  },
  {
   "cell_type": "code",
   "execution_count": null,
   "metadata": {},
   "outputs": [],
   "source": [
    "t_steps = 200\n",
    "node_states, simulation_results_4fq = run_simulation(model_4fq, t_steps)"
   ]
  },
  {
   "cell_type": "code",
   "execution_count": null,
   "metadata": {},
   "outputs": [],
   "source": [
    "# Model name for storage\n",
    "food_queue_number = 4\n",
    "i = 0\n",
    "fig_name = f\"MultFQ{food_queue_number}_Model{i}\"\n",
    "\n",
    "add_model_name(\"experiments/model_names.csv\", fig_name, household_weight, neighbor_weight, food_weight, transmission_rate, recovery_rate, progression_rate, hosp_rate, round(sum(crit_rate)/len(crit_rate), 3), death_rate, init_symp_cases, init_asymp_cases, t_steps)\n",
    "\t\t\t"
   ]
  },
  {
   "cell_type": "code",
   "execution_count": null,
   "metadata": {},
   "outputs": [],
   "source": [
    "output_df = results_to_df(simulation_results_4fq, store=True, store_name=f\"experiments/results/{fig_name}.csv\")\n"
   ]
  },
  {
   "cell_type": "code",
   "execution_count": null,
   "metadata": {},
   "outputs": [],
   "source": [
    "output_df"
   ]
  },
  {
   "cell_type": "code",
   "execution_count": null,
   "metadata": {},
   "outputs": [],
   "source": [
    "fig, ax = model_4fq.figure_basic()#vlines=interventions.get_checkpoints()['t'])\n",
    "# fig.savefig(f\"plots/{fig_name}_figBasic.png\")"
   ]
  },
  {
   "cell_type": "code",
   "execution_count": null,
   "metadata": {},
   "outputs": [],
   "source": [
    "t_steps = 200\n",
    "node_states, simulation_results_8fq = run_simulation(model_8fq, t_steps)"
   ]
  },
  {
   "cell_type": "code",
   "execution_count": null,
   "metadata": {},
   "outputs": [],
   "source": [
    "food_queue_number = 8\n",
    "i = 0\n",
    "fig_name = f\"MultFQ{food_queue_number}_Model{i}\"\n",
    "\n",
    "add_model_name(\"experiments/model_names.csv\", fig_name, household_weight, neighbor_weight, food_weight, transmission_rate, recovery_rate, progression_rate, hosp_rate, round(sum(crit_rate)/len(crit_rate), 3), death_rate, init_symp_cases, init_asymp_cases, t_steps)\n",
    "\t"
   ]
  },
  {
   "cell_type": "code",
   "execution_count": null,
   "metadata": {},
   "outputs": [],
   "source": [
    "output_df = results_to_df(simulation_results_8fq, store=True, store_name=f\"experiments/results/{fig_name}.csv\")\n"
   ]
  },
  {
   "cell_type": "code",
   "execution_count": null,
   "metadata": {},
   "outputs": [],
   "source": [
    "output_df"
   ]
  },
  {
   "cell_type": "code",
   "execution_count": null,
   "metadata": {},
   "outputs": [],
   "source": [
    "fig, ax = model_8fq.figure_basic()#vlines=interventions.get_checkpoints()['t'])\n",
    "# fig.savefig(f\"plots/{fig_name}_figBasic.png\")"
   ]
  },
  {
   "cell_type": "markdown",
   "metadata": {},
   "source": [
    "#### 7.2) Running the multiple food queues model with interventions"
   ]
  },
  {
   "cell_type": "code",
   "execution_count": null,
   "metadata": {},
   "outputs": [],
   "source": [
    "# Model construction for multiple food queues in addition to other interventions\n",
    "interventions_model_4fq = ExtSEIRSNetworkModel(G=graph_4fq, Q=quarantine_graph_4fq, p=prob_global_contact, q=prob_quarantine_global_contact, beta=transmission_rate, sigma=progression_rate, gamma=recovery_rate, lamda=progression_rate, mu_H=crit_rate, eta=hosp_rate, a=prob_asymptomatic, f=death_rate, h=prob_symp_to_hosp, initI_sym=init_symp_cases, initI_asym=init_asymp_cases, store_Xseries=True)\n",
    "\n",
    "interventions_model_8fq = ExtSEIRSNetworkModel(G=graph_8fq, Q=quarantine_graph_8fq, p=prob_global_contact, q=prob_quarantine_global_contact, beta=transmission_rate, sigma=progression_rate, gamma=recovery_rate, lamda=progression_rate, mu_H=crit_rate, eta=hosp_rate, a=prob_asymptomatic, f=death_rate, h=prob_symp_to_hosp, initI_sym=init_symp_cases, initI_asym=init_asymp_cases, store_Xseries=True)"
   ]
  },
  {
   "cell_type": "code",
   "execution_count": null,
   "metadata": {},
   "outputs": [],
   "source": [
    "## Interventions for graph with 4 food queues \n",
    "interventions.clear()\n",
    "\n",
    "# Amount by which wearing masks reduces the transmission rate\n",
    "reduction_percentage = 0.3\n",
    "\n",
    "# Simulate quarantine + masks\n",
    "q_start = 0\n",
    "interventions.add(quarantine_graph_4fq, q_start, beta=transmission_rate*reduction_percentage)\n",
    "\n",
    "# Simulate HALT of quarantine but people still have to wear masks\n",
    "q_end = 150\n",
    "interventions.add(graph_4fq, q_end, beta=transmission_rate*reduction_percentage)\n",
    "\n",
    "# Simulate HALT of wearing masks\n",
    "m_end = 200\n",
    "interventions.add(graph_4fq, m_end, beta=transmission_rate)\n",
    "\n",
    "checkpoints = interventions.get_checkpoints()"
   ]
  },
  {
   "cell_type": "code",
   "execution_count": null,
   "metadata": {},
   "outputs": [],
   "source": [
    "t_steps = 200\n",
    "node_states, intervention_results_4fq = run_simulation(interventions_model_4fq, t_steps)"
   ]
  },
  {
   "cell_type": "code",
   "execution_count": null,
   "metadata": {},
   "outputs": [],
   "source": [
    "# Model name for storage - adjust accordingly to interventions\n",
    "i = 0\n",
    "food_queue_number = 4\n",
    "fig_name = f\"InterventionsMultFQ{food_queue_number}_Model{i}\"\n",
    "\n",
    "add_model_name(\"experiments/model_names.csv\", fig_name, household_weight, neighbor_weight, food_weight, transmission_rate, recovery_rate, progression_rate, hosp_rate, round(sum(crit_rate)/len(crit_rate), 3), death_rate, init_symp_cases, init_asymp_cases, t_steps, f\"{q_start}-{q_end}\", reduction_percentage, f\"{q_start}-{m_end}\")\n"
   ]
  },
  {
   "cell_type": "code",
   "execution_count": null,
   "metadata": {},
   "outputs": [],
   "source": [
    "output_df = results_to_df(intervention_results_4fq, store=True, store_name=f\"experiments/results/{fig_name}.csv\")"
   ]
  },
  {
   "cell_type": "code",
   "execution_count": null,
   "metadata": {},
   "outputs": [],
   "source": [
    "output_df"
   ]
  },
  {
   "cell_type": "code",
   "execution_count": null,
   "metadata": {},
   "outputs": [],
   "source": [
    "fig, ax = interventions_model_4fq.figure_basic()#vlines=interventions.get_checkpoints()['t'])\n",
    "# fig.savefig(f\"plots/{fig_name}_figBasic.png\")"
   ]
  },
  {
   "cell_type": "code",
   "execution_count": null,
   "metadata": {},
   "outputs": [],
   "source": [
    "## Interventions for graph with 8 food queues \n",
    "interventions.clear()\n",
    "\n",
    "# Amount by which wearing masks reduces the transmission rate\n",
    "reduction_percentage = 0.3\n",
    "\n",
    "# Simulate quarantine + masks\n",
    "q_start = 0\n",
    "interventions.add(quarantine_graph_8fq, q_start, beta=transmission_rate*reduction_percentage)\n",
    "\n",
    "# Simulate HALT of quarantine but people still have to wear masks\n",
    "q_end = 150\n",
    "interventions.add(graph_8fq, q_end, beta=transmission_rate*reduction_percentage)\n",
    "\n",
    "# Simulate HALT of wearing masks\n",
    "m_end = 200\n",
    "interventions.add(graph_8fq, m_end, beta=transmission_rate)\n",
    "\n",
    "checkpoints = interventions.get_checkpoints()"
   ]
  },
  {
   "cell_type": "code",
   "execution_count": null,
   "metadata": {},
   "outputs": [],
   "source": [
    "t_steps = 200\n",
    "node_states, interventions_results_8fq = run_simulation(interventions_model_8fq, t_steps)"
   ]
  },
  {
   "cell_type": "code",
   "execution_count": null,
   "metadata": {},
   "outputs": [],
   "source": [
    "i = 0\n",
    "food_queue_number = 8\n",
    "fig_name = f\"InterventionsMultFQ{food_queue_number}_Model{i}\"\n",
    "\n",
    "add_model_name(\"experiments/model_names.csv\", fig_name, household_weight, neighbor_weight, food_weight, transmission_rate, recovery_rate, progression_rate, hosp_rate, round(sum(crit_rate)/len(crit_rate), 3), death_rate, init_symp_cases, init_asymp_cases, t_steps, f\"{q_start}-{q_end}\", reduction_percentage, f\"{q_start}-{m_end}\")"
   ]
  },
  {
   "cell_type": "code",
   "execution_count": null,
   "metadata": {},
   "outputs": [],
   "source": [
    "output_df = results_to_df(intervention_results_8fq, store=True, store_name=f\"experiments/results/{fig_name}.csv\")"
   ]
  },
  {
   "cell_type": "code",
   "execution_count": null,
   "metadata": {},
   "outputs": [],
   "source": [
    "output_df"
   ]
  },
  {
   "cell_type": "code",
   "execution_count": null,
   "metadata": {},
   "outputs": [],
   "source": [
    "fig, ax = interventions_model_8fq.figure_basic()#vlines=interventions.get_checkpoints()['t'])\n",
    "fig.savefig(f\"plots/{fig_name}_figBasic.png\")"
   ]
  }
 ],
 "metadata": {
  "kernelspec": {
   "display_name": "Python 3",
   "language": "python",
   "name": "python3"
  },
  "language_info": {
   "codemirror_mode": {
    "name": "ipython",
    "version": 3
   },
   "file_extension": ".py",
   "mimetype": "text/x-python",
   "name": "python",
   "nbconvert_exporter": "python",
   "pygments_lexer": "ipython3",
   "version": "3.8.5"
  },
  "widgets": {
   "application/vnd.jupyter.widget-state+json": {
    "state": {},
    "version_major": 2,
    "version_minor": 0
   }
  }
 },
 "nbformat": 4,
 "nbformat_minor": 4
}
