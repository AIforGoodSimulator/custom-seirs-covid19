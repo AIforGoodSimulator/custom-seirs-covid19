{
  "nbformat": 4,
  "nbformat_minor": 0,
  "metadata": {
    "kernelspec": {
      "display_name": "Python 3",
      "language": "python",
      "name": "python3"
    },
    "language_info": {
      "codemirror_mode": {
        "name": "ipython",
        "version": 3
      },
      "file_extension": ".py",
      "mimetype": "text/x-python",
      "name": "python",
      "nbconvert_exporter": "python",
      "pygments_lexer": "ipython3",
      "version": "3.8.5"
    },
    "colab": {
      "name": "NetworkModeling.ipynb",
      "provenance": [],
      "collapsed_sections": [
        "1p_hsqwtIit7",
        "Lk3EZg6KIiuR"
      ]
    }
  },
  "cells": [
    {
      "cell_type": "markdown",
      "metadata": {
        "id": "zztPTusPIirp",
        "colab_type": "text"
      },
      "source": [
        "# Network Modeling with SEIRS+ Notebook "
      ]
    },
    {
      "cell_type": "code",
      "metadata": {
        "id": "8r6mpyM7Iirq",
        "colab_type": "code",
        "colab": {}
      },
      "source": [
        "import networkx as nx\n",
        "import pandas as pd\n",
        "import numpy as np\n",
        "import matplotlib.pyplot as plt\n",
        "from scipy.stats import poisson\n",
        "from seirsplus.models import *\n",
        "from seirsplus.networks import *\n",
        "from seirsplus.sim_loops import *\n",
        "from seirsplus.utilities import *\n",
        "from network_utils import *\n",
        "from stats_utils import *\n",
        "from intervention_utils import *\n",
        "from camp_params import *\n",
        "import pickle as pkl"
      ],
      "execution_count": null,
      "outputs": []
    },
    {
      "cell_type": "code",
      "metadata": {
        "id": "-OD-320cIisB",
        "colab_type": "code",
        "colab": {}
      },
      "source": [
        "n_pop = 18700\n",
        "\n",
        "# Grid info for isoboxes\n",
        "dims_isoboxes = (29, 28)  # 812\n",
        "\n",
        "# Grid info for tents\n",
        "dims_block1 = (20, 67)  # 1340\n",
        "dims_block2 = (53, 15)  # 795\n",
        "dims_block3 = (19, 28)  # 532\n",
        "\n",
        "# Isoboxes\n",
        "pop_isoboxes = 8100\n",
        "pop_per_isobox = 10\n",
        "n_isoboxes = dims_isoboxes[0]*dims_isoboxes[1]\n",
        "\n",
        "# Tents\n",
        "n_tents = 2650\n",
        "pop_tents = 10600\n",
        "pop_per_tent = 4\n",
        "\n",
        "# Others \n",
        "n_bathrooms = 144\n",
        "n_ethnic_groups = 8\n",
        "\n",
        "# We define neighboring structures within a range of 2 in the structure grid\n",
        "proximity = 2\n",
        "\n",
        "# Define the maximum population per structures (tents and isoboxes) drawn from a poisson distribution\n",
        "max_pop_per_struct = list(poisson.rvs(mu=pop_per_isobox, size=n_isoboxes))\n",
        "max_pop_per_struct = max_pop_per_struct + list(poisson.rvs(mu=pop_per_tent, size=dims_block1[0]*dims_block1[1]))\n",
        "max_pop_per_struct = max_pop_per_struct + list(poisson.rvs(mu=pop_per_tent, size=dims_block2[0]*dims_block2[1]))\n",
        "max_pop_per_struct = max_pop_per_struct + list(poisson.rvs(mu=pop_per_tent, size=dims_block3[0]*dims_block3[1]))\n",
        "\n",
        "n_structs = len(max_pop_per_struct)\n",
        "\n",
        "# Sample the population age, and parameter rates\n",
        "sample_pop = sample_population(n_pop, \"data/augmented_population.csv\")"
      ],
      "execution_count": null,
      "outputs": []
    },
    {
      "cell_type": "markdown",
      "metadata": {
        "id": "BseW6HAeIisM",
        "colab_type": "text"
      },
      "source": [
        "### 1) Load base graph for Moria"
      ]
    },
    {
      "cell_type": "code",
      "metadata": {
        "id": "TnaJPgEhIisN",
        "colab_type": "code",
        "colab": {}
      },
      "source": [
        "graph, nodes_per_struct = load_graph(\"Moria_wNeighbors\")"
      ],
      "execution_count": null,
      "outputs": []
    },
    {
      "cell_type": "code",
      "metadata": {
        "id": "Z4BDdT7LIisQ",
        "colab_type": "code",
        "colab": {}
      },
      "source": [
        "graph"
      ],
      "execution_count": null,
      "outputs": []
    },
    {
      "cell_type": "code",
      "metadata": {
        "id": "dO99Ph8-Iisb",
        "colab_type": "code",
        "colab": {}
      },
      "source": [
        "graph, nodes_per_struct[:10]"
      ],
      "execution_count": null,
      "outputs": []
    },
    {
      "cell_type": "markdown",
      "metadata": {
        "id": "4scw5XNEIisg",
        "colab_type": "text"
      },
      "source": [
        "#### 1.1) We will add a general food queue which represents the current state of the camp"
      ]
    },
    {
      "cell_type": "code",
      "metadata": {
        "id": "VE-r82ZWIish",
        "colab_type": "code",
        "colab": {}
      },
      "source": [
        "food_weight = 0.407\n",
        "graph_1fq = connect_food_queue(graph, nodes_per_struct, food_weight, \"food\")"
      ],
      "execution_count": null,
      "outputs": []
    },
    {
      "cell_type": "markdown",
      "metadata": {
        "id": "-0eLFF-BIisk",
        "colab_type": "text"
      },
      "source": [
        "### 2) Plot the basic network degrees"
      ]
    },
    {
      "cell_type": "code",
      "metadata": {
        "tags": [],
        "id": "JvQIN7pVIiso",
        "colab_type": "code",
        "colab": {}
      },
      "source": [
        "# Degrees without food queue, just neighbors\n",
        "min_G, max_G = min_degree(graph), max_degree(graph)\n",
        "print(\"Min degree:\", min_G, \"Max degree:\", max_G)\n",
        "plot_degree_distn(graph, max_degree=max_G)"
      ],
      "execution_count": null,
      "outputs": []
    },
    {
      "cell_type": "code",
      "metadata": {
        "tags": [],
        "id": "9cDNyhYNIisv",
        "colab_type": "code",
        "colab": {}
      },
      "source": [
        "# Degrees with 1 food queue\n",
        "min_G, max_G = min_degree(graph_1fq), max_degree(graph_1fq)\n",
        "print(\"Min degree:\", min_G, \"Max degree:\", max_G)\n",
        "plot_degree_distn(graph_1fq, max_degree=max_G)"
      ],
      "execution_count": null,
      "outputs": []
    },
    {
      "cell_type": "markdown",
      "metadata": {
        "id": "FH38SeL6Iis9",
        "colab_type": "text"
      },
      "source": [
        "### 3) Create node groups of 10 year age bucket to track the results"
      ]
    },
    {
      "cell_type": "code",
      "metadata": {
        "id": "kl5oFQMIIis-",
        "colab_type": "code",
        "colab": {}
      },
      "source": [
        "node_groups=create_node_groups(graph)"
      ],
      "execution_count": null,
      "outputs": []
    },
    {
      "cell_type": "markdown",
      "metadata": {
        "id": "-KT3_d__IitA",
        "colab_type": "text"
      },
      "source": [
        "### 4) Define SEIRS model parameters"
      ]
    },
    {
      "cell_type": "code",
      "metadata": {
        "id": "Cj046LtqIitB",
        "colab_type": "code",
        "colab": {}
      },
      "source": [
        "transmission_rate = 1.28\n",
        "progression_rate = round(1/5.1, 3)\n",
        "recovery_rate = 0.056 # Approx 1/18 -> Recovery occurs after 18 days\n",
        "hosp_rate = round(1/11.4, 3) #1/6.3 # From Tucker Model\n",
        "# crit_rate = 0.3 # From camp_params\n",
        "crit_rate = list((sample_pop[\"death_rate\"] / sample_pop[\"prob_symptomatic\"]) / sample_pop[\"prob_hospitalisation\"])\n",
        "death_rate = 0.75\n",
        "\n",
        "prob_global_contact = 0.2\n",
        "prob_quarantine_global_contact = 0.1\n",
        "\n",
        "# prob_hosp_to_critical = list(sample_pop[\"death_rate\"]/sample_pop[\"prob_hospitalisation\"])\n",
        "prob_death = list(sample_pop[\"death_rate\"])\n",
        "prob_asymptomatic = list(1 - sample_pop[\"prob_symptomatic\"])\n",
        "prob_symp_to_hosp = list(sample_pop[\"prob_hospitalisation\"])\n",
        "\n",
        "init_symp_cases = 1\n",
        "init_asymp_cases = 1"
      ],
      "execution_count": null,
      "outputs": []
    },
    {
      "cell_type": "markdown",
      "metadata": {
        "id": "4Ne-0RSCIitD",
        "colab_type": "text"
      },
      "source": [
        "### 5) Running the base model"
      ]
    },
    {
      "cell_type": "code",
      "metadata": {
        "id": "g6FoFMoTIitE",
        "colab_type": "code",
        "colab": {}
      },
      "source": [
        "# Model construction\n",
        "ref_model = ExtSEIRSNetworkModel(G=graph_1fq, p=prob_global_contact, beta=transmission_rate, sigma=progression_rate, gamma=recovery_rate, lamda=progression_rate, mu_H=crit_rate, eta=hosp_rate, a=prob_asymptomatic, f=death_rate, h=prob_symp_to_hosp, initI_sym=init_symp_cases, initI_asym=init_asymp_cases, store_Xseries=True)"
      ],
      "execution_count": null,
      "outputs": []
    },
    {
      "cell_type": "code",
      "metadata": {
        "tags": [],
        "id": "OCgveULMIitX",
        "colab_type": "code",
        "colab": {}
      },
      "source": [
        "t_steps = 20\n",
        "node_states, simulation_results = run_simulation(ref_model, t_steps)"
      ],
      "execution_count": null,
      "outputs": []
    },
    {
      "cell_type": "code",
      "metadata": {
        "id": "0KWwnTBoIitd",
        "colab_type": "code",
        "colab": {}
      },
      "source": [
        "# Model name for storage + store the model params in csv\n",
        "i = 0  # This is a number assigned to identify a particular network\n",
        "param_combo_i = 0  # This is a number assigned to identify a particular combination of parameters\n",
        "fig_name = f\"BaseSympModel{i}_{param_combo_i}\"\n",
        "add_model_name(\"experiments/model_names.csv\", fig_name, household_weight, neighbor_weight, food_weight, transmission_rate, recovery_rate, progression_rate, hosp_rate, round(sum(crit_rate)/len(crit_rate), 3), death_rate, init_symp_cases, init_asymp_cases, t_steps)"
      ],
      "execution_count": null,
      "outputs": []
    },
    {
      "cell_type": "code",
      "metadata": {
        "id": "rMZCdWsjIitf",
        "colab_type": "code",
        "colab": {}
      },
      "source": [
        "#here we set up a parallel computing to run experiments in parallel and aggregate the results"
      ],
      "execution_count": null,
      "outputs": []
    },
    {
      "cell_type": "code",
      "metadata": {
        "id": "gXyQEbGEIiti",
        "colab_type": "code",
        "colab": {}
      },
      "source": [
        "# Construct results dataframe\n",
        "output_df = results_to_df(simulation_results, store=True, store_name=f\"experiments/results/{fig_name}.csv\")"
      ],
      "execution_count": null,
      "outputs": []
    },
    {
      "cell_type": "code",
      "metadata": {
        "id": "bwvqoChgIitl",
        "colab_type": "code",
        "colab": {}
      },
      "source": [
        "output_df"
      ],
      "execution_count": null,
      "outputs": []
    },
    {
      "cell_type": "code",
      "metadata": {
        "id": "8amW9IUgIitv",
        "colab_type": "code",
        "colab": {}
      },
      "source": [
        "fig, ax = ref_model.figure_basic()#vlines=interventions.get_checkpoints()['t'])\n",
        "fig.savefig(f\"experiments/plots/{fig_name}_figBasic.png\")"
      ],
      "execution_count": null,
      "outputs": []
    },
    {
      "cell_type": "markdown",
      "metadata": {
        "id": "zflVDj1cIit1",
        "colab_type": "text"
      },
      "source": [
        "### 6) Define Interventions\n",
        "\n",
        "With the interventions module, we can create an intervention with just a time step and a custom network referring to that intervention, as well as remove/edit them from the list. The method get_checkpoints() will allow us to get the dictionary to be fed to the SEIRS+ model"
      ]
    },
    {
      "cell_type": "markdown",
      "metadata": {
        "id": "1p_hsqwtIit7",
        "colab_type": "text"
      },
      "source": [
        "#### 6.1) First, define the intervention graphs"
      ]
    },
    {
      "cell_type": "code",
      "metadata": {
        "id": "woBrnxQRIit8",
        "colab_type": "code",
        "colab": {}
      },
      "source": [
        "# This is social distancing within the food queue \n",
        "distancing_graph = remove_edges_from_graph(graph_1fq, scale=10, edge_label_list=[\"food\"], min_num_edges=4)\n",
        "\n",
        "# This also includes neighbor/friendship edges\n",
        "quarantine_graph = remove_edges_from_graph(graph_1fq, scale=2, edge_label_list=[\"food\", \"friendship\"], min_num_edges=2)\n",
        "\n",
        "# Create graphs with multiple sectoring of food queues - in this case, 1 and 2 queues per each block (4 and 8 food queues respectively)\n",
        "graph_4fq = create_multiple_food_queues(graph, 1, food_weight, nodes_per_struct, [grid_isoboxes, grid_block1, grid_block2, grid_block3])\n",
        "graph_8fq = create_multiple_food_queues(graph, 2, food_weight, nodes_per_struct, [grid_isoboxes, grid_block1, grid_block2, grid_block3])\n",
        "\n",
        "# Create quarantine graphs for the sectored graphs\n",
        "quarantine_graph_4fq = remove_edges_from_graph(graph_4fq, scale=2, edge_label_list=[f\"food_{i}\" for i in range(4)] + [\"friendship\"], min_num_edges=2)\n",
        "quarantine_graph_8fq = remove_edges_from_graph(graph_8fq, scale=2, edge_label_list=[f\"food_{i}\" for i in range(8)] + [\"friendship\"], min_num_edges=2)"
      ],
      "execution_count": null,
      "outputs": []
    },
    {
      "cell_type": "code",
      "metadata": {
        "id": "n7Ptz8O2Iit-",
        "colab_type": "code",
        "colab": {}
      },
      "source": [
        "min_D, max_D = min_degree(distancing_graph), max_degree(distancing_graph)\n",
        "print(\"Min degree:\", min_D, \"Max degree:\", max_D)\n",
        "\n",
        "# As we can see, there isn't much of a difference when we only cut food-queue interactions, \n",
        "# which means we need a harder distancing policy\n",
        "plot_degree_distn(distancing_graph, max_degree=max_D)"
      ],
      "execution_count": null,
      "outputs": []
    },
    {
      "cell_type": "code",
      "metadata": {
        "id": "Ll8ZR9-oIiuB",
        "colab_type": "code",
        "colab": {}
      },
      "source": [
        "min_Q, max_Q = min_degree(quarantine_graph), max_degree(quarantine_graph)\n",
        "print(\"Min degree:\", min_Q, \"Max degree:\", max_Q)\n",
        "\n",
        "plot_degree_distn(quarantine_graph, max_degree=max_Q)"
      ],
      "execution_count": null,
      "outputs": []
    },
    {
      "cell_type": "code",
      "metadata": {
        "id": "5y-oYXBhIiuF",
        "colab_type": "code",
        "colab": {}
      },
      "source": [
        "# 4 food queues \n",
        "min_4fq, max_4fq = min_degree(graph_4fq), max_degree(graph_4fq)\n",
        "print(\"Min degree:\", min_4fq, \"Max degree:\", max_4fq)\n",
        "\n",
        "plot_degree_distn(quarantine_graph, max_degree=max_4fq)"
      ],
      "execution_count": null,
      "outputs": []
    },
    {
      "cell_type": "code",
      "metadata": {
        "id": "2phRg-VOIiuH",
        "colab_type": "code",
        "colab": {}
      },
      "source": [
        "# 8 food queues\n",
        "min_8fq, max_8fq = min_degree(graph_8fq), max_degree(graph_8fq)\n",
        "print(\"Min degree:\", min_8fq, \"Max degree:\", max_8fq)\n",
        "\n",
        "plot_degree_distn(quarantine_graph, max_degree=max_8fq)"
      ],
      "execution_count": null,
      "outputs": []
    },
    {
      "cell_type": "markdown",
      "metadata": {
        "id": "Lk3EZg6KIiuR",
        "colab_type": "text"
      },
      "source": [
        "#### 6.2) Construct the checkpoints"
      ]
    },
    {
      "cell_type": "code",
      "metadata": {
        "id": "-8c0x-UoIiuR",
        "colab_type": "code",
        "colab": {}
      },
      "source": [
        "interventions = Interventions()\n",
        "reduction_percentage = 0.5\n",
        "\n",
        "# Simulate quarantine + masks\n",
        "q_start = 0\n",
        "interventions.add(quarantine_graph, q_start, beta=transmission_rate*reduction_percentage)\n",
        "\n",
        "# Simulate HALT of quarantine but people still have to wear masks\n",
        "q_end = 150\n",
        "interventions.add(graph_1fq, q_end, beta=transmission_rate*reduction_percentage)\n",
        "\n",
        "# Simulate HALT of wearing masks\n",
        "m_end = 200\n",
        "interventions.add(graph_1fq, m_end, beta=transmission_rate)\n",
        "\n",
        "checkpoints = interventions.get_checkpoints()"
      ],
      "execution_count": null,
      "outputs": []
    },
    {
      "cell_type": "markdown",
      "metadata": {
        "id": "Y4EtE938IiuT",
        "colab_type": "text"
      },
      "source": [
        "### 7) Running the model with interventions"
      ]
    },
    {
      "cell_type": "code",
      "metadata": {
        "id": "aMZAovZwIiuU",
        "colab_type": "code",
        "colab": {}
      },
      "source": [
        "# Model construction with interventions on the model with 1 food queue\n",
        "interventions_model = ExtSEIRSNetworkModel(G=graph_1fq, G_Q=quarantine_graph, p=prob_global_contact, q=prob_quarantine_global_contact, beta=transmission_rate, sigma=progression_rate, gamma=recovery_rate, lamda=progression_rate, mu_H=crit_rate, eta=hosp_rate, a=prob_asymptomatic, f=death_rate, h=prob_symp_to_hosp, initI_sym=init_symp_cases, initI_asym=init_asymp_cases, store_Xseries=True)"
      ],
      "execution_count": null,
      "outputs": []
    },
    {
      "cell_type": "code",
      "metadata": {
        "id": "BKmMmzS_Iiud",
        "colab_type": "code",
        "colab": {}
      },
      "source": [
        "t_steps = 200\n",
        "intervention_node_states, intervention_results = run_simulation(interventions_model, t_steps, checkpoints)"
      ],
      "execution_count": null,
      "outputs": []
    },
    {
      "cell_type": "code",
      "metadata": {
        "id": "jZDmQYxkIiuh",
        "colab_type": "code",
        "colab": {}
      },
      "source": [
        "# Model name for storage + store the model params in csv\n",
        "i, param_combo_i = 0, 0\n",
        "fig_name = f\"InterventionsBaseModel{i}_{param_combo_i}\"\n",
        "add_model_name(\"experiments/model_names.csv\", fig_name, household_weight, neighbor_weight, food_weight, transmission_rate, recovery_rate, progression_rate, hosp_rate, round(sum(crit_rate)/len(crit_rate), 3), death_rate, init_symp_cases, init_asymp_cases, t_steps, f\"{q_start}-{q_end}\", reduction_percentage, f\"{q_start}-{m_end}\")\n"
      ],
      "execution_count": null,
      "outputs": []
    },
    {
      "cell_type": "code",
      "metadata": {
        "id": "IACMw3faIiuk",
        "colab_type": "code",
        "colab": {}
      },
      "source": [
        "output_df = results_to_df(intervention_results, store=True, store_name=f\"experiments/results/{fig_name}.csv\")"
      ],
      "execution_count": null,
      "outputs": []
    },
    {
      "cell_type": "code",
      "metadata": {
        "id": "nt0YSIBVIium",
        "colab_type": "code",
        "colab": {}
      },
      "source": [
        "output_df"
      ],
      "execution_count": null,
      "outputs": []
    },
    {
      "cell_type": "code",
      "metadata": {
        "id": "z4knYsxHIiuo",
        "colab_type": "code",
        "colab": {}
      },
      "source": [
        "fig, ax = interventions_model.figure_basic()#vlines=interventions.get_checkpoints()['t'])\n",
        "# fig.savefig(f\"plots/{fig_name}_figBasic.png\")"
      ],
      "execution_count": null,
      "outputs": []
    },
    {
      "cell_type": "markdown",
      "metadata": {
        "id": "IWexWXIgIiuy",
        "colab_type": "text"
      },
      "source": [
        "#### 7.1) Running the base model with multiple food queues"
      ]
    },
    {
      "cell_type": "code",
      "metadata": {
        "id": "3K4aPbt-Iiu3",
        "colab_type": "code",
        "colab": {}
      },
      "source": [
        "# Model construction for multiple food queues but no more interventions\n",
        "model_4fq = ExtSEIRSNetworkModel(G=graph_4fq, p=prob_global_contact, beta=transmission_rate, sigma=progression_rate, gamma=recovery_rate, lamda=progression_rate, mu_H=crit_rate, eta=hosp_rate, a=prob_asymptomatic, f=death_rate, h=prob_symp_to_hosp, initI_sym=init_symp_cases, initI_asym=init_asymp_cases, store_Xseries=True)\n",
        "\n",
        "model_8fq = ExtSEIRSNetworkModel(G=graph_8fq, p=prob_global_contact, beta=transmission_rate, sigma=progression_rate, gamma=recovery_rate, lamda=progression_rate, mu_H=crit_rate, eta=hosp_rate, a=prob_asymptomatic, f=death_rate, h=prob_symp_to_hosp, initI_sym=init_symp_cases, initI_asym=init_asymp_cases, store_Xseries=True)"
      ],
      "execution_count": null,
      "outputs": []
    },
    {
      "cell_type": "code",
      "metadata": {
        "id": "gMNGZs6FIiu8",
        "colab_type": "code",
        "colab": {}
      },
      "source": [
        "t_steps = 200\n",
        "node_states, simulation_results_4fq = run_simulation(model_4fq, t_steps)"
      ],
      "execution_count": null,
      "outputs": []
    },
    {
      "cell_type": "code",
      "metadata": {
        "id": "k_DuW1lcIivB",
        "colab_type": "code",
        "colab": {}
      },
      "source": [
        "# Model name for storage\n",
        "food_queue_number = 4\n",
        "i = 0\n",
        "fig_name = f\"MultFQ{food_queue_number}_Model{i}\"\n",
        "\n",
        "add_model_name(\"experiments/model_names.csv\", fig_name, household_weight, neighbor_weight, food_weight, transmission_rate, recovery_rate, progression_rate, hosp_rate, round(sum(crit_rate)/len(crit_rate), 3), death_rate, init_symp_cases, init_asymp_cases, t_steps)\n",
        "\t\t\t"
      ],
      "execution_count": null,
      "outputs": []
    },
    {
      "cell_type": "code",
      "metadata": {
        "id": "2MBxxrb6IivD",
        "colab_type": "code",
        "colab": {}
      },
      "source": [
        "output_df = results_to_df(simulation_results_4fq, store=True, store_name=f\"experiments/results/{fig_name}.csv\")\n"
      ],
      "execution_count": null,
      "outputs": []
    },
    {
      "cell_type": "code",
      "metadata": {
        "id": "RyL7ZZ1oIivF",
        "colab_type": "code",
        "colab": {}
      },
      "source": [
        "output_df"
      ],
      "execution_count": null,
      "outputs": []
    },
    {
      "cell_type": "code",
      "metadata": {
        "id": "ZAmaIV8KIivJ",
        "colab_type": "code",
        "colab": {}
      },
      "source": [
        "fig, ax = model_4fq.figure_basic()#vlines=interventions.get_checkpoints()['t'])\n",
        "# fig.savefig(f\"plots/{fig_name}_figBasic.png\")"
      ],
      "execution_count": null,
      "outputs": []
    },
    {
      "cell_type": "code",
      "metadata": {
        "id": "wzrSD2wyIivT",
        "colab_type": "code",
        "colab": {}
      },
      "source": [
        "t_steps = 200\n",
        "node_states, simulation_results_8fq = run_simulation(model_8fq, t_steps)"
      ],
      "execution_count": null,
      "outputs": []
    },
    {
      "cell_type": "code",
      "metadata": {
        "id": "twszmDbyIivW",
        "colab_type": "code",
        "colab": {}
      },
      "source": [
        "food_queue_number = 8\n",
        "i = 0\n",
        "fig_name = f\"MultFQ{food_queue_number}_Model{i}\"\n",
        "\n",
        "add_model_name(\"experiments/model_names.csv\", fig_name, household_weight, neighbor_weight, food_weight, transmission_rate, recovery_rate, progression_rate, hosp_rate, round(sum(crit_rate)/len(crit_rate), 3), death_rate, init_symp_cases, init_asymp_cases, t_steps)\n",
        "\t"
      ],
      "execution_count": null,
      "outputs": []
    },
    {
      "cell_type": "code",
      "metadata": {
        "id": "ZUOTv9LkIivZ",
        "colab_type": "code",
        "colab": {}
      },
      "source": [
        "output_df = results_to_df(simulation_results_8fq, store=True, store_name=f\"experiments/results/{fig_name}.csv\")\n"
      ],
      "execution_count": null,
      "outputs": []
    },
    {
      "cell_type": "code",
      "metadata": {
        "id": "B7AoJLAjIivg",
        "colab_type": "code",
        "colab": {}
      },
      "source": [
        "output_df"
      ],
      "execution_count": null,
      "outputs": []
    },
    {
      "cell_type": "code",
      "metadata": {
        "id": "q-L6BRMwIivo",
        "colab_type": "code",
        "colab": {}
      },
      "source": [
        "fig, ax = model_8fq.figure_basic()#vlines=interventions.get_checkpoints()['t'])\n",
        "# fig.savefig(f\"plots/{fig_name}_figBasic.png\")"
      ],
      "execution_count": null,
      "outputs": []
    },
    {
      "cell_type": "markdown",
      "metadata": {
        "id": "sNItlFZXIivq",
        "colab_type": "text"
      },
      "source": [
        "#### 7.2) Running the multiple food queues model with interventions"
      ]
    },
    {
      "cell_type": "code",
      "metadata": {
        "id": "ngp2xWH2Iivq",
        "colab_type": "code",
        "colab": {}
      },
      "source": [
        "# Model construction for multiple food queues in addition to other interventions\n",
        "interventions_model_4fq = ExtSEIRSNetworkModel(G=graph_4fq, G_Q=quarantine_graph_4fq, p=prob_global_contact, q=prob_quarantine_global_contact, beta=transmission_rate, sigma=progression_rate, gamma=recovery_rate, lamda=progression_rate, mu_H=crit_rate, eta=hosp_rate, a=prob_asymptomatic, f=death_rate, h=prob_symp_to_hosp, initI_sym=init_symp_cases, initI_asym=init_asymp_cases, store_Xseries=True)\n",
        "\n",
        "interventions_model_8fq = ExtSEIRSNetworkModel(G=graph_8fq, G_Q=quarantine_graph_8fq, p=prob_global_contact, q=prob_quarantine_global_contact, beta=transmission_rate, sigma=progression_rate, gamma=recovery_rate, lamda=progression_rate, mu_H=crit_rate, eta=hosp_rate, a=prob_asymptomatic, f=death_rate, h=prob_symp_to_hosp, initI_sym=init_symp_cases, initI_asym=init_asymp_cases, store_Xseries=True)"
      ],
      "execution_count": null,
      "outputs": []
    },
    {
      "cell_type": "code",
      "metadata": {
        "id": "wk5m-rTsIiv3",
        "colab_type": "code",
        "colab": {}
      },
      "source": [
        "## Interventions for graph with 4 food queues \n",
        "interventions.clear()\n",
        "\n",
        "# Amount by which wearing masks reduces the transmission rate\n",
        "reduction_percentage = 0.3\n",
        "\n",
        "# Simulate quarantine + masks\n",
        "q_start = 0\n",
        "interventions.add(quarantine_graph_4fq, q_start, beta=transmission_rate*reduction_percentage)\n",
        "\n",
        "# Simulate HALT of quarantine but people still have to wear masks\n",
        "q_end = 150\n",
        "interventions.add(graph_4fq, q_end, beta=transmission_rate*reduction_percentage)\n",
        "\n",
        "# Simulate HALT of wearing masks\n",
        "m_end = 200\n",
        "interventions.add(graph_4fq, m_end, beta=transmission_rate)\n",
        "\n",
        "checkpoints = interventions.get_checkpoints()"
      ],
      "execution_count": null,
      "outputs": []
    },
    {
      "cell_type": "code",
      "metadata": {
        "id": "BPqB9pBpIiv4",
        "colab_type": "code",
        "colab": {}
      },
      "source": [
        "t_steps = 200\n",
        "node_states, intervention_results_4fq = run_simulation(interventions_model_4fq, t_steps)"
      ],
      "execution_count": null,
      "outputs": []
    },
    {
      "cell_type": "code",
      "metadata": {
        "id": "d41nuDxuIiwD",
        "colab_type": "code",
        "colab": {}
      },
      "source": [
        "# Model name for storage - adjust accordingly to interventions\n",
        "food_queue_number = 4\n",
        "i = 0\n",
        "fig_name = f\"InterventionsMultFQ{food_queue_number}_Model{i}\"\n",
        "\n",
        "add_model_name(\"experiments/model_names.csv\", fig_name, household_weight, neighbor_weight, food_weight, transmission_rate, recovery_rate, progression_rate, hosp_rate, round(sum(crit_rate)/len(crit_rate), 3), death_rate, init_symp_cases, init_asymp_cases, t_steps, f\"{q_start}-{q_end}\", reduction_percentage, f\"{q_start}-{m_end}\")\n"
      ],
      "execution_count": null,
      "outputs": []
    },
    {
      "cell_type": "code",
      "metadata": {
        "id": "7DbtGjMUIiwF",
        "colab_type": "code",
        "colab": {}
      },
      "source": [
        "output_df = results_to_df(intervention_results_4fq, store=True, store_name=f\"experiments/results/{fig_name}.csv\")"
      ],
      "execution_count": null,
      "outputs": []
    },
    {
      "cell_type": "code",
      "metadata": {
        "id": "Ku_0ibNXIiwU",
        "colab_type": "code",
        "colab": {}
      },
      "source": [
        "output_df"
      ],
      "execution_count": null,
      "outputs": []
    },
    {
      "cell_type": "code",
      "metadata": {
        "id": "JVpcHVG8IiwX",
        "colab_type": "code",
        "colab": {}
      },
      "source": [
        "fig, ax = interventions_model_4fq.figure_basic()#vlines=interventions.get_checkpoints()['t'])\n",
        "# fig.savefig(f\"plots/{fig_name}_figBasic.png\")"
      ],
      "execution_count": null,
      "outputs": []
    },
    {
      "cell_type": "code",
      "metadata": {
        "id": "BTM2LEzZIiwb",
        "colab_type": "code",
        "colab": {}
      },
      "source": [
        "## Interventions for graph with 8 food queues \n",
        "interventions.clear()\n",
        "\n",
        "# Simulate quarantine + masks\n",
        "interventions.add(quarantine_graph_8fq, 3, beta=transmission_rate*reduction_percentage)\n",
        "\n",
        "# Simulate HALT of quarantine but people still have to wear masks\n",
        "interventions.add(graph_8fq, 63, beta=transmission_rate*reduction_percentage)\n",
        "\n",
        "# Simulate HALT of wearing masks\n",
        "interventions.add(graph_8fq, 93, beta=transmission_rate)\n",
        "\n",
        "checkpoints = interventions.get_checkpoints()"
      ],
      "execution_count": null,
      "outputs": []
    },
    {
      "cell_type": "code",
      "metadata": {
        "id": "BcaeDwAVIiwt",
        "colab_type": "code",
        "colab": {}
      },
      "source": [
        "t_steps = 200\n",
        "node_states, interventions_results_8fq = run_simulation(interventions_model_8fq, t_steps)"
      ],
      "execution_count": null,
      "outputs": []
    },
    {
      "cell_type": "code",
      "metadata": {
        "id": "p6dpqpKDIixv",
        "colab_type": "code",
        "colab": {}
      },
      "source": [
        "# Model name for storage - adjust accordingly to interventions\n",
        "food_queue_number = 8\n",
        "i = 0\n",
        "fig_name = f\"InterventionsMultFQ{food_queue_number}_Model{i}\"\n",
        "\n",
        "add_model_name(\"experiments/model_names.csv\", fig_name, household_weight, neighbor_weight, food_weight, transmission_rate, recovery_rate, progression_rate, hosp_rate, round(sum(crit_rate)/len(crit_rate), 3), death_rate, init_symp_cases, init_asymp_cases, t_steps, f\"{q_start}-{q_end}\", reduction_percentage, f\"{q_start}-{m_end}\")\n"
      ],
      "execution_count": null,
      "outputs": []
    },
    {
      "cell_type": "code",
      "metadata": {
        "id": "sbLJwVX5Iizu",
        "colab_type": "code",
        "colab": {}
      },
      "source": [
        "output_df = results_to_df(interventions_results_8fq, store=True, store_name=f\"experiments/results/{fig_name}.csv\")"
      ],
      "execution_count": null,
      "outputs": []
    },
    {
      "cell_type": "code",
      "metadata": {
        "id": "qqXgRcYVIizv",
        "colab_type": "code",
        "colab": {}
      },
      "source": [
        "output_df"
      ],
      "execution_count": null,
      "outputs": []
    },
    {
      "cell_type": "code",
      "metadata": {
        "id": "kKsuyImYIi0F",
        "colab_type": "code",
        "colab": {}
      },
      "source": [
        "fig, ax = interventions_model_8fq.figure_basic()#vlines=interventions.get_checkpoints()['t'])\n",
        "# fig.savefig(f\"experiments/plots/{fig_name}_figBasic.png\")"
      ],
      "execution_count": null,
      "outputs": []
    },
    {
      "cell_type": "code",
      "metadata": {
        "id": "_7gg1gfNIi0N",
        "colab_type": "code",
        "colab": {}
      },
      "source": [
        ""
      ],
      "execution_count": null,
      "outputs": []
    },
    {
      "cell_type": "code",
      "metadata": {
        "id": "xvuGsm-DIi0O",
        "colab_type": "code",
        "colab": {}
      },
      "source": [
        ""
      ],
      "execution_count": null,
      "outputs": []
    }
  ]
}