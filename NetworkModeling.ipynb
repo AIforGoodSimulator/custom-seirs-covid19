{
 "cells": [
  {
   "cell_type": "markdown",
   "metadata": {},
   "source": [
    "# Network Modeling with SEIRS+ Notebook "
   ]
  },
  {
   "cell_type": "code",
   "execution_count": null,
   "metadata": {},
   "outputs": [],
   "source": [
    "import networkx as nx\n",
    "import pandas as pd\n",
    "import numpy as np\n",
    "import matplotlib.pyplot as plt\n",
    "from scipy.stats import poisson\n",
    "from seirsplus.models import *\n",
    "from network_utils import *\n",
    "from stats_utils import *\n",
    "from intervention_utils import *\n",
    "from camp_params import *\n",
    "import pickle as pkl"
   ]
  },
  {
   "cell_type": "markdown",
   "metadata": {},
   "source": [
    "### 1) Load base graph for Moria"
   ]
  },
  {
   "cell_type": "code",
   "execution_count": null,
   "metadata": {},
   "outputs": [],
   "source": [
    "graph, nodes_per_struct = load_graph(\"Moria_wNeighbors\")"
   ]
  },
  {
   "cell_type": "code",
   "execution_count": null,
   "metadata": {},
   "outputs": [],
   "source": [
    "graph, nodes_per_struct[:10]"
   ]
  },
  {
   "cell_type": "markdown",
   "metadata": {},
   "source": [
    "#### 1.1) We will add a general food queue which represents the current state of the camp"
   ]
  },
  {
   "cell_type": "code",
   "execution_count": null,
   "metadata": {},
   "outputs": [],
   "source": [
    "food_weight = 0.407\n",
    "graph_1fq = connect_food_queue(graph, nodes_per_struct, food_weight, \"food\")"
   ]
  },
  {
   "cell_type": "markdown",
   "metadata": {},
   "source": [
    "### 2) Plot the basic network degrees"
   ]
  },
  {
   "cell_type": "code",
   "execution_count": null,
   "metadata": {},
   "outputs": [],
   "source": [
    "# Degrees without food queue, just neighbors\n",
    "min_G, max_G = min_degree(graph), max_degree(graph)\n",
    "print(\"Min degree:\", min_G, \"Max degree:\", max_G)\n",
    "plot_degree_distn(graph, max_degree=max_G)"
   ]
  },
  {
   "cell_type": "code",
   "execution_count": null,
   "metadata": {},
   "outputs": [],
   "source": [
    "# Degrees with 1 food queue\n",
    "min_G, max_G = min_degree(graph_1fq), max_degree(graph_1fq)\n",
    "print(\"Min degree:\", min_G, \"Max degree:\", max_G)\n",
    "plot_degree_distn(graph_1fq, max_degree=max_G)"
   ]
  },
  {
   "cell_type": "markdown",
   "metadata": {},
   "source": [
    "### 3) Create node groups of 10 year age bucket to track the results"
   ]
  },
  {
   "cell_type": "code",
   "execution_count": null,
   "metadata": {},
   "outputs": [],
   "source": [
    "node_groups=create_node_groups(graph)"
   ]
  },
  {
   "cell_type": "markdown",
   "metadata": {},
   "source": [
    "### 4) Define SEIRS model parameters"
   ]
  },
  {
   "cell_type": "code",
   "execution_count": null,
   "metadata": {},
   "outputs": [],
   "source": [
    "transmission_rate = 1.28\n",
    "progression_rate = round(1/5.1, 3)\n",
    "recovery_rate = 0.056 # Approx 1/18 -> Recovery occurs after 18 days\n",
    "hosp_rate = round(1/11.4, 3) #1/6.3 # From Tucker Model\n",
    "# crit_rate = 0.3 # From camp_params\n",
    "crit_rate = list((sample_pop[\"death_rate\"] / sample_pop[\"prob_symptomatic\"]) / sample_pop[\"prob_hospitalisation\"])\n",
    "death_rate = 0.75\n",
    "\n",
    "prob_global_contact = 1\n",
    "prob_detected_global_contact = 1\n",
    "\n",
    "# prob_hosp_to_critical = list(sample_pop[\"death_rate\"]/sample_pop[\"prob_hospitalisation\"])\n",
    "prob_death = list(sample_pop[\"death_rate\"])\n",
    "prob_asymptomatic = list(1 - sample_pop[\"prob_symptomatic\"])\n",
    "prob_symp_to_hosp = list(sample_pop[\"prob_hospitalisation\"])\n",
    "\n",
    "init_symp_cases = 1\n",
    "init_asymp_cases = 0"
   ]
  },
  {
   "cell_type": "markdown",
   "metadata": {},
   "source": [
    "### 5) Running the base model"
   ]
  },
  {
   "cell_type": "code",
   "execution_count": null,
   "metadata": {},
   "outputs": [],
   "source": [
    "# Model construction\n",
    "ref_model = SymptomaticSEIRSNetworkModel(G=graph_1fq, beta=transmission_rate, sigma=progression_rate, gamma=recovery_rate, \n",
    "                                         lamda=progression_rate, mu_H=crit_rate, eta=hosp_rate, p=prob_global_contact, a=prob_asymptomatic, f=death_rate, \n",
    "                                         h=prob_symp_to_hosp, q=prob_detected_global_contact, initI_S=init_symp_cases, initI_A=init_asymp_cases, store_Xseries=True)"
   ]
  },
  {
   "cell_type": "code",
   "execution_count": null,
   "metadata": {},
   "outputs": [],
   "source": [
    "t_steps = 200\n",
    "node_states, simulation_results = run_simulation(ref_model, t_steps)"
   ]
  },
  {
   "cell_type": "code",
   "execution_count": null,
   "metadata": {},
   "outputs": [],
   "source": [
    "# Model name for storage\n",
    "fig_name = f\"BaseSympModel_HW={household_weight}_NW={neighbor_weight}_FW={food_weight}_TransR={transmission_rate}_RecR={recovery_rate}_ProgR={progression_rate}_HospR={hosp_rate}_CritR={sum(crit_rate)/len(crit_rate)}_DeathR={death_rate}_initI_S={init_symp_cases}_initI_A={init_asymp_cases}_T={t_steps}\""
   ]
  },
  {
   "cell_type": "code",
   "execution_count": null,
   "metadata": {},
   "outputs": [],
   "source": [
    "#here we set up a parallel computing to run experiments in parallel and aggregate the results"
   ]
  },
  {
   "cell_type": "code",
   "execution_count": null,
   "metadata": {},
   "outputs": [],
   "source": [
    "output_df = results_to_df(simulation_results, store=True, store_name=f\"results/{fig_name}.csv\")"
   ]
  },
  {
   "cell_type": "code",
   "execution_count": null,
   "metadata": {},
   "outputs": [],
   "source": [
    "output_df"
   ]
  },
  {
   "cell_type": "code",
   "execution_count": null,
   "metadata": {},
   "outputs": [],
   "source": [
    "fig, ax = ref_model.figure_basic()#vlines=interventions.get_checkpoints()['t'])\n",
    "fig.savefig(f\"plots/{fig_name}_figBasic.png\")"
   ]
  },
  {
   "cell_type": "markdown",
   "metadata": {},
   "source": [
    "### 6) Define Interventions\n",
    "\n",
    "With the interventions module, we can create an intervention with just a time step and a custom network referring to that intervention, as well as remove/edit them from the list. The method get_checkpoints() will allow us to get the dictionary to be fed to the SEIRS+ model"
   ]
  },
  {
   "cell_type": "markdown",
   "metadata": {},
   "source": [
    "#### 6.1) First, define the intervention graphs"
   ]
  },
  {
   "cell_type": "code",
   "execution_count": null,
   "metadata": {},
   "outputs": [],
   "source": [
    "# This is social distancing within the food queue \n",
    "distancing_graph = remove_edges_from_graph(graph_1fq, scale=10, edge_label_list=[\"food\"], min_num_edges=4)\n",
    "\n",
    "# This also includes neighbor/friendship edges\n",
    "quarantine_graph = remove_edges_from_graph(graph_1fq, scale=2, edge_label_list=[\"food\", \"friendship\"], min_num_edges=2)\n",
    "\n",
    "# Create graphs with multiple sectoring of food queues - in this case, 1 and 2 queues per each block (4 and 8 food queues respectively)\n",
    "graph_4fq = create_multiple_food_queues(graph, 1, food_weight, nodes_per_struct, [grid_isoboxes, grid_block1, grid_block2, grid_block3])\n",
    "graph_8fq = create_multiple_food_queues(graph, 2, food_weight, nodes_per_struct, [grid_isoboxes, grid_block1, grid_block2, grid_block3])\n",
    "\n",
    "# Create quarantine graphs for the sectored graphs\n",
    "quarantine_graph_4fq = remove_edges_from_graph(graph_4fq, scale=2, edge_label_list=[f\"food_{i}\" for i in range(4)] + [\"friendship\"], min_num_edges=2)\n",
    "quarantine_graph_8fq = remove_edges_from_graph(graph_8fq, scale=2, edge_label_list=[f\"food_{i}\" for i in range(8)] + [\"friendship\"], min_num_edges=2)"
   ]
  },
  {
   "cell_type": "code",
   "execution_count": null,
   "metadata": {},
   "outputs": [],
   "source": [
    "min_D, max_D = min_degree(distancing_graph), max_degree(distancing_graph)\n",
    "print(\"Min degree:\", min_D, \"Max degree:\", max_D)\n",
    "\n",
    "# As we can see, there isn't much of a difference when we only cut food-queue interactions, \n",
    "# which means we need a harder distancing policy\n",
    "plot_degree_distn(distancing_graph, max_degree=max_D)"
   ]
  },
  {
   "cell_type": "code",
   "execution_count": null,
   "metadata": {},
   "outputs": [],
   "source": [
    "min_Q, max_Q = min_degree(quarantine_graph), max_degree(quarantine_graph)\n",
    "print(\"Min degree:\", min_Q, \"Max degree:\", max_Q)\n",
    "\n",
    "plot_degree_distn(quarantine_graph, max_degree=max_Q)"
   ]
  },
  {
   "cell_type": "code",
   "execution_count": null,
   "metadata": {},
   "outputs": [],
   "source": [
    "# 4 food queues \n",
    "min_4fq, max_4fq = min_degree(graph_4fq), max_degree(graph_4fq)\n",
    "print(\"Min degree:\", min_4fq, \"Max degree:\", max_4fq)\n",
    "\n",
    "plot_degree_distn(quarantine_graph, max_degree=max_4fq)"
   ]
  },
  {
   "cell_type": "code",
   "execution_count": null,
   "metadata": {},
   "outputs": [],
   "source": [
    "# 8 food queues\n",
    "min_8fq, max_8fq = min_degree(graph_8fq), max_degree(graph_8fq)\n",
    "print(\"Min degree:\", min_8fq, \"Max degree:\", max_8fq)\n",
    "\n",
    "plot_degree_distn(quarantine_graph, max_degree=max_8fq)"
   ]
  },
  {
   "cell_type": "markdown",
   "metadata": {},
   "source": [
    "#### 6.2) Construct the checkpoints"
   ]
  },
  {
   "cell_type": "code",
   "execution_count": null,
   "metadata": {},
   "outputs": [],
   "source": [
    "interventions = Interventions()\n",
    "reduction_percentage = 0.5\n",
    "\n",
    "# Simulate quarantine + masks\n",
    "interventions.add(quarantine_graph, 3, beta=transmission_rate*reduction_percentage)\n",
    "\n",
    "# Simulate HALT of quarantine but people still have to wear masks\n",
    "interventions.add(graph_1fq, 63, beta=transmission_rate*reduction_percentage)\n",
    "\n",
    "# Simulate HALT of wearing masks\n",
    "interventions.add(graph_1fq, 93, beta=transmission_rate)\n",
    "\n",
    "checkpoints = interventions.get_checkpoints()"
   ]
  },
  {
   "cell_type": "markdown",
   "metadata": {},
   "source": [
    "### 7) Running the model with interventions"
   ]
  },
  {
   "cell_type": "code",
   "execution_count": null,
   "metadata": {},
   "outputs": [],
   "source": [
    "# Model construction with interventions on the model with 1 food queue\n",
    "interventions_model = SymptomaticSEIRSNetworkModel(G=graph_1fq, Q=quarantine_graph, beta=transmission_rate, sigma=progression_rate, gamma=recovery_rate, \n",
    "                                         lamda=progression_rate, mu_H=crit_rate, eta=hosp_rate, p=prob_global_contact, a=prob_asymptomatic, f=death_rate, \n",
    "                                         h=prob_symp_to_hosp, q=prob_detected_global_contact, initI_S=init_symp_cases, initI_A=init_asymp_cases, store_Xseries=True)"
   ]
  },
  {
   "cell_type": "code",
   "execution_count": null,
   "metadata": {},
   "outputs": [],
   "source": [
    "t_steps = 200\n",
    "intervention_node_states, intervention_results = run_simulation(interventions_model, t_steps, checkpoints)"
   ]
  },
  {
   "cell_type": "code",
   "execution_count": null,
   "metadata": {},
   "outputs": [],
   "source": [
    "# Model name for storage - adjust accordingly to interventions\n",
    "mean_degree = round(sum([degree for node, degree in quarantine_graph.degree])/len(quarantine_graph.degree), 3) # Get the mean degree\n",
    "quarantine_duration = \"3-63\"\n",
    "\n",
    "fig_name = f\"InterventionsSympModel_HW={household_weight}_NW={neighbor_weight}_FW={food_weight}_TransR={transmission_rate}_RecR={recovery_rate}_ProgR={progression_rate}_HospR={hosp_rate}_CritRate={sum(crit_rate)/len(crit_rate)}_DeathR={death_rate}_initI_S={init_symp_cases}_initI_A={init_asymp_cases}_T={t_steps}_QDeg={mean_degree}_QDur={quarantine_duration}\""
   ]
  },
  {
   "cell_type": "code",
   "execution_count": null,
   "metadata": {},
   "outputs": [],
   "source": [
    "output_df = results_to_df(intervention_results, store=True, store_name=f\"results/{fig_name}.csv\")"
   ]
  },
  {
   "cell_type": "code",
   "execution_count": null,
   "metadata": {},
   "outputs": [],
   "source": [
    "output_df"
   ]
  },
  {
   "cell_type": "code",
   "execution_count": null,
   "metadata": {},
   "outputs": [],
   "source": [
    "fig, ax = interventions_model.figure_basic()#vlines=interventions.get_checkpoints()['t'])\n",
    "fig.savefig(f\"plots/{fig_name}_figBasic.png\")"
   ]
  },
  {
   "cell_type": "markdown",
   "metadata": {},
   "source": [
    "#### 7.1) Running the base model with multiple food queues"
   ]
  },
  {
   "cell_type": "code",
   "execution_count": null,
   "metadata": {},
   "outputs": [],
   "source": [
    "# Model construction for multiple food queues but no more interventions\n",
    "model_4fq = SymptomaticSEIRSNetworkModel(G=graph_4fq, beta=transmission_rate, sigma=progression_rate, gamma=recovery_rate, \n",
    "                                         lamda=progression_rate, mu_H=crit_rate, eta=hosp_rate, p=prob_global_contact, a=prob_asymptomatic, f=death_rate, \n",
    "                                         h=prob_symp_to_hosp, q=prob_detected_global_contact, initI_S=init_symp_cases, initI_A=init_asymp_cases, store_Xseries=True)\n",
    "\n",
    "model_8fq = SymptomaticSEIRSNetworkModel(G=graph_8fq, beta=transmission_rate, sigma=progression_rate, gamma=recovery_rate, \n",
    "                                         lamda=progression_rate, mu_H=crit_rate, eta=hosp_rate, p=prob_global_contact, a=prob_asymptomatic, f=death_rate, \n",
    "                                         h=prob_symp_to_hosp, q=prob_detected_global_contact, initI_S=init_symp_cases, initI_A=init_asymp_cases, store_Xseries=True)"
   ]
  },
  {
   "cell_type": "code",
   "execution_count": null,
   "metadata": {},
   "outputs": [],
   "source": [
    "t_steps = 200\n",
    "node_states, simulation_results_4fq = run_simulation(model_4fq, t_steps)"
   ]
  },
  {
   "cell_type": "code",
   "execution_count": null,
   "metadata": {},
   "outputs": [],
   "source": [
    "# Model name for storage\n",
    "fig_name = f\"SympModel_4FQ_HW={household_weight}_NW={neighbor_weight}_FW={food_weight}_TransR={transmission_rate}_RecR={recovery_rate}_ProgR={progression_rate}_HospR={hosp_rate}_CritR={sum(crit_rate)/len(crit_rate)}_DeathR={death_rate}_initI_S={init_symp_cases}_initI_A={init_asymp_cases}_T={t_steps}\""
   ]
  },
  {
   "cell_type": "code",
   "execution_count": null,
   "metadata": {},
   "outputs": [],
   "source": [
    "output_df = results_to_df(simulation_results_4fq, store=True, store_name=f\"results/{fig_name}.csv\")"
   ]
  },
  {
   "cell_type": "code",
   "execution_count": null,
   "metadata": {},
   "outputs": [],
   "source": [
    "output_df"
   ]
  },
  {
   "cell_type": "code",
   "execution_count": null,
   "metadata": {},
   "outputs": [],
   "source": [
    "fig, ax = model_4fq.figure_basic()#vlines=interventions.get_checkpoints()['t'])\n",
    "fig.savefig(f\"plots/{fig_name}_figBasic.png\")"
   ]
  },
  {
   "cell_type": "code",
   "execution_count": null,
   "metadata": {},
   "outputs": [],
   "source": [
    "t_steps = 200\n",
    "node_states, simulation_results_8fq = run_simulation(model_8fq t_steps)"
   ]
  },
  {
   "cell_type": "code",
   "execution_count": null,
   "metadata": {},
   "outputs": [],
   "source": [
    "# Model name for storage\n",
    "fig_name = f\"SympModel_8FQ_HW={household_weight}_NW={neighbor_weight}_FW={food_weight}_TransR={transmission_rate}_RecR={recovery_rate}_ProgR={progression_rate}_HospR={hosp_rate}_CritR={sum(crit_rate)/len(crit_rate)}_DeathR={death_rate}_initI_S={init_symp_cases}_initI_A={init_asymp_cases}_T={t_steps}\""
   ]
  },
  {
   "cell_type": "code",
   "execution_count": null,
   "metadata": {},
   "outputs": [],
   "source": [
    "output_df = results_to_df(simulation_results_8fq, store=True, store_name=f\"results/{fig_name}.csv\")"
   ]
  },
  {
   "cell_type": "code",
   "execution_count": null,
   "metadata": {},
   "outputs": [],
   "source": [
    "output_df"
   ]
  },
  {
   "cell_type": "code",
   "execution_count": null,
   "metadata": {},
   "outputs": [],
   "source": [
    "fig, ax = model_8fq.figure_basic()#vlines=interventions.get_checkpoints()['t'])\n",
    "fig.savefig(f\"plots/{fig_name}_figBasic.png\")"
   ]
  },
  {
   "cell_type": "markdown",
   "metadata": {},
   "source": [
    "#### 7.2) Running the multiple food queues model with interventions"
   ]
  },
  {
   "cell_type": "code",
   "execution_count": null,
   "metadata": {},
   "outputs": [],
   "source": [
    "# Model construction for multiple food queues in addition to other interventions\n",
    "interventions_model_4fq = SymptomaticSEIRSNetworkModel(G=graph_4fq, Q=quarantine_graph_4fq beta=transmission_rate, sigma=progression_rate, gamma=recovery_rate, \n",
    "                                         lamda=progression_rate, mu_H=crit_rate, eta=hosp_rate, p=prob_global_contact, a=prob_asymptomatic, f=death_rate, \n",
    "                                         h=prob_symp_to_hosp, q=prob_detected_global_contact, initI_S=init_symp_cases, initI_A=init_asymp_cases, store_Xseries=True)\n",
    "\n",
    "interventions_model_8fq = SymptomaticSEIRSNetworkModel(G=graph_8fq, Q=quarantine_graph_8fq, beta=transmission_rate, sigma=progression_rate, gamma=recovery_rate, \n",
    "                                         lamda=progression_rate, mu_H=crit_rate, eta=hosp_rate, p=prob_global_contact, a=prob_asymptomatic, f=death_rate, \n",
    "                                         h=prob_symp_to_hosp, q=prob_detected_global_contact, initI_S=init_symp_cases, initI_A=init_asymp_cases, store_Xseries=True)"
   ]
  },
  {
   "cell_type": "code",
   "execution_count": null,
   "metadata": {},
   "outputs": [],
   "source": [
    "## Interventions for graph with 4 food queues \n",
    "interventions.clear()\n",
    "\n",
    "# Simulate quarantine + masks\n",
    "interventions.add(quarantine_graph_4fq, 3, beta=transmission_rate*reduction_percentage)\n",
    "\n",
    "# Simulate HALT of quarantine but people still have to wear masks\n",
    "interventions.add(graph_4fq, 63, beta=transmission_rate*reduction_percentage)\n",
    "\n",
    "# Simulate HALT of wearing masks\n",
    "interventions.add(graph_4fq, 93, beta=transmission_rate)\n",
    "\n",
    "checkpoints = interventions.get_checkpoints()"
   ]
  },
  {
   "cell_type": "code",
   "execution_count": null,
   "metadata": {},
   "outputs": [],
   "source": [
    "t_steps = 200\n",
    "node_states, simulation_results_4fq = run_simulation(model_4fq, t_steps)"
   ]
  },
  {
   "cell_type": "code",
   "execution_count": null,
   "metadata": {},
   "outputs": [],
   "source": [
    "# Model name for storage - adjust accordingly to interventions\n",
    "mean_degree = round(sum([degree for node, degree in quarantine_graph_4fq.degree])/len(quarantine_graph_4fq.degree), 3) # Get the mean degree\n",
    "quarantine_duration = \"3-63\"\n",
    "\n",
    "fig_name = f\"InterventionsSympModel4FQ_HW={household_weight}_NW={neighbor_weight}_FW={food_weight}_TransR={transmission_rate}_RecR={recovery_rate}_ProgR={progression_rate}_HospR={hosp_rate}_CritRate={sum(crit_rate)/len(crit_rate)}_DeathR={death_rate}_initI_S={init_symp_cases}_initI_A={init_asymp_cases}_T={t_steps}_QDeg={mean_degree}_QDur={quarantine_duration}\""
   ]
  },
  {
   "cell_type": "code",
   "execution_count": null,
   "metadata": {},
   "outputs": [],
   "source": [
    "output_df = results_to_df(intervention_results, store=True, store_name=f\"results/{fig_name}.csv\")"
   ]
  },
  {
   "cell_type": "code",
   "execution_count": null,
   "metadata": {},
   "outputs": [],
   "source": [
    "output_df"
   ]
  },
  {
   "cell_type": "code",
   "execution_count": null,
   "metadata": {},
   "outputs": [],
   "source": [
    "fig, ax = interventions_model_4fq.figure_basic()#vlines=interventions.get_checkpoints()['t'])\n",
    "fig.savefig(f\"plots/{fig_name}_figBasic.png\")"
   ]
  },
  {
   "cell_type": "code",
   "execution_count": null,
   "metadata": {},
   "outputs": [],
   "source": [
    "## Interventions for graph with 8 food queues \n",
    "interventions.clear()\n",
    "\n",
    "# Simulate quarantine + masks\n",
    "interventions.add(quarantine_graph_8fq, 3, beta=transmission_rate*reduction_percentage)\n",
    "\n",
    "# Simulate HALT of quarantine but people still have to wear masks\n",
    "interventions.add(graph_8fq, 63, beta=transmission_rate*reduction_percentage)\n",
    "\n",
    "# Simulate HALT of wearing masks\n",
    "interventions.add(graph_8fq, 93, beta=transmission_rate)\n",
    "\n",
    "checkpoints = interventions.get_checkpoints()"
   ]
  },
  {
   "cell_type": "code",
   "execution_count": null,
   "metadata": {},
   "outputs": [],
   "source": [
    "t_steps = 200\n",
    "node_states, simulation_results_4fq = run_simulation(model_4fq, t_steps)"
   ]
  },
  {
   "cell_type": "code",
   "execution_count": null,
   "metadata": {},
   "outputs": [],
   "source": [
    "# Model name for storage - adjust accordingly to interventions\n",
    "mean_degree = round(sum([degree for node, degree in quarantine_graph_8fq.degree])/len(quarantine_graph_8fq.degree), 3) # Get the mean degree\n",
    "quarantine_duration = \"3-63\"\n",
    "\n",
    "fig_name = f\"InterventionsSympModel8FQ_HW={household_weight}_NW={neighbor_weight}_FW={food_weight}_TransR={transmission_rate}_RecR={recovery_rate}_ProgR={progression_rate}_HospR={hosp_rate}_CritRate={sum(crit_rate)/len(crit_rate)}_DeathR={death_rate}_initI_S={init_symp_cases}_initI_A={init_asymp_cases}_T={t_steps}_QDeg={mean_degree}_QDur={quarantine_duration}\""
   ]
  },
  {
   "cell_type": "code",
   "execution_count": null,
   "metadata": {},
   "outputs": [],
   "source": [
    "output_df = results_to_df(intervention_results, store=True, store_name=f\"results/{fig_name}.csv\")"
   ]
  },
  {
   "cell_type": "code",
   "execution_count": null,
   "metadata": {},
   "outputs": [],
   "source": [
    "output_df"
   ]
  },
  {
   "cell_type": "code",
   "execution_count": null,
   "metadata": {},
   "outputs": [],
   "source": [
    "fig, ax = interventions_model_8fq.figure_basic()#vlines=interventions.get_checkpoints()['t'])\n",
    "fig.savefig(f\"plots/{fig_name}_figBasic.png\")"
   ]
  },
  {
   "cell_type": "code",
   "execution_count": null,
   "metadata": {},
   "outputs": [],
   "source": []
  }
 ],
 "metadata": {
  "kernelspec": {
   "display_name": "Data Science",
   "language": "python",
   "name": "dsci"
  },
  "language_info": {
   "codemirror_mode": {
    "name": "ipython",
    "version": 3
   },
   "file_extension": ".py",
   "mimetype": "text/x-python",
   "name": "python",
   "nbconvert_exporter": "python",
   "pygments_lexer": "ipython3",
   "version": "3.7.7"
  },
  "widgets": {
   "application/vnd.jupyter.widget-state+json": {
    "state": {},
    "version_major": 2,
    "version_minor": 0
   }
  }
 },
 "nbformat": 4,
 "nbformat_minor": 4
}
