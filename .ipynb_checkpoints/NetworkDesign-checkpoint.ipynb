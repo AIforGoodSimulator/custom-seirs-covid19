{
 "cells": [
  {
   "cell_type": "code",
   "execution_count": null,
   "metadata": {},
   "outputs": [],
   "source": [
    "import networkx as nx\n",
    "import numpy as np"
   ]
  },
  {
   "cell_type": "markdown",
   "metadata": {},
   "source": [
    "### Specifying parameters from Tucker model"
   ]
  },
  {
   "cell_type": "code",
   "execution_count": null,
   "metadata": {},
   "outputs": [],
   "source": [
    "n_pop = 18700\n",
    "\n",
    "# Isoboxes\n",
    "n_isoboxes = 810\n",
    "pop_isoboxes = 8100\n",
    "pop_per_isobox = 10\n",
    "\n",
    "# Tents\n",
    "n_tents = 2650\n",
    "pop_tents = 10600\n",
    "pop_per_tent = 4\n",
    "\n",
    "# Others \n",
    "n_bathrooms = 144\n",
    "n_ethnic_groups = 8"
   ]
  },
  {
   "cell_type": "code",
   "execution_count": null,
   "metadata": {},
   "outputs": [],
   "source": [
    "population = list(range(n_pop))"
   ]
  },
  {
   "cell_type": "code",
   "execution_count": null,
   "metadata": {},
   "outputs": [],
   "source": [
    "g = nx.Graph()"
   ]
  },
  {
   "cell_type": "code",
   "execution_count": null,
   "metadata": {},
   "outputs": [],
   "source": [
    "for i in range(pop_isoboxes):\n",
    "    g.add_node(i)"
   ]
  },
  {
   "cell_type": "markdown",
   "metadata": {},
   "source": [
    "### Assigning population to isoboxes"
   ]
  },
  {
   "cell_type": "code",
   "execution_count": null,
   "metadata": {},
   "outputs": [],
   "source": [
    "max_pop_per_isobox = poisson.rvs(mu=10, size=810)"
   ]
  },
  {
   "cell_type": "code",
   "execution_count": null,
   "metadata": {},
   "outputs": [],
   "source": [
    "max_pop_per_isobox[:10]"
   ]
  },
  {
   "cell_type": "code",
   "execution_count": null,
   "metadata": {},
   "outputs": [],
   "source": [
    "g = nx.Graph()\n",
    "iso_count = np.zeros(shape=(810))\n",
    "nodes_per_isobox = [[] for i in range(810)]\n",
    "\n",
    "for node in range(pop_isoboxes):\n",
    "    g.add_node(node)\n",
    "    \n",
    "    iso_num = np.random.choice(range(810))\n",
    "    while iso_count[iso_num] == max_pop_per_isobox[iso_num]:\n",
    "        iso_num = np.random.choice(range(810))\n",
    "    \n",
    "    g.nodes[node][\"isobox_num\"] = iso_num\n",
    "    iso_count[iso_num] += 1\n",
    "    \n",
    "    nodes_per_isobox[iso_num].append(node)\n"
   ]
  },
  {
   "cell_type": "markdown",
   "metadata": {},
   "source": [
    "### Add connections between people from the same isobox"
   ]
  },
  {
   "cell_type": "code",
   "execution_count": null,
   "metadata": {},
   "outputs": [],
   "source": [
    "import itertools"
   ]
  },
  {
   "cell_type": "code",
   "execution_count": null,
   "metadata": {},
   "outputs": [],
   "source": [
    "for node_list in nodes_per_isobox:\n",
    "    edge_list = [tup for tup in list(itertools.product(node_list, repeat=2)) if tup[0] != tup[1]]\n",
    "    g.add_edges_from(edge_list)"
   ]
  },
  {
   "cell_type": "markdown",
   "metadata": {},
   "source": [
    "### Create FRIENDSHIP GRID"
   ]
  },
  {
   "cell_type": "code",
   "execution_count": null,
   "metadata": {},
   "outputs": [],
   "source": [
    "width = 29\n",
    "height = 28\n",
    "\n",
    "iso_grid = np.zeros(shape=(width, height)).astype(int)\n",
    "\n",
    "iso_n = 0\n",
    "\n",
    "for i in range(width):\n",
    "    for j in range(height):\n",
    "        iso_grid[i][j] = iso_n\n",
    "        iso_n += 1\n",
    "\n",
    "\n",
    "iso_grid"
   ]
  },
  {
   "cell_type": "code",
   "execution_count": null,
   "metadata": {},
   "outputs": [],
   "source": [
    "# At most 8 isobox neghbors if degree = 1, 24 if degree = 2, neighbors= (2*degree+1)^2 - 1\n",
    "# Access neighbors through formula of degree and grid, connect them using node properties ethnicity and gender\n",
    "n_neighbors = ((2*iso_proximity+1)**2)-1\n",
    "n_neighbors"
   ]
  },
  {
   "cell_type": "code",
   "execution_count": null,
   "metadata": {},
   "outputs": [],
   "source": [
    "def get_iso_neighbors(grid, iso_coords, proximity):\n",
    "    \"\"\" Given a grid of isobox numbers, returns the closest proximity neighbors to the given isobox\n",
    "    \n",
    "        params:\n",
    "        - Grid: 2D numpy array\n",
    "        - iso_coords: (x, y) tuple\n",
    "        - proximity: int\n",
    "    \"\"\"\n",
    "    \n",
    "    # Define the coordinates of the neighbors of the current isobox based on the proximity criteria\n",
    "    x_coords = [max(iso_coords[0] - i, 0) for i in range(1, proximity + 1)] \n",
    "    x_coords.extend([min(iso_coords[0] + i, len(grid[0])) for i in range(1, proximity + 1)] + [iso_coords[0]])\n",
    "\n",
    "    y_coords = [max(iso_coords[1] - i, 0) for i in range(1, proximity + 1)]\n",
    "    y_coords.extend([min(iso_coords[1] + i, len(grid)) for i in range(1, proximity + 1)] + [iso_coords[1]])\n",
    "    \n",
    "    # Return the isobox numbers of the neighbors themselves\n",
    "    return [iso_grid[x][y] for (x, y) in set(itertools.product(x_coords, y_coords)) if (x != iso_coords[0] or y != iso_coords[1])]"
   ]
  },
  {
   "cell_type": "code",
   "execution_count": null,
   "metadata": {},
   "outputs": [],
   "source": [
    "# Assumption: people of same node properties interact if they are within close (variable=1) isobox proximity\n",
    "iso_proximity = 2\n",
    "isobox_x, isobox_y = 0, 0\n",
    "isobox_neighbors = get_iso_neighbors(iso_grid, (isobox_x, isobox_y), iso_proximity)"
   ]
  },
  {
   "cell_type": "code",
   "execution_count": null,
   "metadata": {},
   "outputs": [],
   "source": [
    "isobox_neighbors.sort()\n",
    "isobox_neighbors"
   ]
  },
  {
   "cell_type": "code",
   "execution_count": null,
   "metadata": {},
   "outputs": [],
   "source": [
    "def connect_with_neighbors(graph, iso_grid, iso_proximity, ethnicity):\n",
    "    \"\"\"\n",
    "        TEMPORARY: Only connect nodes that share the same ethnicity\n",
    "        TODO: Don't add edges if we have added them already (don't search for things twice?)\n",
    "    \"\"\"\n",
    "    \n",
    "    \n",
    "    # For every possible isobox:\n",
    "    for isobox in range(n_isoboxes):\n",
    "        \n",
    "        # Get all the nodes in the current isobox\n",
    "        nodes = [node for node, attr in graph.nodes(data=True) if attr[\"isobox_num\"] == isobox]\n",
    "        \n",
    "        # Get the coordinates of the isobox in the grid\n",
    "        isobox_coords = (np.where(iso_grid == isobox)[0][0], np.where(iso_grid == isobox)[1][0])\n",
    "        \n",
    "        # Given its isobox number and coordinates in the iso grid, get its neighbor isoboxes\n",
    "        isobox_neighbors = get_iso_neighbors(iso_grid, isobox_coords, iso_proximity)\n",
    "        \n",
    "        # For every neighbor isobox:\n",
    "        for iso_neighbor in isobox_neighbors:\n",
    "            \n",
    "            # Get all the nodes in that isobox neighbor\n",
    "            neighbor_nodes = [node for node, attr in graph.nodes(data=True) if attr[\"isobox_num\"] == iso_neighbor]\n",
    "            \n",
    "            # If they share the same properties, draw an edge between them\n",
    "            graph.add_edges_from([(node, neighbor_node) for node in nodes \\\n",
    "                                  for neighbor_node in neighbor_nodes if node[\"ethnicity\"] == neighbor_node[\"ethnicity\"]])\n",
    "            \n",
    "    "
   ]
  },
  {
   "cell_type": "code",
   "execution_count": null,
   "metadata": {},
   "outputs": [],
   "source": []
  }
 ],
 "metadata": {
  "kernelspec": {
   "display_name": "Python 3",
   "language": "python",
   "name": "python3"
  },
  "language_info": {
   "codemirror_mode": {
    "name": "ipython",
    "version": 3
   },
   "file_extension": ".py",
   "mimetype": "text/x-python",
   "name": "python",
   "nbconvert_exporter": "python",
   "pygments_lexer": "ipython3",
   "version": "3.6.8"
  }
 },
 "nbformat": 4,
 "nbformat_minor": 4
}
