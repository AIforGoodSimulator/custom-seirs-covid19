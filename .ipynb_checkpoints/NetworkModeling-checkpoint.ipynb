{
 "cells": [
  {
   "cell_type": "markdown",
   "metadata": {},
   "source": [
    "# Network Modeling with SEIRS+ Notebook "
   ]
  },
  {
   "cell_type": "code",
   "execution_count": 1,
   "metadata": {},
   "outputs": [],
   "source": [
    "import networkx as nx\n",
    "import pandas as pd\n",
    "import numpy as np\n",
    "import matplotlib.pyplot as plt\n",
    "from scipy.stats import poisson\n",
    "from seirsplus.models import *\n",
    "from network_utils import *\n",
    "from stats_utils import *\n",
    "from intervention_utils import *"
   ]
  },
  {
   "cell_type": "markdown",
   "metadata": {},
   "source": [
    "### Parameters\n",
    "\n",
    "Here, we define the parameters taken from the Tucker model. These can be customized further and then the rest of the cells can be run. For now we are only using the population in isoboxes to run our experiments and create the network, but we will soon include the tent population as well!"
   ]
  },
  {
   "cell_type": "code",
   "execution_count": 2,
   "metadata": {},
   "outputs": [],
   "source": [
    "n_pop = 18700\n",
    "\n",
    "# Isoboxes\n",
    "n_isoboxes = 812\n",
    "pop_isoboxes = 8100\n",
    "pop_per_isobox = 10\n",
    "max_pop_per_isobox  = poisson.rvs(mu=pop_per_isobox, size=n_isoboxes) # According to the model, this is drawn through a poison distribution\n",
    "\n",
    "# Tents\n",
    "n_tents = 2650\n",
    "pop_tents = 10600\n",
    "pop_per_tent = 4\n",
    "\n",
    "# Others \n",
    "n_bathrooms = 144\n",
    "n_ethnic_groups = 8\n",
    "\n",
    "# Isobox grid parameters - can be extended to tents as well\n",
    "grid_width = 29\n",
    "grid_height = 28\n",
    "\n",
    "# We define neighboring isoboxes as any isobox within a range of 2 in the isobox grid\n",
    "iso_proximity = 2\n",
    "\n",
    "# Sample the population age, and parameter rates\n",
    "sample_pop = sample_population(pop_isoboxes)"
   ]
  },
  {
   "cell_type": "markdown",
   "metadata": {},
   "source": [
    "#### 1.2) Create tent graphs"
   ]
  },
  {
   "cell_type": "code",
   "execution_count": null,
   "metadata": {},
   "outputs": [],
   "source": [
    "tent_weight = 0.98 # Edge weight for connections within each isobox\n",
    "graph, nodes_per_isobox = create_graph(n_isoboxes, pop_isoboxes, max_pop_per_isobox, \n",
    "                                       edge_weight=iso_weight, label=\"household\", age_list=list(sample_pop[\"age\"]),\n",
    "                                      n_ethnicities=n_ethnic_groups)"
   ]
  },
  {
   "cell_type": "markdown",
   "metadata": {},
   "source": [
    "### Basic Network\n",
    "\n",
    "#### 1) Create isobox graph - can be used to create tent graphs as well"
   ]
  },
  {
   "cell_type": "code",
   "execution_count": 4,
   "metadata": {},
   "outputs": [
    {
     "name": "stderr",
     "output_type": "stream",
     "text": [
      "100%|██████████| 8100/8100 [00:00<00:00, 12961.08it/s]\n"
     ]
    }
   ],
   "source": [
    "iso_weight = 0.98 # Edge weight for connections within each isobox\n",
    "start_index = 0\n",
    "graph, nodes_per_isobox = create_graph(n_isoboxes, start_index, pop_isoboxes, max_pop_per_isobox, \n",
    "                                       edge_weight=iso_weight, label=\"household\", age_list=list(sample_pop[\"age\"]),\n",
    "                                      n_ethnicities=n_ethnic_groups)"
   ]
  },
  {
   "cell_type": "markdown",
   "metadata": {},
   "source": [
    "#### 2) Create the grid that will help with positioning when measuring proximity"
   ]
  },
  {
   "cell_type": "code",
   "execution_count": 6,
   "metadata": {},
   "outputs": [],
   "source": [
    "starting_struct_num = 0\n",
    "isobox_grid = create_grid(grid_width, grid_height, starting_struct_num)"
   ]
  },
  {
   "cell_type": "markdown",
   "metadata": {},
   "source": [
    "#### 3) Connect the nodes that are within a certain degree of proximity - can be used for tents as well"
   ]
  },
  {
   "cell_type": "code",
   "execution_count": 7,
   "metadata": {},
   "outputs": [],
   "source": [
    "neighbor_weight = 0.017 # Edge weight for connections between isoboxes\n",
    "graph = connect_neighbors(graph, n_isoboxes, nodes_per_isobox, isobox_grid, iso_proximity, neighbor_weight, \"friendship\")"
   ]
  },
  {
   "cell_type": "markdown",
   "metadata": {},
   "source": [
    "#### 4) Connect the nodes that go to the food line - can be extended to all nodes\n",
    "Assumption: 2 people from each isobox are randomly selected to get food, and then we connect each person from the food queue with the previous + next 5 people near them."
   ]
  },
  {
   "cell_type": "code",
   "execution_count": 8,
   "metadata": {},
   "outputs": [],
   "source": [
    "food_weight = 0.407 # Edge weight for connections in the food queue \n",
    "graph = connect_food_queue(graph, nodes_per_isobox, food_weight, \"food_bois\") "
   ]
  },
  {
   "cell_type": "markdown",
   "metadata": {},
   "source": [
    "#### 5) Plot the basic network degrees"
   ]
  },
  {
   "cell_type": "code",
   "execution_count": 9,
   "metadata": {},
   "outputs": [
    {
     "data": {
      "text/plain": [
       "(15, 67)"
      ]
     },
     "execution_count": 9,
     "metadata": {},
     "output_type": "execute_result"
    }
   ],
   "source": [
    "min_G, max_G = min_degree(graph), max_degree(graph)\n",
    "min_G, max_G"
   ]
  },
  {
   "cell_type": "code",
   "execution_count": 11,
   "metadata": {},
   "outputs": [
    {
     "data": {
      "image/png": "[encoded data removed]",
      "text/plain": [
       "<Figure size 432x288 with 1 Axes>"
      ]
     },
     "metadata": {},
     "output_type": "display_data"
    }
   ],
   "source": [
    "plot_degree_distn(graph, max_degree=max_G)"
   ]
  },
  {
   "cell_type": "markdown",
   "metadata": {},
   "source": [
    "### Quarantine/Social Distancing Network\n",
    "\n",
    "#### 1) Create simple quarantine graph\n",
    "NOTE: We should tweak the reduction scale depending on what we want our mean degree to be + the min_neighbors parameter depending on how many people we think a person will be in contact with during a social distancing scenario"
   ]
  },
  {
   "cell_type": "code",
   "execution_count": null,
   "metadata": {},
   "outputs": [],
   "source": [
    "reduction_scale = 10 # Exponential distribution parameter. Setting it to 20 gives a mean of ~10, when the past mean was ~40\n",
    "min_neighbors = 4 # The minimum number of connections that a person would hold in a distancing/quarantine scenario"
   ]
  },
  {
   "cell_type": "code",
   "execution_count": null,
   "metadata": {},
   "outputs": [],
   "source": [
    "Q = custom_exponential_graph(graph, scale=reduction_scale, min_num_edges=min_neighbors)"
   ]
  },
  {
   "cell_type": "markdown",
   "metadata": {},
   "source": [
    "#### 2) Plot quarantine graph degrees"
   ]
  },
  {
   "cell_type": "code",
   "execution_count": null,
   "metadata": {},
   "outputs": [],
   "source": [
    "min_Q, max_Q = min_degree(Q), max_degree(Q)\n",
    "min_Q, max_Q"
   ]
  },
  {
   "cell_type": "code",
   "execution_count": null,
   "metadata": {},
   "outputs": [],
   "source": [
    "plot_degree_distn(Q, max_degree=max_Q)"
   ]
  },
  {
   "cell_type": "markdown",
   "metadata": {},
   "source": [
    "### Interventions\n",
    "\n",
    "With the interventions module, we can create an intervention with just a time step and a custom network referring to that intervention, as well as remove/edit them from the list. The method get_checkpoints() will allow us to get the dictionary to be fed to the SEIRS+ model"
   ]
  },
  {
   "cell_type": "code",
   "execution_count": null,
   "metadata": {},
   "outputs": [],
   "source": [
    "interventions = Interventions()"
   ]
  },
  {
   "cell_type": "code",
   "execution_count": null,
   "metadata": {},
   "outputs": [],
   "source": [
    "interventions.add(15, Q)\n",
    "interventions.add(45, graph)\n",
    "interventions.add(\"dummy\", Q)"
   ]
  },
  {
   "cell_type": "code",
   "execution_count": null,
   "metadata": {},
   "outputs": [],
   "source": [
    "interventions.get_checkpoints()"
   ]
  },
  {
   "cell_type": "code",
   "execution_count": null,
   "metadata": {},
   "outputs": [],
   "source": [
    "interventions.remove('dummy')"
   ]
  },
  {
   "cell_type": "code",
   "execution_count": null,
   "metadata": {},
   "outputs": [],
   "source": [
    "interventions.get_checkpoints()"
   ]
  },
  {
   "cell_type": "code",
   "execution_count": 31,
   "metadata": {},
   "outputs": [],
   "source": [
    "transmission_rate = 1.28\n",
    "progression_rate = 1/5.1\n",
    "recovery_rate = 0.056 # Approx 1/18 -> Recovery occurs after 18 days\n",
    "hosp_rate = 1/11.4 #1/6.3 # From Tucker Model\n",
    "crit_rate = 0.3 # From camp_params\n",
    "\n",
    "prob_global_contact = 1\n",
    "prob_detected_global_contact = 1\n",
    "\n",
    "\n",
    "\n",
    "prob_hosp_to_critical = list(sample_pop[\"death_rate\"]/sample_pop[\"prob_hospitalisation\"])\n",
    "prob_asymptomatic = list(1 - sample_pop[\"prob_symptomatic\"])\n",
    "prob_symp_to_hosp = list(sample_pop[\"prob_hospitalisation\"])\n",
    "\n",
    "init_symp_cases = 1\n",
    "init_asymp_cases = 0"
   ]
  },
  {
   "cell_type": "code",
   "execution_count": 103,
   "metadata": {},
   "outputs": [],
   "source": [
    "# checkpoints = interventions.get_checkpoints()\n",
    "\n",
    "ref_model = SymptomaticSEIRSNetworkModel(G=graph, beta=transmission_rate, sigma=progression_rate, gamma=recovery_rate, \n",
    "                                         lamda=progression_rate, mu_H=crit_rate, eta=hosp_rate, p=prob_global_contact, a=prob_asymptomatic, f=prob_hosp_to_critical, \n",
    "                                         h=prob_symp_to_hosp, q=prob_detected_global_contact, initI_S=init_symp_cases, initI_A=init_asymp_cases, store_Xseries=True)\n",
    "\n",
    "fig_name = f\"SymptomaticModel_IsoWeight={iso_weight}_NeighWeight={neighbor_weight}_FoodWeight={food_weight}_ + \\\n",
    "TransRate={transmission_rate}_RecRate={recovery_rate}_ProgRate={progression_rate}_HospRate={hosp_rate}_initI_S={init_symp_cases}_initI_A={init_asymp_cases}\"\n",
    "\n",
    "# ref_model.run(T=10, verbose=True)#, checkpoints=checkpoints)"
   ]
  },
  {
   "cell_type": "code",
   "execution_count": 105,
   "metadata": {},
   "outputs": [
    {
     "name": "stderr",
     "output_type": "stream",
     "text": [
      "100%|██████████| 20/20 [00:47<00:00,  2.40s/it]\n"
     ]
    }
   ],
   "source": [
    "node_states, simulation_results = run_simulation(ref_model, 20, print_info=False, store_every=1)"
   ]
  },
  {
   "cell_type": "code",
   "execution_count": 110,
   "metadata": {},
   "outputs": [
    {
     "data": {
      "text/plain": [
       "{1: array([[1, 1, 1, ..., 1, 1, 1]]),\n",
       " 2: array([[1, 1, 1, ..., 1, 1, 1]]),\n",
       " 3: array([[1, 1, 1, ..., 1, 1, 1]]),\n",
       " 4: array([[1, 1, 1, ..., 1, 1, 1]]),\n",
       " 5: array([[1, 1, 1, ..., 1, 1, 1]]),\n",
       " 6: array([[1, 1, 1, ..., 1, 1, 1]]),\n",
       " 7: array([[1, 1, 1, ..., 1, 1, 1]]),\n",
       " 8: array([[1, 1, 1, ..., 1, 1, 1]]),\n",
       " 9: array([[1, 1, 1, ..., 1, 1, 1]]),\n",
       " 10: array([[1, 1, 1, ..., 1, 1, 1]]),\n",
       " 11: array([[1, 1, 1, ..., 1, 1, 1]]),\n",
       " 12: array([[1, 1, 1, ..., 1, 1, 1]]),\n",
       " 13: array([[1, 1, 1, ..., 1, 1, 1]]),\n",
       " 14: array([[1, 1, 1, ..., 1, 1, 1]]),\n",
       " 15: array([[1, 1, 1, ..., 1, 1, 1]]),\n",
       " 16: array([[1, 1, 1, ..., 1, 1, 1]]),\n",
       " 17: array([[1, 1, 1, ..., 1, 1, 1]]),\n",
       " 18: array([[1, 2, 2, ..., 2, 1, 1]]),\n",
       " 19: array([[2, 2, 2, ..., 2, 1, 1]]),\n",
       " 20: array([[2, 2, 2, ..., 2, 1, 1]])}"
      ]
     },
     "execution_count": 110,
     "metadata": {},
     "output_type": "execute_result"
    }
   ],
   "source": [
    "node_states"
   ]
  },
  {
   "cell_type": "code",
   "execution_count": 111,
   "metadata": {},
   "outputs": [
    {
     "data": {
      "text/plain": [
       "defaultdict(list,\n",
       "            {'Symptomatic': [8096.0,\n",
       "              8095.0,\n",
       "              8091.0,\n",
       "              8085.0,\n",
       "              8081.0,\n",
       "              8069.0,\n",
       "              8060.0,\n",
       "              8028.0,\n",
       "              7989.0,\n",
       "              7929.0,\n",
       "              7872.0,\n",
       "              7754.0,\n",
       "              7583.0,\n",
       "              7355.0,\n",
       "              7034.0,\n",
       "              6586.0,\n",
       "              5956.0,\n",
       "              5195.0,\n",
       "              4285.0,\n",
       "              3269.0],\n",
       "             'Exposed': [3.0,\n",
       "              4.0,\n",
       "              6.0,\n",
       "              11.0,\n",
       "              15.0,\n",
       "              24.0,\n",
       "              26.0,\n",
       "              52.0,\n",
       "              81.0,\n",
       "              118.0,\n",
       "              154.0,\n",
       "              225.0,\n",
       "              340.0,\n",
       "              476.0,\n",
       "              686.0,\n",
       "              979.0,\n",
       "              1370.0,\n",
       "              1812.0,\n",
       "              2315.0,\n",
       "              2830.0],\n",
       "             'Infected_Presymptomatic': [0.0,\n",
       "              0.0,\n",
       "              2.0,\n",
       "              3.0,\n",
       "              3.0,\n",
       "              6.0,\n",
       "              11.0,\n",
       "              16.0,\n",
       "              23.0,\n",
       "              39.0,\n",
       "              55.0,\n",
       "              86.0,\n",
       "              116.0,\n",
       "              177.0,\n",
       "              246.0,\n",
       "              348.0,\n",
       "              508.0,\n",
       "              721.0,\n",
       "              961.0,\n",
       "              1239.0],\n",
       "             'Infected_Symptomatic': [1.0,\n",
       "              1.0,\n",
       "              1.0,\n",
       "              1.0,\n",
       "              1.0,\n",
       "              1.0,\n",
       "              1.0,\n",
       "              2.0,\n",
       "              3.0,\n",
       "              5.0,\n",
       "              8.0,\n",
       "              17.0,\n",
       "              24.0,\n",
       "              33.0,\n",
       "              50.0,\n",
       "              70.0,\n",
       "              99.0,\n",
       "              144.0,\n",
       "              197.0,\n",
       "              266.0],\n",
       "             'Infected_Asymptomatic': [0.0,\n",
       "              0.0,\n",
       "              0.0,\n",
       "              0.0,\n",
       "              0.0,\n",
       "              0.0,\n",
       "              2.0,\n",
       "              2.0,\n",
       "              4.0,\n",
       "              9.0,\n",
       "              9.0,\n",
       "              15.0,\n",
       "              31.0,\n",
       "              47.0,\n",
       "              66.0,\n",
       "              94.0,\n",
       "              130.0,\n",
       "              179.0,\n",
       "              266.0,\n",
       "              379.0],\n",
       "             'Hospitalized': [0.0,\n",
       "              0.0,\n",
       "              0.0,\n",
       "              0.0,\n",
       "              0.0,\n",
       "              0.0,\n",
       "              0.0,\n",
       "              0.0,\n",
       "              0.0,\n",
       "              0.0,\n",
       "              0.0,\n",
       "              0.0,\n",
       "              0.0,\n",
       "              0.0,\n",
       "              1.0,\n",
       "              2.0,\n",
       "              3.0,\n",
       "              4.0,\n",
       "              5.0,\n",
       "              4.0],\n",
       "             'Recovered': [0.0,\n",
       "              0.0,\n",
       "              0.0,\n",
       "              0.0,\n",
       "              0.0,\n",
       "              0.0,\n",
       "              0.0,\n",
       "              0.0,\n",
       "              0.0,\n",
       "              0.0,\n",
       "              2.0,\n",
       "              3.0,\n",
       "              6.0,\n",
       "              12.0,\n",
       "              17.0,\n",
       "              21.0,\n",
       "              34.0,\n",
       "              45.0,\n",
       "              71.0,\n",
       "              113.0],\n",
       "             'Fatalities': [0.0,\n",
       "              0.0,\n",
       "              0.0,\n",
       "              0.0,\n",
       "              0.0,\n",
       "              0.0,\n",
       "              0.0,\n",
       "              0.0,\n",
       "              0.0,\n",
       "              0.0,\n",
       "              0.0,\n",
       "              0.0,\n",
       "              0.0,\n",
       "              0.0,\n",
       "              0.0,\n",
       "              0.0,\n",
       "              0.0,\n",
       "              0.0,\n",
       "              0.0,\n",
       "              0.0],\n",
       "             'Detected_Presymptomatic': [0.0,\n",
       "              0.0,\n",
       "              0.0,\n",
       "              0.0,\n",
       "              0.0,\n",
       "              0.0,\n",
       "              0.0,\n",
       "              0.0,\n",
       "              0.0,\n",
       "              0.0,\n",
       "              0.0,\n",
       "              0.0,\n",
       "              0.0,\n",
       "              0.0,\n",
       "              0.0,\n",
       "              0.0,\n",
       "              0.0,\n",
       "              0.0,\n",
       "              0.0,\n",
       "              0.0],\n",
       "             'Detected_Symptomatic': [0.0,\n",
       "              0.0,\n",
       "              0.0,\n",
       "              0.0,\n",
       "              0.0,\n",
       "              0.0,\n",
       "              0.0,\n",
       "              0.0,\n",
       "              0.0,\n",
       "              0.0,\n",
       "              0.0,\n",
       "              0.0,\n",
       "              0.0,\n",
       "              0.0,\n",
       "              0.0,\n",
       "              0.0,\n",
       "              0.0,\n",
       "              0.0,\n",
       "              0.0,\n",
       "              0.0],\n",
       "             'Detected_Asymptomatic': [0.0,\n",
       "              0.0,\n",
       "              0.0,\n",
       "              0.0,\n",
       "              0.0,\n",
       "              0.0,\n",
       "              0.0,\n",
       "              0.0,\n",
       "              0.0,\n",
       "              0.0,\n",
       "              0.0,\n",
       "              0.0,\n",
       "              0.0,\n",
       "              0.0,\n",
       "              0.0,\n",
       "              0.0,\n",
       "              0.0,\n",
       "              0.0,\n",
       "              0.0,\n",
       "              0.0]})"
      ]
     },
     "execution_count": 111,
     "metadata": {},
     "output_type": "execute_result"
    }
   ],
   "source": [
    "simulation_results"
   ]
  },
  {
   "cell_type": "code",
   "execution_count": null,
   "metadata": {},
   "outputs": [],
   "source": [
    "fig, ax = ref_model.figure_basic()#vlines=interventions.get_checkpoints()['t'])\n",
    "fig.savefig(f\"plots/{fig_name}_figBasic.png\")"
   ]
  },
  {
   "cell_type": "code",
   "execution_count": null,
   "metadata": {},
   "outputs": [],
   "source": [
    "fig, ax = ref_model.figure_infections()#vlines=interventions.get_checkpoints()['t'])\n",
    "fig.savefig(f\"plots/{fig_name}_figInfections.png\")"
   ]
  }
 ],
 "metadata": {
  "kernelspec": {
   "display_name": "Data Science",
   "language": "python",
   "name": "dsci"
  },
  "language_info": {
   "codemirror_mode": {
    "name": "ipython",
    "version": 3
   },
   "file_extension": ".py",
   "mimetype": "text/x-python",
   "name": "python",
   "nbconvert_exporter": "python",
   "pygments_lexer": "ipython3",
   "version": "3.7.7"
  }
 },
 "nbformat": 4,
 "nbformat_minor": 4
}
