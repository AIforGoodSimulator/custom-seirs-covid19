{
 "cells": [
  {
   "cell_type": "code",
   "execution_count": 3,
   "metadata": {},
   "outputs": [],
   "source": [
    "import pandas as pd\n",
    "import numpy as np\n",
    "\n",
    "df = pd.read_csv('data/age_and_sex.csv')"
   ]
  },
  {
   "cell_type": "code",
   "execution_count": 4,
   "metadata": {},
   "outputs": [],
   "source": [
    "A_MALES = -9.58814632\n",
    "B_MALES = 0.61453804\n",
    "\n",
    "def deathrate_male(x):\n",
    "    return (1 / (1 + np.exp(-np.sqrt(x) + A_MALES))) * B_MALES\n",
    "\n",
    "A_FEMALES = -9.91023535\n",
    "B_FEMALES = 0.47451181\n",
    "\n",
    "def deathrate_male(x):\n",
    "    return (1 / (1 + np.exp(-np.sqrt(x) + A_FEMALES))) * B_FEMALES"
   ]
  },
  {
   "cell_type": "code",
   "execution_count": null,
   "metadata": {},
   "outputs": [],
   "source": []
  }
 ],
 "metadata": {
  "kernelspec": {
   "display_name": "Python 3",
   "language": "python",
   "name": "python3"
  },
  "language_info": {
   "codemirror_mode": {
    "name": "ipython",
    "version": 3
   },
   "file_extension": ".py",
   "mimetype": "text/x-python",
   "name": "python",
   "nbconvert_exporter": "python",
   "pygments_lexer": "ipython3",
   "version": "3.7.6"
  }
 },
 "nbformat": 4,
 "nbformat_minor": 4
}
