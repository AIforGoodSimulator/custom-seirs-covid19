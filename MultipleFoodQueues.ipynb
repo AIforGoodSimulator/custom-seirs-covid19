{
 "cells": [
  {
   "cell_type": "code",
   "execution_count": 4,
   "metadata": {},
   "outputs": [],
   "source": [
    "import networkx as nx\n",
    "import pandas as pd\n",
    "import numpy as np\n",
    "import matplotlib.pyplot as plt\n",
    "from scipy.stats import poisson\n",
    "from seirsplus.models import *\n",
    "from network_utils import *\n",
    "from stats_utils import *\n",
    "from intervention_utils import *"
   ]
  },
  {
   "cell_type": "code",
   "execution_count": 5,
   "metadata": {},
   "outputs": [],
   "source": [
    "n_pop = 18700\n",
    "\n",
    "# Grid info for isoboxes\n",
    "dims_isoboxes = (29, 28)  # 812\n",
    "\n",
    "# Grid info for tents\n",
    "dims_block1 = (20, 67)  # 1340\n",
    "dims_block2 = (53, 15)  # 795\n",
    "dims_block3 = (19, 28)  # 532\n",
    "\n",
    "# Isoboxes\n",
    "pop_isoboxes = 8100\n",
    "pop_per_isobox = 10\n",
    "n_isoboxes = dims_isoboxes[0]*dims_isoboxes[1]\n",
    "\n",
    "# Tents\n",
    "n_tents = 2650\n",
    "pop_tents = 10600\n",
    "pop_per_tent = 4\n",
    "\n",
    "# Others \n",
    "n_bathrooms = 144\n",
    "n_ethnic_groups = 8\n",
    "\n",
    "# We define neighboring structures within a range of 2 in the structure grid\n",
    "proximity = 2\n",
    "\n",
    "# Define the maximum population per structures (tents and isoboxes) drawn from a poisson distribution\n",
    "max_pop_per_struct_isoboxes = list(poisson.rvs(mu=pop_per_isobox, size=n_isoboxes))\n",
    "max_pop_per_struct_block1 = list(poisson.rvs(mu=pop_per_tent, size=dims_block1[0]*dims_block1[1]))\n",
    "max_pop_per_struct_block2 = list(poisson.rvs(mu=pop_per_tent, size=dims_block2[0]*dims_block2[1]))\n",
    "max_pop_per_struct_block3 = list(poisson.rvs(mu=pop_per_tent, size=dims_block3[0]*dims_block3[1]))\n",
    "\n",
    "max_pop_per_struct = max_pop_per_struct_isoboxes\\\n",
    "                     + max_pop_per_struct_block1\\\n",
    "                     + max_pop_per_struct_block2\\\n",
    "                     + max_pop_per_struct_block3\n",
    "\n",
    "n_structs = len(max_pop_per_struct)\n",
    "\n",
    "# Sample the population age, and parameter rates\n",
    "sample_pop = sample_population(n_pop, \"data/augmented_population.csv\")"
   ]
  },
  {
   "cell_type": "code",
   "execution_count": 6,
   "metadata": {},
   "outputs": [],
   "source": [
    "grid_isoboxes = create_grid(dims_isoboxes[0], dims_isoboxes[1], 0)\n",
    "grid_block1 = create_grid(dims_block1[0], dims_block1[1], grid_isoboxes[-1][-1] + 1)\n",
    "grid_block2 = create_grid(dims_block2[0], dims_block2[1], grid_block1[-1][-1] + 1)\n",
    "grid_block3 = create_grid(dims_block3[0], dims_block3[1], grid_block2[-1][-1] + 1)"
   ]
  },
  {
   "cell_type": "code",
   "execution_count": 7,
   "metadata": {},
   "outputs": [
    {
     "name": "stderr",
     "output_type": "stream",
     "text": [
      "100%|██████████| 18700/18700 [00:26<00:00, 708.43it/s] \n"
     ]
    }
   ],
   "source": [
    "household_weight = 0.98  # Edge weight for connections within each structure\n",
    "graph, nodes_per_struct = create_graph(n_structs, 0, n_pop, max_pop_per_struct, \n",
    "                                       edge_weight=household_weight, label=\"household\",\n",
    "                                       age_list=list(sample_pop[\"age\"]),\n",
    "                                       sex_list = list(sample_pop[\"sex\"]),\n",
    "                                       n_ethnicities=n_ethnic_groups)"
   ]
  },
  {
   "cell_type": "code",
   "execution_count": 12,
   "metadata": {},
   "outputs": [
    {
     "data": {
      "text/plain": [
       "<networkx.classes.graph.Graph at 0x7f3a7f8f8050>"
      ]
     },
     "execution_count": 12,
     "metadata": {},
     "output_type": "execute_result"
    }
   ],
   "source": [
    "def multiple_food_queues(graph, n_food_queues_per_block, food_weight, nodes_per_struct, grids):\n",
    "    for grid in grids:\n",
    "        longest_axis = np.argmax(grid.shape)\n",
    "        index_limit = grid.shape[longest_axis] // n_food_queues_per_block\n",
    "        subgrids = []\n",
    "        if not longest_axis:\n",
    "            for i in range(n_food_queues_per_block):\n",
    "                subgrids.append(grid[i * index_limit:(i + 1) * index_limit, :])\n",
    "        else:\n",
    "            for i in range(n_food_queues_per_block):\n",
    "                subgrids.append(grid[:, i * index_limit:(i + 1) * index_limit])\n",
    "        \n",
    "        for i in range(len(subgrids)):\n",
    "            subgrid = subgrids[i]\n",
    "            nodes_per_struct_subgrid = [nodes_per_struct[subgrid[i][j]] for i in range(len(subgrid)) for j in range(len(subgrid[i]))]\n",
    "            \n",
    "            graph = connect_food_queue(graph, nodes_per_struct_subgrid, food_weight, \"food_%i\" % i)\n",
    "    \n",
    "    return graph\n",
    "\n",
    "food_weight = 0.407\n",
    "multiple_food_queues(graph, 2, food_weight, nodes_per_struct, [grid_isoboxes, grid_block1, grid_block2, grid_block3])"
   ]
  },
  {
   "cell_type": "code",
   "execution_count": 31,
   "metadata": {},
   "outputs": [],
   "source": [
    "nodes_per_struct_isoboxes = [nodes_per_struct[grid_isoboxes[i][j]] for i in range(len(grid_isoboxes)) for j in range(len(grid_isoboxes[i]))]\n",
    "nodes_per_struct_block1 = [nodes_per_struct[grid_block1[i][j]] for i in range(len(grid_block1)) for j in range(len(grid_block1[i]))]\n",
    "nodes_per_struct_block2 = [nodes_per_struct[grid_block2[i][j]] for i in range(len(grid_block2)) for j in range(len(grid_block2[i]))]\n",
    "nodes_per_struct_block3 = [nodes_per_struct[grid_block3[i][j]] for i in range(len(grid_block3)) for j in range(len(grid_block3[i]))]"
   ]
  },
  {
   "cell_type": "code",
   "execution_count": 34,
   "metadata": {},
   "outputs": [],
   "source": [
    "food_weight = 0.407 # Edge weight for connections in the food queue \n",
    "graph = connect_food_queue(graph, nodes_per_struct_isoboxes, food_weight, \"food_isoboxes\")\n",
    "graph = connect_food_queue(graph, nodes_per_struct_block1, food_weight, \"food_block1\")\n",
    "graph = connect_food_queue(graph, nodes_per_struct_block2, food_weight, \"food_block2\")\n",
    "graph = connect_food_queue(graph, nodes_per_struct_block3, food_weight, \"food_block3\")"
   ]
  },
  {
   "cell_type": "code",
   "execution_count": 35,
   "metadata": {},
   "outputs": [],
   "source": [
    "household_weight = 0.98  # Edge weight for connections within each structure\n",
    "neighbor_weight = 0.017\n",
    "food_weight = 0.407 # Edge weight for connections in the food queue \n",
    "\n",
    "transmission_rate = 1.28\n",
    "progression_rate = round(1/5.1, 3)\n",
    "recovery_rate = 0.056 # Approx 1/18 -> Recovery occurs after 18 days\n",
    "hosp_rate = round(1/11.4, 3) #1/6.3 # From Tucker Model\n",
    "# crit_rate = 0.3 # From camp_params\n",
    "crit_rate = list((sample_pop[\"death_rate\"] / sample_pop[\"prob_symptomatic\"]) / sample_pop[\"prob_hospitalisation\"])\n",
    "death_rate = 0.75\n",
    "\n",
    "\n",
    "prob_global_contact = 1\n",
    "prob_detected_global_contact = 1\n",
    "\n",
    "# prob_hosp_to_critical = list(sample_pop[\"death_rate\"]/sample_pop[\"prob_hospitalisation\"])\n",
    "prob_death = list(sample_pop[\"death_rate\"])\n",
    "prob_asymptomatic = list(1 - sample_pop[\"prob_symptomatic\"])\n",
    "prob_symp_to_hosp = list(sample_pop[\"prob_hospitalisation\"])\n",
    "\n",
    "init_symp_cases = 1\n",
    "init_asymp_cases = 0"
   ]
  },
  {
   "cell_type": "code",
   "execution_count": 36,
   "metadata": {},
   "outputs": [],
   "source": [
    "ref_model = SymptomaticSEIRSNetworkModel(G=graph, beta=transmission_rate, sigma=progression_rate, gamma=recovery_rate, \n",
    "                                         lamda=progression_rate, mu_H=crit_rate, eta=hosp_rate, p=prob_global_contact, a=prob_asymptomatic, f=0.75, \n",
    "                                         h=prob_symp_to_hosp, q=prob_detected_global_contact, initI_S=init_symp_cases, initI_A=init_asymp_cases, store_Xseries=True)"
   ]
  },
  {
   "cell_type": "code",
   "execution_count": null,
   "metadata": {},
   "outputs": [
    {
     "name": "stderr",
     "output_type": "stream",
     "text": [
      "\r",
      "  0%|          | 0/200 [00:00<?, ?it/s]"
     ]
    },
    {
     "name": "stdout",
     "output_type": "stream",
     "text": [
      "Running simulation for 200 steps...\n",
      "\n"
     ]
    },
    {
     "name": "stderr",
     "output_type": "stream",
     "text": [
      " 11%|█         | 22/200 [03:43<1:35:30, 32.20s/it]"
     ]
    }
   ],
   "source": [
    "t_steps = 200\n",
    "node_states, simulation_results = run_simulation(ref_model, t_steps)"
   ]
  },
  {
   "cell_type": "code",
   "execution_count": null,
   "metadata": {},
   "outputs": [],
   "source": []
  },
  {
   "cell_type": "code",
   "execution_count": null,
   "metadata": {},
   "outputs": [],
   "source": []
  },
  {
   "cell_type": "code",
   "execution_count": 24,
   "metadata": {},
   "outputs": [],
   "source": [
    "dims_macro_grid = (dims_block1[0] + dims_block2[0] + dims_block3[0], dims_block1[1])\n",
    "macro_grid = np.ones(dims_macro_grid) * -1\n",
    "\n",
    "for i in range(len(grid_block1)):\n",
    "    for j in range(len(grid_block1[i])):\n",
    "        macro_grid[i][j] = grid_block1[i][j]\n",
    "        \n",
    "for i in range(len(grid_block2)):\n",
    "    for j in range(len(grid_block2[i])):\n",
    "        macro_grid[i + dims_block1[0]][j + (dims_block1[1] - dims_block2[1] - dims_isoboxes[1])] = grid_block2[i][j]\n",
    "\n",
    "for i in range(len(grid_isoboxes)):\n",
    "    for j in range(len(grid_isoboxes[i])):\n",
    "        macro_grid[i + dims_block1[0]][j + (dims_block1[1] - dims_isoboxes[1])] = grid_isoboxes[i][j]\n",
    "        \n",
    "for i in range(len(grid_block3)):\n",
    "    for j in range(len(grid_block3[i])):\n",
    "        macro_grid[i + dims_block1[0] + dims_block2[0]][j + (dims_block1[1] - dims_block3[1])] = grid_block3[i][j]"
   ]
  }
 ],
 "metadata": {
  "kernelspec": {
   "display_name": "Python 3",
   "language": "python",
   "name": "python3"
  },
  "language_info": {
   "codemirror_mode": {
    "name": "ipython",
    "version": 3
   },
   "file_extension": ".py",
   "mimetype": "text/x-python",
   "name": "python",
   "nbconvert_exporter": "python",
   "pygments_lexer": "ipython3",
   "version": "3.7.6"
  }
 },
 "nbformat": 4,
 "nbformat_minor": 4
}
