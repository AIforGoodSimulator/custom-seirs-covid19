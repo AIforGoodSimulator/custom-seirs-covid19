{
 "cells": [
  {
   "cell_type": "code",
   "execution_count": 1,
   "metadata": {},
   "outputs": [],
   "source": [
    "import networkx as nx\n",
    "import numpy as np\n",
    "from scipy.stats import poisson\n",
    "import itertools\n",
    "from tqdm import tqdm\n",
    "from seirsplus.models import *\n",
    "import pandas as pd\n",
    "import numpy as np"
   ]
  },
  {
   "cell_type": "markdown",
   "metadata": {},
   "source": [
    "### Specifying parameters from Tucker model"
   ]
  },
  {
   "cell_type": "code",
   "execution_count": null,
   "metadata": {},
   "outputs": [],
   "source": [
    "n_pop = 18700\n",
    "\n",
    "# Isoboxes\n",
    "n_isoboxes = 810\n",
    "pop_isoboxes = 8100\n",
    "pop_per_isobox = 10\n",
    "\n",
    "# Tents\n",
    "n_tents = 2650\n",
    "pop_tents = 10600\n",
    "pop_per_tent = 4\n",
    "\n",
    "# Others \n",
    "n_bathrooms = 144\n",
    "n_ethnic_groups = 8"
   ]
  },
  {
   "cell_type": "markdown",
   "metadata": {},
   "source": [
    "### Assigning population to isoboxes"
   ]
  },
  {
   "cell_type": "code",
   "execution_count": null,
   "metadata": {},
   "outputs": [],
   "source": [
    "max_pop_per_isobox = poisson.rvs(mu=10, size=812)"
   ]
  },
  {
   "cell_type": "code",
   "execution_count": null,
   "metadata": {},
   "outputs": [],
   "source": [
    "max_pop_per_isobox[:10]"
   ]
  },
  {
   "cell_type": "code",
   "execution_count": null,
   "metadata": {},
   "outputs": [],
   "source": [
    "g = nx.Graph()\n",
    "isobox_num = 812\n",
    "n_ethnicities = 8\n",
    "iso_count = np.zeros(shape=(isobox_num ))\n",
    "nodes_per_isobox = [[] for i in range(isobox_num)]\n",
    "\n",
    "for node in range(pop_isoboxes):\n",
    "    g.add_node(node)\n",
    "    \n",
    "    iso_num = np.random.choice(range(isobox_num))\n",
    "    while iso_count[iso_num] == max_pop_per_isobox[iso_num]:\n",
    "        iso_num = np.random.choice(range(isobox_num))\n",
    "    \n",
    "    g.nodes[node][\"isobox_num\"] = iso_num\n",
    "    g.nodes[node][\"ethnicity\"] = np.random.choice(range(n_ethnicities))\n",
    "    iso_count[iso_num] += 1\n",
    "    \n",
    "    nodes_per_isobox[iso_num].append(node)\n"
   ]
  },
  {
   "cell_type": "markdown",
   "metadata": {},
   "source": [
    "### Add connections between people from the same isobox"
   ]
  },
  {
   "cell_type": "code",
   "execution_count": null,
   "metadata": {},
   "outputs": [],
   "source": [
    "for node_list in nodes_per_isobox:\n",
    "    edge_list = [tup for tup in list(itertools.product(node_list, repeat=2)) if tup[0] != tup[1]]\n",
    "    g.add_edges_from(edge_list)"
   ]
  },
  {
   "cell_type": "code",
   "execution_count": null,
   "metadata": {},
   "outputs": [],
   "source": [
    "nodes_per_isobox[809]"
   ]
  },
  {
   "cell_type": "markdown",
   "metadata": {},
   "source": [
    "### Create FRIENDSHIP GRID: Match nodes that share the same ethnicity with nodes of neighboring isoboxes"
   ]
  },
  {
   "cell_type": "code",
   "execution_count": null,
   "metadata": {},
   "outputs": [],
   "source": [
    "width = 29\n",
    "height = 28\n",
    "iso_grid = np.zeros(shape=(width, height)).astype(int)\n",
    "iso_n = 0\n",
    "\n",
    "for i in range(width):\n",
    "    for j in range(height):\n",
    "        iso_grid[i][j] = iso_n\n",
    "        iso_n += 1\n",
    "iso_grid"
   ]
  },
  {
   "cell_type": "code",
   "execution_count": null,
   "metadata": {},
   "outputs": [],
   "source": [
    "def get_iso_neighbors(grid, isobox, iso_proximity):\n",
    "    \"\"\" Given a grid of isobox numbers, returns the closest proximity neighbors to the given isobox\n",
    "    \n",
    "        params:\n",
    "        - Grid: 2D numpy array\n",
    "        - isobox: int\n",
    "        - proximity: int\n",
    "    \"\"\"\n",
    "    \n",
    "    iso_neighbors = set()\n",
    "    \n",
    "    for i in range(-iso_proximity, iso_proximity + 1):\n",
    "        for j in range(-iso_proximity, iso_proximity + 1):\n",
    "            if not (i == 0 and j == 0):    \n",
    "                x = min(max((isobox // height) - i, 0), width-1)\n",
    "                y = min(max((isobox % height) - j, 0), height-1)\n",
    "                \n",
    "                if iso_grid[x][y] != isobox:\n",
    "                    iso_neighbors.add(iso_grid[x][y])\n",
    "    \n",
    "    return list(iso_neighbors)"
   ]
  },
  {
   "cell_type": "code",
   "execution_count": null,
   "metadata": {},
   "outputs": [],
   "source": [
    "# Assumption: people of same node properties interact if they are within close (variable=1) isobox proximity\n",
    "iso_proximity = 2\n",
    "isobox = 27\n",
    "isobox_neighbors = get_iso_neighbors(iso_grid, isobox, iso_proximity)\n",
    "isobox_neighbors.sort()\n",
    "isobox_neighbors"
   ]
  },
  {
   "cell_type": "code",
   "execution_count": null,
   "metadata": {},
   "outputs": [],
   "source": [
    "def connect_with_neighbors(graph, iso_grid, iso_proximity):\n",
    "    \"\"\"\n",
    "        TEMPORARY: Only connect nodes that share the same ethnicity\n",
    "        TODO: Don't add edges if we have added them already (don't search for things twice?)\n",
    "    \"\"\"\n",
    "    \n",
    "    \n",
    "    # For every possible isobox:\n",
    "    for isobox in range(n_isoboxes):\n",
    "        \n",
    "        # Get all the nodes in the current isobox\n",
    "        #nodes = [node for node, attr in graph.nodes(data=True) if attr[\"isobox_num\"] == isobox]\n",
    "        nodes = [g.nodes[i] for i in nodes_per_isobox[isobox]]\n",
    "        \n",
    "        # Get the coordinates of the isobox in the grid\n",
    "        #isobox_coords = (np.where(iso_grid == isobox)[0][0], np.where(iso_grid == isobox)[1][0])\n",
    "        \n",
    "        # Given its isobox number and coordinates in the iso grid, get its neighbor isoboxes\n",
    "        isobox_neighbors = get_iso_neighbors(iso_grid, isobox, iso_proximity)\n",
    "        \n",
    "        # For every neighbor isobox:\n",
    "        for iso_neighbor in isobox_neighbors:\n",
    "            \n",
    "            # Get all the nodes in that isobox neighbor\n",
    "            try:\n",
    "                neighbor_nodes = [g.nodes[i] for i in nodes_per_isobox[iso_neighbor]]\n",
    "            except:\n",
    "                print(iso_neighbor)\n",
    "            \n",
    "            # If they share the same properties, draw an edge between them\n",
    "            graph.add_edges_from([(i, j) for i in nodes_per_isobox[isobox] \\\n",
    "                                  for j in nodes_per_isobox[iso_neighbor] if g.nodes[i][\"ethnicity\"] == g.nodes[j][\"ethnicity\"]])\n",
    "            \n",
    "    "
   ]
  },
  {
   "cell_type": "code",
   "execution_count": null,
   "metadata": {},
   "outputs": [],
   "source": [
    "connect_with_neighbors(g, iso_grid, iso_proximity)"
   ]
  },
  {
   "cell_type": "code",
   "execution_count": null,
   "metadata": {},
   "outputs": [],
   "source": [
    "g.nodes[nodes_per_isobox[0][0]], nodes_per_isobox[0][0]"
   ]
  },
  {
   "cell_type": "code",
   "execution_count": null,
   "metadata": {},
   "outputs": [],
   "source": [
    "connected_bois = [edge[1] for edge in g.edges if edge[0] == 678]"
   ]
  },
  {
   "cell_type": "code",
   "execution_count": null,
   "metadata": {},
   "outputs": [],
   "source": [
    "[g.nodes[cb] for cb in connected_bois]"
   ]
  },
  {
   "cell_type": "markdown",
   "metadata": {},
   "source": [
    "## Connecting people that go to the food line"
   ]
  },
  {
   "cell_type": "code",
   "execution_count": null,
   "metadata": {},
   "outputs": [],
   "source": [
    "food_bois = set()\n",
    "\n",
    "for iso_list in nodes_per_isobox:\n",
    "    the_chosenone = np.random.choice(iso_list)\n",
    "    the_chosentwo = np.random.choice(iso_list)\n",
    "    \n",
    "    food_bois.add(the_chosenone)\n",
    "    food_bois.add(the_chosentwo) \n",
    "\n",
    "food_bois = list(food_bois)"
   ]
  },
  {
   "cell_type": "code",
   "execution_count": null,
   "metadata": {},
   "outputs": [],
   "source": [
    "np.random.shuffle(food_bois)"
   ]
  },
  {
   "cell_type": "code",
   "execution_count": null,
   "metadata": {},
   "outputs": [],
   "source": [
    "for i in range(len(food_bois) - 1):\n",
    "    g.add_edge(food_bois[i], food_bois[i+1])"
   ]
  },
  {
   "cell_type": "code",
   "execution_count": null,
   "metadata": {},
   "outputs": [],
   "source": [
    "food_bois[0]"
   ]
  },
  {
   "cell_type": "code",
   "execution_count": null,
   "metadata": {},
   "outputs": [],
   "source": [
    "connected_bois = [edge[1] for edge in g.edges if edge[0] == 802]\n",
    "[g.nodes[cb] for cb in connected_bois]"
   ]
  },
  {
   "cell_type": "markdown",
   "metadata": {},
   "source": [
    "## Make everything usable and modular"
   ]
  },
  {
   "cell_type": "code",
   "execution_count": 58,
   "metadata": {},
   "outputs": [],
   "source": [
    "def create_graph(n_structures, population, max_pop_per_struct):\n",
    "    \"\"\" Creates a networkX graph containing all the population in the camp that is in a given structure (currently just isoboxes). \n",
    "        Draws edges between people from the same isobox and returns the networkX graph and an adjacency list \n",
    "    \"\"\"\n",
    "    # For now we will only add ethnicity as a node property, but we can expand on this\n",
    "    n_ethnicities = 8\n",
    "    \n",
    "    # Graph is a networkX graph object\n",
    "    g = nx.Graph()\n",
    "    \n",
    "    # Keep track of how many nodes we have put in an isobox already\n",
    "    struct_count = np.zeros(shape=(n_structures))\n",
    "    \n",
    "    # Store the indices of the nodes we store in each isobox in a 2D array where array[i] contains the nodes in isobox i\n",
    "    nodes_per_struct = [[] for i in range(n_structures)]\n",
    "    \n",
    "    available_structs = list(range(n_structures))\n",
    "    # Add the nodes to the graph\n",
    "    for node in tqdm(range(population)):\n",
    "        g.add_node(node)\n",
    "        \n",
    "        # Assign nodes to isoboxes randomly, until we reach the capacity of that isobox\n",
    "        struct_num = np.random.choice(available_structs)\n",
    "        \n",
    "        # Assign properties to nodes\n",
    "        g.nodes[node][\"location\"] = struct_num\n",
    "        g.nodes[node][\"ethnicity\"] = np.random.choice(range(n_ethnicities)) \n",
    "        \n",
    "        # Update number of nodes per isobox and which nodes were added to iso_num\n",
    "        struct_count[struct_num] += 1\n",
    "        nodes_per_struct[struct_num].append(node)\n",
    "        if struct_count[struct_num] > max_pop_per_struct[struct_num]:\n",
    "            available_structs.remove(struct_num)\n",
    "    \n",
    "    \n",
    "    # Now we connect nodes inside of the same isobox\n",
    "    for node_list in nodes_per_struct:\n",
    "        \n",
    "        # Use the cartesian product to get all possible edges within the nodes in an isobox and only add if they are not the same node \n",
    "        edge_list = [tup for tup in list(itertools.product(node_list, repeat=2)) if tup[0] != tup[1]]\n",
    "        g.add_edges_from(edge_list, weight=0.01)\n",
    "    \n",
    "    return g, nodes_per_struct"
   ]
  },
  {
   "cell_type": "code",
   "execution_count": 59,
   "metadata": {},
   "outputs": [],
   "source": [
    "def create_grid(width, height):\n",
    "    \"\"\" Create a grid of isoboxes that resembles the isobox area of the camp, for ease of measuring proximity between nodes \n",
    "        Returns a numpy array of shape (width, height) \"\"\"\n",
    "    \n",
    "    iso_grid = np.zeros(shape=(width, height)).astype(int)\n",
    "    iso_n = 0\n",
    "\n",
    "    for i in range(width):\n",
    "        for j in range(height):\n",
    "            iso_grid[i][j] = iso_n\n",
    "            iso_n += 1\n",
    "    \n",
    "    return iso_grid"
   ]
  },
  {
   "cell_type": "code",
   "execution_count": 60,
   "metadata": {},
   "outputs": [],
   "source": [
    "def get_neighbors(grid, structure_num, proximity):\n",
    "    \"\"\" Given a grid of structures, returns the closest proximity neighbors to the given structure\n",
    "    \n",
    "        params:\n",
    "        - Grid: 2D numpy array\n",
    "        - structure_num: int\n",
    "        - proximity: int\n",
    "    \"\"\"\n",
    "    \n",
    "    # Get the number of columns for ease of access\n",
    "    width = len(grid)\n",
    "    height = len(grid[0])\n",
    "    \n",
    "    # We'll make it a set initially to avoid duplicate neighbors\n",
    "    neighbors = set()\n",
    "    \n",
    "    for i in range(-proximity, proximity + 1):\n",
    "        for j in range(-proximity, proximity + 1):\n",
    "            if not (i == 0 and j == 0):    \n",
    "                x = min(max((structure_num// height) - i, 0), width-1)\n",
    "                y = min(max((structure_num % height) - j, 0), height-1)\n",
    "                \n",
    "                if grid[x][y] != structure_num:\n",
    "                    neighbors.add(grid[x][y])\n",
    "    \n",
    "    return list(neighbors)"
   ]
  },
  {
   "cell_type": "code",
   "execution_count": 61,
   "metadata": {},
   "outputs": [],
   "source": [
    "def connect_neighbors(graph, n_structures, nodes_per_structure, grid, proximity):\n",
    "    \"\"\" Draw edges in the given graph between people of neighboring structures (currently isoboxes) if they have the same ethnicity \"\"\"\n",
    "    \n",
    "    # For every possible structure:\n",
    "    for structure in range(n_structures):\n",
    "        \n",
    "        # Get all the nodes in the current structure\n",
    "        nodes = [graph.nodes[i] for i in nodes_per_structure[structure]]\n",
    "        \n",
    "        # Given its isobox number get its neighbor isoboxes\n",
    "        neighbors = get_neighbors(grid, structure, proximity)\n",
    "        \n",
    "        # For every neighbor isobox:\n",
    "        for neighbor in neighbors:\n",
    "            \n",
    "            # Get all the nodes in that isobox neighbor\n",
    "            neighbor_nodes = [graph.nodes[i] for i in nodes_per_structure[neighbor]]\n",
    "\n",
    "            # If they share the same properties, draw an edge between them\n",
    "            graph.add_edges_from([(i, j) for i in nodes_per_structure[structure] \\\n",
    "                                  for j in nodes_per_structure[neighbor] if graph.nodes[i][\"ethnicity\"] == graph.nodes[j][\"ethnicity\"]], weight=1000)\n",
    "            \n",
    "    return graph"
   ]
  },
  {
   "cell_type": "code",
   "execution_count": 62,
   "metadata": {},
   "outputs": [],
   "source": [
    "def connect_food_queue(graph, nodes_per_structure):\n",
    "    \"\"\" Connect 1-2 people per structure (currently just isoboxes) randomly to represent that they go to the food queue \"\"\"\n",
    "    \n",
    "    food_bois = set()\n",
    "    \n",
    "    # Choose 1-2 people randomly from each structure\n",
    "    for node_list in nodes_per_structure:\n",
    "        the_chosenone = np.random.choice(node_list)\n",
    "        the_chosentwo = np.random.choice(node_list)\n",
    "\n",
    "        food_bois.add(the_chosenone)\n",
    "        food_bois.add(the_chosentwo) \n",
    "    \n",
    "    # This list represents the food queue\n",
    "    food_bois = list(food_bois)\n",
    "    np.random.shuffle(food_bois)\n",
    "    \n",
    "    # Draw an edge between everyone in the list in order, since we have already shuffled them\n",
    "    for i in range(len(food_bois) - 1):\n",
    "        graph.add_edge(food_bois[i], food_bois[i+1], weight=0.01)\n",
    "        \n",
    "    return graph\n",
    "    "
   ]
  },
  {
   "cell_type": "code",
   "execution_count": 63,
   "metadata": {},
   "outputs": [],
   "source": [
    "n_pop = 18700\n",
    "\n",
    "# Isoboxes\n",
    "n_isoboxes = 812\n",
    "pop_isoboxes = 8100\n",
    "pop_per_isobox = 10\n",
    "max_pop_per_isobox  = poisson.rvs(mu=pop_per_isobox, size=n_isoboxes) # According to the model, this is drawn through a poison distribution\n",
    "\n",
    "# Tents\n",
    "n_tents = 2650\n",
    "pop_tents = 10600\n",
    "pop_per_tent = 4\n",
    "\n",
    "# Others \n",
    "n_bathrooms = 144\n",
    "n_ethnic_groups = 8\n",
    "\n",
    "# Isobox grid parameters - can be extended to tents as well\n",
    "grid_width = 29\n",
    "grid_height = 28\n",
    "\n",
    "# We define neighboring isoboxes as any isobox within a range of 2 in the isobox grid\n",
    "iso_proximity = 2"
   ]
  },
  {
   "cell_type": "code",
   "execution_count": 64,
   "metadata": {},
   "outputs": [
    {
     "name": "stderr",
     "output_type": "stream",
     "text": [
      "100%|██████████| 8100/8100 [00:01<00:00, 4136.16it/s]\n"
     ]
    }
   ],
   "source": [
    "# 1. Create isobox graph - can be used to create tent graphs as well\n",
    "graph, nodes_per_isobox = create_graph(n_isoboxes, pop_isoboxes, max_pop_per_isobox)"
   ]
  },
  {
   "cell_type": "code",
   "execution_count": 65,
   "metadata": {},
   "outputs": [],
   "source": [
    "# 2. Create the grid that will help with positioning when measuring proximity\n",
    "isobox_grid = create_grid(grid_width, grid_height)"
   ]
  },
  {
   "cell_type": "code",
   "execution_count": 66,
   "metadata": {},
   "outputs": [],
   "source": [
    "# 3. Connect the nodes that are within a certain degree of proximity - can be used for tents as well\n",
    "graph = connect_neighbors(graph, n_isoboxes, nodes_per_isobox, isobox_grid, iso_proximity)"
   ]
  },
  {
   "cell_type": "code",
   "execution_count": 67,
   "metadata": {},
   "outputs": [],
   "source": [
    "# 4. Connect the nodes that go to the food line - can be extended to all nodes\n",
    "graph = connect_food_queue(graph, nodes_per_isobox)"
   ]
  },
  {
   "cell_type": "code",
   "execution_count": null,
   "metadata": {},
   "outputs": [
    {
     "name": "stdout",
     "output_type": "stream",
     "text": [
      "t = 0.00\n",
      "t = 10.00\n",
      "t = 20.00\n"
     ]
    }
   ],
   "source": [
    "ref_model = SEIRSNetworkModel(G=graph, beta=0.5, beta_local=0.5, sigma=1/5.2, gamma=1/12.39, mu_I=0.004, p=0.5,\n",
    "                          beta_D=0.155, sigma_D=1/5.2, gamma_D=1/12.39, mu_D=0.0004,\n",
    "                          theta_E=0, theta_I=0, phi_E=0, phi_I=0, psi_E=1.0, psi_I=1.0, q=0.5,\n",
    "                          initI=pop_isoboxes/100)\n",
    "ref_model.run(T=300)"
   ]
  },
  {
   "cell_type": "code",
   "execution_count": null,
   "metadata": {},
   "outputs": [],
   "source": [
    "ref_model.figure_infections()"
   ]
  },
  {
   "cell_type": "code",
   "execution_count": null,
   "metadata": {},
   "outputs": [],
   "source": [
    "print(networkx.adjacency_matrix(graph))"
   ]
  },
  {
   "cell_type": "code",
   "execution_count": null,
   "metadata": {},
   "outputs": [],
   "source": []
  }
 ],
 "metadata": {
  "kernelspec": {
   "display_name": "Python 3",
   "language": "python",
   "name": "python3"
  },
  "language_info": {
   "codemirror_mode": {
    "name": "ipython",
    "version": 3
   },
   "file_extension": ".py",
   "mimetype": "text/x-python",
   "name": "python",
   "nbconvert_exporter": "python",
   "pygments_lexer": "ipython3",
   "version": "3.7.6"
  }
 },
 "nbformat": 4,
 "nbformat_minor": 4
}
