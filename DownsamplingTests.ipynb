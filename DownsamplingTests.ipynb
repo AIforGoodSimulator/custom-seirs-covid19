{
 "cells": [
  {
   "cell_type": "code",
   "execution_count": 1,
   "metadata": {},
   "outputs": [
    {
     "data": {
      "text/html": [
       "\n",
       "\t\t\t<script type=\"text/javascript\">\n",
       "\t\t\t<!--\n",
       "\t\t\t\t\n",
       "\t\t\t{\n",
       "\t\t\t\tvar element = document.getElementById('NetworKit_script');\n",
       "\t\t\t\tif (element) {\n",
       "\t\t\t\t\telement.parentNode.removeChild(element);\n",
       "\t\t\t\t}\n",
       "\t\t\t\telement = document.createElement('script');\n",
       "\t\t\t\telement.type = 'text/javascript';\n",
       "\t\t\t\telement.innerHTML = 'function NetworKit_pageEmbed(id) { var i, j; var elements; elements = document.getElementById(id).getElementsByClassName(\"Plot\"); for (i=0; i<elements.length; i++) { elements[i].id = id + \"_Plot_\" + i; var data = elements[i].getAttribute(\"data-image\").split(\"|\"); elements[i].removeAttribute(\"data-image\"); var content = \"<div class=\\\\\"Image\\\\\" id=\\\\\"\" + elements[i].id + \"_Image\\\\\" />\"; elements[i].innerHTML = content; elements[i].setAttribute(\"data-image-index\", 0); elements[i].setAttribute(\"data-image-length\", data.length); for (j=0; j<data.length; j++) { elements[i].setAttribute(\"data-image-\" + j, data[j]); } NetworKit_plotUpdate(elements[i]); elements[i].onclick = function (e) { NetworKit_overlayShow((e.target) ? e.target : e.srcElement); } } elements = document.getElementById(id).getElementsByClassName(\"HeatCell\"); for (i=0; i<elements.length; i++) { var data = parseFloat(elements[i].getAttribute(\"data-heat\")); var color = \"#00FF00\"; if (data <= 1 && data > 0) { color = \"hsla(0, 100%, 75%, \" + (data) + \")\"; } else if (data <= 0 && data >= -1) { color = \"hsla(240, 100%, 75%, \" + (-data) + \")\"; } elements[i].style.backgroundColor = color; } elements = document.getElementById(id).getElementsByClassName(\"Details\"); for (i=0; i<elements.length; i++) { elements[i].setAttribute(\"data-title\", \"-\"); NetworKit_toggleDetails(elements[i]); elements[i].onclick = function (e) { NetworKit_toggleDetails((e.target) ? e.target : e.srcElement); } } elements = document.getElementById(id).getElementsByClassName(\"MathValue\"); for (i=elements.length-1; i>=0; i--) { value = elements[i].innerHTML.trim(); if (value === \"nan\") { elements[i].parentNode.innerHTML = \"\" } } elements = document.getElementById(id).getElementsByClassName(\"SubCategory\"); for (i=elements.length-1; i>=0; i--) { value = elements[i].innerHTML.trim(); if (value === \"\") { elements[i].parentNode.removeChild(elements[i]) } } elements = document.getElementById(id).getElementsByClassName(\"Category\"); for (i=elements.length-1; i>=0; i--) { value = elements[i].innerHTML.trim(); if (value === \"\") { elements[i].parentNode.removeChild(elements[i]) } } var isFirefox = false; try { isFirefox = typeof InstallTrigger !== \"undefined\"; } catch (e) {} if (!isFirefox) { alert(\"Currently the function\\'s output is only fully supported by Firefox.\"); } } function NetworKit_plotUpdate(source) { var index = source.getAttribute(\"data-image-index\"); var data = source.getAttribute(\"data-image-\" + index); var image = document.getElementById(source.id + \"_Image\"); image.style.backgroundImage = \"url(\" + data + \")\"; } function NetworKit_showElement(id, show) { var element = document.getElementById(id); element.style.display = (show) ? \"block\" : \"none\"; } function NetworKit_overlayShow(source) { NetworKit_overlayUpdate(source); NetworKit_showElement(\"NetworKit_Overlay\", true); } function NetworKit_overlayUpdate(source) { document.getElementById(\"NetworKit_Overlay_Title\").innerHTML = source.title; var index = source.getAttribute(\"data-image-index\"); var data = source.getAttribute(\"data-image-\" + index); var image = document.getElementById(\"NetworKit_Overlay_Image\"); image.setAttribute(\"data-id\", source.id); image.style.backgroundImage = \"url(\" + data + \")\"; var link = document.getElementById(\"NetworKit_Overlay_Toolbar_Bottom_Save\"); link.href = data; link.download = source.title + \".svg\"; } function NetworKit_overlayImageShift(delta) { var image = document.getElementById(\"NetworKit_Overlay_Image\"); var source = document.getElementById(image.getAttribute(\"data-id\")); var index = parseInt(source.getAttribute(\"data-image-index\")); var length = parseInt(source.getAttribute(\"data-image-length\")); var index = (index+delta) % length; if (index < 0) { index = length + index; } source.setAttribute(\"data-image-index\", index); NetworKit_overlayUpdate(source); } function NetworKit_toggleDetails(source) { var childs = source.children; var show = false; if (source.getAttribute(\"data-title\") == \"-\") { source.setAttribute(\"data-title\", \"+\"); show = false; } else { source.setAttribute(\"data-title\", \"-\"); show = true; } for (i=0; i<childs.length; i++) { if (show) { childs[i].style.display = \"block\"; } else { childs[i].style.display = \"none\"; } } }';\n",
       "\t\t\t\telement.setAttribute('id', 'NetworKit_script');\n",
       "\t\t\t\tdocument.head.appendChild(element);\n",
       "\t\t\t}\n",
       "\t\t\n",
       "\t\t\t\t\n",
       "\t\t\t{\n",
       "\t\t\t\tvar element = document.getElementById('NetworKit_style');\n",
       "\t\t\t\tif (element) {\n",
       "\t\t\t\t\telement.parentNode.removeChild(element);\n",
       "\t\t\t\t}\n",
       "\t\t\t\telement = document.createElement('style');\n",
       "\t\t\t\telement.type = 'text/css';\n",
       "\t\t\t\telement.innerHTML = '.NetworKit_Page { font-family: Arial, Helvetica, sans-serif; font-size: 14px; } .NetworKit_Page .Value:before { font-family: Arial, Helvetica, sans-serif; font-size: 1.05em; content: attr(data-title) \":\"; margin-left: -2.5em; padding-right: 0.5em; } .NetworKit_Page .Details .Value:before { display: block; } .NetworKit_Page .Value { font-family: monospace; white-space: pre; padding-left: 2.5em; white-space: -moz-pre-wrap !important; white-space: -pre-wrap; white-space: -o-pre-wrap; white-space: pre-wrap; word-wrap: break-word; tab-size: 4; -moz-tab-size: 4; } .NetworKit_Page .Category { clear: both; padding-left: 1em; margin-bottom: 1.5em; } .NetworKit_Page .Category:before { content: attr(data-title); font-size: 1.75em; display: block; margin-left: -0.8em; margin-bottom: 0.5em; } .NetworKit_Page .SubCategory { margin-bottom: 1.5em; padding-left: 1em; } .NetworKit_Page .SubCategory:before { font-size: 1.6em; display: block; margin-left: -0.8em; margin-bottom: 0.5em; } .NetworKit_Page .SubCategory[data-title]:before { content: attr(data-title); } .NetworKit_Page .Block { display: block; } .NetworKit_Page .Block:after { content: \".\"; visibility: hidden; display: block; height: 0; clear: both; } .NetworKit_Page .Block .Thumbnail_Overview, .NetworKit_Page .Block .Thumbnail_ScatterPlot { width: 260px; float: left; } .NetworKit_Page .Block .Thumbnail_Overview img, .NetworKit_Page .Block .Thumbnail_ScatterPlot img { width: 260px; } .NetworKit_Page .Block .Thumbnail_Overview:before, .NetworKit_Page .Block .Thumbnail_ScatterPlot:before { display: block; text-align: center; font-weight: bold; } .NetworKit_Page .Block .Thumbnail_Overview:before { content: attr(data-title); } .NetworKit_Page .HeatCell { font-family: \"Courier New\", Courier, monospace; cursor: pointer; } .NetworKit_Page .HeatCell, .NetworKit_Page .HeatCellName { display: inline; padding: 0.1em; margin-right: 2px; background-color: #FFFFFF } .NetworKit_Page .HeatCellName { margin-left: 0.25em; } .NetworKit_Page .HeatCell:before { content: attr(data-heat); display: inline-block; color: #000000; width: 4em; text-align: center; } .NetworKit_Page .Measure { clear: both; } .NetworKit_Page .Measure .Details { cursor: pointer; } .NetworKit_Page .Measure .Details:before { content: \"[\" attr(data-title) \"]\"; display: block; } .NetworKit_Page .Measure .Details .Value { border-left: 1px dotted black; margin-left: 0.4em; padding-left: 3.5em; pointer-events: none; } .NetworKit_Page .Measure .Details .Spacer:before { content: \".\"; opacity: 0.0; pointer-events: none; } .NetworKit_Page .Measure .Plot { width: 440px; height: 440px; cursor: pointer; float: left; margin-left: -0.9em; margin-right: 20px; } .NetworKit_Page .Measure .Plot .Image { background-repeat: no-repeat; background-position: center center; background-size: contain; height: 100%; pointer-events: none; } .NetworKit_Page .Measure .Stat { width: 500px; float: left; } .NetworKit_Page .Measure .Stat .Group { padding-left: 1.25em; margin-bottom: 0.75em; } .NetworKit_Page .Measure .Stat .Group .Title { font-size: 1.1em; display: block; margin-bottom: 0.3em; margin-left: -0.75em; border-right-style: dotted; border-right-width: 1px; border-bottom-style: dotted; border-bottom-width: 1px; background-color: #D0D0D0; padding-left: 0.2em; } .NetworKit_Page .Measure .Stat .Group .List { -webkit-column-count: 3; -moz-column-count: 3; column-count: 3; } .NetworKit_Page .Measure .Stat .Group .List .Entry { position: relative; line-height: 1.75em; } .NetworKit_Page .Measure .Stat .Group .List .Entry[data-tooltip]:before { position: absolute; left: 0; top: -40px; background-color: #808080; color: #ffffff; height: 30px; line-height: 30px; border-radius: 5px; padding: 0 15px; content: attr(data-tooltip); white-space: nowrap; display: none; } .NetworKit_Page .Measure .Stat .Group .List .Entry[data-tooltip]:after { position: absolute; left: 15px; top: -10px; border-top: 7px solid #808080; border-left: 7px solid transparent; border-right: 7px solid transparent; content: \"\"; display: none; } .NetworKit_Page .Measure .Stat .Group .List .Entry[data-tooltip]:hover:after, .NetworKit_Page .Measure .Stat .Group .List .Entry[data-tooltip]:hover:before { display: block; } .NetworKit_Page .Measure .Stat .Group .List .Entry .MathValue { font-family: \"Courier New\", Courier, monospace; } .NetworKit_Page .Measure:after { content: \".\"; visibility: hidden; display: block; height: 0; clear: both; } .NetworKit_Page .PartitionPie { clear: both; } .NetworKit_Page .PartitionPie img { width: 600px; } #NetworKit_Overlay { left: 0px; top: 0px; display: none; position: absolute; width: 100%; height: 100%; background-color: rgba(0,0,0,0.6); z-index: 1000; } #NetworKit_Overlay_Title { position: absolute; color: white; transform: rotate(-90deg); width: 32em; height: 32em; padding-right: 0.5em; padding-top: 0.5em; text-align: right; font-size: 40px; } #NetworKit_Overlay .button { background: white; cursor: pointer; } #NetworKit_Overlay .button:before { size: 13px; display: inline-block; text-align: center; margin-top: 0.5em; margin-bottom: 0.5em; width: 1.5em; height: 1.5em; } #NetworKit_Overlay .icon-close:before { content: \"X\"; } #NetworKit_Overlay .icon-previous:before { content: \"P\"; } #NetworKit_Overlay .icon-next:before { content: \"N\"; } #NetworKit_Overlay .icon-save:before { content: \"S\"; } #NetworKit_Overlay_Toolbar_Top, #NetworKit_Overlay_Toolbar_Bottom { position: absolute; width: 40px; right: 13px; text-align: right; z-index: 1100; } #NetworKit_Overlay_Toolbar_Top { top: 0.5em; } #NetworKit_Overlay_Toolbar_Bottom { Bottom: 0.5em; } #NetworKit_Overlay_ImageContainer { position: absolute; top: 5%; left: 5%; height: 90%; width: 90%; background-repeat: no-repeat; background-position: center center; background-size: contain; } #NetworKit_Overlay_Image { height: 100%; width: 100%; background-repeat: no-repeat; background-position: center center; background-size: contain; }';\n",
       "\t\t\t\telement.setAttribute('id', 'NetworKit_style');\n",
       "\t\t\t\tdocument.head.appendChild(element);\n",
       "\t\t\t}\n",
       "\t\t\n",
       "\t\t\t\t\n",
       "\t\t\t{\n",
       "\t\t\t\tvar element = document.getElementById('NetworKit_Overlay');\n",
       "\t\t\t\tif (element) {\n",
       "\t\t\t\t\telement.parentNode.removeChild(element);\n",
       "\t\t\t\t}\n",
       "\t\t\t\telement = document.createElement('div');\n",
       "\t\t\t\telement.innerHTML = '<div id=\"NetworKit_Overlay_Toolbar_Top\"><div class=\"button icon-close\" id=\"NetworKit_Overlay_Close\" /></div><div id=\"NetworKit_Overlay_Title\" /> <div id=\"NetworKit_Overlay_ImageContainer\"> <div id=\"NetworKit_Overlay_Image\" /> </div> <div id=\"NetworKit_Overlay_Toolbar_Bottom\"> <div class=\"button icon-previous\" onclick=\"NetworKit_overlayImageShift(-1)\" /> <div class=\"button icon-next\" onclick=\"NetworKit_overlayImageShift(1)\" /> <a id=\"NetworKit_Overlay_Toolbar_Bottom_Save\"><div class=\"button icon-save\" /></a> </div>';\n",
       "\t\t\t\telement.setAttribute('id', 'NetworKit_Overlay');\n",
       "\t\t\t\tdocument.body.appendChild(element);\n",
       "\t\t\t\tdocument.getElementById('NetworKit_Overlay_Close').onclick = function (e) {\n",
       "\t\t\t\t\tdocument.getElementById('NetworKit_Overlay').style.display = 'none';\n",
       "\t\t\t\t}\n",
       "\t\t\t}\n",
       "\t\t\n",
       "\t\t\t-->\n",
       "\t\t\t</script>\n",
       "\t\t"
      ]
     },
     "metadata": {},
     "output_type": "display_data"
    }
   ],
   "source": [
    "import networkx as nx\n",
    "import pandas as pd\n",
    "import numpy as np\n",
    "import matplotlib.pyplot as plt\n",
    "from scipy.stats import poisson\n",
    "from seirsplus.models import *\n",
    "from seirsplus.networks import *\n",
    "from seirsplus.sim_loops import *\n",
    "from seirsplus.utilities import *\n",
    "from network_utils import *\n",
    "from stats_utils import *\n",
    "from intervention_utils import *\n",
    "from camp_params import *\n",
    "import pickle as pkl\n",
    "from littleballoffur import RandomNodeSampler, DegreeBasedSampler, PageRankBasedSampler"
   ]
  },
  {
   "cell_type": "code",
   "execution_count": 2,
   "metadata": {},
   "outputs": [],
   "source": [
    "# TODO: Update this in model_server\n",
    "def link_nodes_by_activity(base_graph, nodes_per_struct, percentage_per_struct, proximity_radius, edge_weight,\n",
    "                           activity_name):\n",
    "    \"\"\" Connect a given percentage of nodes per structure that engage in the same activity\n",
    "        with other nodes from different structures that engage in the same activity, at a given proximity radius\n",
    "        Examples of activities:\n",
    "        - Food queue\n",
    "        - Religious events\n",
    "    \"\"\"\n",
    "    graph = base_graph.copy()\n",
    "\n",
    "    activity_bois = set()\n",
    "\n",
    "    # Choose a percentage of people randomly from each structure\n",
    "    for node_list in nodes_per_struct:\n",
    "        if len(node_list) == 1:\n",
    "            activity_bois.add(node_list[0])\n",
    "        else:\n",
    "            for i in range(int(len(node_list) * percentage_per_struct)):\n",
    "                activity_bois.add(np.random.choice(node_list))\n",
    "\n",
    "    activity_bois = list(activity_bois)\n",
    "    np.random.shuffle(activity_bois)\n",
    "\n",
    "    # Draw an edge between everyone in the list within a given proximity\n",
    "    for i in range(len(activity_bois) - proximity_radius):\n",
    "        for j in range(i + 1, i + proximity_radius + 1):\n",
    "            if not graph.has_edge(activity_bois[i], activity_bois[j]):\n",
    "                graph.add_edge(\n",
    "                    activity_bois[i],\n",
    "                    activity_bois[j],\n",
    "                    weight=edge_weight,\n",
    "                    label=activity_name)\n",
    "    return graph"
   ]
  },
  {
   "cell_type": "code",
   "execution_count": 3,
   "metadata": {},
   "outputs": [],
   "source": [
    "n_pop = 18700\n",
    "\n",
    "# Grid info for isoboxes\n",
    "dims_isoboxes = (29, 28)  # 812\n",
    "\n",
    "# Grid info for tents\n",
    "dims_block1 = (20, 67)  # 1340\n",
    "dims_block2 = (53, 15)  # 795\n",
    "dims_block3 = (19, 28)  # 532\n",
    "\n",
    "# Isoboxes\n",
    "pop_isoboxes = 8100\n",
    "pop_per_isobox = 10\n",
    "n_isoboxes = dims_isoboxes[0]*dims_isoboxes[1]\n",
    "\n",
    "# Tents\n",
    "n_tents = 2650\n",
    "pop_tents = 10600\n",
    "pop_per_tent = 4\n",
    "\n",
    "# Others \n",
    "n_bathrooms = 144\n",
    "n_ethnic_groups = 8\n",
    "\n",
    "# We define neighboring structures within a range of 2 in the structure grid\n",
    "proximity = 2\n",
    "\n",
    "# Define the maximum population per structures (tents and isoboxes) drawn from a poisson distribution\n",
    "max_pop_per_struct = list(poisson.rvs(mu=pop_per_isobox, size=n_isoboxes))\n",
    "max_pop_per_struct = max_pop_per_struct + list(poisson.rvs(mu=pop_per_tent, size=dims_block1[0]*dims_block1[1]))\n",
    "max_pop_per_struct = max_pop_per_struct + list(poisson.rvs(mu=pop_per_tent, size=dims_block2[0]*dims_block2[1]))\n",
    "max_pop_per_struct = max_pop_per_struct + list(poisson.rvs(mu=pop_per_tent, size=dims_block3[0]*dims_block3[1]))\n",
    "\n",
    "n_structs = len(max_pop_per_struct)\n",
    "\n",
    "# Sample the population age, and parameter rates\n",
    "sample_pop = sample_population(n_pop, \"data/augmented_population.csv\")"
   ]
  },
  {
   "cell_type": "code",
   "execution_count": 4,
   "metadata": {},
   "outputs": [
    {
     "name": "stderr",
     "output_type": "stream",
     "text": [
      "100%|██████████| 18700/18700 [00:16<00:00, 1106.12it/s]\n"
     ]
    }
   ],
   "source": [
    "# graph, nodes_per_struct = load_graph(\"experiments/networks/Moria_wNeighbors_4\")\n",
    "\n",
    "household_weight = 0.98\n",
    "graph, nodes_per_struct = create_graph(n_structs, 0, n_pop, max_pop_per_struct, \n",
    "                                       edge_weight=household_weight, label=\"household\",\n",
    "                                       age_list=list(sample_pop[\"age\"]),\n",
    "                                       sex_list = list(sample_pop[\"sex\"]),\n",
    "                                       n_ethnicities=n_ethnic_groups)"
   ]
  },
  {
   "cell_type": "code",
   "execution_count": 5,
   "metadata": {},
   "outputs": [],
   "source": [
    "food_weight = 0.407\n",
    "# graph_1fq = connect_food_queue(graph, nodes_per_struct, food_weight, \"food\")\n",
    "graph_1fq = link_nodes_by_activity(graph, nodes_per_struct, percentage_per_struct=0.5, proximity_radius=5, edge_weight=food_weight, activity_name=\"food\")"
   ]
  },
  {
   "cell_type": "code",
   "execution_count": 6,
   "metadata": {},
   "outputs": [],
   "source": [
    "neighbor_weight = 0.017\n",
    "\n",
    "graph_1fq = link_nodes_by_property(graph_1fq, 0, n_isoboxes, nodes_per_struct,\n",
    "                              grid_isoboxes, 2, \"ethnicity\", neighbor_weight, 'friendship')\n",
    "graph_1fq = link_nodes_by_property(graph_1fq, dims_isoboxes[0]*dims_isoboxes[1], dims_block1[0]*dims_block1[1], nodes_per_struct,\n",
    "                              grid_block1, 2, \"ethnicity\", neighbor_weight, 'friendship')\n",
    "graph_1fq = link_nodes_by_property(graph_1fq, dims_block1[0]*dims_block1[1], dims_block2[0]*dims_block2[1], nodes_per_struct,\n",
    "                              grid_block2, 2, \"ethnicity\", neighbor_weight, 'friendship')\n",
    "graph_1fq = link_nodes_by_property(graph_1fq, dims_block2[0]*dims_block2[1], dims_block3[0]*dims_block3[1], nodes_per_struct,\n",
    "                              grid_block3, 2, \"ethnicity\", neighbor_weight, 'friendship')"
   ]
  },
  {
   "cell_type": "code",
   "execution_count": 7,
   "metadata": {},
   "outputs": [
    {
     "name": "stdout",
     "output_type": "stream",
     "text": [
      "Total pop:\n",
      "Degree: mean = 22.59, std = 15.62, 95% CI = (2.00, 49.00)\n",
      "        coeff var = 0.69\n",
      "Assortativity:    0.02\n",
      "Clustering coeff: 0.41\n",
      "\n"
     ]
    },
    {
     "data": {
      "image/png": "[encoded data removed]",
      "text/plain": [
       "<Figure size 432x288 with 1 Axes>"
      ]
     },
     "metadata": {},
     "output_type": "display_data"
    }
   ],
   "source": [
    "network_info(graph_1fq, \"Total pop\", plot=True)"
   ]
  },
  {
   "cell_type": "code",
   "execution_count": 16,
   "metadata": {},
   "outputs": [],
   "source": [
    "from littleballoffur.exploration_sampling import LoopErasedRandomWalkSampler, BreadthFirstSearchSampler, DepthFirstSearchSampler\n",
    "\n",
    "from littleballoffur.exploration_sampling import CommunityStructureExpansionSampler, CirculatedNeighborsRandomWalkSampler, SnowBallSampler\n",
    "from littleballoffur.exploration_sampling import RandomWalkSampler, MetropolisHastingsRandomWalkSampler, CommonNeighborAwareRandomWalkSampler\n",
    "from littleballoffur.exploration_sampling import NonBackTrackingRandomWalkSampler, RandomWalkWithRestartSampler, ForestFireSampler, SpikyBallSampler\n",
    "\n",
    "from littleballoffur.exploration_sampling import ShortestPathSampler, RandomWalkWithJumpSampler, FrontierSampler, RandomNodeNeighborSampler"
   ]
  },
  {
   "cell_type": "code",
   "execution_count": 69,
   "metadata": {},
   "outputs": [],
   "source": [
    "samplers = [RandomNodeSampler,\n",
    "            DegreeBasedSampler,\n",
    "            PageRankBasedSampler,\n",
    "            LoopErasedRandomWalkSampler,\n",
    "            BreadthFirstSearchSampler,\n",
    "            DepthFirstSearchSampler,\n",
    "            CirculatedNeighborsRandomWalkSampler,\n",
    "            SnowBallSampler,\n",
    "            RandomWalkSampler,\n",
    "            MetropolisHastingsRandomWalkSampler,\n",
    "            CommonNeighborAwareRandomWalkSampler,\n",
    "            NonBackTrackingRandomWalkSampler,\n",
    "            RandomWalkWithRestartSampler,\n",
    "            ForestFireSampler,\n",
    "            SpikyBallSampler,\n",
    "            ShortestPathSampler,\n",
    "            RandomWalkWithJumpSampler,\n",
    "            FrontierSampler,\n",
    "            RandomNodeNeighborSampler]\n",
    "\n",
    "num_of_nodes = [int(n_pop / 4) for _ in range(len(samplers) - 1)]\n",
    "num_of_nodes.append(250)\n",
    "\n",
    "mean_meandegree = []\n",
    "mean_meanclustercoeff = []\n",
    "mean_maxdegree = []"
   ]
  },
  {
   "cell_type": "code",
   "execution_count": 70,
   "metadata": {},
   "outputs": [
    {
     "name": "stderr",
     "output_type": "stream",
     "text": [
      "\n",
      "  0%|          | 0/19 [00:00<?, ?it/s]\u001b[A\n",
      "  5%|▌         | 1/19 [00:12<03:37, 12.10s/it]\u001b[A\n",
      " 11%|█         | 2/19 [00:41<04:53, 17.27s/it]\u001b[A\n",
      " 16%|█▌        | 3/19 [01:11<05:36, 21.02s/it]\u001b[A\n",
      " 21%|██        | 4/19 [01:14<03:57, 15.82s/it]\u001b[A\n",
      " 26%|██▋       | 5/19 [01:19<02:53, 12.37s/it]\u001b[A\n",
      " 32%|███▏      | 6/19 [01:27<02:26, 11.29s/it]\u001b[A\n",
      " 37%|███▋      | 7/19 [02:00<03:30, 17.54s/it]\u001b[A\n",
      " 42%|████▏     | 8/19 [02:35<04:10, 22.75s/it]\u001b[A\n",
      " 47%|████▋     | 9/19 [03:01<03:58, 23.88s/it]\u001b[A\n",
      " 53%|█████▎    | 10/19 [03:20<03:22, 22.53s/it]\u001b[A\n",
      " 58%|█████▊    | 11/19 [04:26<04:44, 35.56s/it]\u001b[A\n",
      " 63%|██████▎   | 12/19 [04:52<03:47, 32.47s/it]\u001b[A\n",
      " 68%|██████▊   | 13/19 [05:22<03:11, 31.89s/it]\u001b[A\n",
      " 74%|███████▎  | 14/19 [05:53<02:38, 31.65s/it]\u001b[A\n",
      " 79%|███████▉  | 15/19 [06:14<01:53, 28.43s/it]\u001b[A\n",
      " 84%|████████▍ | 16/19 [06:38<01:20, 26.93s/it]\u001b[A\n",
      " 89%|████████▉ | 17/19 [06:59<00:50, 25.14s/it]\u001b[A\n",
      " 95%|█████████▍| 18/19 [07:16<00:22, 22.83s/it]\u001b[A\n",
      "100%|██████████| 19/19 [07:47<00:00, 24.58s/it]\u001b[A\n"
     ]
    }
   ],
   "source": [
    "from tqdm import tqdm\n",
    "\n",
    "for n in tqdm(range(len(samplers))):\n",
    "    mean_degree = []\n",
    "    mean_clustercoeff = []\n",
    "    for i in range(10):\n",
    "        subgraph = samplers[n](number_of_nodes=num_of_nodes[n], seed=np.random.randint(69)).sample(graph_1fq)\n",
    "        degrees = [d[1] for d in subgraph.degree()]\n",
    "        \n",
    "        mean_clustercoeff.append(nx.average_clustering(subgraph))\n",
    "        mean_degree.append(np.mean(degrees))\n",
    "        max_degree = np.max(degrees)\n",
    "    mean_meandegree.append(np.mean(mean_degree))\n",
    "    mean_meanclustercoeff.append(np.mean(mean_clustercoeff))\n",
    "    mean_maxdegree.append(np.mean(max_degree))"
   ]
  },
  {
   "cell_type": "code",
   "execution_count": null,
   "metadata": {},
   "outputs": [],
   "source": []
  },
  {
   "cell_type": "code",
   "execution_count": 72,
   "metadata": {},
   "outputs": [
    {
     "name": "stdout",
     "output_type": "stream",
     "text": [
      "<class 'littleballoffur.exploration_sampling.snowballsampler.SnowBallSampler'>:\n",
      "    Degree: 16.866951871657754    CC: 0.3978619169894769    MaxDeg: 182.0\n",
      "<class 'littleballoffur.exploration_sampling.randomnodeneighborsampler.RandomNodeNeighborSampler'>:\n",
      "    Degree: 15.657090990407752    CC: 0.4341312880974666    MaxDeg: 64.0\n",
      "<class 'littleballoffur.exploration_sampling.snowballsampler.SnowBallSampler'>:\n",
      "    Degree: 16.866951871657754    CC: 0.3978619169894769    MaxDeg: 182.0\n"
     ]
    }
   ],
   "source": [
    "maxidx_deg = np.argmax(mean_meandegree)\n",
    "maxidx_cc = np.argmax(mean_meanclustercoeff)\n",
    "maxidx_maxdeg = np.argmax(mean_maxdegree)\n",
    "\n",
    "print(f'{samplers[maxidx_deg]}:\\n'\n",
    "      f'    Degree: {mean_meandegree[maxidx_deg]}'\n",
    "      f'    CC: {mean_meanclustercoeff[maxidx_deg]}'\n",
    "      f'    MaxDeg: {mean_maxdegree[maxidx_deg]}')\n",
    "\n",
    "print(f'{samplers[maxidx_cc]}:\\n'\n",
    "      f'    Degree: {mean_meandegree[maxidx_cc]}'\n",
    "      f'    CC: {mean_meanclustercoeff[maxidx_cc]}'\n",
    "      f'    MaxDeg: {mean_maxdegree[maxidx_cc]}')\n",
    "\n",
    "print(f'{samplers[maxidx_maxdeg]}:\\n'\n",
    "      f'    Degree: {mean_meandegree[maxidx_maxdeg]}'\n",
    "      f'    CC: {mean_meanclustercoeff[maxidx_maxdeg]}'\n",
    "      f'    MaxDeg: {mean_maxdegree[maxidx_maxdeg]}')"
   ]
  },
  {
   "cell_type": "code",
   "execution_count": 74,
   "metadata": {},
   "outputs": [
    {
     "name": "stdout",
     "output_type": "stream",
     "text": [
      "4675\n",
      "148\n",
      "Degree: mean = 16.75, std = 10.56, 95% CI = (4.00, 39.00)\n",
      "        coeff var = 0.63\n",
      "Assortativity:    -0.04\n",
      "Clustering coeff: 0.42\n",
      "\n"
     ]
    },
    {
     "data": {
      "image/png": "[encoded data removed]",
      "text/plain": [
       "<Figure size 432x288 with 1 Axes>"
      ]
     },
     "metadata": {},
     "output_type": "display_data"
    }
   ],
   "source": [
    "subgraph = SnowBallSampler(number_of_nodes=int(n_pop / 4), seed=np.random.randint(100)).sample(graph_1fq)\n",
    "print(len(subgraph))\n",
    "degrees = [d[1] for d in subgraph.degree()]\n",
    "print(np.max(degrees))\n",
    "network_info(subgraph, plot=True)"
   ]
  },
  {
   "cell_type": "code",
   "execution_count": 38,
   "metadata": {},
   "outputs": [
    {
     "data": {
      "text/plain": [
       "[10.69625668449198,\n",
       " 6.618224598930482,\n",
       " 1.999572192513369,\n",
       " 1.999572192513369,\n",
       " 1.999572192513369,\n",
       " 12.841240641711229,\n",
       " 16.93621390374331,\n",
       " 12.940663101604278,\n",
       " 10.753026737967916,\n",
       " 13.357048128342246,\n",
       " 12.732491978609627,\n",
       " 13.775486631016046,\n",
       " 15.11585026737968,\n",
       " 7.201368983957219,\n",
       " 9.949732620320855,\n",
       " 11.161326203208557,\n",
       " 2.5083636363636366,\n",
       " 23.449915801900588]"
      ]
     },
     "execution_count": 38,
     "metadata": {},
     "output_type": "execute_result"
    }
   ],
   "source": [
    "mean_meandegree[20:]"
   ]
  },
  {
   "cell_type": "code",
   "execution_count": 39,
   "metadata": {},
   "outputs": [
    {
     "data": {
      "text/plain": [
       "[0.2613620176217964,\n",
       " 0.28594274558902266,\n",
       " 0.0,\n",
       " 0.0,\n",
       " 0.0,\n",
       " 0.30512494210546875,\n",
       " 0.38794642074464697,\n",
       " 0.3103829213661551,\n",
       " 0.35640884141072193,\n",
       " 0.2544335754876084,\n",
       " 0.31097429540345134,\n",
       " 0.3031337900920909,\n",
       " 0.2899338441665268,\n",
       " 0.3748952732379867,\n",
       " 0.25903216426927755,\n",
       " 0.32152843459935376,\n",
       " 0.03686278269374245,\n",
       " 0.39077650300767264]"
      ]
     },
     "execution_count": 39,
     "metadata": {},
     "output_type": "execute_result"
    }
   ],
   "source": [
    "mean_meanclustercoeff[20:]"
   ]
  },
  {
   "cell_type": "code",
   "execution_count": 58,
   "metadata": {},
   "outputs": [
    {
     "name": "stdout",
     "output_type": "stream",
     "text": [
      "4859\n",
      "174\n",
      "Degree: mean = 15.55, std = 9.72, 95% CI = (4.00, 38.00)\n",
      "        coeff var = 0.62\n",
      "Assortativity:    -0.05\n",
      "Clustering coeff: 0.44\n",
      "\n"
     ]
    },
    {
     "data": {
      "image/png": "[encoded data removed]",
      "text/plain": [
       "<Figure size 432x288 with 1 Axes>"
      ]
     },
     "metadata": {},
     "output_type": "display_data"
    }
   ],
   "source": [
    "subgraph = RandomNodeNeighborSampler(number_of_nodes=250, seed=np.random.randint(100)).sample(graph_1fq)\n",
    "print(len(subgraph))\n",
    "degrees = [d[1] for d in subgraph.degree()]\n",
    "print(np.max(degrees))\n",
    "network_info(subgraph, plot=True)"
   ]
  },
  {
   "cell_type": "code",
   "execution_count": 59,
   "metadata": {},
   "outputs": [
    {
     "name": "stdout",
     "output_type": "stream",
     "text": [
      "4675\n",
      "80\n",
      "Degree: mean = 13.13, std = 8.07, 95% CI = (3.00, 29.15)\n",
      "        coeff var = 0.61\n",
      "Assortativity:    0.06\n",
      "Clustering coeff: 0.30\n",
      "\n"
     ]
    },
    {
     "data": {
      "image/png": "[encoded data removed]",
      "text/plain": [
       "<Figure size 432x288 with 1 Axes>"
      ]
     },
     "metadata": {},
     "output_type": "display_data"
    }
   ],
   "source": [
    "subgraph = CirculatedNeighborsRandomWalkSampler(number_of_nodes=int(n_pop / 4), seed=np.random.randint(100)).sample(graph_1fq)\n",
    "print(len(subgraph))\n",
    "degrees = [d[1] for d in subgraph.degree()]\n",
    "print(np.max(degrees))\n",
    "network_info(subgraph, plot=True)"
   ]
  },
  {
   "cell_type": "code",
   "execution_count": 60,
   "metadata": {},
   "outputs": [
    {
     "name": "stdout",
     "output_type": "stream",
     "text": [
      "199\n"
     ]
    }
   ],
   "source": [
    "degrees = [d[1] for d in graph_1fq.degree()]\n",
    "print(np.max(degrees))"
   ]
  },
  {
   "cell_type": "code",
   "execution_count": 61,
   "metadata": {},
   "outputs": [],
   "source": [
    "sampler = CirculatedNeighborsRandomWalkSampler\n",
    "\n",
    "test = sampler(number_of_nodes=int(n_pop / 4), seed=np.random.randint(100)).sample(graph_1fq)"
   ]
  },
  {
   "cell_type": "code",
   "execution_count": 63,
   "metadata": {},
   "outputs": [
    {
     "name": "stdout",
     "output_type": "stream",
     "text": [
      "Degree: mean = 12.82, std = 7.05, 95% CI = (3.00, 27.00)\n",
      "        coeff var = 0.55\n",
      "Assortativity:    0.06\n",
      "Clustering coeff: 0.31\n",
      "\n"
     ]
    }
   ],
   "source": [
    "network_info(test)"
   ]
  },
  {
   "cell_type": "code",
   "execution_count": null,
   "metadata": {},
   "outputs": [],
   "source": []
  }
 ],
 "metadata": {
  "kernelspec": {
   "display_name": "Python 3",
   "language": "python",
   "name": "python3"
  },
  "language_info": {
   "codemirror_mode": {
    "name": "ipython",
    "version": 3
   },
   "file_extension": ".py",
   "mimetype": "text/x-python",
   "name": "python",
   "nbconvert_exporter": "python",
   "pygments_lexer": "ipython3",
   "version": "3.8.5"
  }
 },
 "nbformat": 4,
 "nbformat_minor": 4
}
